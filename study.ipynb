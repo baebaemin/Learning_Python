{
 "cells": [
  {
   "cell_type": "code",
   "execution_count": null,
   "id": "acfc0f13",
   "metadata": {},
   "outputs": [],
   "source": [
    "cnt = 5 # 조건식에 사용할 변수 생성\n",
    "while cnt > 0: \n",
    "    # 반복할 내용\n",
    "    print(cnt)\n",
    "    cnt = cnt - 1"
   ]
  },
  {
   "cell_type": "markdown",
   "id": "395a9a76",
   "metadata": {},
   "source": [
    "### dictionary 범위에서 원소를 가져오면 key값이 나온다"
   ]
  },
  {
   "cell_type": "code",
   "execution_count": 5,
   "id": "fec8f9f8",
   "metadata": {},
   "outputs": [
    {
     "name": "stdout",
     "output_type": "stream",
     "text": [
      "key1 key2 key3 "
     ]
    }
   ],
   "source": [
    "for i in {'key1': 'val1', 'key2': 'val2', 'key3': 'val3'}:\n",
    "    print(i, end = ' ')"
   ]
  },
  {
   "cell_type": "code",
   "execution_count": 2,
   "id": "d544faca",
   "metadata": {},
   "outputs": [
    {
     "name": "stdout",
     "output_type": "stream",
     "text": [
      "dict_keys(['key1', 'key2', 'key3']) <class 'dict_keys'>\n",
      "dict_values(['val1', 'val2', 'val3'])\n",
      "dict_items([('key1', 'val1'), ('key2', 'val2'), ('key3', 'val3')])\n"
     ]
    }
   ],
   "source": [
    "my_dict = {'key1': 'val1', 'key2': 'val2', 'key3': 'val3'}\n",
    "print(my_dict.keys(), type(my_dict.keys()))\n",
    "print(my_dict.values())\n",
    "print(my_dict.items())"
   ]
  },
  {
   "cell_type": "code",
   "execution_count": null,
   "id": "7a501b46",
   "metadata": {},
   "outputs": [],
   "source": [
    "new_dict = {key + '0': val for key, val in my_dict.items()}\n",
    "print(new_dict)"
   ]
  },
  {
   "cell_type": "code",
   "execution_count": null,
   "id": "cdabff62",
   "metadata": {},
   "outputs": [],
   "source": [
    "### dictionary에서 .items()로 가져온 원소는 tuple, 그냥 가져온 원소는 key값"
   ]
  },
  {
   "cell_type": "code",
   "execution_count": 8,
   "id": "0206dae5",
   "metadata": {},
   "outputs": [
    {
     "name": "stdout",
     "output_type": "stream",
     "text": [
      "[('key1', 'val1'), ('key2', 'val2'), ('key3', 'val3')]\n",
      "['key1', 'key2', 'key3']\n"
     ]
    }
   ],
   "source": [
    "list = [(i[0], i[1]) for i in my_dict.items()]\n",
    "print(list)\n",
    "list2 = [(i) for i in my_dict]\n",
    "print(list2)"
   ]
  },
  {
   "cell_type": "code",
   "execution_count": null,
   "id": "a890295b",
   "metadata": {},
   "outputs": [],
   "source": [
    "for key, val in my_dict.items():\n",
    "    print(key, val)"
   ]
  },
  {
   "cell_type": "code",
   "execution_count": null,
   "id": "96918b4f",
   "metadata": {},
   "outputs": [],
   "source": [
    "for idx, val in enumerate([1, 2, 3]):\n",
    "    print(idx, val)"
   ]
  },
  {
   "cell_type": "code",
   "execution_count": null,
   "id": "4c12afe9",
   "metadata": {},
   "outputs": [],
   "source": [
    "lst = [1, 2, 3]\n",
    "for i in range(len(lst)): # 인덱스로 개별 요소에 접근, 문자열은 변경 불가\n",
    "    print(lst[i], end = ' ')"
   ]
  },
  {
   "cell_type": "code",
   "execution_count": null,
   "id": "7f405ea3",
   "metadata": {},
   "outputs": [],
   "source": [
    "for i in range(3):\n",
    "    print('>', end = '')\n",
    "    for j in range(5):\n",
    "        print('*', end = '')\n",
    "    print()"
   ]
  },
  {
   "cell_type": "code",
   "execution_count": null,
   "id": "16c48433",
   "metadata": {},
   "outputs": [],
   "source": [
    "for i in range(3):\n",
    "    print(i)\n",
    "    for j in range(5):\n",
    "        if j % 2 == 1: \n",
    "            continue #홀수일 때 밑의 프린트를 하지 않겠다\n",
    "        print('===', j)\n",
    "    print()"
   ]
  },
  {
   "cell_type": "markdown",
   "id": "928278e9",
   "metadata": {},
   "source": [
    "### dictionary"
   ]
  },
  {
   "cell_type": "code",
   "execution_count": null,
   "id": "64fa9702",
   "metadata": {},
   "outputs": [],
   "source": [
    "dictionary = {}\n",
    "dictionary['coffee'] = 1 #딕셔너리에 coffee를 키값으로 줬을 때 1을 반환한다\n",
    "print(dictionary['coffee'] + 1) = #value값인 1에 1을 더해 2가 된다"
   ]
  },
  {
   "cell_type": "markdown",
   "id": "317c870b",
   "metadata": {},
   "source": [
    "### list comprehension"
   ]
  },
  {
   "cell_type": "code",
   "execution_count": null,
   "id": "92a011ce",
   "metadata": {},
   "outputs": [],
   "source": [
    "oldlist = [1, 2, 'A', False, 3]\n",
    "list = [i ** i for i in oldlist if type(i) == int]\n",
    "list"
   ]
  },
  {
   "cell_type": "markdown",
   "id": "da93be41",
   "metadata": {},
   "source": [
    "### set comprehension \n",
    "결과값을 리스트에 저장하고 중복된 원소를 제거하고 싶을 때"
   ]
  },
  {
   "cell_type": "code",
   "execution_count": null,
   "id": "c30dd850",
   "metadata": {},
   "outputs": [],
   "source": [
    "oldlist = [1, 2, 3, 4, 1, 2, 2, 4, 5, 5]\n",
    "list = {i for i in oldlist}\n",
    "list"
   ]
  },
  {
   "cell_type": "markdown",
   "id": "50162c05",
   "metadata": {},
   "source": [
    "### dictionary comprehension"
   ]
  },
  {
   "cell_type": "code",
   "execution_count": null,
   "id": "372ef6ae",
   "metadata": {},
   "outputs": [],
   "source": [
    "my_dict = {'A': '1', 'B': '2', 'C': '3'}\n",
    "new_dict = {vals for key, vals in my_dict.items()}\n",
    "new_dict\n",
    "my_dict.items()"
   ]
  },
  {
   "cell_type": "code",
   "execution_count": null,
   "id": "cf679319",
   "metadata": {},
   "outputs": [],
   "source": [
    "my_dict = {'A': 1, 'B': 2, 'C': 3}\n",
    "cubic_dict = {val ** 3: name for name, val in my_dict.items()}\n",
    "cubic_dict"
   ]
  },
  {
   "cell_type": "markdown",
   "id": "ecb3c022",
   "metadata": {},
   "source": [
    "### for문에서 try, except 사용해서 list 안에 중복된 원소 dictionary로 카운트하기"
   ]
  },
  {
   "cell_type": "code",
   "execution_count": null,
   "id": "f43cfd44",
   "metadata": {},
   "outputs": [],
   "source": [
    "orders = '아이스아메리카노,카라멜마키야또,에스프레소,아메리카노,아메리카노,아이스라떼,핫초코,아이스아메리카노,아메리카노,아이스카라멜마키야또,아이스라떼,라떼마키야또,카푸치노,라떼마키야또'\n",
    "drinks = orders.split(',')\n",
    "cnt_dict = {}\n",
    "\n",
    "for cup in drinks: #음료에서 한 잔씩 빼오기\n",
    "    try: cnt_dict[cup] += 1 #key에 없는 처음보는 음료라면 except, 있는 음료라면 value에 카운트 +1\n",
    "    except: cnt_dict[cup] = 1 #처음 데려온 음료라면 새 key 생성, 카운트 1\n",
    "\n",
    "cnt_dict"
   ]
  },
  {
   "cell_type": "markdown",
   "id": "6d84e773",
   "metadata": {},
   "source": [
    "### %-formatting 표현식"
   ]
  },
  {
   "cell_type": "code",
   "execution_count": null,
   "id": "0ccbe804",
   "metadata": {},
   "outputs": [],
   "source": [
    "# %-formatting 은 다음과 같이 사용합니다.\n",
    "print('Hello, %s' % name)\n",
    "print('내 성적은 %d' % score)\n",
    "print('내 성적은 %f' % score)"
   ]
  },
  {
   "cell_type": "markdown",
   "id": "3fda5bbc",
   "metadata": {},
   "source": [
    "#### %y, %m, %A"
   ]
  },
  {
   "cell_type": "code",
   "execution_count": 20,
   "id": "d4afc921",
   "metadata": {},
   "outputs": [
    {
     "name": "stdout",
     "output_type": "stream",
     "text": [
      "오늘은 23년 01월 18일 Wednesday\n"
     ]
    }
   ],
   "source": [
    "import datetime\n",
    "today = datetime.datetime.now()\n",
    "print(f'오늘은 {today:%y}년 {today:%m}월 {today:%d}일 {today:%A}')"
   ]
  },
  {
   "cell_type": "markdown",
   "id": "84992e4f",
   "metadata": {},
   "source": [
    "### n자리 숫자 표현식"
   ]
  },
  {
   "cell_type": "code",
   "execution_count": 8,
   "id": "a2656aaa",
   "metadata": {},
   "outputs": [
    {
     "name": "stdout",
     "output_type": "stream",
     "text": [
      "0000000005\n"
     ]
    }
   ],
   "source": [
    "x = 5\n",
    "print('%010d' % (x))"
   ]
  },
  {
   "cell_type": "markdown",
   "id": "925d208d",
   "metadata": {},
   "source": [
    "### 금액 표현식"
   ]
  },
  {
   "cell_type": "code",
   "execution_count": 3,
   "id": "9ab44132",
   "metadata": {},
   "outputs": [
    {
     "name": "stdout",
     "output_type": "stream",
     "text": [
      "484,747,336\n"
     ]
    }
   ],
   "source": [
    "y = 484747336\n",
    "print('{:,}'.format(y))"
   ]
  },
  {
   "cell_type": "markdown",
   "id": "d354755e",
   "metadata": {},
   "source": [
    "### 컴퓨터식 지수 표현식"
   ]
  },
  {
   "cell_type": "code",
   "execution_count": 10,
   "id": "9ce7eee3",
   "metadata": {},
   "outputs": [
    {
     "name": "stdout",
     "output_type": "stream",
     "text": [
      "3140.0 314.0 31.4 3.14\n"
     ]
    }
   ],
   "source": [
    "a = 314e+1\n",
    "b = 314e-0\n",
    "c = 314e-1\n",
    "d = 314e-2\n",
    "print(a, b, c, d)"
   ]
  },
  {
   "cell_type": "markdown",
   "id": "8133d6b8",
   "metadata": {},
   "source": [
    "### 실수의 연산"
   ]
  },
  {
   "cell_type": "code",
   "execution_count": 13,
   "id": "c7bb35e0",
   "metadata": {},
   "outputs": [
    {
     "data": {
      "text/plain": [
       "False"
      ]
     },
     "execution_count": 13,
     "metadata": {},
     "output_type": "execute_result"
    }
   ],
   "source": [
    "3.5 - 3.12 == 0.38"
   ]
  },
  {
   "cell_type": "code",
   "execution_count": 14,
   "id": "aeb5bd1f",
   "metadata": {},
   "outputs": [
    {
     "name": "stdout",
     "output_type": "stream",
     "text": [
      "0.3799999999999999\n"
     ]
    }
   ],
   "source": [
    "print(3.5 - 3.12)"
   ]
  },
  {
   "cell_type": "code",
   "execution_count": null,
   "id": "21612f46",
   "metadata": {},
   "outputs": [],
   "source": [
    "# 1. 기본적인 처리방법을 알아봅시다.\n",
    "# 변수 a, b에 각각의 실수 값을 저장합니다.\n",
    "# 그리고 abs()를 이용하여 a와 b의 차이를 구합니다.\n",
    "# a와 b의 차이가 1e-10 값 이하이면 a 와 b 는 같다고 볼 수 있습니다."
   ]
  },
  {
   "cell_type": "code",
   "execution_count": 15,
   "id": "3e7c91a1",
   "metadata": {},
   "outputs": [
    {
     "data": {
      "text/plain": [
       "True"
      ]
     },
     "execution_count": 15,
     "metadata": {},
     "output_type": "execute_result"
    }
   ],
   "source": [
    "a = 3.5 - 3.12\n",
    "b = 0.38\n",
    "\n",
    "abs(a - b) <= 1e-10 # 1e-10 = 1 * 10의 -10승"
   ]
  },
  {
   "cell_type": "code",
   "execution_count": null,
   "id": "85ecc71c",
   "metadata": {},
   "outputs": [],
   "source": [
    "# 2. sys 모듈을 통해 처리하는 방법을 알아봅시다.\n",
    "# `epsilon` 은 부동소수점 연산에서 반올림을 함으로써 발생하는 오차 상환\n",
    "# abs() 를 이용하여 a, b의 차이를 구합니다.\n",
    "# a와 b의 차이가 sys.float_info.epsilon의 값 이하이면 a, b 는 같다고 볼 수 있습니다."
   ]
  },
  {
   "cell_type": "code",
   "execution_count": 17,
   "id": "bd2a5712",
   "metadata": {},
   "outputs": [
    {
     "data": {
      "text/plain": [
       "True"
      ]
     },
     "execution_count": 17,
     "metadata": {},
     "output_type": "execute_result"
    }
   ],
   "source": [
    "import sys\n",
    "abs(a - b) <= sys.float_info.epsilon"
   ]
  },
  {
   "cell_type": "code",
   "execution_count": 18,
   "id": "67aa9840",
   "metadata": {
    "scrolled": true
   },
   "outputs": [
    {
     "data": {
      "text/plain": [
       "True"
      ]
     },
     "execution_count": 18,
     "metadata": {},
     "output_type": "execute_result"
    }
   ],
   "source": [
    "# math.isclose() 를 이용해서 a와 b의 값이 같은지 확인할수 있습니다.\n",
    "import math\n",
    "math.isclose(a, b)"
   ]
  },
  {
   "cell_type": "markdown",
   "id": "2554a783",
   "metadata": {},
   "source": [
    "### None타입과 Boolean타입"
   ]
  },
  {
   "cell_type": "code",
   "execution_count": 21,
   "id": "2d9e908a",
   "metadata": {
    "scrolled": false
   },
   "outputs": [
    {
     "name": "stdout",
     "output_type": "stream",
     "text": [
      "<class 'bool'> <class 'bool'> <class 'NoneType'>\n"
     ]
    }
   ],
   "source": [
    "print(type(None), type(True), type(False))"
   ]
  },
  {
   "cell_type": "code",
   "execution_count": 22,
   "id": "7733d2bd",
   "metadata": {},
   "outputs": [
    {
     "data": {
      "text/plain": [
       "False"
      ]
     },
     "execution_count": 22,
     "metadata": {},
     "output_type": "execute_result"
    }
   ],
   "source": [
    "bool(0)"
   ]
  },
  {
   "cell_type": "code",
   "execution_count": 23,
   "id": "f32c7735",
   "metadata": {},
   "outputs": [
    {
     "data": {
      "text/plain": [
       "False"
      ]
     },
     "execution_count": 23,
     "metadata": {},
     "output_type": "execute_result"
    }
   ],
   "source": [
    "x = 3\n",
    "x is None"
   ]
  },
  {
   "cell_type": "markdown",
   "id": "40f64290",
   "metadata": {},
   "source": [
    "### 논리 연산자\n",
    "\n",
    "|연산자|내용|\n",
    "|---|---|\n",
    "|a and b|a와 b 모두 True시만 True|\n",
    "|a or b|a 와 b 모두 False시만 False|\n",
    "|not a|True -> False, False -> True|\n",
    "\n",
    "다른 언어에서 논리연산자로 주로 사용하는 `&` 과 `|`은 파이썬에서 비트 연산자입니다."
   ]
  },
  {
   "cell_type": "markdown",
   "id": "0de970cf",
   "metadata": {},
   "source": [
    "### 단축평가\n",
    "* 첫 번째 값이 확실할 때, 두 번째 값은 확인 하지 않습니다."
   ]
  },
  {
   "cell_type": "code",
   "execution_count": 25,
   "id": "75ad90ba",
   "metadata": {},
   "outputs": [
    {
     "data": {
      "text/plain": [
       "'b'"
      ]
     },
     "execution_count": 25,
     "metadata": {},
     "output_type": "execute_result"
    }
   ],
   "source": [
    "'a' and 'b' #두 번째 값까지 확인한 것"
   ]
  },
  {
   "cell_type": "code",
   "execution_count": 30,
   "id": "32e59e98",
   "metadata": {},
   "outputs": [
    {
     "name": "stdout",
     "output_type": "stream",
     "text": [
      "0\n",
      "a\n"
     ]
    }
   ],
   "source": [
    "print(0 and 'a') #첫 번째 값만 확인\n",
    "print('a' or 'b') #첫 번째 값만 확인"
   ]
  },
  {
   "cell_type": "code",
   "execution_count": 31,
   "id": "66436158",
   "metadata": {},
   "outputs": [
    {
     "name": "stdout",
     "output_type": "stream",
     "text": [
      "5\n",
      "0\n",
      "0\n",
      "0\n",
      "0\n",
      "False\n"
     ]
    }
   ],
   "source": [
    "print(3 and 5) #5 true랑 true라 5까지 확인\n",
    "print(3 and 0) #0 true랑 false라 0까지 확인\n",
    "print(0 and 3) #0 false라 0만 확인\n",
    "print(0 and 0) #0 false라 0만 확인\n",
    "print(0)\n",
    "print(bool(0))"
   ]
  },
  {
   "cell_type": "code",
   "execution_count": 32,
   "id": "090416d0",
   "metadata": {},
   "outputs": [
    {
     "name": "stdout",
     "output_type": "stream",
     "text": [
      "0\n"
     ]
    }
   ],
   "source": [
    "print((3 and 5) and (0 and 3))"
   ]
  },
  {
   "cell_type": "code",
   "execution_count": 33,
   "id": "4930ce6f",
   "metadata": {},
   "outputs": [
    {
     "name": "stdout",
     "output_type": "stream",
     "text": [
      "5\n",
      "3\n",
      "3\n",
      "0\n"
     ]
    }
   ],
   "source": [
    "print(5 or 3) #5\n",
    "print(3 or 0) #3\n",
    "print(0 or 3) #3\n",
    "print(0 or 0) #0"
   ]
  },
  {
   "cell_type": "markdown",
   "id": "ac8ef963",
   "metadata": {},
   "source": [
    "### tuple"
   ]
  },
  {
   "cell_type": "code",
   "execution_count": 35,
   "id": "45f4e838",
   "metadata": {},
   "outputs": [
    {
     "name": "stdout",
     "output_type": "stream",
     "text": [
      "(1,)\n",
      "<class 'tuple'>\n"
     ]
    }
   ],
   "source": [
    "# 하나의 항목으로 구성된 튜플은 생성 시 값 뒤에 쉼표를 붙여야 합니다.\n",
    "a = 1,\n",
    "print(a)\n",
    "print(type(a))"
   ]
  },
  {
   "cell_type": "code",
   "execution_count": 36,
   "id": "a014c049",
   "metadata": {},
   "outputs": [
    {
     "name": "stdout",
     "output_type": "stream",
     "text": [
      "(1, 2, 3)\n",
      "<class 'tuple'>\n"
     ]
    }
   ],
   "source": [
    "# 마지막 항목에 붙은 쉼표는 생략 할 수 있습니다.\n",
    "b = 1, 2, 3\n",
    "print(b)\n",
    "print(type(b))"
   ]
  },
  {
   "cell_type": "markdown",
   "id": "bf70161b",
   "metadata": {},
   "source": [
    "### range\n",
    "음의 방향으로 원소 범위 설정시 음수를 step으로 추가"
   ]
  },
  {
   "cell_type": "code",
   "execution_count": 38,
   "id": "d54c05e3",
   "metadata": {
    "scrolled": false
   },
   "outputs": [
    {
     "name": "stdout",
     "output_type": "stream",
     "text": [
      "[]\n",
      "[0, -1, -2, -3, -4, -5, -6, -7, -8, -9]\n"
     ]
    }
   ],
   "source": [
    "print(list(range(0, -10)))\n",
    "print(list(range(0, -10, -1)))"
   ]
  },
  {
   "cell_type": "markdown",
   "id": "8ba0e3ce",
   "metadata": {},
   "source": [
    "### 슬라이싱 **\n",
    "Sequence[start:end[:step]]"
   ]
  },
  {
   "cell_type": "code",
   "execution_count": 40,
   "id": "f58fa503",
   "metadata": {
    "scrolled": true
   },
   "outputs": [
    {
     "name": "stdout",
     "output_type": "stream",
     "text": [
      "[2, 3, 4]\n",
      "(1, 2)\n",
      "range(5, 8)\n",
      "cd\n"
     ]
    }
   ],
   "source": [
    "# 아래 코드들을 실행한 결과를 확인하여 슬라이싱의 작동 원리를 파악해봅시다.\n",
    "print([1, 2, 3, 4][1:4])\n",
    "print((1, 2, 3)[:2])\n",
    "print(range(10)[5:8])\n",
    "print('abcd'[2:4])"
   ]
  },
  {
   "cell_type": "code",
   "execution_count": 47,
   "id": "2eb062f7",
   "metadata": {},
   "outputs": [
    {
     "name": "stdout",
     "output_type": "stream",
     "text": [
      "[1, 3]\n",
      "(1, 4)\n"
     ]
    }
   ],
   "source": [
    "print([1, 2, 3, 4][0:4:2])\n",
    "print((1, 2, 3, 4)[0:4:3])"
   ]
  }
 ],
 "metadata": {
  "kernelspec": {
   "display_name": "Python 3 (ipykernel)",
   "language": "python",
   "name": "python3"
  },
  "language_info": {
   "codemirror_mode": {
    "name": "ipython",
    "version": 3
   },
   "file_extension": ".py",
   "mimetype": "text/x-python",
   "name": "python",
   "nbconvert_exporter": "python",
   "pygments_lexer": "ipython3",
   "version": "3.9.13"
  }
 },
 "nbformat": 4,
 "nbformat_minor": 5
}
