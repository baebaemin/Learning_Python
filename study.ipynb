{
 "cells": [
  {
   "cell_type": "code",
   "execution_count": null,
   "id": "acfc0f13",
   "metadata": {},
   "outputs": [],
   "source": [
    "cnt = 0 # 조건식에 사용할 변수 생성\n",
    "while cnt > 0: \n",
    "    # 반복할 내용\n",
    "    print(cnt)\n",
    "    cnt = cnt - 1"
   ]
  },
  {
   "cell_type": "code",
   "execution_count": null,
   "id": "fec8f9f8",
   "metadata": {},
   "outputs": [],
   "source": [
    "for key in {'key1': 'val1', 'key2': 'val2', 'key3': 'val3'}:\n",
    "    print(key, end = ' ')"
   ]
  },
  {
   "cell_type": "code",
   "execution_count": null,
   "id": "d544faca",
   "metadata": {},
   "outputs": [],
   "source": [
    "my_dict = {'key1': 'val1', 'key2': 'val2', 'key3': 'val3'}\n",
    "print(my_dict.keys(), type(my_dict.keys()))\n",
    "print(my_dict.values())\n",
    "print(my_dict.items())"
   ]
  },
  {
   "cell_type": "code",
   "execution_count": null,
   "id": "0206dae5",
   "metadata": {},
   "outputs": [],
   "source": [
    "for item in my_dict.items():\n",
    "    print(item, item[0], item[1])"
   ]
  },
  {
   "cell_type": "code",
   "execution_count": null,
   "id": "a890295b",
   "metadata": {},
   "outputs": [],
   "source": [
    "for key, val in my_dict.items():\n",
    "    print(key, val)"
   ]
  },
  {
   "cell_type": "code",
   "execution_count": null,
   "id": "05dd89a3",
   "metadata": {},
   "outputs": [],
   "source": [
    "list(enumerate([1, 2, 3]))"
   ]
  },
  {
   "cell_type": "code",
   "execution_count": null,
   "id": "96918b4f",
   "metadata": {},
   "outputs": [],
   "source": [
    "for idx, val in enumerate([1, 2, 3]):\n",
    "    print(idx, val)"
   ]
  },
  {
   "cell_type": "code",
   "execution_count": null,
   "id": "4c12afe9",
   "metadata": {},
   "outputs": [],
   "source": [
    "lst = [1, 2, 3]\n",
    "for num in lst:\n",
    "    print(num)\n",
    "    \n",
    "for i in range(len(list)): # 인덱스로 개별 요소에 접근, 문자열은 변경 불가\n",
    "    print(lst[i], end = ' ')"
   ]
  },
  {
   "cell_type": "code",
   "execution_count": null,
   "id": "1aa4b5c3",
   "metadata": {},
   "outputs": [],
   "source": [
    "for i in range(10):\n",
    "    print(i, end = '')\n",
    "    if i % 2 == 0:\n",
    "        continue\n",
    "    print(i, end = ',')"
   ]
  },
  {
   "cell_type": "code",
   "execution_count": null,
   "id": "7f405ea3",
   "metadata": {},
   "outputs": [],
   "source": [
    "for i in range(3):\n",
    "    print('>', end = '')\n",
    "    for j in range(5):\n",
    "        print('*', end = '')\n",
    "    print() // 라인 바꾸기"
   ]
  },
  {
   "cell_type": "code",
   "execution_count": null,
   "id": "152989f3",
   "metadata": {},
   "outputs": [],
   "source": [
    "for i in range(3):\n",
    "    print(i)\n",
    "    for j in range(5):\n",
    "        if j == 3:\n",
    "            break\n",
    "        print('===', j)\n",
    "    print()"
   ]
  },
  {
   "cell_type": "code",
   "execution_count": null,
   "id": "16c48433",
   "metadata": {},
   "outputs": [],
   "source": [
    "for i in range(3):\n",
    "    print(i)\n",
    "    for j in range(5):\n",
    "        if j % 2 == 1: \n",
    "            continue #홀수일 때 밑의 프린트를 하지 않겠다\n",
    "        print('===', j)\n",
    "    print()"
   ]
  },
  {
   "cell_type": "code",
   "execution_count": 12,
   "id": "64fa9702",
   "metadata": {},
   "outputs": [
    {
     "name": "stdout",
     "output_type": "stream",
     "text": [
      "2\n"
     ]
    }
   ],
   "source": [
    "dictionary = {}\n",
    "dictionary['coffee'] = 1 #딕셔너리에 coffee를 키값으로 줬을 때 1을 반환한다\n",
    "print(dictionary['coffee'] + 1) = #value값인 1에 1을 더해 2가 된다"
   ]
  },
  {
   "cell_type": "code",
   "execution_count": 15,
   "id": "f1f13195",
   "metadata": {},
   "outputs": [
    {
     "name": "stdout",
     "output_type": "stream",
     "text": [
      "{'아이스아메리카노': 2, '카라멜마키야또': 1, '에스프레소': 1, '아메리카노': 3, '아이스라떼': 2, '핫초코': 1, '아이스카라멜마키야또': 1, '라떼마키야또': 2, '카푸치노': 1}\n"
     ]
    }
   ],
   "source": [
    "orders = '아이스아메리카노,카라멜마키야또,에스프레소,아메리카노,아메리카노,아이스라떼,핫초코,아이스아메리카노,아메리카노,아이스카라멜마키야또,아이스라떼,라떼마키야또,카푸치노,라떼마키야또'\n",
    "drinks = orders.split(',')\n",
    "menu = {} #menu dictionary 생성\n",
    "\n",
    "for cup in drinks: #drinks에서 음료 하나씩 꺼내기\n",
    "    try: menu[cup] = menu[cup] + 1 #cup을 key값으로 가진 value가 있다면 숫자 하나씩 더하기\n",
    "    except: menu[cup] = 1 #key값으로 cup이 없을 때 'cup': 1의 새 쌍 만들기\n",
    "\n",
    "print(menu)"
   ]
  }
 ],
 "metadata": {
  "kernelspec": {
   "display_name": "Python 3 (ipykernel)",
   "language": "python",
   "name": "python3"
  },
  "language_info": {
   "codemirror_mode": {
    "name": "ipython",
    "version": 3
   },
   "file_extension": ".py",
   "mimetype": "text/x-python",
   "name": "python",
   "nbconvert_exporter": "python",
   "pygments_lexer": "ipython3",
   "version": "3.9.13"
  }
 },
 "nbformat": 4,
 "nbformat_minor": 5
}
