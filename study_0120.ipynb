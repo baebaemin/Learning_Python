{
 "cells": [
  {
   "cell_type": "code",
   "execution_count": 3,
   "id": "f7ce902a",
   "metadata": {},
   "outputs": [
    {
     "data": {
      "text/plain": [
       "'ssafyhappy'"
      ]
     },
     "execution_count": 3,
     "metadata": {},
     "output_type": "execute_result"
    }
   ],
   "source": [
    "data = 'SsAfyHapPy'\n",
    "result = ''\n",
    "for ch in data:\n",
    "    if 'A' <= ch <= 'Z':\n",
    "        result += chr(ord('a') + ord(ch) - ord('A'))\n",
    "    else:\n",
    "        result += ch\n",
    "result"
   ]
  },
  {
   "cell_type": "code",
   "execution_count": 5,
   "id": "39d0cd82",
   "metadata": {},
   "outputs": [
    {
     "data": {
      "text/plain": [
       "20"
      ]
     },
     "execution_count": 5,
     "metadata": {},
     "output_type": "execute_result"
    }
   ],
   "source": [
    "lst = [10, 9, 7, 20, 2, 1]\n",
    "result = 0 #여기엔 꼭 제일 작을 수 밖에 없는 값을 저장\n",
    "for val in lst:\n",
    "    if result < val:\n",
    "        result = val\n",
    "result"
   ]
  },
  {
   "cell_type": "code",
   "execution_count": null,
   "id": "0f18aaa2",
   "metadata": {},
   "outputs": [],
   "source": []
  }
 ],
 "metadata": {
  "kernelspec": {
   "display_name": "Python 3 (ipykernel)",
   "language": "python",
   "name": "python3"
  },
  "language_info": {
   "codemirror_mode": {
    "name": "ipython",
    "version": 3
   },
   "file_extension": ".py",
   "mimetype": "text/x-python",
   "name": "python",
   "nbconvert_exporter": "python",
   "pygments_lexer": "ipython3",
   "version": "3.9.13"
  }
 },
 "nbformat": 4,
 "nbformat_minor": 5
}
