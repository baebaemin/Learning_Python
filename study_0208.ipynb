{
 "cells": [
  {
   "cell_type": "code",
   "execution_count": 2,
   "id": "5a8daa02",
   "metadata": {
    "scrolled": true
   },
   "outputs": [
    {
     "name": "stdout",
     "output_type": "stream",
     "text": [
      "49\n",
      "50\n",
      "51\n",
      "76\n"
     ]
    }
   ],
   "source": [
    "import sys\n",
    "\n",
    "a = ''\n",
    "b = 'P'\n",
    "c = 'PY'\n",
    "d = '대'\n",
    "print(sys.getsizeof(a))  # 49\n",
    "print(sys.getsizeof(b))  # 50\n",
    "print(sys.getsizeof(c))  # 51\n",
    "print(sys.getsizeof(d))"
   ]
  },
  {
   "cell_type": "markdown",
   "id": "40a219c4",
   "metadata": {},
   "source": [
    "### 문자열 뒤집기"
   ]
  },
  {
   "cell_type": "code",
   "execution_count": 3,
   "id": "87d31c2d",
   "metadata": {},
   "outputs": [
    {
     "data": {
      "text/plain": [
       "'sgnirts siht esreveR'"
      ]
     },
     "execution_count": 3,
     "metadata": {},
     "output_type": "execute_result"
    }
   ],
   "source": [
    "s = 'Reverse this strings'\n",
    "s = s[::-1]\n",
    "s"
   ]
  },
  {
   "cell_type": "code",
   "execution_count": 4,
   "id": "0d7fd88d",
   "metadata": {
    "scrolled": true
   },
   "outputs": [
    {
     "data": {
      "text/plain": [
       "'dcba'"
      ]
     },
     "execution_count": 4,
     "metadata": {},
     "output_type": "execute_result"
    }
   ],
   "source": [
    "s = 'abcd'\n",
    "s = list(s)\n",
    "s.reverse()\n",
    "s = ''.join(s)\n",
    "s"
   ]
  },
  {
   "cell_type": "markdown",
   "id": "a4212da7",
   "metadata": {},
   "source": [
    "### 문자열 비교\n",
    "* == 연산자와 is를 사용해 비교해보자\n",
    "* == 연산자는 내부적으로 특수 메서드 __eq__()를 호출"
   ]
  },
  {
   "cell_type": "code",
   "execution_count": 6,
   "id": "fe3402f6",
   "metadata": {},
   "outputs": [],
   "source": [
    "s1 = 'abc'  # s1이 'abc'라는 애를 카리키고 있을 때, 'abc'는 수정할 수 없는 영역에.\n",
    "s2 = 'abc'  # 'abc'는 수정할 수 없으므로 s1이 가리키는 애를 같이 가리킴\n",
    "s3 = 'def'\n",
    "s4 = s1\n",
    "s5 = s1[:2] + 'c'  \n",
    "# 'abc'이긴 하나, 슬라이싱으로 'ab'를 붙이기 시작하면 다른 주소에 만들어짐."
   ]
  },
  {
   "cell_type": "code",
   "execution_count": 7,
   "id": "1cb87777",
   "metadata": {},
   "outputs": [
    {
     "data": {
      "text/plain": [
       "True"
      ]
     },
     "execution_count": 7,
     "metadata": {},
     "output_type": "execute_result"
    }
   ],
   "source": [
    "s1 == s2"
   ]
  },
  {
   "cell_type": "code",
   "execution_count": 8,
   "id": "d8790531",
   "metadata": {},
   "outputs": [
    {
     "data": {
      "text/plain": [
       "True"
      ]
     },
     "execution_count": 8,
     "metadata": {},
     "output_type": "execute_result"
    }
   ],
   "source": [
    "s1 is s2"
   ]
  },
  {
   "cell_type": "code",
   "execution_count": 9,
   "id": "ea415959",
   "metadata": {},
   "outputs": [
    {
     "data": {
      "text/plain": [
       "True"
      ]
     },
     "execution_count": 9,
     "metadata": {},
     "output_type": "execute_result"
    }
   ],
   "source": [
    "s1 == s5"
   ]
  },
  {
   "cell_type": "code",
   "execution_count": 10,
   "id": "d7827eb2",
   "metadata": {
    "scrolled": true
   },
   "outputs": [
    {
     "data": {
      "text/plain": [
       "False"
      ]
     },
     "execution_count": 10,
     "metadata": {},
     "output_type": "execute_result"
    }
   ],
   "source": [
    "s1 is s5"
   ]
  },
  {
   "cell_type": "markdown",
   "id": "6f805a54",
   "metadata": {},
   "source": [
    "* ==는 내용물을 비교하고, is는 주소를 비교한다."
   ]
  }
 ],
 "metadata": {
  "kernelspec": {
   "display_name": "Python 3 (ipykernel)",
   "language": "python",
   "name": "python3"
  },
  "language_info": {
   "codemirror_mode": {
    "name": "ipython",
    "version": 3
   },
   "file_extension": ".py",
   "mimetype": "text/x-python",
   "name": "python",
   "nbconvert_exporter": "python",
   "pygments_lexer": "ipython3",
   "version": "3.9.13"
  }
 },
 "nbformat": 4,
 "nbformat_minor": 5
}
