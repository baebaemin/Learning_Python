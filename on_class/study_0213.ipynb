{
 "cells": [
  {
   "cell_type": "markdown",
   "id": "ef78ee17",
   "metadata": {},
   "source": [
    "### 스택의 구현\n",
    "#### 자료 구조: 자료를 선형으로 저장할 저장소\n",
    "- 배열을 사용할 수 있다\n",
    "- 저장소 자체를 스택이라 부르기도 한다\n",
    "- 스택에서 마지막 삽입된 원소의 위치를 top이라 부른다. 스택 포인터 = sp\n",
    "\n",
    "#### 연산\n",
    "- 삽입: 저장소에 자료를 저장. push\n",
    "- 삭제: 후입선출 - 삽입한 자료의 역순으로 저장소에서 자료를 꺼냄. pop\n",
    "- 스택이 공백인지 아닌지를 확인하는 연산: isEmpty\n",
    "- 스택의 top에 있는 item(원소)을 반환하는 연산: peek"
   ]
  },
  {
   "cell_type": "code",
   "execution_count": 18,
   "id": "425991f3",
   "metadata": {
    "scrolled": true
   },
   "outputs": [
    {
     "name": "stdout",
     "output_type": "stream",
     "text": [
      "5\n",
      "4\n",
      "3\n",
      "2\n",
      "1\n"
     ]
    }
   ],
   "source": [
    "# Stack\n",
    "# 저장소\n",
    "# 나중엔 클래스화...\n",
    "S = [0] * 5  # 자료를 저장하기 위한 저장 공간을 만듦\n",
    "top = -1  # 초기값은 -1로. 마지막에 저장된 자료의 인덱스\n",
    "\n",
    "def push(item):  # item을 스택에 저장\n",
    "    # top == 마지막 인덱스: full 상태 체크\n",
    "    global top  # 중요!\n",
    "    top += 1\n",
    "    S[top] = item\n",
    "    \n",
    "def pop():  # 가장 마지막에 저장된 자료를 반환\n",
    "    # top == -1: empty 상태 체크\n",
    "    global top\n",
    "    ret = S[top]\n",
    "    top -= 1\n",
    "    return ret \n",
    "\n",
    "def isEmpty():\n",
    "    return top == -1\n",
    "\n",
    "for i in range(1, 6):\n",
    "    push(i)\n",
    "\n",
    "while not isEmpty():\n",
    "    print(pop())"
   ]
  },
  {
   "cell_type": "markdown",
   "id": "e0b46355",
   "metadata": {},
   "source": [
    "### 스택의 push 알고리즘\n",
    "* append 메소드를 통해 리스트의 마지막에 데이터를 삽입"
   ]
  },
  {
   "cell_type": "code",
   "execution_count": null,
   "id": "21ba9290",
   "metadata": {},
   "outputs": [],
   "source": [
    "def push(item):\n",
    "    s.append(item)\n",
    "# append는 속도가 느림"
   ]
  },
  {
   "cell_type": "markdown",
   "id": "ae3df280",
   "metadata": {},
   "source": [
    "#### 이해 필요"
   ]
  },
  {
   "cell_type": "code",
   "execution_count": null,
   "id": "ad37c84b",
   "metadata": {},
   "outputs": [],
   "source": [
    "def push(item, size):\n",
    "    global top  # 글로벌변수\n",
    "    top += 1\n",
    "    if top == size:\n",
    "        print('overflow!')  # 예측한 스택의 크기가 틀렸다는 것\n",
    "    else:\n",
    "        stack[top] = item\n",
    "\n",
    "size = 10\n",
    "stack = [0] * size\n",
    "top = -1\n",
    "\n",
    "push(10, size)\n",
    "top += 1   # push(20)\n",
    "stack[top = 20]"
   ]
  },
  {
   "cell_type": "markdown",
   "id": "6fd32475",
   "metadata": {},
   "source": [
    "### 스택의 pop 알고리즘"
   ]
  },
  {
   "cell_type": "code",
   "execution_count": 2,
   "id": "5ecb29b6",
   "metadata": {},
   "outputs": [],
   "source": [
    "def pop():\n",
    "    if len(s) == 0:\n",
    "        # underflow\n",
    "        return\n",
    "    else:\n",
    "        return s.pop()"
   ]
  },
  {
   "cell_type": "markdown",
   "id": "12702f9a",
   "metadata": {},
   "source": [
    "#### 여기도 이해 필요... 맨 밑 3줄이 별개의 대체 가능한 코드인가?"
   ]
  },
  {
   "cell_type": "code",
   "execution_count": null,
   "id": "8144efc1",
   "metadata": {},
   "outputs": [],
   "source": [
    "stack = [0] * 3\n",
    "top = -1  # sp\n",
    "\n",
    "def pop():\n",
    "    global top\n",
    "    if top == -1:\n",
    "        print('underflow')\n",
    "        return 0\n",
    "    else:\n",
    "        top -= 1\n",
    "        return stack[top+1]\n",
    "print(pop())\n",
    "\n",
    "if top > -1:  # pop()\n",
    "    top -= 1\n",
    "    print(stack[top+1])"
   ]
  },
  {
   "cell_type": "markdown",
   "id": "b854e86d",
   "metadata": {},
   "source": [
    "### 스택 구현해보기"
   ]
  },
  {
   "cell_type": "code",
   "execution_count": 8,
   "id": "fc173ce0",
   "metadata": {},
   "outputs": [
    {
     "name": "stdout",
     "output_type": "stream",
     "text": [
      "10\n",
      "20\n",
      "30\n",
      "30\n"
     ]
    }
   ],
   "source": [
    "stack = [0] * 3  # 3개의 값이 들어온다구\n",
    "top = -1\n",
    "\n",
    "top += 1  # push(10)\n",
    "stack[top] = 10\n",
    "print(stack[top])\n",
    "\n",
    "top += 1  # push(20)\n",
    "stack[top] = 20\n",
    "print(stack[top])\n",
    "\n",
    "top += 1  # push(30)\n",
    "stack[top] = 30\n",
    "print(stack[top])\n",
    "\n",
    "top -= 1  # pop()\n",
    "print(stack[top+1])  # top 이전 자리 ( -1을 하기 전 자리 )"
   ]
  },
  {
   "cell_type": "markdown",
   "id": "33b81a5a",
   "metadata": {},
   "source": [
    "### 스택의 응용1: 괄호검사"
   ]
  },
  {
   "cell_type": "markdown",
   "id": "05f4106b",
   "metadata": {},
   "source": [
    "* 괄호의 종류: 대괄호[], 중괄호{}, 소괄호()\n",
    "* 조건: \n",
    "    1. 왼쪽 괄호의 개수와 오른쪽 괄호의 개수가 같아야 한다\n",
    "    2. 같은 괄호에서 왼쪽 괄호는 오른쪽 괄호보다 먼저 나와야 한다  => )( => X\n",
    "    3. 괄호 사이에는 포함 관계만 존재한다 => ([)] => X"
   ]
  },
  {
   "cell_type": "markdown",
   "id": "531b1d05",
   "metadata": {},
   "source": [
    "* 여는 괄호가 나왔다면 push, 닫는 괄호가 나왔다면 pop"
   ]
  },
  {
   "cell_type": "markdown",
   "id": "1361e05e",
   "metadata": {},
   "source": [
    "if (<push> (<push> i == 0 <pop하여 비교>) && (<push> j == 0 <pop하여 비교>) <pop하여 비교>)\n",
    "더이상 괄호가 없고 stack도 비었음 => 정상"
   ]
  },
  {
   "cell_type": "markdown",
   "id": "3e92eabc",
   "metadata": {},
   "source": [
    "if (<push> (<push> i == 0 <pop하여 비교>) && (<push> j == 0 <pop하여 비교>) \n",
    "괄호수식이 끝났는데 스택에 괄호가 남아있다면 오류"
   ]
  },
  {
   "cell_type": "markdown",
   "id": "58527aed",
   "metadata": {},
   "source": [
    "여는 괄호 (왼쪽 괄호) => '('인데 스택이 비어있으면 오류"
   ]
  },
  {
   "cell_type": "markdown",
   "id": "281f6b6e",
   "metadata": {},
   "source": [
    "### 스택의 응용2: function call\n",
    "재귀함수를 이해하는데에 도움이 되니까 잘 들어주세요..."
   ]
  },
  {
   "cell_type": "markdown",
   "id": "c6b0e7ac",
   "metadata": {},
   "source": [
    "#### 프로그램에서의 함수 호출과 복귀에 따른 수행 순서를 관리\n"
   ]
  },
  {
   "cell_type": "markdown",
   "id": "88e51a03",
   "metadata": {},
   "source": [
    "* 가장 마지막에 호출된 함수가 가장 먼저 실행을 완료하고 복귀하는 후입선출 구조이므로, 후입 선출 구조의 스택을 이용하여 수행순서 관리\n",
    "* 함수 호출이 발생하면 호출한 함수 수행에 필요한 지역변수(함수 안에서 만들어진 변수), 매개변수(함수에게 전달되는 인자) 및 수행 후 복귀할 주소 등의 정보를 스택 프레임(stack frame)에 저장하여 시스템 스택에 삽입\n",
    "* 함수의 실행이 끝나면 시스템 스택의 top원소(스택 프레임)를 삭제(pop)하면서 프레임에 저장되어 있던 복귀 주소를 확인하여 복귀\n",
    "* 함수 호출과 복귀에 따라 이 과정을 반복하여 전체 프로그램이 종료되면 시스템 스택은 공백 스택이 된다."
   ]
  },
  {
   "cell_type": "markdown",
   "id": "91ce217c",
   "metadata": {},
   "source": [
    "### 재귀호출"
   ]
  },
  {
   "cell_type": "markdown",
   "id": "6b2b8127",
   "metadata": {},
   "source": [
    "* 자기 자신을 호출하여 순환 수행되는 것\n",
    "* 마지막에 구한 하위 값을 이용하여 상위 값을 구하는 작업"
   ]
  },
  {
   "cell_type": "markdown",
   "id": "bb7c33cd",
   "metadata": {},
   "source": [
    "* 재귀 ==> recurrence relation\n",
    "* 재귀적 정의 ==> 점화식 >> 문제와의 관계\n",
    "* 문제의 크기를 표현하는 값"
   ]
  },
  {
   "cell_type": "code",
   "execution_count": 8,
   "id": "4cac7ec3",
   "metadata": {},
   "outputs": [
    {
     "name": "stdout",
     "output_type": "stream",
     "text": [
      "hello\n",
      "hello\n",
      "hello\n"
     ]
    }
   ],
   "source": [
    "i = 0\n",
    "while i < 3:\n",
    "    print('hello')\n",
    "    i += 1"
   ]
  },
  {
   "cell_type": "code",
   "execution_count": 12,
   "id": "4fe2a8eb",
   "metadata": {},
   "outputs": [
    {
     "name": "stdout",
     "output_type": "stream",
     "text": [
      "hello\n",
      "hello\n",
      "hello\n",
      "hello\n",
      "hello\n"
     ]
    }
   ],
   "source": [
    "# 재귀호출로 위의 반복문을 구현    \n",
    "def printHello(i, k):  # k값은 내가 원하는 만큼 인자로 넣기\n",
    "    # 재귀호출을 할 것인지 판단\n",
    "    if i < k:\n",
    "        print('hello')\n",
    "        printHello(i + 1, k)  # <- 변화할 값 넣기\n",
    "    else:\n",
    "        return\n",
    "        \n",
    "printHello(0, 5)"
   ]
  },
  {
   "cell_type": "code",
   "execution_count": 16,
   "id": "bfbe0afb",
   "metadata": {},
   "outputs": [
    {
     "name": "stdout",
     "output_type": "stream",
     "text": [
      "0 hello\n",
      "1 hello\n",
      "2 hello\n",
      "마지막\n",
      "2 hello\n",
      "1 hello\n",
      "0 hello\n",
      "cnt= 1\n"
     ]
    }
   ],
   "source": [
    "cnt = 0\n",
    "def printHello(i, k):\n",
    "    if i == k:\n",
    "        global cnt\n",
    "        cnt += 1\n",
    "        print('마지막')\n",
    "    else:\n",
    "        print(i, 'hello')\n",
    "#         arr[i] = i + 1\n",
    "        printHello(i + 1, k)\n",
    "#         arr[i] = 0\n",
    "        print(i, 'hello')\n",
    "        \n",
    "printHello(0, 3); print('cnt=', cnt)\n",
    "\n",
    "# 마치 stack으로 0, 1, 2를 쌓고 pop으로 2, 1, 0을 뽑는것처럼"
   ]
  },
  {
   "cell_type": "code",
   "execution_count": 17,
   "id": "ef26e305",
   "metadata": {},
   "outputs": [
    {
     "name": "stdout",
     "output_type": "stream",
     "text": [
      "마지막\n",
      "마지막\n",
      "마지막\n",
      "마지막\n",
      "마지막\n",
      "마지막\n",
      "마지막\n",
      "마지막\n",
      "cnt= 8\n"
     ]
    }
   ],
   "source": [
    "cnt = 0\n",
    "def printHello(i, k):\n",
    "    if i == k:\n",
    "        global cnt\n",
    "        cnt += 1\n",
    "        print('마지막')\n",
    "    else:\n",
    "        printHello(i + 1, k)\n",
    "        printHello(i + 1, k)\n",
    "        \n",
    "printHello(0, 3); print('cnt=', cnt)  # cnt"
   ]
  },
  {
   "cell_type": "code",
   "execution_count": null,
   "id": "3f109ade",
   "metadata": {},
   "outputs": [],
   "source": [
    "재귀호출 작성시: f(i, k) 일 때 i는 현재 상태, k는 목표."
   ]
  },
  {
   "cell_type": "code",
   "execution_count": null,
   "id": "886cce99",
   "metadata": {},
   "outputs": [],
   "source": [
    "def f(i, k):   # i = 단계, k = 목표\n",
    "    if i == k:\n",
    "        return   # 더 이상 재귀호출 하지 마\n",
    "    else: \n",
    "        f(i+1, k)  # 다음 단계"
   ]
  },
  {
   "cell_type": "markdown",
   "id": "d544b49b",
   "metadata": {},
   "source": [
    "#### 피보나치 수열의 i번째 값을 계산하는 함수 F를 정의하면 다음과 같다.\n",
    "* F0 = 0, F1 = 1\n",
    "* Fi = Fi-1 + Fi-2 for i >= 2"
   ]
  },
  {
   "cell_type": "code",
   "execution_count": 5,
   "id": "c255c710",
   "metadata": {},
   "outputs": [
    {
     "name": "stdout",
     "output_type": "stream",
     "text": [
      "[10, 20, 30]\n"
     ]
    }
   ],
   "source": [
    "def f(i, k):   # i = 단계, k = 목표\n",
    "    if i == k:\n",
    "        print(B)\n",
    "        return   # 더 이상 재귀호출 하지 마\n",
    "    else: \n",
    "        B[i] = A[i]\n",
    "        f(i+1, k)\n",
    "\n",
    "A = [10, 20, 30]\n",
    "B = [0] * 3\n",
    "f(0, len(A))"
   ]
  },
  {
   "cell_type": "markdown",
   "id": "978562d5",
   "metadata": {},
   "source": [
    "### Memoization 방법을 적용한 재귀호출 - 실행시간 줄이기"
   ]
  },
  {
   "cell_type": "code",
   "execution_count": null,
   "id": "10ad1bd1",
   "metadata": {},
   "outputs": [],
   "source": [
    "#memo를 위한 배열을 할당하고, 모두 0으로 초기화\n",
    "#memo[0]을 0으로, memo[1]은 1로 초기화 한다\n",
    "\n",
    "def fibo1(n) :\n",
    "    global memo\n",
    "    if n >= 2 and memo[n] == 0:  # 실행이 된 적 없다면,\n",
    "        memo[n] = (fibo1(n-1) + fibo(n-2)) # return (fibo1(n-1) + fibo(n-2)가 아니고 \n",
    "        # memo[n]에 넣기\n",
    "    return memo[n]\n",
    "\n",
    "memo = [0] * (n+1)\n",
    "memo[0] = 0  # f0값\n",
    "memo[1] = 1  # f1값"
   ]
  },
  {
   "cell_type": "markdown",
   "id": "ad0abd7e",
   "metadata": {},
   "source": [
    "### DP(Dynamic Programming)\n",
    "* 입력 크기가 작은 문제들을 모두 해결한 후에 그 해들을 이용하여 보다 큰 크기의 부분 문제들을 해결. 최종적으로 원래 주어진 입력의 문제를 해결하는 알고리즘"
   ]
  },
  {
   "cell_type": "markdown",
   "id": "824952c6",
   "metadata": {},
   "source": [
    "#### 피보나치 수 DP 적용\n",
    "1. 부분 문제로 나눈다\n",
    "2. 결과를 테이블에 저장하고, 테이블에 저장된 부분 문제의 해를 이용하여 상위 문제의 해를 구한다."
   ]
  },
  {
   "cell_type": "code",
   "execution_count": null,
   "id": "1c17c37f",
   "metadata": {},
   "outputs": [],
   "source": [
    "def fibo2(n):\n",
    "    f = [0] * (n+1)\n",
    "    f[0] = 0\n",
    "    f[1] = 1\n",
    "    for i in range(2, n + 1):\n",
    "        f[i] = f[i-1] + f[i-2]\n",
    "    return f[n]"
   ]
  },
  {
   "cell_type": "markdown",
   "id": "830d15dc",
   "metadata": {},
   "source": [
    "### DP의 구현 방식\n",
    "* recursive 방식: fib1()\n",
    "* iterative 방식: fib2()\n",
    "    \n",
    "- memoization을 재귀적 구조에 사용하는 것 보다 반복적 구조로 DP를 구현한 것이 성능 면에서 보다 효율적이다.\n",
    "- 재귀적 구조는 내부에 시스템 호출 스택을 사용하는 오버헤드가 발생하기 때문이다"
   ]
  },
  {
   "cell_type": "markdown",
   "id": "dd3708f0",
   "metadata": {},
   "source": [
    "### DFS(깊이우선탐색)\n",
    "* 비선형구조인 그래프 구조는 그래프로 표현된 모든 자료를 빠짐없이 검색하는 것이 중요\n",
    "* 두 가지 방법\n",
    "    - 깊이 우선 탐색(Depth First Search, DFS)\n",
    "    - 너비 우선 탐색(Breadth First Search, BFS)"
   ]
  },
  {
   "cell_type": "markdown",
   "id": "fa8b89ba",
   "metadata": {},
   "source": [
    "* 시작 정점의 한 방향으로 갈 수 있는 경로가 있는 곳까지 깊이 탐색해 가다가 더 이상 갈 곳이 없게 되면, 가장 마지막에 만났던 갈림길 간선이 있는 정점으로 돌아와서 다른 방향의 정점으로 탐색을 계속 반복하여 결국 모든 정점을 방문하는 순회방법\n",
    "* 가장 마지막에 만났던 갈림길의 정점으로 되돌아가서 다시 깊이 우선 탐색을 반복해야 하므로 후입선출 구조의 스택 사용"
   ]
  },
  {
   "cell_type": "markdown",
   "id": "7ec73800",
   "metadata": {},
   "source": [
    "* 그래프는 실세계의 현상(모습)을 추상화하는 좋은 도구이므로\n",
    "* 그래프(Graph) => 정점(Vertex)들과 간선(Edge)들의 조합\n",
    "* 그래프 표현(메모리)은 간선들의 정보를 저장하는 것이다.\n",
    "* 하나의 간선은 두 정점이 서로 인접해 있다는 것을 나타낸다.\n",
    "* 각 정점들마다 자기랑 연결된 간선 정보를 저장한다.\n",
    "* 간선의 맞은 편 정점 정보를 저장\n"
   ]
  },
  {
   "cell_type": "markdown",
   "id": "b6abdd4d",
   "metadata": {},
   "source": [
    "* 인접행렬 = |v| * |v| ( 정점의 개수 = v )"
   ]
  },
  {
   "cell_type": "markdown",
   "id": "9e076983",
   "metadata": {},
   "source": [
    "#### DFS 알고리즘"
   ]
  },
  {
   "cell_type": "markdown",
   "id": "d98233e6",
   "metadata": {},
   "source": [
    "1) 시작 정점 v를 결정하여 방문한다.\n",
    "2) 정점 v에 인접한 정점 중에서\n",
    "    i) 방문하지 않은 정점 w가 있다면, 정점 v를 스택에 push하고 정점 w를 방문한다.\n",
    "    그리고 w를 v로 하여 다시 2를 반복한다.\n",
    "    ii) 방문하지 않은 정점이 없으면, 탐색의 방향을 바꾸기 위해서 스택을 pop하여 받은 가장 마지막 방문 정점을 v로 하여 다시 2)를 반복한다.\n",
    "3) 스택이 공백이 될 때까지 2)를 방문한다.\n",
    "    "
   ]
  },
  {
   "cell_type": "code",
   "execution_count": null,
   "id": "dd22d232",
   "metadata": {},
   "outputs": [],
   "source": [
    "visited[], stack[] 초기화\n",
    "DFS(v)\n",
    "    시작점 v 방문:\n",
    "    visited[v] <- True;  # 방문했어\n",
    "    while {\n",
    "        if (v의 인접 정점 중 방문 안 한 정점 w가 있으면)\n",
    "            push(v);\n",
    "            v <- w; (w에 방문)\n",
    "            visited[w] <- True;\n",
    "        else\n",
    "            if (스택이 비어있지 않으면)\n",
    "            v <- pop(stack)\n",
    "            else\n",
    "                break\n",
    "    }\n",
    "end DFS()"
   ]
  },
  {
   "cell_type": "markdown",
   "id": "4b8f74e6",
   "metadata": {},
   "source": [
    "### 인접행렬"
   ]
  },
  {
   "cell_type": "code",
   "execution_count": null,
   "id": "c05a8e4d",
   "metadata": {},
   "outputs": [],
   "source": [
    "'''\n",
    "7 8\n",
    "1 2 1 3 2 4 2 5 4 6 5 6 6 7 3 7\n",
    "'''\n",
    "V, E = map(intt, input().split())\n",
    "arr = list(map(int, input().split()))\n",
    "adjM = [[0] * (V+1) for _ in range(V + 1)]\n",
    "adjL = [[] for _ in range(V+1)]\n",
    "\n",
    "for i in range(E):\n",
    "    v1, v2 = arr[i*2], arr[i*2+1]\n",
    "    adjM[v1][v2] = 1\n",
    "    adjM[v2][v1] = 1\n",
    "    \n",
    "    adjL[v1].append(v2)\n",
    "    adjL[v2].append(v1)\n",
    "\n",
    "print()"
   ]
  },
  {
   "cell_type": "code",
   "execution_count": 19,
   "id": "f7e1dfb7",
   "metadata": {},
   "outputs": [
    {
     "data": {
      "text/plain": [
       "'\\n7 8  # 정점의 개수와 간선의 개수\\n1 2\\n1 3\\n2 4\\n2 5\\n4 6\\n5 6\\n6 7\\n3 7\\n'"
      ]
     },
     "execution_count": 19,
     "metadata": {},
     "output_type": "execute_result"
    }
   ],
   "source": [
    "# 인풋 데이터\n",
    "'''\n",
    "7 8  # 정점의 개수와 간선의 개수\n",
    "1 2\n",
    "1 3\n",
    "2 4\n",
    "2 5\n",
    "4 6\n",
    "5 6\n",
    "6 7\n",
    "3 7\n",
    "'''\n",
    "V, E = map(int, input().split())\n",
    "G = [[0] * (V+1) for _ in range(V + 1)] # |V| x |V| 크기의 2차배열 \n",
    "# V = 7이면 8 X 8 으로 해야함\n",
    "for _ in range(E):  # 간선의 수만큼 입력 받아야 함\n",
    "    u, v = map(int, input().split())  # (u와 v는 미지의 정점 좌표. u/v/w 관례적임.)\n",
    "    G[u][v] = 1\n",
    "    G[v][u] = 1  # 인접은 양방향이니까"
   ]
  },
  {
   "cell_type": "markdown",
   "id": "9f0efd07",
   "metadata": {},
   "source": [
    "### 인접 리스트"
   ]
  },
  {
   "cell_type": "code",
   "execution_count": 25,
   "id": "d009f5d7",
   "metadata": {},
   "outputs": [
    {
     "name": "stdout",
     "output_type": "stream",
     "text": [
      "7 8\n",
      "1 2\n",
      "1 3\n",
      "2 4\n",
      "2 5\n",
      "4 6\n",
      "5 6\n",
      "6 7\n",
      "3 7\n",
      "1 ---> [2, 3]\n",
      "2 ---> [1, 4, 5]\n",
      "3 ---> [1, 7]\n",
      "4 ---> [2, 6]\n",
      "5 ---> [2, 6]\n",
      "6 ---> [4, 5, 7]\n",
      "7 ---> [6, 3]\n"
     ]
    }
   ],
   "source": [
    "V, E = map(int, input().split())\n",
    "G = [[] for _ in range(V + 1)]  # 인접 리스트 [[], [], [], [], [], [], [], []]\n",
    "\n",
    "for _ in range(E):  # 간선수만큼\n",
    "    u, v = map(int, input().split())\n",
    "    G[u].append(v)\n",
    "    G[v].append(u)\n",
    "for i in range(1, V+1):\n",
    "    print(i, '--->', G[i])"
   ]
  },
  {
   "cell_type": "code",
   "execution_count": null,
   "id": "d32fe77a",
   "metadata": {},
   "outputs": [],
   "source": []
  }
 ],
 "metadata": {
  "kernelspec": {
   "display_name": "Python 3 (ipykernel)",
   "language": "python",
   "name": "python3"
  },
  "language_info": {
   "codemirror_mode": {
    "name": "ipython",
    "version": 3
   },
   "file_extension": ".py",
   "mimetype": "text/x-python",
   "name": "python",
   "nbconvert_exporter": "python",
   "pygments_lexer": "ipython3",
   "version": "3.9.13"
  }
 },
 "nbformat": 4,
 "nbformat_minor": 5
}
