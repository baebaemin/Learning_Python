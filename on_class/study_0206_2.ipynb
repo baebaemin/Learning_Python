{
 "cells": [
  {
   "cell_type": "markdown",
   "id": "44d0777d",
   "metadata": {},
   "source": [
    "## 2차 배열(리스트의 리스트) 생성"
   ]
  },
  {
   "cell_type": "code",
   "execution_count": 1,
   "id": "1cc1730a",
   "metadata": {},
   "outputs": [
    {
     "name": "stdout",
     "output_type": "stream",
     "text": [
      "4 5 6\n",
      "3 4 5\n",
      "1 3 4\n",
      "[[4, 5, 6], [3, 4, 5], [1, 3, 4]]\n"
     ]
    }
   ],
   "source": [
    "arr = []\n",
    "for _ in range(3):\n",
    "    lst = list(map(int, input().split()))\n",
    "    arr.append(lst)\n",
    "print(arr)"
   ]
  },
  {
   "cell_type": "code",
   "execution_count": null,
   "id": "a405e205",
   "metadata": {},
   "outputs": [],
   "source": [
    "arr = [list(map(int, input().split())) for _ in range(3)]"
   ]
  },
  {
   "cell_type": "code",
   "execution_count": null,
   "id": "9331336f",
   "metadata": {},
   "outputs": [],
   "source": [
    "리스트의 리스트 안에 속한 원소를 지정하기 위해 행인덱스와 열인덱스가 필요하다"
   ]
  },
  {
   "cell_type": "code",
   "execution_count": 2,
   "id": "ad55c0cd",
   "metadata": {},
   "outputs": [
    {
     "name": "stdout",
     "output_type": "stream",
     "text": [
      "1 2 3\n",
      "4 5 6\n",
      "7 8 9\n",
      "1\n",
      "4\n",
      "7\n",
      "2\n",
      "5\n",
      "8\n",
      "3\n",
      "6\n",
      "9\n"
     ]
    }
   ],
   "source": [
    "arr = [list(map(int, input().split())) for _ in range(3)]\n",
    "\n",
    "N = len(arr)  # 행의 크기\n",
    "M = len(arr[0])  #열의 크기\n",
    "\n",
    "for c in range(M):\n",
    "    for r in range(N):\n",
    "        print(arr[r][c]) # 열을 기준으로 아래로 내려오면서 순회"
   ]
  },
  {
   "cell_type": "code",
   "execution_count": null,
   "id": "9ba29ec1",
   "metadata": {},
   "outputs": [],
   "source": [
    "arr = [[0] * 10 for _ inb range(10)]\n",
    "r, c = 3, 5\n",
    "arr[r][c] = '*'\n",
    "arr[r-1][c] = 1"
   ]
  },
  {
   "cell_type": "markdown",
   "id": "dbdca9ce",
   "metadata": {},
   "source": [
    "### Shift 연산자\n",
    "* 우리가 사용하는 연산자중에 가장 속도가 느린 것은 '/' 연산자.\n",
    "* 제일 실행속도가 빠른 것은 '>>', '<<' 비트 연산자"
   ]
  },
  {
   "cell_type": "code",
   "execution_count": 3,
   "id": "ed2726ef",
   "metadata": {
    "scrolled": true
   },
   "outputs": [
    {
     "name": "stdout",
     "output_type": "stream",
     "text": [
      "2\n",
      "4\n",
      "8\n"
     ]
    }
   ],
   "source": [
    "# 왼쪽으로 한 칸 옮길때마다 2의 거듭제곱이 됨\n",
    "\n",
    "print(1 << 1)\n",
    "print(1 << 2)\n",
    "print(1 << 3)"
   ]
  },
  {
   "cell_type": "code",
   "execution_count": 10,
   "id": "a4757b19",
   "metadata": {},
   "outputs": [
    {
     "name": "stdout",
     "output_type": "stream",
     "text": [
      "64\n",
      "20\n",
      "40\n",
      "5\n",
      "2\n",
      "16\n",
      "6\n"
     ]
    }
   ],
   "source": [
    "N = 6\n",
    "print(1 << N)  # 2^N\n",
    "print(10 << 1)  # 1010(10의 이진수표기)을 한 칸 오른쪽으로: 10100 = 10 * 2^1\n",
    "print(10 << 2)  # 1010을 두 칸 오른쪽으로: 101000 = 10 * 2^2\n",
    "print(10 >> 1)  # 1010을 한 칸 왼쪽으로: 10 // 2^1\n",
    "print(10 >> 2)  # 1010을 두 칸 왼쪽으로: 10 // 2^2\n",
    "print(8 << 1)  # 8 * 2^1 = 16\n",
    "print(100 >> 4)  # 100 // 2^4"
   ]
  },
  {
   "cell_type": "markdown",
   "id": "cfa1568a",
   "metadata": {},
   "source": [
    "### &(and), |(or) 연산자"
   ]
  },
  {
   "cell_type": "code",
   "execution_count": 12,
   "id": "8d3bef01",
   "metadata": {},
   "outputs": [
    {
     "name": "stdout",
     "output_type": "stream",
     "text": [
      "0\n"
     ]
    }
   ],
   "source": [
    "print(8 & 4)  # 8은 1000, 4는 100\n",
    "# 1, 0, 0, 0\n",
    "# 0, 1, 0, 0 \n",
    "# 8과 4중에 둘 다 1인 값을 도출"
   ]
  },
  {
   "cell_type": "code",
   "execution_count": 17,
   "id": "c565fe89",
   "metadata": {},
   "outputs": [
    {
     "name": "stdout",
     "output_type": "stream",
     "text": [
      "12\n"
     ]
    }
   ],
   "source": [
    "print(8 | 4)  #1100 => 12"
   ]
  },
  {
   "cell_type": "code",
   "execution_count": 18,
   "id": "ccc6bfde",
   "metadata": {
    "scrolled": true
   },
   "outputs": [
    {
     "name": "stdout",
     "output_type": "stream",
     "text": [
      "15\n"
     ]
    }
   ],
   "source": [
    "print(11 | 5)"
   ]
  },
  {
   "cell_type": "code",
   "execution_count": 19,
   "id": "e171f848",
   "metadata": {},
   "outputs": [
    {
     "name": "stdout",
     "output_type": "stream",
     "text": [
      "0b10100110\n"
     ]
    }
   ],
   "source": [
    "val = 166  #0xa6\n",
    "print(bin(val))"
   ]
  },
  {
   "cell_type": "code",
   "execution_count": 20,
   "id": "59c348c8",
   "metadata": {},
   "outputs": [
    {
     "name": "stdout",
     "output_type": "stream",
     "text": [
      "128\n",
      "0\n",
      "32\n",
      "10100110"
     ]
    }
   ],
   "source": [
    "val = 0xa6  # 10100110\n",
    "print(val & (1 << 7))\n",
    "print(val & (1 << 6))\n",
    "print(val & (1 << 5))\n",
    "for i in range(7, -1, -1):\n",
    "    if val & (1 << i):\n",
    "        print(1, end='')\n",
    "    else:\n",
    "        print(0, end='')"
   ]
  }
 ],
 "metadata": {
  "kernelspec": {
   "display_name": "Python 3 (ipykernel)",
   "language": "python",
   "name": "python3"
  },
  "language_info": {
   "codemirror_mode": {
    "name": "ipython",
    "version": 3
   },
   "file_extension": ".py",
   "mimetype": "text/x-python",
   "name": "python",
   "nbconvert_exporter": "python",
   "pygments_lexer": "ipython3",
   "version": "3.9.13"
  }
 },
 "nbformat": 4,
 "nbformat_minor": 5
}
