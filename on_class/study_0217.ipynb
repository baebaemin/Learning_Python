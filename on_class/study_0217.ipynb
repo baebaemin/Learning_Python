{
 "cells": [
  {
   "cell_type": "markdown",
   "id": "c464f552",
   "metadata": {},
   "source": [
    "## 문제풀이\n",
    "너무 스마트하게 생각하면 안될수도있어여\n"
   ]
  },
  {
   "cell_type": "markdown",
   "id": "1204c2bc",
   "metadata": {},
   "source": [
    "### 9489_D2_고대유적"
   ]
  },
  {
   "cell_type": "code",
   "execution_count": null,
   "id": "9a8a5b01",
   "metadata": {},
   "outputs": [],
   "source": [
    "mx <- 2 # 0으로 해도 상관 x\n",
    "for lst in arr:\n",
    "    cnt <- 0\n",
    "    for n in lst\n",
    "        if n == 1\n",
    "            cnt += 1\n",
    "            if mx < cnt\n",
    "                mx <- cnt\n",
    "        else\n",
    "            cnt <- 0\n",
    "    count(arr), count(arr)"
   ]
  },
  {
   "cell_type": "code",
   "execution_count": null,
   "id": "0aee2291",
   "metadata": {},
   "outputs": [],
   "source": [
    "우주선 착륙 풀어보기"
   ]
  },
  {
   "cell_type": "markdown",
   "id": "db269346",
   "metadata": {},
   "source": [
    "### 자기 방으로 돌아가기\n",
    "\n",
    "(방번호 - 1) // 2 : 복도번호\n",
    "\n",
    "[1] 시작복도 번호 ~ 끝 복도 번호 : 누적 cnts 표시\n",
    "\n",
    "[2] 누적 cnts 중에 최대값 찾기 "
   ]
  },
  {
   "cell_type": "code",
   "execution_count": null,
   "id": "6389cd22",
   "metadata": {},
   "outputs": [],
   "source": [
    "for tc in range(1, T + 1):\n",
    "    cnts = [0] * 200\n",
    "    for _ range(N)\n",
    "        s, e 입력\n",
    "        for j ((s-1) // 2, (e-1) // 2 + 1)\n",
    "            cnts[j] += 1"
   ]
  },
  {
   "cell_type": "code",
   "execution_count": null,
   "id": "c56fe0e4",
   "metadata": {},
   "outputs": [],
   "source": [
    "T = int(input())\n",
    "\n",
    "for tc in range(1, T + 1):\n",
    "    N = int(input())\n",
    "    cnts = [0] * 200\n",
    "    for _ in range(N):\n",
    "        s, e = map(int, input().split())\n",
    "        for i in range((s-1)//2, (e-1)//2 + 1):\n",
    "            cnts[i] += 1\n",
    "    ans = max(cnts)\n",
    "    print(f'#{tc} {ans}')"
   ]
  },
  {
   "cell_type": "markdown",
   "id": "60e28f44",
   "metadata": {},
   "source": [
    "여기까지 하면 테스트케이스 5개 중 4개만 맞음\n",
    "* 테스트케이스 모두 0인가?\n",
    "* 테스트케이스 모두 mn or mx인가?\n",
    "* 음수가 포함되어있는가?\n",
    "* 1개만 주어졌을땐?\n",
    "* 정렬이 되어있지 않은 리스트를 주나?\n",
    "* 경계값만 주나?"
   ]
  },
  {
   "cell_type": "code",
   "execution_count": null,
   "id": "5ce42466",
   "metadata": {},
   "outputs": [],
   "source": []
  }
 ],
 "metadata": {
  "kernelspec": {
   "display_name": "Python 3 (ipykernel)",
   "language": "python",
   "name": "python3"
  },
  "language_info": {
   "codemirror_mode": {
    "name": "ipython",
    "version": 3
   },
   "file_extension": ".py",
   "mimetype": "text/x-python",
   "name": "python",
   "nbconvert_exporter": "python",
   "pygments_lexer": "ipython3",
   "version": "3.9.13"
  }
 },
 "nbformat": 4,
 "nbformat_minor": 5
}
