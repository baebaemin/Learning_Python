{
 "cells": [
  {
   "cell_type": "code",
   "execution_count": 16,
   "id": "7b686c49",
   "metadata": {
    "scrolled": true
   },
   "outputs": [
    {
     "name": "stdout",
     "output_type": "stream",
     "text": [
      "6\n",
      "3 4 3 1 4 5 4 6 1 2\n",
      "- - - - - - - - - -\n",
      "루트: 3\n",
      "preorder: 3 4 5 6 1 2 \n",
      "4부터 preorder: 4 5 6 "
     ]
    }
   ],
   "source": [
    "'''\n",
    "13\n",
    "1 2 1 3 2 4 3 5 3 6 4 7 5 8 5 9 6 10 6 11 7 12 11 13\n",
    "-\n",
    "루트가 1이 아닐 때\n",
    "6\n",
    "3 4 3 1 4 5 4 6 1 2\n",
    "'''\n",
    "def preorder(i):\n",
    "    if i:  # 0이 아니면 = 존재하는 정점이면\n",
    "        print(i, end = ' ')\n",
    "        preorder(left[i])\n",
    "        preorder(right[i])\n",
    "    return\n",
    "\n",
    "V = int(input())\n",
    "arr = list(map(int, input().split()))\n",
    "E = V - 1  # 간선 수\n",
    "left = [0] * (V+1)  # 부모를 인덱스로 왼쪽자식 저장\n",
    "right = [0] * (V+1)  # 부모를 인덱스로 오른쪽자식 저장\n",
    "\n",
    "# 루트를 찾아야 하는 상황이라면\n",
    "par = [0] * (V+1)  # 자식을 인덱스로 부모 저장\n",
    "\n",
    "for i in range(E): # 간선 정보를 자식 배열들에 저장\n",
    "    p, c = arr[i*2], arr[i*2+1]\n",
    "    if left[p] == 0:\n",
    "        left[p] = c\n",
    "    else:\n",
    "        right[p] = c\n",
    "    par[c] = p\n",
    "    \n",
    "root = 1  # 1부터 루트를 찾자\n",
    "while par[root] != 0:  # 0이 아니라면 부모가 있는 것 \n",
    "    root += 1\n",
    "\n",
    "print('- - - - - - - - - -')\n",
    "print('루트:', root)\n",
    "print('preorder:', end=' ')\n",
    "preorder(root)\n",
    "print()\n",
    "print('4부터 preorder:', end=' ')\n",
    "preorder(4)"
   ]
  },
  {
   "cell_type": "code",
   "execution_count": null,
   "id": "bae37aca",
   "metadata": {},
   "outputs": [],
   "source": [
    "'''\n",
    "13\n",
    "1 2 1 3 2 4 3 5 3 6 4 7 5 8 5 9 6 10 6 11 7 12 11 13\n",
    "'''\n",
    "\n",
    "V = int(input())\n",
    "arr = list(map(int, input().split()))\n",
    "E = V - 1\n",
    "child = [[] for _ in range(V+1)]  # left, right 대신 child에 한 번에 쓸 수도 있음\n",
    "\n",
    "for i in range(E):\n",
    "    p, c = arr[i*2], arr[i*2+1]\n",
    "    child[p].append(c)\n"
   ]
  },
  {
   "cell_type": "code",
   "execution_count": null,
   "id": "d60bd4c6",
   "metadata": {},
   "outputs": [],
   "source": [
    "# order 함수에서 조건을 이렇게 다르게 줄 수도 있음\n",
    "def preorder(i):\n",
    "    print(i, end = ' ')  # 그런데 이 조건은 처음 들어오는 값이 유효할때만 유용\n",
    "    if left[i]:\n",
    "        predorder(left[i])\n",
    "    if right[i]:\n",
    "        preorder(right[i])\n",
    "    return\n",
    "\n",
    "V = int(input())\n",
    "arr = list(map(int, input().split()))\n",
    "E = V - 1\n",
    "left = [0] * (V+1)\n",
    "right = [0] * (V+1)\n",
    "\n",
    "for i in range(E):\n",
    "    p, c = arr[i*2], arr[i*2+1]\n",
    "    if left[p] == 0:\n",
    "        left[p] = c\n",
    "    else:\n",
    "        right[p] = c"
   ]
  },
  {
   "cell_type": "markdown",
   "id": "4af2bd4a",
   "metadata": {},
   "source": [
    "### 이진 탐색 트리\n",
    "* 중위순회하면 오름차순으로 정렬된 값을 얻을 수 있다\n",
    "* 모든 원소는 서로다른 유일한 키를 갖는다\n",
    "* 왼쪽 서브트리 < 루트 노드 < 오른쪽 서브트리"
   ]
  },
  {
   "cell_type": "markdown",
   "id": "a29344b4",
   "metadata": {},
   "source": [
    "#### 탐색 연산\n",
    "* 루트에서 시작\n",
    "* 탐색할 키 x를 루트 노트의 키 값과 비교.\n",
    "    - x = 루트 노드와 같다면: 발견, 탐색 종료\n",
    "    - x < 루트 노드인 경우: 왼쪽 subtree에 대해서 탐색\n",
    "    - x > 루트 노드인 경우, 오른쪽 subtree에 대해서 탐색"
   ]
  },
  {
   "cell_type": "markdown",
   "id": "6230d4ac",
   "metadata": {},
   "source": [
    "#### 삽입 연산\n",
    "* 먼저, 같은 원소가 있는지 탐색하여 확인\n",
    "* 위의 탐색 연산에서 탐색 실패가 결정되는 위치가 삽입 위치"
   ]
  },
  {
   "cell_type": "markdown",
   "id": "9301d45d",
   "metadata": {},
   "source": [
    "#### 이진 탐색 트리의 성능\n",
    "* 탐색, 삽입, 삭제 시간은 트리의 높이만큼 시간이 걸린다.\n",
    "    - O(h), h: BST의 깊이(height)\n",
    "* 평균의 경우\n",
    "    - 이진 트리가 균형적으로 생성되어 있는 경우\n",
    "    - O(log n)\n",
    "* 최악의 경우\n",
    "    - 한 쪽으로 치우친 경사 이진트리의 경우\n",
    "    - O(n)\n",
    "    - 순차탐색과 시간복잡도가 같다."
   ]
  },
  {
   "cell_type": "markdown",
   "id": "f3992e3a",
   "metadata": {},
   "source": [
    "### 힙(heap)\n",
    "* 최대 힙: 키값이 가장 큰 노드를 찾기 위한 완전이진트리 \n",
    "    - 부모노드의 값 > 자식노드의 값\n",
    "    - 루트 노드: 키값이 가장 큰 코드\n",
    "* 최소 힙: 키값이 가장 작은 노드를 찾기 위한 완전이진트리 \n",
    "    - 부모노드의 값 > 자식노드의 값\n",
    "    - 루트 노드: 키값이 가장 작은 코드"
   ]
  },
  {
   "cell_type": "markdown",
   "id": "5ab14995",
   "metadata": {},
   "source": [
    "#### 힙이 아닌 이진트리\n",
    "* 완전이진트리가 아닐 때\n",
    "* 부모노드의 값이 자식노드보다 일정하게 크거나 작지 않을 때"
   ]
  },
  {
   "cell_type": "markdown",
   "id": "004baeb6",
   "metadata": {},
   "source": [
    "#### 힙 연산 - 삭제\n",
    "* 힙에서는 루트 노드의 원소만을 삭제할 수 있다.\n",
    "* 루트 노드의 원소를 삭제하여 반환\n",
    "* 힙의 종류에 따라 최대값 또는 최소값을 구할 수 있다.\n"
   ]
  },
  {
   "cell_type": "markdown",
   "id": "76647474",
   "metadata": {},
   "source": [
    "##### 완전 이진트리를 유지하는 것이 관건\n",
    "* 루트의 원소를 삭제했다면 마지막 노드를 삭제해서 루트 자리로 대체\n",
    "* 마지막 노드의 값이 힙 정렬에 맞는지 검토하여 자리 바꾸기"
   ]
  },
  {
   "cell_type": "markdown",
   "id": "a3f94a88",
   "metadata": {},
   "source": [
    "힙은 스택처럼 가장 마지막 노드를 가리키는 인덱스가 필요하다 (last)"
   ]
  },
  {
   "cell_type": "code",
   "execution_count": null,
   "id": "183b90d8",
   "metadata": {},
   "outputs": [],
   "source": [
    "(최대 힙)\n",
    "100개의 숫자가 들어올 수 있다면\n",
    "heap = [0] * 101 \n",
    "마지막 정점을 last라고 하면\n",
    "last == 0 이라는 것은 아직 삽입이 안 들어온 것\n",
    "\n",
    "enq(n): (삽입)\n",
    "    last += 1  # 마지막 정점 추가\n",
    "    heap[last] = n  # 힙의 마지막 정점에 삽입\n",
    "    c = last  # 방금 추가된 last에 들어간 원소가 부모보다 큰지 확인하기 위함\n",
    "    p = c//2  # 방금 추가된 원소의 부모 인덱스는 p\n",
    "    while p > 0 and heap[p] < heap[c]:  # 부모가 루트가 되기 전까지 순회하면서 / 자식이 부모보다 크다면 교환\n",
    "        heap[p], heap[c] = heap[c], heap[p]\n",
    "        c <- p  # 상위 레벨로 가기 위한 자식 인덱스 갱신\n",
    "        p <- c//2  # 부모 인덱스 갱신"
   ]
  },
  {
   "cell_type": "code",
   "execution_count": 22,
   "id": "3ae30423",
   "metadata": {
    "scrolled": true
   },
   "outputs": [
    {
     "name": "stdout",
     "output_type": "stream",
     "text": [
      "5\n",
      "15\n",
      "15\n",
      "20\n",
      "-----\n",
      "20\n",
      "15\n",
      "8\n",
      "5\n"
     ]
    }
   ],
   "source": [
    "# 최대 100개의 key\n",
    "# 최대힙\n",
    "\n",
    "def enq(n):\n",
    "    global last\n",
    "    last += 1  # 완전이진트리에 마지막 정점을 추가하고\n",
    "    heap[last] = n  # 마지막 정점에 저장\n",
    "    c = last  # 부모가 있고, 부모 > 자식보다 큰지 검토\n",
    "    p = c // 2\n",
    "    while p > 0 and heap[p] < heap[c]:\n",
    "        heap[p], heap[c] = heap[c], heap[p]\n",
    "        c = p  # 옮긴 자리에서 부모와 비교하기 위해\n",
    "        p = c//2\n",
    "    return\n",
    "\n",
    "def deq():\n",
    "    global last\n",
    "    tmp = heap[1]  # 루트 임시저장\n",
    "    heap[1] = heap[last]  # 마지막 정점의 값을 루트로 이동\n",
    "    last -= 1  # 마지막 정점 삭제\n",
    "    # 비교할 자식이 하나가 있을 수도, 두 개가 있을수도 있음\n",
    "    p = 1  # 루트를 부모로 설정\n",
    "    c = p * 2  # 일단 왼쪽 자식만 비교\n",
    "    while c <= last:  # 자식이 하나 이상 있으면 오른쪽 자식도 비교해보자 \n",
    "        #  (완전이진탐색이라 last값보다 c가 크면 트리인덱스에서 벗어남 = 없는 것)\n",
    "        if c+1 <= last and heap[c] < heap[c+1]:  # 오른쪽 자식도 있고 오른쪽 자식의 값이 더 크면\n",
    "            c += 1  # 비교 대상을 오른쪽자식으로 변경\n",
    "        if heap[c] > heap[p]: # 자식값이 부모값보다 크면\n",
    "            heap[c], heap[p] = heap[p], heap[c]\n",
    "            p = c\n",
    "            c = p * 2  # 더 내려가봐야함\n",
    "        else:  # 자식이 없으면 break\n",
    "            break\n",
    "    return tmp\n",
    "\n",
    "heap = [0] * 101  # 완전 이진트리 1번 - 100번 인덱스 준비\n",
    "last = 0\n",
    "\n",
    "enq(5)\n",
    "print(heap[1])\n",
    "enq(15)\n",
    "print(heap[1])\n",
    "enq(8)\n",
    "print(heap[1])\n",
    "enq(20)\n",
    "print(heap[1])\n",
    "print('-----')\n",
    "while last>0:\n",
    "    print(deq())"
   ]
  },
  {
   "cell_type": "markdown",
   "id": "937c3eb4",
   "metadata": {},
   "source": [
    "### 파이썬이 제공하는 heapq\n",
    "최소신장트리 / 다익스트라 알고리즘을 구현할 때 우선순위큐를 사용할 것"
   ]
  },
  {
   "cell_type": "code",
   "execution_count": 24,
   "id": "0d3c0e32",
   "metadata": {},
   "outputs": [
    {
     "name": "stdout",
     "output_type": "stream",
     "text": [
      "2 8 10 16 22 30 31 69 "
     ]
    }
   ],
   "source": [
    "from heapq import heappush, heappop\n",
    "# default는 최소힙\n",
    "data = [69, 10, 30, 2, 16, 8, 31, 22]\n",
    "\n",
    "heap = []\n",
    "for val in data:\n",
    "    heappush(heap, val)\n",
    "\n",
    "while heap:\n",
    "    print(heappop(heap), end=' ')"
   ]
  },
  {
   "cell_type": "code",
   "execution_count": 25,
   "id": "41dee6e0",
   "metadata": {},
   "outputs": [
    {
     "name": "stdout",
     "output_type": "stream",
     "text": [
      "69 31 30 22 16 10 8 2 "
     ]
    }
   ],
   "source": [
    "from heapq import heappush, heappop\n",
    "# 최대힙으로 하고 싶다면 \n",
    "data = [69, 10, 30, 2, 16, 8, 31, 22]\n",
    "\n",
    "heap = []\n",
    "for val in data:\n",
    "    heappush(heap, -val)  # data의 원소들에 음수를 곱하고\n",
    "\n",
    "while heap:\n",
    "    print(-heappop(heap), end=' ')  # 프린트할 때 다시 음수를 곱하기"
   ]
  },
  {
   "cell_type": "code",
   "execution_count": 26,
   "id": "9e17aabe",
   "metadata": {},
   "outputs": [
    {
     "name": "stdout",
     "output_type": "stream",
     "text": [
      "2\n",
      "8\n",
      "10\n",
      "16\n",
      "22\n",
      "30\n",
      "31\n",
      "69\n"
     ]
    }
   ],
   "source": [
    "from queue import PriorityQueue  # 생각보다 속도가 그리 빠르지 않음\n",
    "\n",
    "pq = PriorityQueue()  # 얘는 두 개의 메소드가 있음\n",
    "for val in data:\n",
    "    pq.put(val) # 넣을 때\n",
    "\n",
    "# 넣은 데이터를 쫘라락 출력하고 싶다면\n",
    "# while pq: <- pq는 리스트가 아니기 때문에 이런 식으로 쓰면 안됩니다 \n",
    "while not pq.empty():\n",
    "    print(pq.get())"
   ]
  },
  {
   "cell_type": "code",
   "execution_count": 27,
   "id": "517a0830",
   "metadata": {},
   "outputs": [
    {
     "name": "stdout",
     "output_type": "stream",
     "text": [
      "2\n",
      "8\n",
      "10\n",
      "16\n",
      "22\n",
      "30\n",
      "31\n",
      "69\n"
     ]
    }
   ],
   "source": [
    "from heapq import heappush, heappop, heapify\n",
    "data = [69, 10, 30, 2, 16, 8, 31, 22]\n",
    "heapify(data) # -> heapify로 데이터를 힙구조화\n",
    "\n",
    "while data:\n",
    "    print(heappop(data))"
   ]
  },
  {
   "cell_type": "code",
   "execution_count": null,
   "id": "9fb516c1",
   "metadata": {},
   "outputs": [],
   "source": []
  }
 ],
 "metadata": {
  "kernelspec": {
   "display_name": "Python 3 (ipykernel)",
   "language": "python",
   "name": "python3"
  },
  "language_info": {
   "codemirror_mode": {
    "name": "ipython",
    "version": 3
   },
   "file_extension": ".py",
   "mimetype": "text/x-python",
   "name": "python",
   "nbconvert_exporter": "python",
   "pygments_lexer": "ipython3",
   "version": "3.9.13"
  }
 },
 "nbformat": 4,
 "nbformat_minor": 5
}
