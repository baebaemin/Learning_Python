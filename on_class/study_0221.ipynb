{
 "cells": [
  {
   "cell_type": "markdown",
   "id": "a4575340",
   "metadata": {},
   "source": [
    "### Queue를 이용하여 마이쮸 나눠주기"
   ]
  },
  {
   "cell_type": "code",
   "execution_count": 24,
   "id": "7ead6ad9",
   "metadata": {},
   "outputs": [
    {
     "name": "stdout",
     "output_type": "stream",
     "text": [
      "0 1\n",
      "줄 선 사람: [1]\n",
      "남아있는 마이쮸: 20\n",
      "1 2\n",
      "줄 선 사람: [2]\n",
      "남아있는 마이쮸: 19\n",
      "1이 가져간 마이쮸 개수: 1\n",
      "1 3\n",
      "줄 선 사람: [3]\n",
      "남아있는 마이쮸: 17\n",
      "1이 가져간 마이쮸 개수: 2\n",
      "2 4\n",
      "줄 선 사람: [4]\n",
      "남아있는 마이쮸: 16\n",
      "2이 가져간 마이쮸 개수: 1\n",
      "1 5\n",
      "줄 선 사람: [5]\n",
      "남아있는 마이쮸: 13\n",
      "1이 가져간 마이쮸 개수: 3\n",
      "3 2\n",
      "줄 선 사람: [2]\n",
      "남아있는 마이쮸: 12\n",
      "3이 가져간 마이쮸 개수: 1\n",
      "1 2\n",
      "줄 선 사람: [2]\n",
      "남아있는 마이쮸: 8\n",
      "1이 가져간 마이쮸 개수: 4\n",
      "2 4\n",
      "줄 선 사람: [4]\n",
      "남아있는 마이쮸: 6\n",
      "2이 가져간 마이쮸 개수: 2\n",
      "1 5\n",
      "줄 선 사람: [5]\n",
      "남아있는 마이쮸: 1\n",
      "1이 가져간 마이쮸 개수: 5\n",
      "1 2\n",
      "줄 선 사람: [2]\n",
      "남아있는 마이쮸: -5\n",
      "1이 가져간 마이쮸 개수: 6\n",
      "마지막으로 마이쮸를 가져간 사람은 1\n"
     ]
    }
   ],
   "source": [
    "ppl_dict = {0:-1, 1:0, 2:0, 3:0, 4:0, 5:0}\n",
    "\n",
    "def enQueue(item):\n",
    "    global rear\n",
    "    rear += 1\n",
    "    Q[rear] = item\n",
    "\n",
    "def deQueue():\n",
    "    global front\n",
    "    front += 1\n",
    "    return Q[front]\n",
    "\n",
    "Q = [0] * 100\n",
    "front = rear = -1\n",
    "mychew = 20\n",
    "\n",
    "'''\n",
    "0 1 \n",
    "1 2\n",
    "1 3\n",
    "2 4\n",
    "1 5\n",
    "\n",
    "'''\n",
    "\n",
    "while mychew > 0:\n",
    "    ppl = list(map(int, input().split()))\n",
    "    ppl_dict[ppl[0]] += 1\n",
    "    enQueue(ppl[1])\n",
    "    deQueue()\n",
    "    mychew -= ppl_dict[ppl[0]]\n",
    "    print('줄 선 사람:', Q[front:rear+1])\n",
    "    print('남아있는 마이쮸:', mychew)\n",
    "    if not ppl[0]:\n",
    "        continue\n",
    "    print(f'{ppl[0]}이 가져간 마이쮸 개수:', ppl_dict[ppl[0]])\n",
    "print('마지막으로 마이쮸를 가져간 사람은', ppl[0])"
   ]
  },
  {
   "cell_type": "markdown",
   "id": "2c734252",
   "metadata": {},
   "source": [
    "### BFS(Breadth First Search)\n",
    "그래프를 탐색하는 방법에는 크게 두 가지가 있음\n",
    "* 깊이 우선 탐색(Depth First Search, DFS)\n",
    "* 너비 우선 탐색(Breadth First Search, BFS)\n",
    "* 인접한 정점 탐색 후, 차례로 다시 너비우선탐색을 진행해야하므로, 선입선출 형태의 자료구조인 큐를 활용\n",
    "\n",
    "BFS는 DFS에 비해 얽히고 섥힌게 좀 적어요<br>\n",
    "무조건 BFS는 스택을, DFS는 큐를 사용하는 것은 아님"
   ]
  },
  {
   "cell_type": "markdown",
   "id": "f356cf36",
   "metadata": {},
   "source": [
    "#### 초기상태\n",
    "* visited 배열 초기화\n",
    "* Q 생성\n",
    "* 시작점 enqueue"
   ]
  },
  {
   "cell_type": "markdown",
   "id": "bbfb4128",
   "metadata": {},
   "source": [
    "#### BFS 알고리즘\n",
    "입력파라미터: 그래프 G와 탐색 시작점 v"
   ]
  },
  {
   "cell_type": "code",
   "execution_count": null,
   "id": "c6bd2d45",
   "metadata": {},
   "outputs": [],
   "source": [
    "def BFS(G, v, n):  # 그래프 G, 탐색 시작점 v\n",
    "    visited = [0] * (n+1)  # n: 정점의 개수\n",
    "    queue = []  # 큐 생성\n",
    "    queue.append(v)  # 시작점 v를 큐에 삽입\n",
    "    visited[v] = 1  # 시작점 방문 표시 = > enqueue되었음을 표시\n",
    "    #enqueue하고 visited가 늘 쌍으로 있으면 중복 거를 수 있음\n",
    "    \n",
    "    while queue:\n",
    "        t = queue.pop(0)\n",
    "        visit(t)  # => 혹시 너 도착지니? 검증하는 것을 쓰면 됨\n",
    "        # 찾았으니 return 1을 해\n",
    "        for i in G[t]:\n",
    "            if not visited[i]:  # Q에 들어간 적 없는 애라면\n",
    "                queue.append(1)  # 인큐\n",
    "                visited[i] = visited[t] + 1  # t로부터 1만큼 이동\n",
    "    # 못찾았으면 return 0"
   ]
  },
  {
   "cell_type": "markdown",
   "id": "db32b7a6",
   "metadata": {},
   "source": [
    "#### 연습문제3\n",
    "\n",
    "7 8<br>\n",
    "1 2 1 3 2 4 2 5 4 6 5 6 6 7 3 7"
   ]
  },
  {
   "cell_type": "code",
   "execution_count": 40,
   "id": "da74156b",
   "metadata": {},
   "outputs": [
    {
     "name": "stdout",
     "output_type": "stream",
     "text": [
      "7 8\n",
      "1 2 1 3 2 4 2 5 4 6 5 6 6 7 3 7\n",
      "1 2 3 4 5 7 6 [0, 1, 2, 2, 5, 5, 4, 3]\n"
     ]
    }
   ],
   "source": [
    "def BFS(v, N):  # 탐색시작점v, 정점의개수n (= 마지막 정점(7))\n",
    "    visited = [0] * (N+1)  # visited 생성\n",
    "    queue = [v]  # Queue 생성, 시작점 인큐\n",
    "    visited[v] = 1  # visited에 시작점 표시\n",
    "    while queue:  # q가 비어있지 않으면\n",
    "        t = queue.pop(0)  # deQueue\n",
    "        print(t, end = ' ') # 방문순서 찍으라고 했으니까  ( t에서 처리할 일 )\n",
    "        for i in adjL[t]:  # t에 인접이고\n",
    "            if not visited[i]:  # 방문한 적 없는 i라면\n",
    "                queue.append(i)  # 인큐\n",
    "                visited[i] = visited[t] + 1  # t로부터의 거리값을 방문도장으로 찍기\n",
    "\n",
    "V, E = map(int, input().split())  # 정점의 개수V(7), 간선의 개수E(8)\n",
    "arr = list(map(int, input().split()))\n",
    "adjL = [[] for _ in range(V+1)]\n",
    "for i in range(E):  \n",
    "    n1, n2 = arr[i*2], arr[i*2+1]\n",
    "    adjL[n1].append(n2)\n",
    "    adjL[n2].append(n1)\n",
    "# adjL = [[], [2, 3], [1, 4, 5], [1, 7], [2, 6], [2, 6], [4, 5, 7], [6, 3]]\n",
    "\n",
    "BFS(1, V)  # 시작 정점(1)과 끝 정점(7)\n",
    "print(visited)"
   ]
  },
  {
   "cell_type": "markdown",
   "id": "73913abe",
   "metadata": {},
   "source": [
    "### BFS 활용 문제들\n",
    "* 경로유무\n",
    "* 결합 컴포넌트(Connected Component) => 모든 경로들이 다 이어져있는 것은 아님 <br>\n",
    "(EX. 7465.SWEA 창용 마을 무리의 개수 / 2667.BOJ 단지번호 붙이기)\n",
    "* 최단경로 찾기 \n",
    "    - 가중치가 없을 땐 BFS 사용. \n",
    "    - 가중치가 있을 땐 '다익스트라 알고리즘' 사용 \n",
    "    - 가중치가 음수일 땐 '벨만-포드 알고리즘' 사용\n",
    "* 너비우선탐색(BFS)보다 깊이우선탐색(DFS)가 더 좋을 때도 있음. <br>유향그래프라던지, 그래프 자체 안에 싸이클이 있다던지. 위상정렬 문제를 푼다던지 ... \n",
    "* 최단경로를 찾을 때 DFS를 사용하면 브루트포스 방식으로 모든 경로를 다 탐색해야하지만 BFS는 그렇지 않다."
   ]
  },
  {
   "cell_type": "code",
   "execution_count": null,
   "id": "92e5c479",
   "metadata": {},
   "outputs": [],
   "source": []
  }
 ],
 "metadata": {
  "kernelspec": {
   "display_name": "Python 3 (ipykernel)",
   "language": "python",
   "name": "python3"
  },
  "language_info": {
   "codemirror_mode": {
    "name": "ipython",
    "version": 3
   },
   "file_extension": ".py",
   "mimetype": "text/x-python",
   "name": "python",
   "nbconvert_exporter": "python",
   "pygments_lexer": "ipython3",
   "version": "3.9.13"
  }
 },
 "nbformat": 4,
 "nbformat_minor": 5
}
