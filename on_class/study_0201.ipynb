{
 "cells": [
  {
   "cell_type": "markdown",
   "id": "fad54183",
   "metadata": {},
   "source": [
    "## 버블 정렬"
   ]
  },
  {
   "cell_type": "code",
   "execution_count": 10,
   "id": "126875f7",
   "metadata": {
    "scrolled": true
   },
   "outputs": [
    {
     "name": "stdout",
     "output_type": "stream",
     "text": [
      "5\n",
      "3 30 29 54 1\n",
      "54 30 29 3 1\n"
     ]
    }
   ],
   "source": [
    "'''sudo code\n",
    "\n",
    "5\n",
    "55 7 78 12 42\n",
    "\n",
    "for i : N-1 -> 1 #각 구간의 끝\n",
    "    for j : 0 -> i-1 #비교할 왼쪽 원소\n",
    "        if arr[j] > arr[j+1]\n",
    "            arr[j] <-> arr[j+1] #큰 원소 오른쪽으로 \n",
    "'''\n",
    "\n",
    "N = int(input()) # 입력 크기 활용\n",
    "arr = list(map(int, input().split()))\n",
    "for i in range(N-1, 0, -1):\n",
    "    for j in range(i):\n",
    "        if arr[j] < arr[j+1]:\n",
    "            arr[j], arr[j+1] = arr[j+1], arr[j]\n",
    "print(*arr)"
   ]
  },
  {
   "cell_type": "markdown",
   "id": "411745da",
   "metadata": {},
   "source": [
    "---"
   ]
  },
  {
   "cell_type": "markdown",
   "id": "0776dcd9",
   "metadata": {},
   "source": [
    "---"
   ]
  },
  {
   "cell_type": "markdown",
   "id": "cb092565",
   "metadata": {},
   "source": [
    "## max() 쓰지 않고 최댓값 찾기"
   ]
  },
  {
   "cell_type": "code",
   "execution_count": 22,
   "id": "3a6c13de",
   "metadata": {
    "scrolled": true
   },
   "outputs": [
    {
     "name": "stdout",
     "output_type": "stream",
     "text": [
      "3\n",
      "5\n",
      "55 7 78 12 42\n",
      "#1 78\n",
      "6\n",
      "55 7 78 100 42 1\n",
      "#2 100\n",
      "7\n",
      "55 7 78 12 42 2 90\n",
      "#3 90\n"
     ]
    }
   ],
   "source": [
    "\"\"\"\n",
    "3\n",
    "5\n",
    "55 7 78 12 42\n",
    "6\n",
    "55 7 78 100 42 1\n",
    "7\n",
    "55 7 78 12 42 2 90\n",
    "\n",
    "가장 큰 값을 출력\n",
    "#1 78\n",
    "#2 100\n",
    "#3 90\n",
    "\"\"\"\n",
    "\n",
    "T = int(input())\n",
    "for tc in range(1, T+1):\n",
    "    N = int(input())\n",
    "    arr = list(map(int, input().split()))\n",
    "    maxV = arr[0]  # 첫 원소를 최대로 가정\n",
    "    for i in range(1, N):  # 나머지 원소와 비교\n",
    "        if maxV < arr[i]:\n",
    "            maxV = arr[i]\n",
    "    print(f'#{tc} {maxV}')\n"
   ]
  },
  {
   "cell_type": "code",
   "execution_count": 31,
   "id": "49f16209",
   "metadata": {
    "scrolled": true
   },
   "outputs": [
    {
     "name": "stdout",
     "output_type": "stream",
     "text": [
      "0 2 1 3\n",
      "1 0 0 1\n",
      "2 0 2 0\n",
      "3 2 2 2\n"
     ]
    },
    {
     "data": {
      "text/plain": [
       "[[0, 2, 1, 3], [1, 0, 0, 1], [2, 0, 2, 0], [3, 2, 2, 2]]"
      ]
     },
     "execution_count": 31,
     "metadata": {},
     "output_type": "execute_result"
    }
   ],
   "source": [
    "N = 4 \n",
    "table = [[0]] * N\n",
    "table\n",
    "\n",
    "for i in range(4):\n",
    "    table[i] = list(map(int, input().split()))\n",
    "\n",
    "x, y, area = map(int, input().split())"
   ]
  },
  {
   "cell_type": "markdown",
   "id": "fa46d1a7",
   "metadata": {},
   "source": [
    "### append와 extend의 차이"
   ]
  },
  {
   "cell_type": "code",
   "execution_count": 41,
   "id": "0c0d11c7",
   "metadata": {},
   "outputs": [
    {
     "data": {
      "text/plain": [
       "[0, 1, 2, [4, 5, 6], 'abc']"
      ]
     },
     "execution_count": 41,
     "metadata": {},
     "output_type": "execute_result"
    }
   ],
   "source": [
    "lst = [0, 1, 2]\n",
    "lst.append([4, 5, 6])\n",
    "lst.append('abc')\n",
    "lst"
   ]
  },
  {
   "cell_type": "code",
   "execution_count": 42,
   "id": "fb18a125",
   "metadata": {},
   "outputs": [
    {
     "data": {
      "text/plain": [
       "[0, 1, 2, 4, 5, 6, 'a', 'b', 'c']"
      ]
     },
     "execution_count": 42,
     "metadata": {},
     "output_type": "execute_result"
    }
   ],
   "source": [
    "lst = [0, 1, 2]\n",
    "lst.extend([4, 5, 6])\n",
    "lst.extend('abc')\n",
    "lst"
   ]
  },
  {
   "cell_type": "markdown",
   "id": "6637f747",
   "metadata": {},
   "source": [
    "## 카운팅 정렬\n",
    "정수 항목으로 인덱스되는 카운트들이라면 딕셔너리에 카운팅하지 않고 리스트로도 카운팅할 수 있다!"
   ]
  },
  {
   "cell_type": "code",
   "execution_count": null,
   "id": "7119b419",
   "metadata": {},
   "outputs": [],
   "source": []
  },
  {
   "cell_type": "code",
   "execution_count": 48,
   "id": "432f195d",
   "metadata": {
    "scrolled": true
   },
   "outputs": [
    {
     "name": "stdout",
     "output_type": "stream",
     "text": [
      "[0, 1, 1, 1, 2, 3, 4, 4]\n"
     ]
    }
   ],
   "source": [
    "A = [0, 4, 1, 3, 1, 2, 4, 1]\n",
    "K = 4  # 자료의 최대값\n",
    "C = [0] * (K + 1)  # 마지막 index=K\n",
    "\n",
    "for val in A:\n",
    "    C[val] += 1\n",
    "\n",
    "B = []\n",
    "\n",
    "    # 이렇게도 쓸 수 있다 1\n",
    "for idx, val in enumerate(C):\n",
    "    for _ in range(val):\n",
    "        B.append(idx)\n",
    "print(B)"
   ]
  },
  {
   "cell_type": "code",
   "execution_count": 51,
   "id": "5ddcb13f",
   "metadata": {},
   "outputs": [
    {
     "name": "stdout",
     "output_type": "stream",
     "text": [
      "[0, 1, 1, 1, 2, 3, 4, 4]\n"
     ]
    }
   ],
   "source": [
    "# 이렇게도 쓸 수 있다 2: for문 하나 덜 쓰기\n",
    "\n",
    "B = []\n",
    "for idx, val in enumerate(C):\n",
    "    B.extend([idx] * val)\n",
    "print(B)"
   ]
  },
  {
   "cell_type": "code",
   "execution_count": 2,
   "id": "2613ac7b",
   "metadata": {},
   "outputs": [
    {
     "name": "stdout",
     "output_type": "stream",
     "text": [
      "[1, 0, 1, 2, 1, 2, 1, 1]\n"
     ]
    }
   ],
   "source": [
    "a_list = [7, 2, 5, 0, 3, 4, 6, 3, 5]  # 0부터 7까지\n",
    "cnt_lst = [0] * 8\n",
    "\n",
    "for i in a_list:\n",
    "    cnt_lst[i] += 1  # 7이 a_lst에 있다면 cnt_lst의 인덱스7에 1을 추가\n",
    "print(cnt_lst)"
   ]
  },
  {
   "cell_type": "code",
   "execution_count": 7,
   "id": "51c21327",
   "metadata": {
    "scrolled": false
   },
   "outputs": [
    {
     "name": "stdout",
     "output_type": "stream",
     "text": [
      "[1, 3, 1, 1, 2]\n"
     ]
    }
   ],
   "source": [
    "data = [0, 4, 1, 3, 1, 2, 4, 1]  # 0부터 4까지\n",
    "cnt_lst = [0] * 5\n",
    "\n",
    "for i in data:\n",
    "    cnt_lst[i] += 1\n",
    "print(cnt_lst)"
   ]
  },
  {
   "cell_type": "markdown",
   "id": "3bd6e1f2",
   "metadata": {},
   "source": [
    "[1, 3, 1, 1, 2] = 시간복잡도의 k\n",
    "\n",
    "0이 1개, 1이 3개, 2가 1개 있다는 뜻.."
   ]
  },
  {
   "cell_type": "markdown",
   "id": "68c7d240",
   "metadata": {},
   "source": [
    "### 카운팅 정렬 과정\n"
   ]
  },
  {
   "cell_type": "markdown",
   "id": "0469a005",
   "metadata": {},
   "source": [
    "시퀀셜: 위에서 저장했던 cnt_lst에서 각 항목의 앞에 위치한 항목의 개수를 반영하기위해 counts의 원소 조정하기"
   ]
  },
  {
   "cell_type": "code",
   "execution_count": 8,
   "id": "5fb5a19b",
   "metadata": {
    "scrolled": true
   },
   "outputs": [
    {
     "name": "stdout",
     "output_type": "stream",
     "text": [
      "[1, 4, 5, 6, 8]\n"
     ]
    }
   ],
   "source": [
    "for i in range(1, len(cnt_lst)):\n",
    "    cnt_lst[i] = cnt_lst[i-1] + cnt_lst[i]\n",
    "print(cnt_lst)  #"
   ]
  },
  {
   "cell_type": "markdown",
   "id": "82c9047e",
   "metadata": {},
   "source": [
    "0이 1개, 1까지 4개, 2까지 5개 있다는 뜻.."
   ]
  },
  {
   "cell_type": "markdown",
   "id": "6f328ebd",
   "metadata": {},
   "source": [
    "1. data의 마지막 원소부터 거꾸로 내려오면서 (뒤에서 부터 읽어서 뒤에서 채우면 안정정렬이 됩니다. 안정정렬은 값이 같은 경우 정렬되기 전의 순서가 정렬후에도 유지됩니다.)\n",
    "2. cnt_lst 에서 맨 마지막 원소의 인덱스 자리로 찾아가서 데이터 확인\n",
    "3. 해당 데이터에서 1을 감소시키고, temp_lst의 해당 데이터를 인덱스로 활용하여 data의 원소를 넣음"
   ]
  },
  {
   "cell_type": "markdown",
   "id": "1b6d463d",
   "metadata": {},
   "source": [
    "data [0, 4, 1, 3, 1, 2, 4, 1] 의 1을 \n",
    "\n",
    "cnt_lst [1, 4, 5, 6, 8]에서 cnt_lst[1]에 넣어 해당 원소가 '4'임을 확인\n",
    "\n",
    "cnt_lst[1]에서 -1을 하고, temp list의 cnt_lst[1]의 원소였던 '4'의 자리인 temp[4-1]에 data의 1을 넣음"
   ]
  },
  {
   "cell_type": "code",
   "execution_count": null,
   "id": "438069c1",
   "metadata": {},
   "outputs": [],
   "source": [
    "def Counting_Sort(A, B, k)\n",
    "# A [] -- 입력 배열(0 to k)\n",
    "# B [] -- 정렬된 배열 (TEMP)\n",
    "# C [] -- 카운트 배열\n",
    "\n",
    "    #  카운트배열 규모 설정하기\n",
    "C = [0] * (k+1) \n",
    "    # k = max(A). 마지막 숫자보다 하나 커야한다! 0부터 시작할거니까~\n",
    "\n",
    "    # 카운트배열 만들기\n",
    "for i in A:\n",
    "    C[A[i]] += 1\n",
    "\n",
    "for i in range(1, len(C)):\n",
    "    C[i] += C[i-1]\n",
    "    \n",
    "for i in range(len(B)-1, -1, -1):\n",
    "    C[A[i]] -= 1\n",
    "    B[C[A[i]]] = A[i]"
   ]
  },
  {
   "cell_type": "markdown",
   "id": "4c131be1",
   "metadata": {},
   "source": [
    "### 단순하게 순열을 생성하는 방법"
   ]
  },
  {
   "cell_type": "code",
   "execution_count": 14,
   "id": "a78847dc",
   "metadata": {
    "scrolled": true
   },
   "outputs": [
    {
     "name": "stdout",
     "output_type": "stream",
     "text": [
      "1 2 3\n",
      "1 3 2\n",
      "2 1 3\n",
      "2 3 1\n",
      "3 1 2\n",
      "3 2 1\n"
     ]
    }
   ],
   "source": [
    "# {1, 2, 3}을 포함하는 모든 순열을 생성하는 함수\n",
    "\n",
    "for i1 in range(1, 4):\n",
    "    for i2 in range(1, 4):\n",
    "        if i2 != i1:\n",
    "            for i3 in range(1, 4):\n",
    "                if i3 != i1 and i3 != i2:\n",
    "                    print(i1, i2, i3)"
   ]
  },
  {
   "cell_type": "markdown",
   "id": "06be4a40",
   "metadata": {},
   "source": [
    "### 탐욕(Greedy) 알고리즘"
   ]
  },
  {
   "cell_type": "markdown",
   "id": "6ee32198",
   "metadata": {},
   "source": [
    "* 최적해를 구하는 데 사용되는 근시안적인 방법\n",
    "* 하나를 결정해야 할 때마다 그 순간에 최적이라고 생각되는 것을 선택\n",
    "* 지역적으로는 최적이지만 최종 해답이 최적이라는 보장은 없다.\n",
    "* 일반적으로, 머릿속에 떠오르는 생각을 검증없이 구현하면 Greedy가 된다."
   ]
  },
  {
   "cell_type": "markdown",
   "id": "d1f517ce",
   "metadata": {},
   "source": [
    "#### baby-gin "
   ]
  },
  {
   "cell_type": "code",
   "execution_count": 17,
   "id": "0bf4d149",
   "metadata": {
    "scrolled": true
   },
   "outputs": [
    {
     "name": "stdout",
     "output_type": "stream",
     "text": [
      "[0, 0, 0, 0, 1, 1, 1, 1, 1, 1, 0, 0]\n"
     ]
    }
   ],
   "source": [
    "num = 456789  # Baby Gin 확인할 6자리 수\n",
    "c = [0] * 12  #6자리 수로부터 각 자리 수를 추출하여 개수를 누적할 리스트\n",
    "# 10자리가 필요한데 왜 12를 곱하지? => triplet과 run 검사 여부를 c[10]과 c[11]에 저장할 예정\n",
    "\n",
    "for i in range(6):\n",
    "    c[num % 10] += 1  # 우왕... 스플릿 쪼개고 int로 만들어서 원소로 추출하지 않아도 된다\n",
    "    num //= 10   # 헐... 마지막 자리수 삭제하기\n",
    "print(c)"
   ]
  },
  {
   "cell_type": "code",
   "execution_count": 20,
   "id": "067826af",
   "metadata": {},
   "outputs": [
    {
     "name": "stdout",
     "output_type": "stream",
     "text": [
      "[3, 0, 1, 1, 0, 1, 0, 0, 2, 2]\n"
     ]
    }
   ],
   "source": [
    "# 연습\n",
    "num = 29380985\n",
    "lst = [0] * 10\n",
    "\n",
    "for i in range(10):\n",
    "    lst[num % 10] += 1\n",
    "    num //= 10\n",
    "print(lst)"
   ]
  },
  {
   "cell_type": "code",
   "execution_count": null,
   "id": "e9d47ebd",
   "metadata": {},
   "outputs": [],
   "source": [
    "num = 456789\n",
    "c = [0] * 12\n",
    "\n",
    "for i in range(6):\n",
    "    c[num % 10] += 1\n",
    "    num //= 10\n",
    "\n",
    "i = 0\n",
    "tri = run = 0\n",
    "while i < 10:\n",
    "    if c[i] >= 3:\n",
    "        c[i] -= 3 # triplet 조사 후 데이터 삭제\n",
    "        tri += 1\n",
    "        continue;  # 밑의 if문 건너뛰기\n",
    "    if c[i] >= 1 and c[i+1] >= 1 and c[i+2] >= 1:\n",
    "        c[i] -= 1  # run 조사 후 데이터 삭제\n",
    "        c[i+1] -= 1\n",
    "        c[i+2] -= 1\n",
    "        run += 1\n",
    "        continue  # i값 증가시키지 않게 continue.\n",
    "    i += 1\n",
    "\n",
    "if run + tri == 2 : print(\"baby gin\")\n",
    "    else: print(\"lose\")"
   ]
  }
 ],
 "metadata": {
  "kernelspec": {
   "display_name": "Python 3 (ipykernel)",
   "language": "python",
   "name": "python3"
  },
  "language_info": {
   "codemirror_mode": {
    "name": "ipython",
    "version": 3
   },
   "file_extension": ".py",
   "mimetype": "text/x-python",
   "name": "python",
   "nbconvert_exporter": "python",
   "pygments_lexer": "ipython3",
   "version": "3.9.13"
  }
 },
 "nbformat": 4,
 "nbformat_minor": 5
}
