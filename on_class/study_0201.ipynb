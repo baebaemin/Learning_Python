{
 "cells": [
  {
   "cell_type": "markdown",
   "id": "fad54183",
   "metadata": {},
   "source": [
    "## 버블 정렬"
   ]
  },
  {
   "cell_type": "code",
   "execution_count": 10,
   "id": "126875f7",
   "metadata": {
    "scrolled": true
   },
   "outputs": [
    {
     "name": "stdout",
     "output_type": "stream",
     "text": [
      "5\n",
      "3 30 29 54 1\n",
      "54 30 29 3 1\n"
     ]
    }
   ],
   "source": [
    "'''sudo code\n",
    "\n",
    "5\n",
    "55 7 78 12 42\n",
    "\n",
    "for i : N-1 -> 1 #각 구간의 끝\n",
    "    for j : 0 -> i-1 #비교할 왼쪽 원소\n",
    "        if arr[j] > arr[j+1]\n",
    "            arr[j] <-> arr[j+1] #큰 원소 오른쪽으로 \n",
    "'''\n",
    "\n",
    "N = int(input()) # 입력 크기 활용\n",
    "arr = list(map(int, input().split()))\n",
    "for i in range(N-1, 0, -1):\n",
    "    for j in range(i):\n",
    "        if arr[j] < arr[j+1]:\n",
    "            arr[j], arr[j+1] = arr[j+1], arr[j]\n",
    "print(*arr)"
   ]
  },
  {
   "cell_type": "markdown",
   "id": "cb092565",
   "metadata": {},
   "source": [
    "## max() 쓰지 않고 최댓값 찾기"
   ]
  },
  {
   "cell_type": "code",
   "execution_count": null,
   "id": "3fcb6352",
   "metadata": {},
   "outputs": [],
   "source": [
    "\"\"\"\n",
    "3\n",
    "5\n",
    "55 7 78 12 42\n",
    "6\n",
    "55 7 78 100 42 1\n",
    "7\n",
    "55 7 78 12 42 2 90\n",
    "\n",
    "가장 큰 값을 출력\n",
    "#1 78\n",
    "#2 100\n",
    "#3 90\n",
    "\"\"\"\n",
    "\n",
    "T = int(input())\n",
    "for tc in range(1, T+1):\n",
    "    N = int(input())\n",
    "    arr = list(map(int, input().split()))\n",
    "    maxV = arr[0]  # 첫 원소를 최대로 가정\n",
    "    for i in range(1, N):  # 나머지 원소와 비교\n",
    "        if maxV < arr[i]:\n",
    "            maxV = arr[i]\n",
    "    print(f'#{tc} {maxV}')\n"
   ]
  }
 ],
 "metadata": {
  "kernelspec": {
   "display_name": "Python 3 (ipykernel)",
   "language": "python",
   "name": "python3"
  },
  "language_info": {
   "codemirror_mode": {
    "name": "ipython",
    "version": 3
   },
   "file_extension": ".py",
   "mimetype": "text/x-python",
   "name": "python",
   "nbconvert_exporter": "python",
   "pygments_lexer": "ipython3",
   "version": "3.9.13"
  }
 },
 "nbformat": 4,
 "nbformat_minor": 5
}
