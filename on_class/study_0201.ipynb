{
 "cells": [
  {
   "cell_type": "code",
   "execution_count": 71,
   "id": "5d0448d6",
   "metadata": {},
   "outputs": [
    {
     "name": "stdout",
     "output_type": "stream",
     "text": [
      "안녕\n",
      "피자를 냠냠\n",
      "치킨를 냠냠\n"
     ]
    },
    {
     "ename": "TypeError",
     "evalue": "talk() missing 1 required positional argument: 'self'",
     "output_type": "error",
     "traceback": [
      "\u001b[0;31m---------------------------------------------------------------------------\u001b[0m",
      "\u001b[0;31mTypeError\u001b[0m                                 Traceback (most recent call last)",
      "\u001b[0;32m/var/folders/st/xn4zymjs2cn483djkv6p3vbr0000gn/T/ipykernel_89384/175984405.py\u001b[0m in \u001b[0;36m<module>\u001b[0;34m\u001b[0m\n\u001b[1;32m     14\u001b[0m \u001b[0mperson1\u001b[0m\u001b[0;34m.\u001b[0m\u001b[0meat\u001b[0m\u001b[0;34m(\u001b[0m\u001b[0;34m'피자'\u001b[0m\u001b[0;34m)\u001b[0m \u001b[0;31m# 피자를 냠냠\u001b[0m\u001b[0;34m\u001b[0m\u001b[0;34m\u001b[0m\u001b[0m\n\u001b[1;32m     15\u001b[0m \u001b[0mperson1\u001b[0m\u001b[0;34m.\u001b[0m\u001b[0meat\u001b[0m\u001b[0;34m(\u001b[0m\u001b[0;34m'치킨'\u001b[0m\u001b[0;34m)\u001b[0m \u001b[0;31m# 피자를 냠냠\u001b[0m\u001b[0;34m\u001b[0m\u001b[0;34m\u001b[0m\u001b[0m\n\u001b[0;32m---> 16\u001b[0;31m \u001b[0mPerson\u001b[0m\u001b[0;34m.\u001b[0m\u001b[0mtalk\u001b[0m\u001b[0;34m(\u001b[0m\u001b[0;34m)\u001b[0m\u001b[0;34m\u001b[0m\u001b[0;34m\u001b[0m\u001b[0m\n\u001b[0m",
      "\u001b[0;31mTypeError\u001b[0m: talk() missing 1 required positional argument: 'self'"
     ]
    }
   ],
   "source": [
    "class Person:\n",
    "    \n",
    "    # __init__이 없어도 내장되어있음 \n",
    "    # 새로 인스턴스를 만들 때 뭔가 하고싶다면 나만의 방식으로 적어야 함\n",
    "    \n",
    "    def talk(self): # 인스턴스 메서드\n",
    "        print('안녕')\n",
    "    \n",
    "    def eat(self, food):\n",
    "        print(f'{food}를 냠냠')\n",
    "\n",
    "person1 = Person()\n",
    "person1.talk() # 안녕\n",
    "person1.eat('피자') # 피자를 냠냠\n",
    "person1.eat('치킨') # 피자를 냠냠\n",
    "Person.talk()"
   ]
  },
  {
   "cell_type": "code",
   "execution_count": 69,
   "id": "0b944763",
   "metadata": {},
   "outputs": [
    {
     "data": {
      "text/plain": [
       "False"
      ]
     },
     "execution_count": 69,
     "metadata": {},
     "output_type": "execute_result"
    }
   ],
   "source": [
    "a = 10\n",
    "b = a # b는 a의 값과 동일한 데이터를 독립적으로 저장하게 됨\n",
    "b = 3\n",
    "a, b # 10, 3\n",
    "a == b\n"
   ]
  },
  {
   "cell_type": "code",
   "execution_count": 68,
   "id": "469dd41f",
   "metadata": {},
   "outputs": [
    {
     "name": "stdout",
     "output_type": "stream",
     "text": [
      "[100, 2, 3, 4]\n",
      "[100, 2, 3, 4]\n"
     ]
    },
    {
     "data": {
      "text/plain": [
       "True"
      ]
     },
     "execution_count": 68,
     "metadata": {},
     "output_type": "execute_result"
    }
   ],
   "source": [
    "a = [1, 2, 3, 4]\n",
    "b = a\n",
    "b[0] = 100\n",
    "\n",
    "print(a) # [100, 2, 3, 4]\n",
    "print(b) # [100, 2, 3, 4]\n",
    "\n",
    "a == b  # True => a와 b의 id값이 같음\n",
    "a is b \n"
   ]
  },
  {
   "cell_type": "code",
   "execution_count": 67,
   "id": "f0d0b2ae",
   "metadata": {},
   "outputs": [
    {
     "ename": "TypeError",
     "evalue": "unsupported operand type(s) for +: 'set' and 'set'",
     "output_type": "error",
     "traceback": [
      "\u001b[0;31m---------------------------------------------------------------------------\u001b[0m",
      "\u001b[0;31mTypeError\u001b[0m                                 Traceback (most recent call last)",
      "\u001b[0;32m/var/folders/st/xn4zymjs2cn483djkv6p3vbr0000gn/T/ipykernel_89384/1102287397.py\u001b[0m in \u001b[0;36m<module>\u001b[0;34m\u001b[0m\n\u001b[0;32m----> 1\u001b[0;31m \u001b[0;34m{\u001b[0m\u001b[0ma\u001b[0m\u001b[0;34m,\u001b[0m \u001b[0mb\u001b[0m\u001b[0;34m,\u001b[0m \u001b[0mc\u001b[0m\u001b[0;34m}\u001b[0m \u001b[0;34m+\u001b[0m \u001b[0;34m{\u001b[0m\u001b[0md\u001b[0m\u001b[0;34m}\u001b[0m\u001b[0;34m\u001b[0m\u001b[0;34m\u001b[0m\u001b[0m\n\u001b[0m",
      "\u001b[0;31mTypeError\u001b[0m: unsupported operand type(s) for +: 'set' and 'set'"
     ]
    }
   ],
   "source": [
    "{a, b, c} + {d}"
   ]
  },
  {
   "cell_type": "code",
   "execution_count": 65,
   "id": "b98675ed",
   "metadata": {},
   "outputs": [
    {
     "ename": "KeyError",
     "evalue": "0",
     "output_type": "error",
     "traceback": [
      "\u001b[0;31m---------------------------------------------------------------------------\u001b[0m",
      "\u001b[0;31mKeyError\u001b[0m                                  Traceback (most recent call last)",
      "\u001b[0;32m/var/folders/st/xn4zymjs2cn483djkv6p3vbr0000gn/T/ipykernel_89384/270179542.py\u001b[0m in \u001b[0;36m<module>\u001b[0;34m\u001b[0m\n\u001b[1;32m      1\u001b[0m \u001b[0mmy_dict\u001b[0m \u001b[0;34m=\u001b[0m \u001b[0;34m{\u001b[0m\u001b[0;34m'a'\u001b[0m\u001b[0;34m:\u001b[0m \u001b[0;36m11\u001b[0m\u001b[0;34m,\u001b[0m \u001b[0;34m'b'\u001b[0m\u001b[0;34m:\u001b[0m \u001b[0;36m2\u001b[0m\u001b[0;34m,\u001b[0m \u001b[0;34m'c'\u001b[0m\u001b[0;34m:\u001b[0m \u001b[0;36m3\u001b[0m\u001b[0;34m}\u001b[0m\u001b[0;34m\u001b[0m\u001b[0;34m\u001b[0m\u001b[0m\n\u001b[0;32m----> 2\u001b[0;31m \u001b[0mmy_dict\u001b[0m\u001b[0;34m[\u001b[0m\u001b[0;36m0\u001b[0m\u001b[0;34m]\u001b[0m\u001b[0;34m\u001b[0m\u001b[0;34m\u001b[0m\u001b[0m\n\u001b[0m\u001b[1;32m      3\u001b[0m \u001b[0;31m# new_dict = sorted(my_dict, key=lambda x: x[0] for i in )\u001b[0m\u001b[0;34m\u001b[0m\u001b[0;34m\u001b[0m\u001b[0m\n\u001b[1;32m      4\u001b[0m \u001b[0;31m# new_dict\u001b[0m\u001b[0;34m\u001b[0m\u001b[0;34m\u001b[0m\u001b[0m\n",
      "\u001b[0;31mKeyError\u001b[0m: 0"
     ]
    }
   ],
   "source": [
    "my_dict = {'a': 11, 'b': 2, 'c': 3}\n",
    "my_dict[0]\n",
    "# new_dict = sorted(my_dict, key=lambda x: x[0] for i in )\n",
    "# new_dict"
   ]
  },
  {
   "cell_type": "code",
   "execution_count": 61,
   "id": "c1f5ef0b",
   "metadata": {},
   "outputs": [
    {
     "data": {
      "text/plain": [
       "[1, 3]"
      ]
     },
     "execution_count": 61,
     "metadata": {},
     "output_type": "execute_result"
    }
   ],
   "source": [
    "number = [1, 2, 3]\n",
    "odd = [a for a in filter(lambda x: x % 2, number)]\n",
    "odd\n"
   ]
  },
  {
   "cell_type": "code",
   "execution_count": 50,
   "id": "fcab6b69",
   "metadata": {},
   "outputs": [
    {
     "data": {
      "text/plain": [
       "32"
      ]
     },
     "execution_count": 50,
     "metadata": {},
     "output_type": "execute_result"
    }
   ],
   "source": [
    "ord('a') - ord('A')"
   ]
  },
  {
   "cell_type": "code",
   "execution_count": 51,
   "id": "2325553c",
   "metadata": {},
   "outputs": [
    {
     "data": {
      "text/plain": [
       "'ssafyhappy'"
      ]
     },
     "execution_count": 51,
     "metadata": {},
     "output_type": "execute_result"
    }
   ],
   "source": [
    "data = 'SsAfyHapPy'\n",
    "result = ''\n",
    "for ch in data:\n",
    "    if 'A' <= ch <= 'Z':  # 대문자라면\n",
    "        #result += chr(ord('a') + ord(ch) - ord('A'))  => 97 + ch의 아스키넘버 - 65\n",
    "        result += chr(32 + ord(ch))  # 32 + 대문자 아스키넘버\n",
    "    else:\n",
    "        result += ch\n",
    "result"
   ]
  },
  {
   "cell_type": "code",
   "execution_count": 44,
   "id": "d85050f8",
   "metadata": {},
   "outputs": [
    {
     "data": {
      "text/plain": [
       "True"
      ]
     },
     "execution_count": 44,
     "metadata": {},
     "output_type": "execute_result"
    }
   ],
   "source": [
    "user_data = '1abc'\n",
    " \n",
    "'0' <= user_data[0] <= '9'\n",
    "# 아스키코드 크기의 범위값으로 문자 유무를 판별할 수 있다."
   ]
  },
  {
   "cell_type": "code",
   "execution_count": 42,
   "id": "99e4fb4d",
   "metadata": {},
   "outputs": [
    {
     "name": "stdout",
     "output_type": "stream",
     "text": [
      "<generator object <genexpr> at 0x7fd4cb807d60>\n"
     ]
    }
   ],
   "source": [
    "my_dict = {'a': 1, 'b': 2, 'c': 3}\n",
    "other_dict = (lambda x: x for i in my_dict)\n",
    "print(other_dict)"
   ]
  },
  {
   "cell_type": "code",
   "execution_count": 24,
   "id": "0393c175",
   "metadata": {},
   "outputs": [
    {
     "name": "stdout",
     "output_type": "stream",
     "text": [
      "{0: 1, 1: 8, 2: 27}\n"
     ]
    }
   ],
   "source": [
    "cubic_dict = {number: val ** 3 for number, val in enumerate(range(1, 4))}\n",
    "print(cubic_dict)"
   ]
  },
  {
   "cell_type": "code",
   "execution_count": 15,
   "id": "7d1fc9c8",
   "metadata": {
    "scrolled": true
   },
   "outputs": [
    {
     "name": "stdout",
     "output_type": "stream",
     "text": [
      "1 2 3 4 5 6 7 8 9 10\n"
     ]
    }
   ],
   "source": [
    "a = map(lambda x: x + 1, range(10))\n",
    "print(*a)"
   ]
  },
  {
   "cell_type": "code",
   "execution_count": 10,
   "id": "3cd20e97",
   "metadata": {},
   "outputs": [
    {
     "data": {
      "text/plain": [
       "10"
      ]
     },
     "execution_count": 10,
     "metadata": {},
     "output_type": "execute_result"
    }
   ],
   "source": [
    "y = 30 \n",
    "sub = (lambda x: x - y) # 바깥의 변수도 사용 가능\n",
    "sub(40)"
   ]
  },
  {
   "cell_type": "code",
   "execution_count": 8,
   "id": "dd7037b5",
   "metadata": {
    "scrolled": false
   },
   "outputs": [
    {
     "data": {
      "text/plain": [
       "1.0"
      ]
     },
     "execution_count": 8,
     "metadata": {},
     "output_type": "execute_result"
    }
   ],
   "source": [
    "2 / 2"
   ]
  },
  {
   "cell_type": "code",
   "execution_count": 7,
   "id": "9096a976",
   "metadata": {},
   "outputs": [
    {
     "data": {
      "text/plain": [
       "5.0"
      ]
     },
     "execution_count": 7,
     "metadata": {},
     "output_type": "execute_result"
    }
   ],
   "source": [
    "True + 4.0"
   ]
  },
  {
   "cell_type": "code",
   "execution_count": 5,
   "id": "57779320",
   "metadata": {},
   "outputs": [
    {
     "name": "stdout",
     "output_type": "stream",
     "text": [
      "(1, 2, 3) <class 'tuple'>\n",
      "1 2 <class 'int'>\n"
     ]
    }
   ],
   "source": [
    "a = 1, 2, 3\n",
    "print(a, type(a))\n",
    "b, c, d = a\n",
    "print(b, c, type(d))"
   ]
  },
  {
   "cell_type": "code",
   "execution_count": 19,
   "id": "e4f99a81",
   "metadata": {},
   "outputs": [
    {
     "data": {
      "text/plain": [
       "[1, 3, 4, 5, 6, 7]"
      ]
     },
     "execution_count": 19,
     "metadata": {},
     "output_type": "execute_result"
    }
   ],
   "source": [
    "a = [1, 2, 3, 4, 5, 6, 7]\n",
    "del a[1]\n",
    "a"
   ]
  },
  {
   "cell_type": "code",
   "execution_count": 20,
   "id": "f73f2948",
   "metadata": {},
   "outputs": [
    {
     "data": {
      "text/plain": [
       "[2, 1, 4, 5, 6, 7]"
      ]
     },
     "execution_count": 20,
     "metadata": {},
     "output_type": "execute_result"
    }
   ],
   "source": [
    "a = [1, 2, 1, 4, 5, 6, 7]\n",
    "a.remove(1) \n",
    "a"
   ]
  },
  {
   "cell_type": "markdown",
   "id": "fad54183",
   "metadata": {},
   "source": [
    "## 버블 정렬"
   ]
  },
  {
   "cell_type": "code",
   "execution_count": 10,
   "id": "126875f7",
   "metadata": {
    "scrolled": true
   },
   "outputs": [
    {
     "name": "stdout",
     "output_type": "stream",
     "text": [
      "5\n",
      "3 30 29 54 1\n",
      "54 30 29 3 1\n"
     ]
    }
   ],
   "source": [
    "'''pseudo code\n",
    "\n",
    "5\n",
    "55 7 78 12 42\n",
    "\n",
    "for i : N-1 -> 1 #각 구간의 끝\n",
    "    for j : 0 -> i-1 #비교할 왼쪽 원소\n",
    "        if arr[j] > arr[j+1]\n",
    "            arr[j] <-> arr[j+1] #큰 원소 오른쪽으로 \n",
    "'''\n",
    "\n",
    "N = int(input()) # 입력 크기 활용\n",
    "arr = list(map(int, input().split()))\n",
    "for i in range(N-1, 0, -1):\n",
    "    for j in range(i):\n",
    "        if arr[j] < arr[j+1]:\n",
    "            arr[j], arr[j+1] = arr[j+1], arr[j]\n",
    "print(*arr)"
   ]
  },
  {
   "cell_type": "markdown",
   "id": "cb092565",
   "metadata": {},
   "source": [
    "## max() 쓰지 않고 최댓값 찾기"
   ]
  },
  {
   "cell_type": "code",
   "execution_count": null,
   "id": "3fcb6352",
   "metadata": {},
   "outputs": [],
   "source": [
    "\"\"\"\n",
    "3\n",
    "5\n",
    "55 7 78 12 42\n",
    "6\n",
    "55 7 78 100 42 1\n",
    "7\n",
    "55 7 78 12 42 2 90\n",
    "\n",
    "가장 큰 값을 출력\n",
    "#1 78\n",
    "#2 100\n",
    "#3 90\n",
    "\"\"\"\n",
    "\n",
    "T = int(input())\n",
    "for tc in range(1, T+1):\n",
    "    N = int(input())\n",
    "    arr = list(map(int, input().split()))\n",
    "    maxV = arr[0]  # 첫 원소를 최대로 가정\n",
    "    for i in range(1, N):  # 나머지 원소와 비교\n",
    "        if maxV < arr[i]:\n",
    "            maxV = arr[i]\n",
    "    print(f'#{tc} {maxV}')\n"
   ]
  }
 ],
 "metadata": {
  "kernelspec": {
   "display_name": "Python 3 (ipykernel)",
   "language": "python",
   "name": "python3"
  },
  "language_info": {
   "codemirror_mode": {
    "name": "ipython",
    "version": 3
   },
   "file_extension": ".py",
   "mimetype": "text/x-python",
   "name": "python",
   "nbconvert_exporter": "python",
   "pygments_lexer": "ipython3",
   "version": "3.9.13"
  }
 },
 "nbformat": 4,
 "nbformat_minor": 5
}
