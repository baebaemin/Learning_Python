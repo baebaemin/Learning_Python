{
 "cells": [
  {
   "cell_type": "markdown",
   "id": "9d4bfa01",
   "metadata": {},
   "source": [
    "### | 트리 순회 연습\n",
    "* 전/중/후위 순회\n",
    "* 트리의 높이를 계산\n",
    "* n이 루트인 트리의 높이\n",
    "* 특정 높이에 해당하는 노드들 개수 구하기\n",
    "* 특정 노드가 루트인 트리의 전체 노드수를 계산 (후위계산)\n",
    "* 두 개의 노드의 공통 조상을  ( 최소 공통 조상 LCA )"
   ]
  },
  {
   "cell_type": "markdown",
   "id": "36258bca",
   "metadata": {},
   "source": [
    "### 트리의 개념"
   ]
  },
  {
   "cell_type": "markdown",
   "id": "6b814bdf",
   "metadata": {},
   "source": [
    "* 비선형 구조 (이지만 우리는 자료구조를 다룰때 유향데이터처럼 다룸)\n",
    "* 원소들 간에 1:n관계를 가지는 자료구조\n",
    "* 원소들 간에 계층관계를 가지는 계층형 자료구조\n",
    "* 상위 원소에서 하위 원소로 내려가면서 확장되는 트리(나무) 모양의 구조\n",
    "* 트리 = 연결컴포넌트\n",
    "* 싸이클이 없음\n",
    "* 노드의 수 = 정점의 수 + 1"
   ]
  },
  {
   "cell_type": "markdown",
   "id": "de463620",
   "metadata": {},
   "source": [
    "### 이진트리\n",
    "* 모든 노드들이 2개의 서브트리를 갖는 특별한 형태의 트리\n",
    "* 각 노드가 자식 노드를 최대한 2개 까지만 가질 수 있는 트리\n",
    "    - 왼쪽 자식 노드\n",
    "    - 오른쪽 자식 노드"
   ]
  },
  {
   "cell_type": "markdown",
   "id": "5424fa83",
   "metadata": {},
   "source": [
    "* 레벨 i에서의 노드의 개수는 최대 개수는 2^i개<br>\n",
    "* 높이가 h인 이진 트리가 가질 수 있는 노드의 최소 개수는 (h+1)개가 되며, 최대 개수는 (2^h+1 - 1)개가 된다."
   ]
  },
  {
   "cell_type": "markdown",
   "id": "8479e684",
   "metadata": {},
   "source": [
    "#### 포화 이진 트리(Full Binary Tree)\n",
    "* 모든 레벨에 노드가 포화상태로 차 이는 이진 트리\n",
    "* 높이가 h일 때, 최대의 노드 개수인(2^h+1 - 1)의 노드를 가진 이진 트리\n",
    "    - 높이 3일 때 2^3+1 - 1 = 15개의 노드\n",
    "* 루트를 1번으로 하여 2^h+1 - 1 까지 정해진 위치에 대한 노드 번호를 가짐 "
   ]
  },
  {
   "cell_type": "markdown",
   "id": "deca304c",
   "metadata": {},
   "source": [
    "#### 완전 이진 트리(Complete Binary Tree)\n",
    "* 높이가 h이고 노드 수가 n개일 때 (단, 2^h <= n < 2^h+1 - 1), 포화 이진 트리의 노드 번호 1번부터 n번까지 빈 자리가 없는 이진 트리\n",
    "* 예) 노드가 10개인 완전 이진 트리"
   ]
  },
  {
   "cell_type": "markdown",
   "id": "9507a572",
   "metadata": {},
   "source": [
    "#### 편향 이진 트리(Skewed Binary Tree)\n",
    "* 높이 h에 대한 최소 개수의 노드를 가지면서 한쪽 방향의 자식 노드만을 가진 이진 트리\n",
    "    - 왼쪽 편향 이진 트리\n",
    "    - 오른쪽 편향 이진 트리\n",
    "* 너무 편향되는데...? 저쪽 방향으로 노드를 보내봐! 식의 문제가 있음"
   ]
  },
  {
   "cell_type": "markdown",
   "id": "cb54f4cd",
   "metadata": {},
   "source": [
    "### 순회(traversal)\n",
    "* 트리의 각 노드를 중복되지 않게 전부 방문(visit)하는 것\n",
    "* visited가 필요 없다! 싸이클을 돌지도 않을거고 유향그래프이기 때문\n",
    "* 트리는 비 선형 구조이기 때문에 선형구조처럼 선후 연결관계를 알 수 없음\n",
    "=> 따라서 특별한 방법이 필요"
   ]
  },
  {
   "cell_type": "markdown",
   "id": "6ef75982",
   "metadata": {},
   "source": [
    "3가지의 기본적인 순회방법 (중요!)\n",
    "#### 전위순회(Preorder Traversal): VLR\n",
    "부모노드 방문 후, 자식노드를 좌, 우 순서로 방문한다\n"
   ]
  },
  {
   "cell_type": "markdown",
   "id": "c9756e4a",
   "metadata": {},
   "source": [
    "1) 현재 노드 n을 방문하여 처리한다 V\n",
    "2) 현재 노드 n의 왼쪽 서브트리로 이동한다 L\n",
    "3) 현재 노드 n의 오른쪽 서브트리로 이동한다 R"
   ]
  },
  {
   "cell_type": "code",
   "execution_count": 2,
   "id": "d38efa76",
   "metadata": {},
   "outputs": [],
   "source": [
    "def preorder_traverse(T):\n",
    "    if T:  # T is not none\n",
    "        visit(T)\n",
    "        preorder_traverse(T.left)\n",
    "        predorder_traverse(T.right)"
   ]
  },
  {
   "cell_type": "markdown",
   "id": "3586c8d1",
   "metadata": {},
   "source": [
    "#### 중위순회(Inorder Traversal): LVR\n",
    "왼쪽 자식노드, 부모노드, 오른쪽 자식노드 순으로 방문한다"
   ]
  },
  {
   "cell_type": "markdown",
   "id": "05841fd3",
   "metadata": {},
   "source": [
    "1) 현재 노드 n의 왼쪽 서브트리로 이동한다 L\n",
    "2) 현재 노드 n을 방문하여 처리한다 V\n",
    "3) 현재 노드 n의 오른쪽 서브트리로 이동한다 R"
   ]
  },
  {
   "cell_type": "code",
   "execution_count": 6,
   "id": "aa49c203",
   "metadata": {},
   "outputs": [],
   "source": [
    "def inorder_traverse(T):\n",
    "    if T:  # T is not none\n",
    "        preorder_traverse(T.left)\n",
    "        visit(T)\n",
    "        predorder_traverse(T.right)"
   ]
  },
  {
   "cell_type": "code",
   "execution_count": 11,
   "id": "6f4c72da",
   "metadata": {},
   "outputs": [
    {
     "name": "stdout",
     "output_type": "stream",
     "text": [
      "D B E A F C "
     ]
    }
   ],
   "source": [
    "tree = [0, 'A', 'B', 'C', 'D', 'E', 'F']  # 포화이진트리\n",
    "# 인덱스 = 노드 번호\n",
    "# 루트A = 1번 노드번호\n",
    "\n",
    "last_node = 6\n",
    "def inorder(v):\n",
    "    if v > last node:  # v <= last node \n",
    "        return\n",
    "        # [위쪽 다녀온 이후 일처리하는 부분] <- 전위 순회라면 이 부분에서 일처리\n",
    "        inorder(v*2) # 왼쪽 탐색\n",
    "        # [왼쪽 다녀온 이후 일처리하는 부분]\n",
    "        print(tree[v] ,end=' ') # 출력 <- 중위 순회라서 이부분에서 일처리\n",
    "        inorder(v*2+1)  # 오른쪽 탐색\n",
    "        # [오른쪽 다녀온 이후 일처리하는 부분] <- 후위 순회라면 이 부분에서 일처리\n",
    "\n",
    "inorder(1)  # 루트부터 탐색"
   ]
  },
  {
   "cell_type": "markdown",
   "id": "2d2a65f0",
   "metadata": {},
   "source": [
    "#### 후위순회(Postorder Traversal): LRV\n",
    "자식노드를 좌우 순서로 방문한 후, 부모노드로 방문한다"
   ]
  },
  {
   "cell_type": "markdown",
   "id": "f5fa3257",
   "metadata": {},
   "source": [
    "1) 현재 노드 n의 왼쪽 서브트리로 이동한다 L\n",
    "2) 현재 노드 n의 오른쪽 서브트리로 이동한다 R\n",
    "3) 현재 노드 n을 방문하여 처리한다 V"
   ]
  },
  {
   "cell_type": "code",
   "execution_count": null,
   "id": "d4f2ff4f",
   "metadata": {},
   "outputs": [],
   "source": [
    "def inorder_traverse(T):\n",
    "    if T:  # T is not none\n",
    "        preorder_traverse(T.left)\n",
    "        predorder_traverse(T.right)\n",
    "        visit(T)"
   ]
  },
  {
   "cell_type": "markdown",
   "id": "e49b3327",
   "metadata": {},
   "source": [
    "### 이진트리의 표현 - 배열"
   ]
  },
  {
   "cell_type": "markdown",
   "id": "ba6424ba",
   "metadata": {},
   "source": [
    "포화이진트리일때\n",
    "* 노드 번호가 i인 노드의 부모 노드 번호 = i // 2\n",
    "* 노드 번호가 i인 노드의 왼쪽 자식 노드 번호 = i * 2\n",
    "* 노드 번호가 i인 노드의 오른쪽 자식 노드 번호 = i * 2 + 1\n",
    "* 레벨이 n인 노드의 시작번호 = 2^n"
   ]
  },
  {
   "cell_type": "code",
   "execution_count": null,
   "id": "fe3aeeae",
   "metadata": {},
   "outputs": [],
   "source": [
    "def preorder(i):\n",
    "    if 0 < i < N:\n",
    "        preorder(i*2) -> 왼쪽노드\n",
    "        preorder(i*2+1) -> 오른쪽노드"
   ]
  },
  {
   "cell_type": "markdown",
   "id": "52dcbeee",
   "metadata": {},
   "source": [
    "### 이진 트리의 저장"
   ]
  },
  {
   "cell_type": "markdown",
   "id": "18c9261b",
   "metadata": {},
   "source": [
    "* 정점의 개수는 간선의 개수보다 하나 많음\n",
    "* 간선의 개수는 정점의 개수보다 하나 적음"
   ]
  },
  {
   "cell_type": "markdown",
   "id": "f1c4f793",
   "metadata": {},
   "source": [
    "포화이진트리가 아니라면 여러가지 경우가 있을 수 있으니 선입견 가지지 말 것 \n",
    "* root가 1이 아닐 수도 있고, \n",
    "* 부모 번호가 자식 번호보다 값이 클 수도 있음"
   ]
  },
  {
   "cell_type": "markdown",
   "id": "d0784665",
   "metadata": {},
   "source": [
    "#### 부모 번호를 인덱스로 자식 번호를 저장"
   ]
  },
  {
   "cell_type": "markdown",
   "id": "33b94767",
   "metadata": {},
   "source": [
    "1. 부모 번호를 인덱스로 자식1과 자식2의 번호를 저장할 배열을 2개 만든다\n",
    "2. 자식1에 부모인덱스 위치가 비어있다면 해당 번호를 저장\n",
    "3. 자식1에 부모인덱스 위치가 존재한다면 자식2에 해당 번호를 저장\n",
    "* 만약 input이 1 3 1 2 ... 라서, 자식1의 1번째 인덱스에 3이 들어가있고 자식2의 1번째 인덱스에 2가 들어갈수도 있지만 규칙이 있다면 그 둘을 바꿔주는 처리가 필요할수도 있음"
   ]
  },
  {
   "cell_type": "code",
   "execution_count": null,
   "id": "089f751f",
   "metadata": {},
   "outputs": [],
   "source": [
    "for i: 1 -> N\n",
    "    read p, c\n",
    "    if(c1[p] == 0)\n",
    "        c1[p] = c\n",
    "    else\n",
    "        c2[p] = c"
   ]
  },
  {
   "cell_type": "code",
   "execution_count": null,
   "id": "b2cbfbac",
   "metadata": {},
   "outputs": [],
   "source": [
    "# 정점의 개수가 13개, 부모-자식 순으로 인풋이 들어올때\n",
    "# 1 2 1 3 2 4 3 5 3 6 4 7 5 8 5 9 6 10 6 11 7 12 11 13\n",
    "N = 13\n",
    "c1 = [0] * (N+1)\n",
    "c2 = [0] * (N+1)\n",
    "\n",
    "pre(i):  # 전위순회\n",
    "    if i > 0:  # 자식번호가 0이면 자식이 없다는 뜻. 0이 들어올수도 있음\n",
    "        print(i)\n",
    "        pre(c1[i])  => c1의 1번 인덱스에 2 저장\n",
    "        pre(c2[i])  => c1의 1번 인덱스에 3 저장\n",
    "    print(i)"
   ]
  },
  {
   "cell_type": "markdown",
   "id": "59c94979",
   "metadata": {},
   "source": [
    "#### 자식 번호를 인덱스로 부모 번호를 저장\n",
    "1. 자식 번호를 인덱스로 부모 번호를 저장할 배열을 1개 만든다\n",
    "2. 자식 번호를 인덱스로 부모의 값을 저장한다 <br>\n",
    "par[c] <- p\n",
    "* 쭉 저장한 후 부모 배열에 인덱스 0을 제외하고 값이 0인 곳이 루트\n",
    "* 포화트리일때는 n의 조상을 찾고싶다면 n //=2 를 n > 1 일때까지 반복"
   ]
  },
  {
   "cell_type": "code",
   "execution_count": null,
   "id": "4beca1b5",
   "metadata": {},
   "outputs": [],
   "source": [
    "for i: 1 -> N\n",
    "    read p, c\n",
    "    par[c] = p"
   ]
  },
  {
   "cell_type": "code",
   "execution_count": null,
   "id": "748c9483",
   "metadata": {},
   "outputs": [],
   "source": [
    "# 루트, 조상 찾기 ex. 5번 노드의 조상 찾기\n",
    "a = [0, 0, 1, 1, 3, 3] # 자식 번호를 인덱스로 부모 번호를 저장\n",
    "# 5번 자식의 부모는 3\n",
    "# 2번 자식의 부모는 1\n",
    "# 1번 자식의 조상은 없음 = 1번이 조상\n",
    "\n",
    "c = 5\n",
    "while(a[c] != 0)  # 루트인지 확인\n",
    "    c = a[c]\n",
    "    anc.append(c)  # 조상 목록\n",
    "root = c"
   ]
  },
  {
   "cell_type": "code",
   "execution_count": 15,
   "id": "16692da7",
   "metadata": {},
   "outputs": [
    {
     "name": "stdout",
     "output_type": "stream",
     "text": [
      "13 12\n",
      "1 2 1 3 2 4 3 5 3 6 4 7 5 8 5 9 6 10 6 11 7 12 11 13\n",
      "12 7 4 2 1 8 5 9 3 10 6 13 11 "
     ]
    }
   ],
   "source": [
    "'''\n",
    "13 12\n",
    "1 2 1 3 2 4 3 5 3 6 4 7 5 8 5 9 6 10 6 11 7 12 11 13\n",
    "'''\n",
    "def inorder(v):\n",
    "    if v == 0:  # 재귀호출은 항상 매개변수로 갈지말지를 재귀함수 첫 줄에 체크해줌\n",
    "        return\n",
    "    inorder(L[v])\n",
    "    print(v, end=' ')  # 증위순회\n",
    "    inorder(R[v])\n",
    "\n",
    "V, E = map(int, input().split())  # V = 노드 개수, E = 간선 개수\n",
    "L = [0] * (V+1)\n",
    "R = [0] * (V+1)\n",
    "P = [0] * (V+1)\n",
    "arr = list(map(int, input().split()))\n",
    "for i in range(0, E*2, 2):\n",
    "    p, c = arr[i], arr[i+1]\n",
    "    if not L[p]:\n",
    "        L[p] = c\n",
    "    else:\n",
    "        R[p] = c  # 부모 번호를 인덱스로 써서 자식 노드값을 저장\n",
    "    P[c] = p  # 자식 번호를 인덱스로 써서 부모 노드값을 저장\n",
    "    \n",
    "inorder(1)"
   ]
  },
  {
   "cell_type": "markdown",
   "id": "b7755b62",
   "metadata": {},
   "source": [
    "#### 배열을 이용한 이진 트리 표현의 단점\n",
    "* 편향 이진 트리의 경우에 사용하지 않는 배열 원소에 대한 메모리 공간 낭비 발생\n",
    "* 트리의 중간에 새로운 노드를 삽입하거나 기존의 노드를 삭제할 경우 배열의 크기 변경 어려워 비효율적"
   ]
  },
  {
   "cell_type": "markdown",
   "id": "466a3d11",
   "metadata": {},
   "source": [
    "### 연결리스트\n",
    "* 배열을 이용한 이진트리의 표현의 단점을 보완하기 위함\n",
    "* 연결 자료구조를 이용한 이진트리의 표현\n",
    "    - 이진 트리의 모든 노드는 최대 2개의 자식 노드를 가지므로 일정한 구조의 단순 연결리스트 노드를 사용하여 구현 "
   ]
  },
  {
   "cell_type": "code",
   "execution_count": null,
   "id": "ce70afef",
   "metadata": {},
   "outputs": [],
   "source": []
  }
 ],
 "metadata": {
  "kernelspec": {
   "display_name": "Python 3 (ipykernel)",
   "language": "python",
   "name": "python3"
  },
  "language_info": {
   "codemirror_mode": {
    "name": "ipython",
    "version": 3
   },
   "file_extension": ".py",
   "mimetype": "text/x-python",
   "name": "python",
   "nbconvert_exporter": "python",
   "pygments_lexer": "ipython3",
   "version": "3.9.13"
  }
 },
 "nbformat": 4,
 "nbformat_minor": 5
}
