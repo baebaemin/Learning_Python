{
 "cells": [
  {
   "cell_type": "markdown",
   "id": "d46d7a47",
   "metadata": {},
   "source": [
    "## 2차원 배열"
   ]
  },
  {
   "cell_type": "code",
   "execution_count": 4,
   "id": "fef3bb75",
   "metadata": {
    "scrolled": true
   },
   "outputs": [
    {
     "name": "stdout",
     "output_type": "stream",
     "text": [
      "3\n",
      "1 2 3\n",
      "4 5 6\n",
      "7 8 9\n",
      "[[1, 2, 3], [4, 5, 6], [7, 8, 9]]\n"
     ]
    }
   ],
   "source": [
    "\"\"\"\n",
    "3\n",
    "1 2 3\n",
    "4 5 6\n",
    "7 8 9\n",
    "\"\"\"\n",
    "\n",
    "N = int(input())\n",
    "arr = [list(map(int, input().split())) for _ in range(N)]\n",
    "print(arr)"
   ]
  },
  {
   "cell_type": "code",
   "execution_count": 11,
   "id": "cedaa02d",
   "metadata": {},
   "outputs": [
    {
     "name": "stdout",
     "output_type": "stream",
     "text": [
      "[[1, 0, 0], [0, 0, 0], [0, 0, 0]]\n"
     ]
    }
   ],
   "source": [
    "A = [[0] * 3 for _ in range(3)]\n",
    "A\n",
    "A[0][0] = 1\n",
    "print(A)"
   ]
  },
  {
   "cell_type": "code",
   "execution_count": 9,
   "id": "4213b24f",
   "metadata": {},
   "outputs": [
    {
     "name": "stdout",
     "output_type": "stream",
     "text": [
      "[[0, 0, 0], [0, 0, 0], [0, 0, 0]]\n",
      "[[1, 0, 0], [1, 0, 0], [1, 0, 0]]\n"
     ]
    }
   ],
   "source": [
    "A = [[0] * 3] * 3\n",
    "print(A)\n",
    "A[0][0] = 1\n",
    "print(A)\n",
    "# 이거 아니에요~! 얕은 복사 됨"
   ]
  },
  {
   "cell_type": "markdown",
   "id": "8eec4e87",
   "metadata": {},
   "source": [
    "### 행 우선순회\n",
    "세로가 n이고 가로가 m일때"
   ]
  },
  {
   "cell_type": "code",
   "execution_count": null,
   "id": "79ebf7e2",
   "metadata": {},
   "outputs": [],
   "source": [
    "# i 행의 좌표\n",
    "# j 열의 좌표\n",
    "for i in range(n):\n",
    "    for j in range(m):\n",
    "        Array[i][j]  # 필요한 연산 수행"
   ]
  },
  {
   "cell_type": "markdown",
   "id": "04058f05",
   "metadata": {},
   "source": [
    "### 열 우선순회"
   ]
  },
  {
   "cell_type": "code",
   "execution_count": null,
   "id": "f0f993f0",
   "metadata": {},
   "outputs": [],
   "source": [
    "# i 행의 좌표\n",
    "# j 열의 좌표\n",
    "\n",
    "for j in range(m):\n",
    "    for i in range(n):\n",
    "        Array[i][j]  # 필요한 연산 수행"
   ]
  },
  {
   "cell_type": "markdown",
   "id": "5de76d09",
   "metadata": {},
   "source": [
    "### 지그재그 순회"
   ]
  },
  {
   "cell_type": "code",
   "execution_count": null,
   "id": "6ae89d04",
   "metadata": {},
   "outputs": [],
   "source": [
    "# i 행의 좌표\n",
    "# j 열의 좌표\n",
    "\n",
    "for i in range(n):\n",
    "    for j in range(m):\n",
    "        Array[i][j + (m-1-2*j) * (i%2)]\n",
    "        \n",
    "# 0, 2, 4... 등 행이 짝수면 [i][j] => 순방향\n",
    "# 1, 3, 5... 등 행이 홀수면 m-1, m-2, m-3 .. => 역방향"
   ]
  },
  {
   "cell_type": "markdown",
   "id": "a81248f8",
   "metadata": {},
   "source": [
    "## 델타를 이용한 2차 배열 탐색\n",
    "2차 배열의 한 좌표에서 4방향의 인접 배열 요소를 탐색하는 방법"
   ]
  },
  {
   "cell_type": "code",
   "execution_count": null,
   "id": "483b1e2a",
   "metadata": {},
   "outputs": [],
   "source": [
    "arr[0...N-1][0...N-1]  # N*N 배열\n",
    "di[] <- [0, 0, -1, 1]  # 좌우상하 (인덱스로 결정 ex. [0]이면 좌)\n",
    "dj[] <- [-1, 1, 0, 0]\n",
    "for i : 0 -> N-1\n",
    "    for j 0 -> N-1 :\n",
    "        for k in range(4):\n",
    "            ni <- i di[k]\n",
    "            nj <- j + dj[k]\n",
    "            if 0 <= ni < N and 0 <= nj < N  # 유효한 인덱스면\n",
    "                test(arr[ni][nj])"
   ]
  },
  {
   "cell_type": "code",
   "execution_count": 19,
   "id": "58350403",
   "metadata": {
    "scrolled": true
   },
   "outputs": [
    {
     "name": "stdout",
     "output_type": "stream",
     "text": [
      "0 0 0 1\n",
      "0 0 1 0\n",
      "0 1 0 2\n",
      "0 1 1 1\n",
      "0 1 0 0\n",
      "0 2 1 2\n",
      "0 2 0 1\n",
      "1 0 1 1\n",
      "1 0 2 0\n",
      "1 0 0 0\n",
      "1 1 1 2\n",
      "1 1 2 1\n",
      "1 1 1 0\n",
      "1 1 0 1\n",
      "1 2 2 2\n",
      "1 2 1 1\n",
      "1 2 0 2\n",
      "2 0 2 1\n",
      "2 0 1 0\n",
      "2 1 2 2\n",
      "2 1 2 0\n",
      "2 1 1 1\n",
      "2 2 2 1\n",
      "2 2 1 2\n"
     ]
    }
   ],
   "source": [
    "# 문제에 따라서는 상하좌우를 특별한 순서에 맞춰 짤 필요가 있다.\n",
    "di = [0, 1, 0, -1] \n",
    "dj = [1, 0, -1, 0]  # 우하좌상\n",
    "N = 3\n",
    "\n",
    "for i in range(N):\n",
    "    for j in range(N):\n",
    "        for k in range(4):  # 우하좌상 순서대로 뽑을 인덱스용\n",
    "            ni, nj = i+di[k], j+dj[k]  #ni와 nj는 탐색한 위치의 인덱스\n",
    "            if 0 <= ni < N and 0 <= nj < N:\n",
    "                print(i, j, ni, nj)"
   ]
  },
  {
   "cell_type": "markdown",
   "id": "8ceb8f98",
   "metadata": {},
   "source": [
    "#### 다른 방법"
   ]
  },
  {
   "cell_type": "code",
   "execution_count": null,
   "id": "757ae26d",
   "metadata": {},
   "outputs": [],
   "source": [
    "N = 3\n",
    "for i in range(N):\n",
    "    for j in range(N):\n",
    "        for di, dj in [[0,1], [1,0], [0,-1], [-1,0]]:\n",
    "            ni, nj = i+di, j+dj\n",
    "            if 0 <= ni < N and 0 <= nj < N:\n",
    "                print(i, j, ni, nj)"
   ]
  },
  {
   "cell_type": "markdown",
   "id": "07718959",
   "metadata": {},
   "source": [
    "#### 대각선 방향으로 탐색하려면"
   ]
  },
  {
   "cell_type": "code",
   "execution_count": 21,
   "id": "aa2b7b0b",
   "metadata": {
    "scrolled": true
   },
   "outputs": [
    {
     "name": "stdout",
     "output_type": "stream",
     "text": [
      "0 0 1 1\n",
      "0 1 1 2\n",
      "0 1 1 0\n",
      "0 2 1 1\n",
      "1 0 0 1\n",
      "1 0 2 1\n",
      "1 1 0 0\n",
      "1 1 0 2\n",
      "1 1 2 2\n",
      "1 1 2 0\n",
      "1 2 0 1\n",
      "1 2 2 1\n",
      "2 0 1 1\n",
      "2 1 1 0\n",
      "2 1 1 2\n",
      "2 2 1 1\n"
     ]
    }
   ],
   "source": [
    "N = 3\n",
    "for i in range(N):\n",
    "    for j in range(N):\n",
    "        for di, dj in [[-1,-1], [-1,1], [1,1], [1,-1]]:\n",
    "            ni, nj = i+di, j+dj\n",
    "            if 0 <= ni < N and 0 <= nj < N:\n",
    "                print(i, j, ni, nj)"
   ]
  },
  {
   "cell_type": "markdown",
   "id": "d8546b52",
   "metadata": {},
   "source": [
    "#### 각 방향으로 거리가 P인 원소까지 탐색한다면"
   ]
  },
  {
   "cell_type": "code",
   "execution_count": null,
   "id": "a1664cde",
   "metadata": {},
   "outputs": [],
   "source": [
    "di = [0, 1, 0, -1] \n",
    "dj = [1, 0, -1, 0]\n",
    "N = 3\n",
    "P = 3\n",
    "for i in range(N):\n",
    "    for j in range(N):\n",
    "        for k in range(4):\n",
    "            for l in range(P)\n",
    "                ni = i+di[k] * l\n",
    "                nj = j+dj[k] * l\n",
    "            if 0 <= ni < N and 0 <= nj < N:\n",
    "                print(i, j, ni, nj)"
   ]
  },
  {
   "cell_type": "markdown",
   "id": "3810d351",
   "metadata": {},
   "source": [
    "#### 다른 방법"
   ]
  },
  {
   "cell_type": "code",
   "execution_count": null,
   "id": "041759fb",
   "metadata": {},
   "outputs": [],
   "source": [
    "N = 3\n",
    "l = 3\n",
    "for i in range(N):\n",
    "    for j in range(P):\n",
    "        for l in range(1, P+1):\n",
    "            for di, dj in [[0,1*l], [1*l,0], [0,-1*l], [-1*l,0]]:\n",
    "                ni, nj = i+di, j+dj\n",
    "                if 0 <= ni < N and 0 <= nj < N:\n",
    "                    print(i, j, ni, nj)"
   ]
  },
  {
   "cell_type": "markdown",
   "id": "8560edb1",
   "metadata": {},
   "source": [
    "## 전치 행렬\n",
    "대각선을 기준으로 양 날개(?)의 원소를 바꾸기"
   ]
  },
  {
   "cell_type": "code",
   "execution_count": null,
   "id": "78a8c65a",
   "metadata": {},
   "outputs": [],
   "source": [
    "# i : 행의 좌표, len(arr)\n",
    "# j : 열의 좌표, len(arr[0])\n",
    "arr = [[1,2,3],[4,5,6],[7,8,9]]  # 3*3 행렬\n",
    "\n",
    "for i in range(3):\n",
    "    for j in range(3):\n",
    "        if i < j:  # 이 조건이 없으면 되돌아옴\n",
    "            arr[i][j], arr[j][i] = arr[j][i], arr[i][j] "
   ]
  },
  {
   "cell_type": "markdown",
   "id": "0afc7707",
   "metadata": {},
   "source": [
    "* 수업자료 중 예시문제 풀어보기"
   ]
  },
  {
   "cell_type": "markdown",
   "id": "570b3b8b",
   "metadata": {},
   "source": [
    "## 부분집합 합(Subset Sum) 문제"
   ]
  },
  {
   "cell_type": "markdown",
   "id": "636844d1",
   "metadata": {},
   "source": [
    "* 유한 개의 정수로 이루어진 집합이 있을 때, 이 집합의 부분집합 중에서 그 집합의 원소를 모두 더한 값이 0이 되는 경우가 있는지를 알아내는 문제\n",
    "* 예를 들어, [-7, -3, -2, 5, 8]라는 집합이 있을 때, [-3, -2, 5]는 이 집합의 부분집합이면서 (-3) + (-2) + 5 = 0이므로 이 경우의 답은 참이 된다.\n",
    "* 완전 검색 기법으로 부분집합 합 문제를 풀기 위해서는, 우선 집합의 모든 부분집합을 생성한 후에 각 부분집합의 합을 계산해야 한다. # 제한시간이 있는지 유의\n",
    "* 주어진 집합의 부분집합을 생성하는 방법에 대해서 생각해보자."
   ]
  },
  {
   "cell_type": "markdown",
   "id": "91c3c353",
   "metadata": {},
   "source": [
    "### 부분집합의 수"
   ]
  },
  {
   "cell_type": "markdown",
   "id": "1a4b2017",
   "metadata": {},
   "source": [
    "* 집합의 원소가 n개일 때, 공집합을 포함한 부분집합의 수는 2^n개이다.\n",
    "* 이는 각 원소를 부분집합에 포함시키거나 포함시키지 않는 2가지 경우를 모든 원소에 적용한 경우의 수와 같다.\n",
    "* ex. 집합의 원소가 4개라면 {1, 2, 3, 4} 2 * 2 * 2 * 2 = 16가지 (공집합까지도 포함)"
   ]
  },
  {
   "cell_type": "markdown",
   "id": "42c0139e",
   "metadata": {},
   "source": [
    "### 부분집합 생성하기\n",
    "* 각 원소가 부분집합에 포함되었는지를 loop 이용하여 확인하고 부분집합을 생성하는 방법"
   ]
  },
  {
   "cell_type": "code",
   "execution_count": 32,
   "id": "eb3fac85",
   "metadata": {},
   "outputs": [
    {
     "name": "stdout",
     "output_type": "stream",
     "text": [
      "[0, 0, 0, 0] \n",
      "[0, 0, 0, 1] 4 \n",
      "[0, 0, 1, 0] 3 \n",
      "[0, 0, 1, 1] 3 4 \n",
      "[0, 1, 0, 0] 2 \n",
      "[0, 1, 0, 1] 2 4 \n",
      "[0, 1, 1, 0] 2 3 \n",
      "[0, 1, 1, 1] 2 3 4 \n",
      "[1, 0, 0, 0] 1 \n",
      "[1, 0, 0, 1] 1 4 \n",
      "[1, 0, 1, 0] 1 3 \n",
      "[1, 0, 1, 1] 1 3 4 \n",
      "[1, 1, 0, 0] 1 2 \n",
      "[1, 1, 0, 1] 1 2 4 \n",
      "[1, 1, 1, 0] 1 2 3 \n",
      "[1, 1, 1, 1] 1 2 3 4 \n"
     ]
    }
   ],
   "source": [
    "A = [1, 2, 3, 4]\n",
    "bit = [0] * 4\n",
    "for i in range(2):\n",
    "    bit[0] = i\n",
    "    for j in range(2):\n",
    "        bit[1] = j\n",
    "        for k in range(2):\n",
    "            bit[2] = k\n",
    "            for l in range(2):\n",
    "                bit[3] = l\n",
    "                print(bit, end=' ')\n",
    "                # total = 0   => 합을 구하고 싶다면\n",
    "                for p in range(4):  # bit의 자리수\n",
    "                    if bit[p]:  # bit의 원소가 1이면\n",
    "                        print(A[p], end = ' ')\n",
    "                        # total += A[p]  => 여기서 합쳐주기\n",
    "                print()"
   ]
  },
  {
   "cell_type": "markdown",
   "id": "09451ad9",
   "metadata": {},
   "source": [
    "bit의 범위가 nn개일수도 있다. 그럴 땐 저렇게 for문을 한땀한땀 못 쓰고.. 재귀함수를 활용해야 함."
   ]
  },
  {
   "cell_type": "markdown",
   "id": "01b054f4",
   "metadata": {},
   "source": [
    "## 비트 연산자\n",
    "1과 0이 담겨있는 1bit가 8개 모이면 1Byte"
   ]
  },
  {
   "cell_type": "code",
   "execution_count": null,
   "id": "dca49ad7",
   "metadata": {},
   "outputs": [],
   "source": [
    "& 비트 단위로 AND 연산을 한다.\n",
    "| 비트 단위로 OR 연산을 한다.\n",
    "<< 피연산자의 비트 열을 왼쪽으로 이동시킨다.\n",
    ">> 피연산자의 비트 열을 오른쪽으로 이동시킨다."
   ]
  },
  {
   "cell_type": "markdown",
   "id": "2a570b2d",
   "metadata": {},
   "source": [
    "#### << 연산자\n",
    "* 1 << n:2^n 즉, 원소가 n개일 경우의 모든 부분집합의 수를 의미한다.\n",
    "* 1 << 3 이면, 2의^3 = 원소가 3개일 경우의 모든 부분집합의 수\n",
    "* 2 ** 3 과 같음"
   ]
  },
  {
   "cell_type": "markdown",
   "id": "cca72c0a",
   "metadata": {},
   "source": [
    "#### & 연산자\n",
    "* i & (1<<j): i의 j번째 비트가 1인지 아닌지를 검사한다.\n",
    "* j번 비트가 0이면 전체 비트가 0이기 때문"
   ]
  },
  {
   "cell_type": "markdown",
   "id": "d5382d74",
   "metadata": {},
   "source": [
    "### 보다 간결하게 부분집합을 생성하는 방법"
   ]
  },
  {
   "cell_type": "code",
   "execution_count": null,
   "id": "aad1922c",
   "metadata": {},
   "outputs": [],
   "source": [
    "arr = [1, 2, 3]\n",
    "n = len(arr)\n",
    "for i in range(1 << n):  # "
   ]
  },
  {
   "cell_type": "code",
   "execution_count": 37,
   "id": "a17a5d89",
   "metadata": {},
   "outputs": [
    {
     "name": "stdout",
     "output_type": "stream",
     "text": [
      "\n",
      "3, \n",
      "6, \n",
      "3, 6, \n",
      "7, \n",
      "3, 7, \n",
      "6, 7, \n",
      "3, 6, 7, \n",
      "1, \n",
      "3, 1, \n",
      "6, 1, \n",
      "3, 6, 1, \n",
      "7, 1, \n",
      "3, 7, 1, \n",
      "6, 7, 1, \n",
      "3, 6, 7, 1, \n",
      "5, \n",
      "3, 5, \n",
      "6, 5, \n",
      "3, 6, 5, \n",
      "7, 5, \n",
      "3, 7, 5, \n",
      "6, 7, 5, \n",
      "3, 6, 7, 5, \n",
      "1, 5, \n",
      "3, 1, 5, \n",
      "6, 1, 5, \n",
      "3, 6, 1, 5, \n",
      "7, 1, 5, \n",
      "3, 7, 1, 5, \n",
      "6, 7, 1, 5, \n",
      "3, 6, 7, 1, 5, \n",
      "4, \n",
      "3, 4, \n",
      "6, 4, \n",
      "3, 6, 4, \n",
      "7, 4, \n",
      "3, 7, 4, \n",
      "6, 7, 4, \n",
      "3, 6, 7, 4, \n",
      "1, 4, \n",
      "3, 1, 4, \n",
      "6, 1, 4, \n",
      "3, 6, 1, 4, \n",
      "7, 1, 4, \n",
      "3, 7, 1, 4, \n",
      "6, 7, 1, 4, \n",
      "3, 6, 7, 1, 4, \n",
      "5, 4, \n",
      "3, 5, 4, \n",
      "6, 5, 4, \n",
      "3, 6, 5, 4, \n",
      "7, 5, 4, \n",
      "3, 7, 5, 4, \n",
      "6, 7, 5, 4, \n",
      "3, 6, 7, 5, 4, \n",
      "1, 5, 4, \n",
      "3, 1, 5, 4, \n",
      "6, 1, 5, 4, \n",
      "3, 6, 1, 5, 4, \n",
      "7, 1, 5, 4, \n",
      "3, 7, 1, 5, 4, \n",
      "6, 7, 1, 5, 4, \n",
      "3, 6, 7, 1, 5, 4, \n",
      "\n"
     ]
    }
   ],
   "source": [
    "arr = [3, 6, 7, 1, 5, 4]  # 이전엔 각 원소에 대해서 비트가 아닌 배열에다가 1과 0의 케이스를 굴려가며 만들었었음. \n",
    "n = len(arr)  # n = 원소의 개수\n",
    "\n",
    "# 배열대신 비트를 활용해서 부분집합 생성하기\n",
    "\n",
    "for i in range(1<<n):  # 1<<n : 부분 집합의 개수. 0부터 2^n -1 까지가 i가 됨\n",
    "    for j in range(n):  # 원소의 수만큼 비트를 비교함\n",
    "        if i & (1<<j):  # i의 j번 비트가 1인경우\n",
    "            print(arr[j], end=\", \")  # j번 원소 출력\n",
    "    print()\n",
    "print()"
   ]
  },
  {
   "cell_type": "markdown",
   "id": "29849450",
   "metadata": {},
   "source": [
    "### 부분집합 합 문제 구현하기"
   ]
  },
  {
   "cell_type": "markdown",
   "id": "3b4b52b4",
   "metadata": {},
   "source": [
    "실제로 10개의 정수를 입력받아 부분집합의 합이 0이 되는 것이 존재하는지를 계산하는 함수를 작성해보자"
   ]
  },
  {
   "cell_type": "code",
   "execution_count": null,
   "id": "7994f885",
   "metadata": {},
   "outputs": [],
   "source": []
  }
 ],
 "metadata": {
  "kernelspec": {
   "display_name": "Python 3 (ipykernel)",
   "language": "python",
   "name": "python3"
  },
  "language_info": {
   "codemirror_mode": {
    "name": "ipython",
    "version": 3
   },
   "file_extension": ".py",
   "mimetype": "text/x-python",
   "name": "python",
   "nbconvert_exporter": "python",
   "pygments_lexer": "ipython3",
   "version": "3.9.13"
  }
 },
 "nbformat": 4,
 "nbformat_minor": 5
}
