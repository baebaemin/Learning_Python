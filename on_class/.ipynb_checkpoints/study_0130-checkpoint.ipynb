{
 "cells": [
  {
   "cell_type": "markdown",
   "id": "2f8d014c",
   "metadata": {},
   "source": [
    "### class를 쓸 땐 '새로운 자료형을 정의'한다고 생각하자\n",
    "* 자료형: 데이터를 저장하기 위한 하나의 형태\n",
    "* 타입마다 각자 나름의 동작 방식이 있다"
   ]
  },
  {
   "cell_type": "code",
   "execution_count": 45,
   "id": "4cc9317a",
   "metadata": {},
   "outputs": [
    {
     "data": {
      "text/plain": [
       "<__main__.Person at 0x20804497310>"
      ]
     },
     "execution_count": 45,
     "metadata": {},
     "output_type": "execute_result"
    }
   ],
   "source": [
    "class Person:  # 클래스 이름은 대문자로 시작, 명사형 / 메서드 이름은 동사형\n",
    "    pass\n",
    "# 인스턴스 생성\n",
    "p = Person() # p에는 Person이라는 인스턴스를 가리키는 주소값이 참조됨\n",
    "p # '__main__'은 지금 실행하고 있는 .py 파일(모듈) 안을 의미"
   ]
  },
  {
   "cell_type": "markdown",
   "id": "c96b2def",
   "metadata": {},
   "source": [
    "<__main__.Person at 0x20804497310> = p는 실행하고 있는 .py 파일(모듈) 안의 Person 객체이다"
   ]
  },
  {
   "cell_type": "code",
   "execution_count": 48,
   "id": "ac2bd5a7",
   "metadata": {},
   "outputs": [
    {
     "name": "stdout",
     "output_type": "stream",
     "text": [
      "약과\n"
     ]
    }
   ],
   "source": [
    "p.name = '약과' # p라는 인스턴스(=객체) 안에 name이라는 변수를 만들고 '약과'를 할당.\n",
    "print(p.name)"
   ]
  },
  {
   "cell_type": "code",
   "execution_count": 55,
   "id": "3b633c69",
   "metadata": {},
   "outputs": [
    {
     "name": "stdout",
     "output_type": "stream",
     "text": [
      "생성자 호출\n",
      "생성자 호출\n",
      "크런키\n",
      "class variable\n"
     ]
    }
   ],
   "source": [
    "class Person:\n",
    "    name = 'class variable' # class 변수\n",
    "    # 생성자 => 인터프리터와의 약속\n",
    "    def __init__(self):\n",
    "        print('생성자 호출')\n",
    "    \n",
    "p1 = Person()\n",
    "p2 = Person()\n",
    "\n",
    "p1.name = '크런키'\n",
    "\n",
    "print(p1.name)\n",
    "print(p2.name) # p2에는 name이 없기 때문에 class 변수에서 찾아서 프린팅됨"
   ]
  },
  {
   "cell_type": "code",
   "execution_count": 56,
   "id": "b4395f69",
   "metadata": {},
   "outputs": [
    {
     "name": "stdout",
     "output_type": "stream",
     "text": [
      "생성자 호출\n"
     ]
    },
    {
     "ename": "TypeError",
     "evalue": "hello() takes 0 positional arguments but 1 was given",
     "output_type": "error",
     "traceback": [
      "\u001b[1;31m---------------------------------------------------------------------------\u001b[0m",
      "\u001b[1;31mTypeError\u001b[0m                                 Traceback (most recent call last)",
      "Cell \u001b[1;32mIn[56], line 10\u001b[0m\n\u001b[0;32m      7\u001b[0m         \u001b[38;5;28mprint\u001b[39m(\u001b[38;5;124m'\u001b[39m\u001b[38;5;124mhello\u001b[39m\u001b[38;5;124m'\u001b[39m)\n\u001b[0;32m      9\u001b[0m p1 \u001b[38;5;241m=\u001b[39m Person()\n\u001b[1;32m---> 10\u001b[0m \u001b[43mp1\u001b[49m\u001b[38;5;241;43m.\u001b[39;49m\u001b[43mhello\u001b[49m\u001b[43m(\u001b[49m\u001b[43m)\u001b[49m\n",
      "\u001b[1;31mTypeError\u001b[0m: hello() takes 0 positional arguments but 1 was given"
     ]
    }
   ],
   "source": [
    "class Person:\n",
    "    \n",
    "    def __init__(self):\n",
    "        print('생성자 호출')\n",
    "    \n",
    "    def hello():\n",
    "        print('hello')\n",
    "\n",
    "p1 = Person()\n",
    "p1.hello()"
   ]
  },
  {
   "cell_type": "markdown",
   "id": "d5c777e5",
   "metadata": {},
   "source": [
    "#### 오류: 보이지 않아도 무조건 arguments가 하나씩 들어가기 때문에 "
   ]
  },
  {
   "cell_type": "code",
   "execution_count": 57,
   "id": "ded7fa27",
   "metadata": {
    "scrolled": true
   },
   "outputs": [
    {
     "name": "stdout",
     "output_type": "stream",
     "text": [
      "생성자 호출\n",
      "hello\n"
     ]
    }
   ],
   "source": [
    "class Person:\n",
    "    \n",
    "    def __init__(self):\n",
    "        print('생성자 호출')\n",
    "    \n",
    "    def hello(self): # 현재의 메서드가 호출되는 인스턴스 주소 'self' 적어줘야 함\n",
    "        print('hello')\n",
    "\n",
    "p1 = Person()\n",
    "p1.hello() # 자신을 가리키는 주소값을 무조건 arguments로 넘겨주기 때문"
   ]
  },
  {
   "cell_type": "code",
   "execution_count": 67,
   "id": "bf578297",
   "metadata": {
    "scrolled": true
   },
   "outputs": [
    {
     "name": "stdout",
     "output_type": "stream",
     "text": [
      "<__main__.Person object at 0x00000208045DC820>\n",
      "생성자 호출\n",
      "소멸자 호출\n",
      "<__main__.Person object at 0x00000208045DC1F0>\n",
      "생성자 호출\n",
      "소멸자 호출\n",
      "약과 커피 클래스변수\n",
      "1000\n"
     ]
    }
   ],
   "source": [
    "class Person:\n",
    "    name = '클래스변수'\n",
    "    # 생성자, dunder(double underscore)\n",
    "    # 모든 인스턴스들에 변수 생성에 사용\n",
    "    def __init__(self, name):\n",
    "        self.name = name # self는 인스턴스의 주소이니까, \n",
    "        # 이 인스턴스의 변수 'name'에는 매개변수로 들어온 정보값(약과, 커피)이 들어옴\n",
    "        print(self) # Person Object의 주소를 참조. 지금 만들어진 인스턴스의 주소를 가리킴\n",
    "        print('생성자 호출')\n",
    "        \n",
    "    # 소멸자\n",
    "    def __del__(self):\n",
    "        print('소멸자 호출')\n",
    "        \n",
    "p1 = Person('약과')\n",
    "p1.age = 20\n",
    "# class 안엔 없지만 p1의 age를 만듦(별로 좋진 않아요). p2에게는 age가 없음\n",
    "p2 = Person('커피')\n",
    "print(p1.name, p2.name, Person.name)\n",
    "\n",
    "Person.val = 1000 # 클래스 바깥에서 클래스 변수를 만들 수도 있음\n",
    "print(Person.val)"
   ]
  },
  {
   "cell_type": "code",
   "execution_count": 68,
   "id": "28a6133f",
   "metadata": {},
   "outputs": [
    {
     "name": "stdout",
     "output_type": "stream",
     "text": [
      "소멸자 호출\n",
      "소멸자 호출\n",
      "약과 안녕!\n"
     ]
    }
   ],
   "source": [
    "class Person:\n",
    "    \n",
    "    def __init__(self, name):\n",
    "        self.name = name\n",
    "        \n",
    "    def hello(self):\n",
    "        print(f'{self.name} 안녕!')\n",
    "\n",
    "p1 = Person('약과')\n",
    "p2 = Person('커피')\n",
    "p1.hello()"
   ]
  },
  {
   "cell_type": "code",
   "execution_count": 2,
   "id": "f7cb4a77",
   "metadata": {},
   "outputs": [
    {
     "name": "stdout",
     "output_type": "stream",
     "text": [
      "<class 'type'>\n"
     ]
    }
   ],
   "source": [
    "class Person:\n",
    "    pass\n",
    "print(type(Person))\n",
    "# class Person 자체도 Type 클래스를 사용했단 뜻. Type은 붕어빵 틀을 만드는 기계"
   ]
  },
  {
   "cell_type": "code",
   "execution_count": 5,
   "id": "b9c377dd",
   "metadata": {},
   "outputs": [
    {
     "name": "stdout",
     "output_type": "stream",
     "text": [
      "True\n"
     ]
    }
   ],
   "source": [
    "person1 = Person()\n",
    "print(isinstance(person1, Person))\n",
    "# person1은 Person의 인스턴스이다"
   ]
  },
  {
   "cell_type": "code",
   "execution_count": 4,
   "id": "b405fee7",
   "metadata": {},
   "outputs": [
    {
     "name": "stdout",
     "output_type": "stream",
     "text": [
      "<class '__main__.Person'>\n"
     ]
    }
   ],
   "source": [
    "print(type(person1))"
   ]
  },
  {
   "cell_type": "code",
   "execution_count": 6,
   "id": "7e0a1c00",
   "metadata": {},
   "outputs": [
    {
     "name": "stdout",
     "output_type": "stream",
     "text": [
      "True False\n"
     ]
    }
   ],
   "source": [
    "a = [1, 2, 3]\n",
    "b = [1, 2, 3]\n",
    "print(a == b, a is b)"
   ]
  },
  {
   "cell_type": "code",
   "execution_count": 7,
   "id": "40383ca0",
   "metadata": {},
   "outputs": [
    {
     "name": "stdout",
     "output_type": "stream",
     "text": [
      "True True\n"
     ]
    }
   ],
   "source": [
    "a = [1, 2, 3]\n",
    "b = a\n",
    "print(a == b, a is b)"
   ]
  },
  {
   "cell_type": "code",
   "execution_count": 9,
   "id": "09265017",
   "metadata": {},
   "outputs": [
    {
     "name": "stdout",
     "output_type": "stream",
     "text": [
      "john\n",
      "john Kim\n"
     ]
    }
   ],
   "source": [
    "class Person:\n",
    "    \n",
    "    # 생성자: class를 생성할 때 무조건 부르는 함수\n",
    "    def __init__(self, name): # Person이라는 클래스 안에 무조건 name이라는 변수가 있을때\n",
    "        self.name = name # class Person을 생성할 때 얘를 실행해주세요\n",
    "\n",
    "john = Person('john') # 자동으로 __init__ 불림\n",
    "# person()으로 생성할 때 'john'을 name으로 받아서 인스턴스 변수에 넣어줘\n",
    "print(john.name) # john의 이름에 'john'을 할당해줬었음\n",
    "\n",
    "john.name = 'john Kim' # 이름 수정\n",
    "print(john.name)"
   ]
  },
  {
   "cell_type": "code",
   "execution_count": 10,
   "id": "a56f5ab7",
   "metadata": {},
   "outputs": [
    {
     "name": "stdout",
     "output_type": "stream",
     "text": [
      "2\n"
     ]
    }
   ],
   "source": [
    "class Person:\n",
    "    count = 0\n",
    "    \n",
    "    def __init__(self, name): # self는 인스턴스의 자기 자신을 의미함\n",
    "        self.name = name # 인스턴스 자기 자신의 self안에 있는 name에 들어올 이름을 넣어줘\n",
    "        Person.count += 1\n",
    "\n",
    "person1 = Person('아이유') # 생성자 부분이 실행됨\n",
    "person2 = Person('이찬혁')\n",
    "\n",
    "print(Person.count)"
   ]
  },
  {
   "cell_type": "code",
   "execution_count": 14,
   "id": "518c8f1f",
   "metadata": {
    "scrolled": true
   },
   "outputs": [
    {
     "name": "stdout",
     "output_type": "stream",
     "text": [
      "2 슈크림\n"
     ]
    }
   ],
   "source": [
    "class Bbang:\n",
    "    count = 0\n",
    "    \n",
    "    def __init__(self, flavor):\n",
    "        self.name = flavor\n",
    "        Bbang.count += 1\n",
    "\n",
    "boong1 = Bbang('슈크림')\n",
    "boong2 = Bbang('팥')\n",
    "print(Bbang.count, boong1.name)"
   ]
  },
  {
   "cell_type": "code",
   "execution_count": 18,
   "id": "d9bec6fc",
   "metadata": {
    "scrolled": true
   },
   "outputs": [
    {
     "name": "stdout",
     "output_type": "stream",
     "text": [
      "안녕\n",
      "피자를 냠냠\n",
      "치킨를 냠냠\n",
      "소주를 꿀꺽\n",
      "안녕\n"
     ]
    }
   ],
   "source": [
    "class Person:\n",
    "    \n",
    "    # __init__이 없어도 내장되어있음 \n",
    "    # 새로 인스턴스를 만들 때 뭔가 하고싶다면 나만의 방식으로 적어야 함\n",
    "    \n",
    "    def talk(self): # 인스턴스 메서드\n",
    "        print('안녕')\n",
    "    \n",
    "    def eat(self, food):\n",
    "        print(f'{food}를 냠냠')\n",
    "        \n",
    "    def drink(self, soda):\n",
    "        print(f'{soda}를 꿀꺽')\n",
    "\n",
    "person1 = Person()\n",
    "person1.talk() # 안녕\n",
    "person1.eat('피자') # 피자를 냠냠\n",
    "person1.eat('치킨') # 피자를 냠냠\n",
    "person1.drink('소주')\n",
    "person2 = Person()\n",
    "person2.talk()"
   ]
  },
  {
   "cell_type": "markdown",
   "id": "3a9663f7",
   "metadata": {},
   "source": [
    "### Magic Method"
   ]
  },
  {
   "cell_type": "code",
   "execution_count": 76,
   "id": "90aa9179",
   "metadata": {},
   "outputs": [
    {
     "name": "stdout",
     "output_type": "stream",
     "text": [
      "True\n"
     ]
    }
   ],
   "source": [
    "class Person:\n",
    "    \n",
    "    def __init__(self, name, age):\n",
    "        self.name = name\n",
    "        self.age = age\n",
    "        \n",
    "    def __gt__(self, obj): #greater than / 왼쪽 A가 B보다 큰지? A > B\n",
    "        return self.age > obj.age # self.age + obj.age 로 해도 됨\n",
    "    \n",
    "    def __str__(self): # 어떤 클래스의 인스턴스가 문자열 역할을 해야 할 때 반환값\n",
    "        return f'이름:{self.name}, 나이:{self.age}'\n",
    "\n",
    "p1 = Person('텀블러', 11)\n",
    "p2 = Person('커피', 9)\n",
    "print(p1 > p2)"
   ]
  },
  {
   "cell_type": "code",
   "execution_count": 33,
   "id": "e4efdf4d",
   "metadata": {
    "scrolled": true
   },
   "outputs": [
    {
     "name": "stdout",
     "output_type": "stream",
     "text": [
      "생성될 때 자동으로 불려요\n",
      "Aiden 23\n",
      "이 클래스를 하나의 문자열로 표현하면 이겁니다 !\n",
      "생성될 때 자동으로 불려요\n",
      "5\n",
      "True\n"
     ]
    }
   ],
   "source": [
    "class Person:\n",
    "    # 생성할 때 자동 프린트와 name과 age라는 인스턴스 변수가 필요하다면 \n",
    "    def __init__(self, name, age):\n",
    "        print('생성될 때 자동으로 불려요')\n",
    "        self.name = name\n",
    "        self.age = age\n",
    "        \n",
    "    def __str__(self): # Person이라는 클래스가 문자열으로 쓰인다면?\n",
    "        return '이 클래스를 하나의 문자열로 표현하면 이겁니다'\n",
    "    \n",
    "    def __len__(self): # 인스턴스의 len이 필요하다면?\n",
    "        return len(self.name)\n",
    "    \n",
    "    def __gt__(self, other): # 인스턴스끼리 비교하고싶다면?\n",
    "        return self.age > other.age\n",
    "        \n",
    "aiden = Person('Aiden', 23)\n",
    "print(aiden.name, aiden.age)\n",
    "print(aiden, '!')\n",
    "\n",
    "isaac = Person('issac', 19)\n",
    "print(len(isaac)) # \n",
    "\n",
    "print(aiden > isaac)"
   ]
  },
  {
   "cell_type": "markdown",
   "id": "8fbdb6d9",
   "metadata": {},
   "source": [
    "### @classmethod\n",
    "클래스 변수만 쓰는 method"
   ]
  },
  {
   "cell_type": "code",
   "execution_count": 41,
   "id": "877b97fd",
   "metadata": {},
   "outputs": [
    {
     "name": "stdout",
     "output_type": "stream",
     "text": [
      "인구수는 2입니다.\n",
      "인구수는 2입니다.\n",
      "인구수는 2입니다.\n"
     ]
    }
   ],
   "source": [
    "class Person:\n",
    "    count = 0\n",
    "    def __init__(self, name):\n",
    "        self.name = name\n",
    "        Person.count += 1 # class 안에 있는 count라는 변수를 하나씩 증가시켜 주세요\n",
    "        \n",
    "    @classmethod\n",
    "    def number_of_population(cls):\n",
    "        print(f'인구수는 {cls.count}입니다.') \n",
    "        # 인스턴스가 아닌 클래스의 변수를 호출해야 하므로\n",
    "\n",
    "person1 = Person('아이유')\n",
    "person2 = Person('크런키')\n",
    "\n",
    "Person.number_of_population()\n",
    "person1.number_of_population() # 인스턴스도 클래스 변수를 호출할 수 있다\n",
    "person2.number_of_population()"
   ]
  },
  {
   "cell_type": "code",
   "execution_count": 78,
   "id": "5f93dcf6",
   "metadata": {},
   "outputs": [
    {
     "name": "stdout",
     "output_type": "stream",
     "text": [
      "생성자 호출\n"
     ]
    },
    {
     "ename": "TypeError",
     "evalue": "hello_class() takes 0 positional arguments but 1 was given",
     "output_type": "error",
     "traceback": [
      "\u001b[1;31m---------------------------------------------------------------------------\u001b[0m",
      "\u001b[1;31mTypeError\u001b[0m                                 Traceback (most recent call last)",
      "Cell \u001b[1;32mIn[78], line 13\u001b[0m\n\u001b[0;32m     10\u001b[0m         \u001b[38;5;28mprint\u001b[39m(\u001b[38;5;124m'\u001b[39m\u001b[38;5;124m생성자 호출\u001b[39m\u001b[38;5;124m'\u001b[39m)\n\u001b[0;32m     12\u001b[0m p1 \u001b[38;5;241m=\u001b[39m Person(\u001b[38;5;124m'\u001b[39m\u001b[38;5;124m민경\u001b[39m\u001b[38;5;124m'\u001b[39m)\n\u001b[1;32m---> 13\u001b[0m \u001b[43mPerson\u001b[49m\u001b[38;5;241;43m.\u001b[39;49m\u001b[43mhello_class\u001b[49m\u001b[43m(\u001b[49m\u001b[43m)\u001b[49m\n",
      "\u001b[1;31mTypeError\u001b[0m: hello_class() takes 0 positional arguments but 1 was given"
     ]
    }
   ],
   "source": [
    "class Person:\n",
    "    name = '클래스변수'\n",
    "    \n",
    "    @classmethod # 함수 앞에다가 기능을 추가하는 decorate\n",
    "    def hello_class(): # ... 여기에 무조건 cls를 받아줘야함\n",
    "        pass\n",
    "    \n",
    "    def __init__(self, name):\n",
    "        self.name = name\n",
    "        print('생성자 호출')\n",
    "\n",
    "p1 = Person('민경')\n",
    "Person.hello_class() # 인터프리터에 무조건 arguments가 넘어가기때문에..."
   ]
  },
  {
   "cell_type": "code",
   "execution_count": 81,
   "id": "cc5d5fe2",
   "metadata": {},
   "outputs": [
    {
     "name": "stdout",
     "output_type": "stream",
     "text": [
      "클래스변수\n",
      "클래스변수\n"
     ]
    }
   ],
   "source": [
    "class Person:\n",
    "    name = '클래스변수'\n",
    "    \n",
    "    @classmethod\n",
    "    def hello_class(cls): # 인자를 무조건 받아야 함 \n",
    "        print(cls.name) # 클래스 변수를 출력\n",
    "\n",
    "Person.hello_class()\n",
    "p1 = Person(); p1.hello_class() \n",
    "# 인스턴스로 클래스메서드를 호출할 수 있다(하지만 웬만하면 이렇게 하지 말자)"
   ]
  },
  {
   "cell_type": "code",
   "execution_count": null,
   "id": "9ed1fd18",
   "metadata": {},
   "outputs": [],
   "source": []
  }
 ],
 "metadata": {
  "kernelspec": {
   "display_name": "Python 3 (ipykernel)",
   "language": "python",
   "name": "python3"
  },
  "language_info": {
   "codemirror_mode": {
    "name": "ipython",
    "version": 3
   },
   "file_extension": ".py",
   "mimetype": "text/x-python",
   "name": "python",
   "nbconvert_exporter": "python",
   "pygments_lexer": "ipython3",
   "version": "3.9.13"
  }
 },
 "nbformat": 4,
 "nbformat_minor": 5
}
