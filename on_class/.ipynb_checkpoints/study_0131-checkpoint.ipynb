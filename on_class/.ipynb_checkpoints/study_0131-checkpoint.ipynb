{
 "cells": [
  {
   "cell_type": "markdown",
   "id": "265c4ae1",
   "metadata": {},
   "source": [
    "## OOP "
   ]
  },
  {
   "cell_type": "code",
   "execution_count": 75,
   "id": "1a061cff",
   "metadata": {},
   "outputs": [
    {
     "name": "stdout",
     "output_type": "stream",
     "text": [
      "jupyter\n"
     ]
    }
   ],
   "source": [
    "class Person:\n",
    "    def __init__(self, name, age): # 딱히 명시하지 않으면 변수도, 함수도 퍼블릭 ...\n",
    "        self.name = name\n",
    "        self.age = age\n",
    "        \n",
    "    def talk(self):\n",
    "        print(f'{self.name}님이 얘기함')\n",
    "\n",
    "p1 = Person('jupyter', 29)\n",
    "print(p1.name) # ... 이렇게 클래스 바깥에서 접근하여 쓸 수 있다는 소리"
   ]
  },
  {
   "cell_type": "code",
   "execution_count": 74,
   "id": "adaa78c2",
   "metadata": {},
   "outputs": [
    {
     "name": "stdout",
     "output_type": "stream",
     "text": [
      "jupyter\n",
      "29\n"
     ]
    }
   ],
   "source": [
    "class Person:\n",
    "    def __init__(self, name, age):\n",
    "        self.name = name\n",
    "        self._age = age # 그런데 이렇게 변수 앞에 언더바'_'가 붙는다면 protected \n",
    "        \n",
    "    def talk(self):\n",
    "        print(f'{self.name}님이 얘기함')\n",
    "           \n",
    "p1 = Person('jupyter', 29)\n",
    "print(p1.name)\n",
    "print(p1._age) # protected 변수이지만 접근할 수 있긴 함"
   ]
  },
  {
   "cell_type": "code",
   "execution_count": 80,
   "id": "d2fdb3cc",
   "metadata": {},
   "outputs": [
    {
     "name": "stdout",
     "output_type": "stream",
     "text": [
      "jupyter\n"
     ]
    },
    {
     "ename": "AttributeError",
     "evalue": "'Person' object has no attribute '__age'",
     "output_type": "error",
     "traceback": [
      "\u001b[1;31m---------------------------------------------------------------------------\u001b[0m",
      "\u001b[1;31mAttributeError\u001b[0m                            Traceback (most recent call last)",
      "Cell \u001b[1;32mIn[80], line 11\u001b[0m\n\u001b[0;32m      9\u001b[0m p1 \u001b[38;5;241m=\u001b[39m Person(\u001b[38;5;124m'\u001b[39m\u001b[38;5;124mjupyter\u001b[39m\u001b[38;5;124m'\u001b[39m, \u001b[38;5;241m29\u001b[39m)\n\u001b[0;32m     10\u001b[0m \u001b[38;5;28mprint\u001b[39m(p1\u001b[38;5;241m.\u001b[39mname)\n\u001b[1;32m---> 11\u001b[0m \u001b[38;5;28mprint\u001b[39m(\u001b[43mp1\u001b[49m\u001b[38;5;241;43m.\u001b[39;49m\u001b[43m__age\u001b[49m) \u001b[38;5;66;03m# private 변수이기 때문에 접근 불가\u001b[39;00m\n",
      "\u001b[1;31mAttributeError\u001b[0m: 'Person' object has no attribute '__age'"
     ]
    }
   ],
   "source": [
    "class Person:\n",
    "    def __init__(self, name, age):\n",
    "        self.name = name\n",
    "        self.__age = age # 그런데 이렇게 변수 앞에 언더바'_'가 2개 붙는다면 private\n",
    "        \n",
    "    def talk(self):\n",
    "        print(f'{self.name}님이 얘기함')\n",
    "           \n",
    "p1 = Person('jupyter', 29)\n",
    "print(p1.name)\n",
    "print(p1.__age) # private 변수이기 때문에 접근 불가"
   ]
  },
  {
   "cell_type": "code",
   "execution_count": 82,
   "id": "5d97abb8",
   "metadata": {},
   "outputs": [
    {
     "name": "stdout",
     "output_type": "stream",
     "text": [
      "jupyter\n",
      "jupyter님이 얘기함\n",
      "29살\n"
     ]
    }
   ],
   "source": [
    "class Person:\n",
    "    def __init__(self, name, age):\n",
    "        self.name = name\n",
    "        self.__age = age # private\n",
    "        \n",
    "    def talk(self):\n",
    "        print(f'{self.name}님이 얘기함')\n",
    "        print(f'{self.__age}살') \n",
    "           \n",
    "p1 = Person('jupyter', 29)\n",
    "print(p1.name)\n",
    "p1.talk() # 클래스 내부에서는 접근 가능"
   ]
  },
  {
   "cell_type": "markdown",
   "id": "70f6d72e",
   "metadata": {},
   "source": [
    "### 메서드 오버라이드"
   ]
  },
  {
   "cell_type": "code",
   "execution_count": 84,
   "id": "e58a9c5c",
   "metadata": {},
   "outputs": [
    {
     "name": "stdout",
     "output_type": "stream",
     "text": [
      "아빠가 얘기하잖니..?\n"
     ]
    }
   ],
   "source": [
    "class Person:\n",
    "    def __init__(self, name, age):\n",
    "        self.name = name\n",
    "        self.__age = age # private\n",
    "        \n",
    "    def talk(self): # 똑같은 talk 이름의 함수가\n",
    "        print(f'{self.name}님이 얘기함')\n",
    "\n",
    "class Dad(Person): # 상속받음\n",
    "    def talk(self): \n",
    "        print('아빠가 얘기하잖니..?') # Person에도 있고 Dad에도 있다면?\n",
    "\n",
    "p1 = Dad('배민경', 30)\n",
    "p1.talk() # Person의 함수를 재정의하여 Dad의 함수를 실행함 = \"메서드 오버라이드\"\n",
    "# 변수도 마찬가지로 자식이 재정의함"
   ]
  },
  {
   "cell_type": "code",
   "execution_count": 88,
   "id": "71937a41",
   "metadata": {},
   "outputs": [
    {
     "ename": "TypeError",
     "evalue": "__init__() missing 2 required positional arguments: 'name' and 'age'",
     "output_type": "error",
     "traceback": [
      "\u001b[1;31m---------------------------------------------------------------------------\u001b[0m",
      "\u001b[1;31mTypeError\u001b[0m                                 Traceback (most recent call last)",
      "Cell \u001b[1;32mIn[88], line 10\u001b[0m\n\u001b[0;32m      7\u001b[0m     \u001b[38;5;28;01mpass\u001b[39;00m\n\u001b[0;32m      9\u001b[0m \u001b[38;5;66;03m#1 = Dad('배민경', 30) \u001b[39;00m\n\u001b[1;32m---> 10\u001b[0m p1 \u001b[38;5;241m=\u001b[39m \u001b[43mDad\u001b[49m\u001b[43m(\u001b[49m\u001b[43m)\u001b[49m \u001b[38;5;66;03m# Dad에 arguments를 주지 않으면 Person에 있는 init이 arguments를 요구하기때문에 에러\u001b[39;00m\n",
      "\u001b[1;31mTypeError\u001b[0m: __init__() missing 2 required positional arguments: 'name' and 'age'"
     ]
    }
   ],
   "source": [
    "class Person:\n",
    "    def __init__(self, name, age):\n",
    "        self.name = name\n",
    "        self.__age = age\n",
    "\n",
    "class Dad(Person):\n",
    "    pass\n",
    "\n",
    "#1 = Dad('배민경', 30) \n",
    "p1 = Dad() # Dad에 arguments를 주지 않으면 Person에 있는 init이 arguments를 요구하기때문에 에러"
   ]
  },
  {
   "cell_type": "code",
   "execution_count": 93,
   "id": "1e64649d",
   "metadata": {},
   "outputs": [
    {
     "name": "stdout",
     "output_type": "stream",
     "text": [
      "남성\n"
     ]
    },
    {
     "ename": "AttributeError",
     "evalue": "'Dad' object has no attribute 'name'",
     "output_type": "error",
     "traceback": [
      "\u001b[1;31m---------------------------------------------------------------------------\u001b[0m",
      "\u001b[1;31mAttributeError\u001b[0m                            Traceback (most recent call last)",
      "Cell \u001b[1;32mIn[93], line 15\u001b[0m\n\u001b[0;32m     12\u001b[0m         \u001b[38;5;28mself\u001b[39m\u001b[38;5;241m.\u001b[39mgender \u001b[38;5;241m=\u001b[39m gender\n\u001b[0;32m     14\u001b[0m \u001b[38;5;28mprint\u001b[39m(d\u001b[38;5;241m.\u001b[39mgender) \n\u001b[1;32m---> 15\u001b[0m \u001b[38;5;28mprint\u001b[39m(\u001b[43md\u001b[49m\u001b[38;5;241;43m.\u001b[39;49m\u001b[43mname\u001b[49m) \u001b[38;5;66;03m# Person의 name, age에는 arguments가 들어가지 않았기 때문에 에러\u001b[39;00m\n\u001b[0;32m     16\u001b[0m d\u001b[38;5;241m.\u001b[39mtalk()\n",
      "\u001b[1;31mAttributeError\u001b[0m: 'Dad' object has no attribute 'name'"
     ]
    }
   ],
   "source": [
    "class Person:\n",
    "    def __init__(self, name, age):\n",
    "        self.name = name\n",
    "        self.__age = age\n",
    "        \n",
    "    def talk(self):\n",
    "        print(f'{self.name}님이 얘기함')\n",
    "        print(self.age)\n",
    "\n",
    "class Dad(Person):\n",
    "    def __init__(self, gender):\n",
    "        self.gender = gender\n",
    "\n",
    "print(d.gender) \n",
    "print(d.name) # Person의 name, age에는 arguments가 들어가지 않았기 때문에 에러\n",
    "d.talk()"
   ]
  },
  {
   "cell_type": "markdown",
   "id": "c0bb41ae",
   "metadata": {},
   "source": [
    "## super()"
   ]
  },
  {
   "cell_type": "code",
   "execution_count": 99,
   "id": "90d12b84",
   "metadata": {},
   "outputs": [
    {
     "name": "stdout",
     "output_type": "stream",
     "text": [
      "배민경 30 여성\n"
     ]
    }
   ],
   "source": [
    "class Person:\n",
    "    def __init__(self, name, age):\n",
    "        self.name = name\n",
    "        self.age = age\n",
    "        \n",
    "    def talk(self):\n",
    "        print(f'{self.name}님이 얘기함')\n",
    "        print(self.age)\n",
    "\n",
    "class Dad(Person):\n",
    "    def __init__(self, name, age, gender):\n",
    "        super().__init__(name, age)\n",
    "        self.gender = gender\n",
    "\n",
    "d = Dad('배민경', 30, '여성')\n",
    "print(d.name, d.age, d.gender)"
   ]
  },
  {
   "cell_type": "markdown",
   "id": "c905b558",
   "metadata": {},
   "source": [
    "### 데코레이터"
   ]
  },
  {
   "cell_type": "code",
   "execution_count": 3,
   "id": "6219d834",
   "metadata": {},
   "outputs": [
    {
     "name": "stdout",
     "output_type": "stream",
     "text": [
      "안녕하세요, aiden님!\n",
      "^~^//\n",
      "hello, aiden!\n",
      "^~^//\n"
     ]
    }
   ],
   "source": [
    "def ko_hello(name):\n",
    "    print(f'안녕하세요, {name}님!')\n",
    "    print('^~^//') # 얘랑 ...\n",
    "\n",
    "def en_hello(name):\n",
    "    print(f'hello, {name}!')\n",
    "    print('^~^//') # ... 얘가 중복되어있다\n",
    "    \n",
    "ko_hello('aiden')\n",
    "en_hello('aiden')"
   ]
  },
  {
   "cell_type": "code",
   "execution_count": 5,
   "id": "ba11481a",
   "metadata": {},
   "outputs": [
    {
     "name": "stdout",
     "output_type": "stream",
     "text": [
      "안녕하세요, adien님!\n",
      "^~^//\n",
      "hello, adien!\n",
      "^~^//\n"
     ]
    }
   ],
   "source": [
    "def ko_hello(name):\n",
    "    print(f'안녕하세요, {name}님!')\n",
    "\n",
    "def en_hello(name):\n",
    "    print(f'hello, {name}!')\n",
    "\n",
    "def add_emoji(name, func): # 함수를 인자로 넣을 수 있다\n",
    "    func(name) # 함수 이름과 이름을 받아서 사용\n",
    "    print('^~^//')\n",
    "    \n",
    "add_emoji('adien', ko_hello)\n",
    "add_emoji('adien', en_hello)"
   ]
  },
  {
   "cell_type": "markdown",
   "id": "83eaf1df",
   "metadata": {},
   "source": [
    "* 호출할 때 이름과 func을 넣다보니까 인자가 길어져서 불편"
   ]
  },
  {
   "cell_type": "code",
   "execution_count": 9,
   "id": "219fc1a8",
   "metadata": {},
   "outputs": [
    {
     "name": "stdout",
     "output_type": "stream",
     "text": [
      "hello, minkyoung!\n",
      "^~^//\n"
     ]
    }
   ],
   "source": [
    "def emoji_decorator(func):\n",
    "    def wrapper(name):\n",
    "        func(name)\n",
    "        print(\"^~^//\")\n",
    "        \n",
    "    return wrapper    # 함수를 리턴\n",
    "        \n",
    "def ko_hello(name):\n",
    "    print(f'안녕하세요, {name}님!')\n",
    "\n",
    "def en_hello(name):\n",
    "    print(f'hello, {name}!')\n",
    "\n",
    "# new_func = emoji_decorator(ko_hello) #wrapper 함수가 들어가 있음\n",
    "# new_func('minkyoung')\n",
    "\n",
    "# 한 줄로: \n",
    "emoji_decorator(en_hello)('minkyoung')"
   ]
  },
  {
   "cell_type": "markdown",
   "id": "f2e00217",
   "metadata": {},
   "source": [
    "emoji_decorator(en_hello)('minkyoung') <- 이 부분을 데코레이터가 해줌"
   ]
  },
  {
   "cell_type": "code",
   "execution_count": 12,
   "id": "a32fb9b3",
   "metadata": {
    "scrolled": true
   },
   "outputs": [
    {
     "name": "stdout",
     "output_type": "stream",
     "text": [
      "안녕하세요, 민경님!\n",
      "^~^//\n",
      "T^T\n"
     ]
    }
   ],
   "source": [
    "def emoji_decorator(func):\n",
    "    def wrapper(name):\n",
    "        func(name)\n",
    "        print(\"^~^//\")\n",
    "        \n",
    "    return wrapper\n",
    "\n",
    "def add_tears(func):\n",
    "    def wrapper(name):\n",
    "        func(name)\n",
    "        print('T^T')\n",
    "        \n",
    "    return wrapper\n",
    "\n",
    "@add_tears\n",
    "@emoji_decorator\n",
    "def ko_hello(name):\n",
    "    print(f'안녕하세요, {name}님!')\n",
    "\n",
    "@emoji_decorator\n",
    "def en_hello(name):\n",
    "    print(f'hello, {name}!')\n",
    "    \n",
    "ko_hello('민경')"
   ]
  },
  {
   "cell_type": "code",
   "execution_count": 16,
   "id": "195d6767",
   "metadata": {},
   "outputs": [
    {
     "name": "stdout",
     "output_type": "stream",
     "text": [
      "인구수는 0\n"
     ]
    }
   ],
   "source": [
    "class Person:\n",
    "    count = 0 # 클래스 변수\n",
    "\n",
    "    @classmethod # 내부적으로 정의되어있음\n",
    "    def number(cls): # 여기에 클래스메서드 데코레이터가 없다면 cls는 그냥 인자일뿐\n",
    "        print(f'인구수는 {cls.count}')\n",
    "\n",
    "p1 = Person()\n",
    "p1.number()"
   ]
  },
  {
   "cell_type": "markdown",
   "id": "938d11bd",
   "metadata": {},
   "source": [
    "### 스태틱 메서드"
   ]
  },
  {
   "cell_type": "code",
   "execution_count": 17,
   "id": "52a211c2",
   "metadata": {
    "scrolled": true
   },
   "outputs": [
    {
     "name": "stdout",
     "output_type": "stream",
     "text": [
      "True\n",
      "True\n"
     ]
    }
   ],
   "source": [
    "class Person:\n",
    "    count = 0\n",
    "    def __init__(self, name):\n",
    "        self.name = name\n",
    "        Person.count += 1\n",
    "    \n",
    "    @staticmethod\n",
    "    def check_rich(money):\n",
    "        return money > 10000\n",
    "\n",
    "person1 = Person('아이유')\n",
    "print(Person.check_rich(100000)) \n",
    "print(person1.check_rich(100000))"
   ]
  },
  {
   "cell_type": "markdown",
   "id": "0b9d6139",
   "metadata": {},
   "source": [
    "### 메서드 정리"
   ]
  },
  {
   "cell_type": "code",
   "execution_count": 19,
   "id": "2a06f6dd",
   "metadata": {},
   "outputs": [
    {
     "name": "stdout",
     "output_type": "stream",
     "text": [
      "('instance method', <__main__.MyClass object at 0x000001BA18686130>)\n",
      "('class method', <class '__main__.MyClass'>)\n",
      "static method\n"
     ]
    }
   ],
   "source": [
    "class MyClass:\n",
    "    \n",
    "    def method(self):\n",
    "        return 'instance method', self\n",
    "    \n",
    "    @classmethod\n",
    "    def classmethod(cls):\n",
    "        return 'class method', cls\n",
    "\n",
    "    @staticmethod\n",
    "    def staticmethod():\n",
    "        return 'static method'\n",
    "\n",
    "my_class = MyClass()\n",
    "print(my_class.method())\n",
    "print(my_class.classmethod())\n",
    "print(my_class.staticmethod())"
   ]
  },
  {
   "cell_type": "markdown",
   "id": "c438686f",
   "metadata": {},
   "source": [
    "상속 관련 함수와 메서드"
   ]
  },
  {
   "cell_type": "code",
   "execution_count": null,
   "id": "bd26ddfd",
   "metadata": {},
   "outputs": [],
   "source": [
    "isinstance(object, classinfo)"
   ]
  },
  {
   "cell_type": "code",
   "execution_count": null,
   "id": "086a3c33",
   "metadata": {},
   "outputs": [],
   "source": [
    "issubclass(class, classinfo)"
   ]
  },
  {
   "cell_type": "markdown",
   "id": "b4089797",
   "metadata": {},
   "source": [
    "### Private Member"
   ]
  },
  {
   "cell_type": "code",
   "execution_count": null,
   "id": "2afe6d49",
   "metadata": {},
   "outputs": [],
   "source": [
    "class Person:\n",
    "    def __init__(self, name, age):\n",
    "        self.name = name\n",
    "        self.__age = age\n",
    "\n",
    "    def get_age(self): # 여기에는 언더바가 없으므로 public ... \n",
    "        return self.__age # 직접 건네주도록\n",
    "\n",
    "    def set_age(self):\n",
    "        self.__age = age"
   ]
  },
  {
   "cell_type": "markdown",
   "id": "3702cc32",
   "metadata": {},
   "source": [
    "### getter와 setter method"
   ]
  },
  {
   "cell_type": "code",
   "execution_count": 24,
   "id": "b5b63d03",
   "metadata": {},
   "outputs": [
    {
     "name": "stdout",
     "output_type": "stream",
     "text": [
      "0\n",
      "25\n",
      "30\n"
     ]
    }
   ],
   "source": [
    "class Person:\n",
    "    def __init__(self):\n",
    "        self._age = 0 # private\n",
    "        \n",
    "    def get_age(self):\n",
    "        return self._age\n",
    "    \n",
    "    def set_age(self, age):\n",
    "        self._age = age\n",
    "\n",
    "p1 = Person()\n",
    "print(p1._age) # no\n",
    "p1._age = 25 # 프라이빗을 밖에서 정의해줬지만 에러가 나지 않습니다. 하지만 이렇게 쓰지 말기\n",
    "print(p1._age) # no\n",
    "\n",
    "p1.set_age(30)\n",
    "print(p1.get_age()) # 이렇게 써야해 하지만 불편함"
   ]
  },
  {
   "cell_type": "code",
   "execution_count": 25,
   "id": "6f43e807",
   "metadata": {
    "scrolled": true
   },
   "outputs": [
    {
     "name": "stdout",
     "output_type": "stream",
     "text": [
      "setter 호출\n",
      "getter 호출!\n",
      "25\n"
     ]
    }
   ],
   "source": [
    "class Person:\n",
    "    def __init__(self):\n",
    "        self._age = 0 # private\n",
    "        \n",
    "    def get_age(self):\n",
    "        print('getter 호출!')\n",
    "        return self._age\n",
    "    \n",
    "    def set_age(self, age):\n",
    "        print('setter 호출')\n",
    "        self._age = age\n",
    "\n",
    "    age = property(get_age, set_age) # 여기서의 age는 클래스변수, 퍼블릭멤버\n",
    "\n",
    "p1 = Person() \n",
    "p1.age = 25 # 이제 이렇게 깔끔하게 쓸 수 있다\n",
    "print(p1.age)"
   ]
  },
  {
   "cell_type": "code",
   "execution_count": 27,
   "id": "80ea395e",
   "metadata": {
    "scrolled": true
   },
   "outputs": [
    {
     "name": "stdout",
     "output_type": "stream",
     "text": [
      "setter 호출\n",
      "getter 호출!\n",
      "25\n"
     ]
    }
   ],
   "source": [
    "class Person:\n",
    "    def __init__(self):\n",
    "        self._age = 0\n",
    "        \n",
    "    @property # 프로퍼티 데코레이터 덕에 get을 할 수 있음\n",
    "    def age(self): # getter\n",
    "        print('getter 호출!')\n",
    "        return self._age\n",
    "    \n",
    "    @age.setter # 세터 데코레이터 덕에 set을 할 수 있음\n",
    "    def age(self, age): # setter\n",
    "        print('setter 호출')\n",
    "        self._age = age\n",
    "    \n",
    "p1 = Person() \n",
    "p1.age = 25 # 외부적으로는 p1에 age라는 퍼블릭 변수가 있는것처럼 사용\n",
    "print(p1.age)"
   ]
  },
  {
   "cell_type": "code",
   "execution_count": 41,
   "id": "2b13d5d4",
   "metadata": {},
   "outputs": [
    {
     "name": "stdout",
     "output_type": "stream",
     "text": [
      "1\n",
      "10 10 10\n",
      "1001\n"
     ]
    }
   ],
   "source": [
    "T = int(input())\n",
    "\n",
    "for tc in range(T):\n",
    "    H, W, N = map(int, input().split())\n",
    "    if H <= N:\n",
    "        floor = H\n",
    "        if N % H == 0:\n",
    "            nth = N // H\n",
    "        else: nth = N // H  + 1\n",
    "    else:\n",
    "        floor = N % H\n",
    "        nth = N // H + 1\n",
    "    print(('%02d' % floor + '%02d' % nth).lstrip('0'))"
   ]
  },
  {
   "cell_type": "markdown",
   "id": "79e12f46",
   "metadata": {},
   "source": [
    "### 예외처리"
   ]
  },
  {
   "cell_type": "code",
   "execution_count": 44,
   "id": "71f96644",
   "metadata": {},
   "outputs": [
    {
     "name": "stdout",
     "output_type": "stream",
     "text": [
      "try 블럭 시작\n",
      "finally\n"
     ]
    },
    {
     "ename": "IndexError",
     "evalue": "list index out of range",
     "output_type": "error",
     "traceback": [
      "\u001b[1;31m---------------------------------------------------------------------------\u001b[0m",
      "\u001b[1;31mIndexError\u001b[0m                                Traceback (most recent call last)",
      "Cell \u001b[1;32mIn[44], line 4\u001b[0m\n\u001b[0;32m      2\u001b[0m     \u001b[38;5;28mprint\u001b[39m(\u001b[38;5;124m'\u001b[39m\u001b[38;5;124mtry 블럭 시작\u001b[39m\u001b[38;5;124m'\u001b[39m)\n\u001b[0;32m      3\u001b[0m     lst \u001b[38;5;241m=\u001b[39m []\n\u001b[1;32m----> 4\u001b[0m     \u001b[43mlst\u001b[49m\u001b[43m[\u001b[49m\u001b[38;5;241;43m0\u001b[39;49m\u001b[43m]\u001b[49m \u001b[38;5;66;03m#인덱스에러\u001b[39;00m\n\u001b[0;32m      5\u001b[0m     \u001b[38;5;28mprint\u001b[39m(\u001b[38;5;124m'\u001b[39m\u001b[38;5;124mtry 블럭 끝\u001b[39m\u001b[38;5;124m'\u001b[39m)\n\u001b[0;32m      6\u001b[0m \u001b[38;5;28;01mexcept\u001b[39;00m \u001b[38;5;167;01mZeroDivisionError\u001b[39;00m \u001b[38;5;28;01mas\u001b[39;00m err: \u001b[38;5;66;03m# 제로디비전 에러만 처리하겠다\u001b[39;00m\n",
      "\u001b[1;31mIndexError\u001b[0m: list index out of range"
     ]
    }
   ],
   "source": [
    "try:\n",
    "    print('try 블럭 시작')\n",
    "    lst = []\n",
    "    lst[0] # 인덱스에러\n",
    "    print('try 블럭 끝')\n",
    "except ZeroDivisionError as err: # 제로디비전 에러만 처리하겠다\n",
    "    print(err)\n",
    "else:\n",
    "    print('else 블럭')\n",
    "finally:\n",
    "    print('finally') #에러가 떠도 출력됨\n",
    "\n",
    "print('End')"
   ]
  },
  {
   "cell_type": "code",
   "execution_count": 46,
   "id": "a774e3fe",
   "metadata": {},
   "outputs": [
    {
     "name": "stdout",
     "output_type": "stream",
     "text": [
      "try 블럭 시작\n",
      "내가 잡았지롱\n",
      "finally\n",
      "End\n"
     ]
    }
   ],
   "source": [
    "try:\n",
    "    print('try 블럭 시작')\n",
    "    lst = []\n",
    "    lst[0] # 인덱스에러\n",
    "    print('try 블럭 끝')\n",
    "except Exception as err:\n",
    "    print('내가 잡았지롱')\n",
    "except ZeroDivisionError as err: # 제로디비전 에러만 처리하겠다\n",
    "    print(err)\n",
    "else:\n",
    "    print('else 블럭')\n",
    "finally:\n",
    "    print('finally') #에러가 떠도 출력됨\n",
    "\n",
    "print('End')"
   ]
  },
  {
   "cell_type": "markdown",
   "id": "cd0e931a",
   "metadata": {},
   "source": [
    "### 강제로 예외처리 하는 방법"
   ]
  },
  {
   "cell_type": "code",
   "execution_count": 49,
   "id": "85d75b6f",
   "metadata": {
    "scrolled": true
   },
   "outputs": [
    {
     "name": "stdout",
     "output_type": "stream",
     "text": [
      ">> start \n",
      "h() start\n",
      "g() start\n",
      "f() start\n"
     ]
    },
    {
     "ename": "Exception",
     "evalue": "에러",
     "output_type": "error",
     "traceback": [
      "\u001b[1;31m---------------------------------------------------------------------------\u001b[0m",
      "\u001b[1;31mException\u001b[0m                                 Traceback (most recent call last)",
      "Cell \u001b[1;32mIn[49], line 17\u001b[0m\n\u001b[0;32m     14\u001b[0m     \u001b[38;5;28mprint\u001b[39m(\u001b[38;5;124m'\u001b[39m\u001b[38;5;124mh() end\u001b[39m\u001b[38;5;124m'\u001b[39m)\n\u001b[0;32m     16\u001b[0m \u001b[38;5;28mprint\u001b[39m(\u001b[38;5;124m'\u001b[39m\u001b[38;5;124m>> start \u001b[39m\u001b[38;5;124m'\u001b[39m)\n\u001b[1;32m---> 17\u001b[0m \u001b[43mh\u001b[49m\u001b[43m(\u001b[49m\u001b[43m)\u001b[49m\n\u001b[0;32m     18\u001b[0m \u001b[38;5;28mprint\u001b[39m(\u001b[38;5;124m'\u001b[39m\u001b[38;5;124m>> end\u001b[39m\u001b[38;5;124m'\u001b[39m)\n",
      "Cell \u001b[1;32mIn[49], line 13\u001b[0m, in \u001b[0;36mh\u001b[1;34m()\u001b[0m\n\u001b[0;32m     11\u001b[0m \u001b[38;5;28;01mdef\u001b[39;00m \u001b[38;5;21mh\u001b[39m():\n\u001b[0;32m     12\u001b[0m     \u001b[38;5;28mprint\u001b[39m(\u001b[38;5;124m'\u001b[39m\u001b[38;5;124mh() start\u001b[39m\u001b[38;5;124m'\u001b[39m)\n\u001b[1;32m---> 13\u001b[0m     \u001b[43mg\u001b[49m\u001b[43m(\u001b[49m\u001b[43m)\u001b[49m\n\u001b[0;32m     14\u001b[0m     \u001b[38;5;28mprint\u001b[39m(\u001b[38;5;124m'\u001b[39m\u001b[38;5;124mh() end\u001b[39m\u001b[38;5;124m'\u001b[39m)\n",
      "Cell \u001b[1;32mIn[49], line 8\u001b[0m, in \u001b[0;36mg\u001b[1;34m()\u001b[0m\n\u001b[0;32m      6\u001b[0m \u001b[38;5;28;01mdef\u001b[39;00m \u001b[38;5;21mg\u001b[39m():\n\u001b[0;32m      7\u001b[0m     \u001b[38;5;28mprint\u001b[39m(\u001b[38;5;124m'\u001b[39m\u001b[38;5;124mg() start\u001b[39m\u001b[38;5;124m'\u001b[39m)\n\u001b[1;32m----> 8\u001b[0m     \u001b[43mf\u001b[49m\u001b[43m(\u001b[49m\u001b[43m)\u001b[49m\n\u001b[0;32m      9\u001b[0m     \u001b[38;5;28mprint\u001b[39m(\u001b[38;5;124m'\u001b[39m\u001b[38;5;124mg() end\u001b[39m\u001b[38;5;124m'\u001b[39m)\n",
      "Cell \u001b[1;32mIn[49], line 3\u001b[0m, in \u001b[0;36mf\u001b[1;34m()\u001b[0m\n\u001b[0;32m      1\u001b[0m \u001b[38;5;28;01mdef\u001b[39;00m \u001b[38;5;21mf\u001b[39m():\n\u001b[0;32m      2\u001b[0m     \u001b[38;5;28mprint\u001b[39m(\u001b[38;5;124m'\u001b[39m\u001b[38;5;124mf() start\u001b[39m\u001b[38;5;124m'\u001b[39m)\n\u001b[1;32m----> 3\u001b[0m     \u001b[38;5;28;01mraise\u001b[39;00m \u001b[38;5;167;01mException\u001b[39;00m(\u001b[38;5;124m'\u001b[39m\u001b[38;5;124m에러\u001b[39m\u001b[38;5;124m'\u001b[39m)\n\u001b[0;32m      4\u001b[0m     \u001b[38;5;28mprint\u001b[39m(\u001b[38;5;124m'\u001b[39m\u001b[38;5;124mf() end\u001b[39m\u001b[38;5;124m'\u001b[39m)\n",
      "\u001b[1;31mException\u001b[0m: 에러"
     ]
    }
   ],
   "source": [
    "def f():\n",
    "    print('f() start')\n",
    "    raise Exception('에러')\n",
    "    print('f() end')\n",
    "\n",
    "def g():\n",
    "    print('g() start')\n",
    "    f()\n",
    "    print('g() end')\n",
    "\n",
    "def h():\n",
    "    print('h() start')\n",
    "    g()\n",
    "    print('h() end')\n",
    "\n",
    "print('>> start ')\n",
    "h()\n",
    "print('>> end')"
   ]
  },
  {
   "cell_type": "markdown",
   "id": "66bedfd2",
   "metadata": {},
   "source": [
    "f()에서 발생한 에러가 f()를 실행시킨 곳으로 돌아가면서 g()로 갔는데 g()에서도, f()에서도 예외처리가 되지 않았음. \n",
    "\n",
    "Exception의 '에러'는 글로벌에서 발생하게 됨"
   ]
  },
  {
   "cell_type": "code",
   "execution_count": 54,
   "id": "a27d5049",
   "metadata": {
    "scrolled": true
   },
   "outputs": [
    {
     "name": "stdout",
     "output_type": "stream",
     "text": [
      ">> start \n",
      "h() start\n",
      "g() start\n",
      "f() start\n",
      "예외처리\n",
      "h() end\n",
      ">> end\n"
     ]
    }
   ],
   "source": [
    "def f():\n",
    "    print('f() start')\n",
    "    raise Exception('에러')\n",
    "    print('f() end')\n",
    "\n",
    "def g():\n",
    "    print('g() start')\n",
    "    f()\n",
    "    print('g() end')\n",
    "\n",
    "def h():\n",
    "    print('h() start')\n",
    "    try:\n",
    "        g()\n",
    "    except Exception:\n",
    "        print('예외처리')\n",
    "    print('h() end')\n",
    "\n",
    "print('>> start ')\n",
    "h()\n",
    "print('>> end')"
   ]
  },
  {
   "cell_type": "markdown",
   "id": "5ecae97a",
   "metadata": {},
   "source": [
    "### __str__ & __repr__"
   ]
  },
  {
   "cell_type": "code",
   "execution_count": 101,
   "id": "2c483426",
   "metadata": {},
   "outputs": [
    {
     "name": "stdout",
     "output_type": "stream",
     "text": [
      "string 반환\n",
      "repr 반환\n"
     ]
    }
   ],
   "source": [
    "class Stack:\n",
    "    def __str__(self):\n",
    "        return 'string 반환'\n",
    "\n",
    "    def __repr__(self):\n",
    "        return 'repr 반환'\n",
    "\n",
    "s = Stack()\n",
    "print(s)\n",
    "print(repr(s))"
   ]
  }
 ],
 "metadata": {
  "kernelspec": {
   "display_name": "Python 3 (ipykernel)",
   "language": "python",
   "name": "python3"
  },
  "language_info": {
   "codemirror_mode": {
    "name": "ipython",
    "version": 3
   },
   "file_extension": ".py",
   "mimetype": "text/x-python",
   "name": "python",
   "nbconvert_exporter": "python",
   "pygments_lexer": "ipython3",
   "version": "3.9.13"
  }
 },
 "nbformat": 4,
 "nbformat_minor": 5
}
