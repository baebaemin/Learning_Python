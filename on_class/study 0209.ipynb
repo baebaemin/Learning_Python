{
 "cells": [
  {
   "cell_type": "markdown",
   "id": "a471607c",
   "metadata": {},
   "source": [
    "### 패턴 매칭"
   ]
  },
  {
   "cell_type": "markdown",
   "id": "45c2c546",
   "metadata": {},
   "source": [
    "#### 고지식한 패턴 검색 알고리즘: BruteForse"
   ]
  },
  {
   "cell_type": "code",
   "execution_count": 2,
   "id": "758e21b2",
   "metadata": {},
   "outputs": [
    {
     "data": {
      "text/plain": [
       "2"
      ]
     },
     "execution_count": 2,
     "metadata": {},
     "output_type": "execute_result"
    }
   ],
   "source": [
    "p = \"is\"  # 찾을 패턴\n",
    "t = \"this is a book~!\"  # 전체 텍스트\n",
    "M = len(p)  # 찾을 패턴의 길이\n",
    "N = len(t)  # 전체 텍스트의 길이\n",
    "\n",
    "def BruteForce(p, t):\n",
    "    i = 0  # t의 인덱스\n",
    "    j = 0  # p의 인덱스\n",
    "    while j < M and i < N:  # j랑 i가 각자의 인덱스를 벗어나지 않을 때\n",
    "        if t[i] != p[j]:  # 같은 문자가 없을 때\n",
    "            i = i - j\n",
    "            j = -1  # j는 이동하지 않게 빼주기\n",
    "        i = i + 1\n",
    "        j = j + 1\n",
    "    if j == M : return i - M  # 검색 성공, 찾은 패턴 장소의 인덱스 반환\n",
    "    else : return -1 # 검색 실패\n",
    "\n",
    "BruteForce(p, t)"
   ]
  },
  {
   "cell_type": "code",
   "execution_count": 12,
   "id": "d0b1e640",
   "metadata": {},
   "outputs": [
    {
     "name": "stdout",
     "output_type": "stream",
     "text": [
      "14 ab\n"
     ]
    }
   ],
   "source": [
    "p = 'ab'\n",
    "t = 'aaaazaaaazaaaaab'\n",
    "m = len(p)\n",
    "n = len(t)\n",
    "\n",
    "i = j = 0\n",
    "while i < n:\n",
    "    # 일치하는 경우\n",
    "    if t[i] == p[j]:\n",
    "        i = i - j\n",
    "        j = - 1\n",
    "\n",
    "    i, j = i + 1, j + 1\n",
    "    if j == m:\n",
    "        print(i - j, t[i-j:i])\n",
    "        j = 0\n"
   ]
  },
  {
   "cell_type": "code",
   "execution_count": null,
   "id": "e28fe231",
   "metadata": {},
   "outputs": [],
   "source": [
    "p = ''\n",
    "t = 'aaaazaaaazaaaaab'\n",
    "m = len(p)\n",
    "n = len(t)\n"
   ]
  },
  {
   "cell_type": "code",
   "execution_count": 4,
   "id": "fd258363",
   "metadata": {},
   "outputs": [
    {
     "name": "stdout",
     "output_type": "stream",
     "text": [
      "14\n"
     ]
    }
   ],
   "source": [
    "p = 'ab'\n",
    "t = 'aaaazaaaazaaaaab'\n",
    "M = len(p)\n",
    "N = len(t)\n",
    "\n",
    "def bf(p, t, N, M):\n",
    "    for i in range(N-M+1):  # 패턴보다 짧은 문자가 남았을땐 찾을 필요 x\n",
    "        for j in range(M):  \n",
    "            if t[i+j] != p[j]:  # 한글자씩 첫 글자가 같은지 대조\n",
    "                break  # 같지 않으면 BREAK\n",
    "        else:  \n",
    "            return i  # 패턴의 j가 range M의 끝까지 갔다면 i 인덱스 반환\n",
    "    return -1  # 검색 실패\n",
    "\n",
    "print(bf(p,t, N, M))"
   ]
  },
  {
   "cell_type": "markdown",
   "id": "2333246c",
   "metadata": {},
   "source": [
    "### KMP 알고리즘"
   ]
  },
  {
   "cell_type": "markdown",
   "id": "77ac9bd8",
   "metadata": {},
   "source": [
    "불일치가 발생한 텍스트 스트링의 앞 부분에 어떤 문자가 있는지를 미리 알고 있으므로, 불일치가 발생한 앞 부분에 대하여 다시 비교하지 않고 매칭을 수행"
   ]
  },
  {
   "cell_type": "markdown",
   "id": "81d2c6b5",
   "metadata": {},
   "source": [
    "패턴을 전처리하여 배열 next[M]을 구해서 잘못된 시작을 최소화함\n",
    "* next[M]: 불일치가 발생했을 경우 이동할 다음 위치\n",
    "* 시간 복잡도: O(M+N)"
   ]
  },
  {
   "cell_type": "markdown",
   "id": "855bb89b",
   "metadata": {},
   "source": [
    "텍스트에서 abcdabc까지는 매치되고, e에서 실패한 상황 패턴의 맨 앞의 abc와 실패 직전의 abc는 동일함을 이용할 수 있다"
   ]
  },
  {
   "cell_type": "code",
   "execution_count": null,
   "id": "26b35afd",
   "metadata": {},
   "outputs": [],
   "source": [
    "T : ... abcdabcd\n",
    "P : abcdabcef"
   ]
  },
  {
   "cell_type": "markdown",
   "id": "2d6766b3",
   "metadata": {},
   "source": [
    "### 보이어-무어 알고리즘\n",
    "* 오른쪽에서 왼쪽으로 비교\n",
    "* 대부분의 상용 소프트웨어에서 채택하고 있는 알고리즘\n",
    "* 보이어-무어 알고리즘은 패턴에 오른쪽 끝에 있는 문자가 불일치하고 이 문자가 패턴 내에 존재하지 않는 경우, 이동 거리는 무려 패턴의 길이 만큼이 된다."
   ]
  },
  {
   "cell_type": "markdown",
   "id": "5edf1b75",
   "metadata": {},
   "source": [
    "### bit열의 암호화\n",
    "* 배타적 논리합(exclusive-or) 연산 사용"
   ]
  },
  {
   "cell_type": "markdown",
   "id": "bf8746b9",
   "metadata": {},
   "source": [
    "### 문자열 압축\n",
    "* Run - length encoding 알고리즘\n",
    "* 같은 값이 몇 번 반복되는가를 나타냄으로써 압축\n",
    "* 이 방법은 이미지 파일포맷 중 BMP 파일포맷의 압축 방법이다.\n",
    "* 좀 더 효율적이고 일반적인 압축방법은 없는가? -> 허프만 코딩 알고리즘"
   ]
  }
 ],
 "metadata": {
  "kernelspec": {
   "display_name": "Python 3 (ipykernel)",
   "language": "python",
   "name": "python3"
  },
  "language_info": {
   "codemirror_mode": {
    "name": "ipython",
    "version": 3
   },
   "file_extension": ".py",
   "mimetype": "text/x-python",
   "name": "python",
   "nbconvert_exporter": "python",
   "pygments_lexer": "ipython3",
   "version": "3.9.13"
  }
 },
 "nbformat": 4,
 "nbformat_minor": 5
}
