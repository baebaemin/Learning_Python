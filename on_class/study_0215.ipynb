{
 "cells": [
  {
   "cell_type": "markdown",
   "id": "fdbe8e91",
   "metadata": {},
   "source": [
    "### stack2 - 계산기\n",
    "노트P 1, 2p"
   ]
  },
  {
   "cell_type": "markdown",
   "id": "6d55ddb7",
   "metadata": {},
   "source": [
    "* 문자열로 된 계산식이 주어질 때, 스택을 이용하여 이 계산식의 값을 계산할 수 있다.\n",
    "* #### 문자열 수식 계산의 일반적 방법\n",
    "    * step1. 중위 표기법의 수식을 후위 표기법으로 변경한다. (스택 이용)\n",
    "    * step2. 후위 표기법의 수식을 스택을 이용하여 계산한다.\n",
    "        * #### 중위표기법(infix notation)\n",
    "            - 연산자를 피연산자의 가운데 표기하는 방법 (ex. A+B)\n",
    "        * #### 후위표기법(postfix notation)\n",
    "            - 연산자를 피연산자의 뒤에 표기하는 방법 (ex. AB+)"
   ]
  },
  {
   "cell_type": "markdown",
   "id": "7a4fa947",
   "metadata": {},
   "source": [
    "#### 중위표기식의 후위표기식 변환 방법\n",
    "* A*B=C/D\n",
    "* ((A*B - (C/D))"
   ]
  },
  {
   "cell_type": "code",
   "execution_count": 16,
   "id": "eb0c0e92",
   "metadata": {},
   "outputs": [],
   "source": [
    "icp = {'+': 1, '-': 1, '*': 2, '/': 2, '(': 3, ')': 0}  # 스택 밖에 있을 때\n",
    "isp = {'+': 1, '-': 1, '*': 2, '/': 2, '(': 0, ')': 0}  # 스택 안에 있을 때\n",
    "infix = '(6+5*(2-8)/2)'\n",
    "postfix = ''\n",
    "S = []\n",
    "\n",
    "for token in infix:    # 하나 가져오면 연산자인지 피연산자인지 구분부터\n",
    "    if token in icp:  #연산자일때,\n",
    "        if token == ')':  # 닫는 괄호일때와 나머지를 분리\n",
    "            while S[-1] != '(':  # 스택이 비어있지 않고, 닫는게 나왔다면 여는 애가 나올 때 까지\n",
    "                postfix += S.pop()\n",
    "            S.pop()\n",
    "        else:  # +-*/(이면 토큰의 우선순위를 icp에서 얻어오고\n",
    "            while S and icp[token] <= isp[S[-1]]:  # 스택이 비어있지 않고, 안에 있는 녀석의 우선순위가 높다면\n",
    "                postfix += S.pop()\n",
    "            S.append(token)\n",
    "    else:  # 피연산자\n",
    "        postfix += token  # string에 붙이기\n",
    "while S:\n",
    "    postfix += S.pop()  # 남아있는 게 없을 때까지\n"
   ]
  },
  {
   "cell_type": "code",
   "execution_count": 17,
   "id": "14f6775b",
   "metadata": {},
   "outputs": [
    {
     "name": "stdout",
     "output_type": "stream",
     "text": [
      "-9\n"
     ]
    }
   ],
   "source": [
    "for token in postfix:\n",
    "    if token in icp:\n",
    "        b = S.pop()\n",
    "        a = S.pop()\n",
    "        if token == '+': S.append(a + b)\n",
    "        elif token == '-': S.append(a - b)\n",
    "        elif token == '*': S.append(a * b)\n",
    "        else: S.append(a // b)\n",
    "    else:\n",
    "        S.append(int(token))  # 문자열로 되어있으니까\n",
    "\n",
    "print(S[0])"
   ]
  },
  {
   "cell_type": "markdown",
   "id": "de080a36",
   "metadata": {},
   "source": [
    "\n",
    "### 백트래킹Backtracking\n",
    "해를 찾는 도중에 '막히면'(즉, 해가 아니면) 되돌아가서 다시 해를 찾아 가는 기법이다."
   ]
  },
  {
   "cell_type": "markdown",
   "id": "d82358b5",
   "metadata": {},
   "source": [
    "* 백트래킹 기법은 최적화(optimization) 문제와 결정(decision) 문제를 해결할 수 있다.\n",
    "* 결정 문제: 문제의 조건을 만족하는 해가 존재하는지의 여부를 'yes' 또는 'no'가 답하는 문제\n",
    "    * 미로찾기\n",
    "    * n-Queen 문제\n",
    "    * Map coloring ( 지도에서 서로 인접한 지역이 있으면 다른 색으로 칠할 수 있는가? )\n",
    "    * 부분 집합의 합(Subset Sum) 문제 등"
   ]
  },
  {
   "cell_type": "markdown",
   "id": "d4fbd5a1",
   "metadata": {},
   "source": [
    "### 백트래킹과 깊이우선탐색과의 차이\n",
    "* 어떤 노드에서 출발하는 경로가 해결책으로 이어질 것 같지 않으면 더이상 그 경로를 따라가지 않음으로써 시도의 횟수를 줄임 (Prunning 가지치기)\n",
    "* 깊이우선탐색은 모든 경로를 추적하지만 백트래킹은 불필요한 경로를 조기에 차단\n",
    "* 깊이우선탐색을 가하기에는 경우의수가 너무나 많음. N!가지의 경우의 수를 가진 문제에 대해 깊이우선탐색을 하면 처리 불가능.\n",
    "* 백트래킹 알고리즘을 적용하면 일반적으로 경우의 수가 줄어들지만 역시 최악의 경우에는 여전히 지수함수시간(Exponential Time)을 요하므로 처리 불가능"
   ]
  },
  {
   "cell_type": "markdown",
   "id": "44364269",
   "metadata": {},
   "source": [
    "### 백트래킹 기법\n",
    "* 어떤 노드의 유망성을 점검한 후에 유망(promising)하지 않다고 결정되면 그 노드의 부모로 돌아가(backtracking) 다음 자식 노드로 감\n",
    "* 어떤 노드를 방문하였을 때 그 노드를 포함한 경로가 해답이 될 수 없으면 그 노드는 유망하지 않다고 하며, 반대로 해답의 가능성이 있으면 유망하다고 한다.\n",
    "* 가지치기(prunning): 유망하지 않는 노드가 포함되는 경로는 더 이상 고려하지 않는다."
   ]
  },
  {
   "cell_type": "markdown",
   "id": "89c48432",
   "metadata": {},
   "source": [
    "1. 깊이 우선 검색 실시\n",
    "2. 노드가 유망한지 점검\n",
    "3. 그 노드가 유망하지 않으면, 부모 노드로 돌아가 자식 노드 탐색"
   ]
  },
  {
   "cell_type": "markdown",
   "id": "f78e80e4",
   "metadata": {},
   "source": [
    "#### 일반 백트래킹 알고리즘"
   ]
  },
  {
   "cell_type": "code",
   "execution_count": null,
   "id": "978fadc8",
   "metadata": {},
   "outputs": [],
   "source": [
    "def checknode (v) :  # v = node\n",
    "    if promisint(v) : \n",
    "        if there is a solution at v:  # v가 유망하다면\n",
    "            write the solution\n",
    "        else:\n",
    "            for u in each child of v:\n",
    "                checknode(u)"
   ]
  },
  {
   "cell_type": "code",
   "execution_count": null,
   "id": "8e339a51",
   "metadata": {},
   "outputs": [],
   "source": [
    "https://t1.daumcdn.net/cfile/tistory/99E81B345A7F1A6618"
   ]
  },
  {
   "cell_type": "markdown",
   "id": "c7cf431b",
   "metadata": {},
   "source": [
    "#### 부분집합 구하기"
   ]
  },
  {
   "cell_type": "markdown",
   "id": "16389572",
   "metadata": {},
   "source": [
    "* 모든 부분집합을 powerset이라고 하며, 구하고자 하는 어떤 집합의 원소 개수가 n일 경우 부분집합의 개수는 2^n개이다.\n",
    "* 백트래킹 기법으로 powerset을 구해보자.\n",
    "    * n개의 원소가 들어있는 집합의 2^n개의 부분집합을 만들 때는, true 또는 false값을 가지는 항목들로 구성된 n개의 배열을 만드는 방법을 이용.\n",
    "    * 여기서 배열의 i번째 항목은 i번째의 원소가 부분집합의 값인지 아닌지를 나타내는 값이다."
   ]
  },
  {
   "cell_type": "markdown",
   "id": "e95002d3",
   "metadata": {},
   "source": [
    "### 단순하게 순열을 생성하는 방법"
   ]
  },
  {
   "cell_type": "code",
   "execution_count": 3,
   "id": "f1ecfa2e",
   "metadata": {},
   "outputs": [
    {
     "name": "stdout",
     "output_type": "stream",
     "text": [
      "1 2 3\n",
      "1 3 2\n",
      "2 1 3\n",
      "2 3 1\n",
      "3 1 2\n",
      "3 2 1\n"
     ]
    }
   ],
   "source": [
    "for i1 in range(1, 4):\n",
    "    for i2 in range(1, 4):\n",
    "        if i2 != i1 :\n",
    "            for i3 in range(1, 4):\n",
    "                if i3 != i1 and i3 != i2:\n",
    "                    print(i1, i2, i3)"
   ]
  },
  {
   "cell_type": "markdown",
   "id": "e625af55",
   "metadata": {},
   "source": [
    "### 백트래킹을 이용하여 순열 구하기"
   ]
  },
  {
   "cell_type": "code",
   "execution_count": 5,
   "id": "27979d84",
   "metadata": {},
   "outputs": [
    {
     "name": "stdout",
     "output_type": "stream",
     "text": [
      "1 2 3 \n",
      "1 3 2 \n",
      "2 1 3 \n",
      "3 2 1 \n"
     ]
    }
   ],
   "source": [
    "def backtrack(a, k, input):\n",
    "    global MAXCANDIDATES\n",
    "    c = [0] * MAXCANDIDATES\n",
    "    \n",
    "    if k == input:\n",
    "        for i in range(1, k+1):\n",
    "            print(a[i], end=\" \")  \n",
    "        print()\n",
    "    else:\n",
    "        k += 1  # 첫 번째 숫자를 고를 차례야\n",
    "        ncandidates = construct_candidates(a, k, input, c)  # 후보를 골라주겠니\n",
    "        # 개수는 ncandidates로 알려줘\n",
    "        for i in range(ncandidates):\n",
    "            a[k] = c[i]\n",
    "            backtrack(a, k, input)\n",
    "# 앞에서 사용된 숫자는 제외\n",
    "\n",
    "def construct_candidates(a, k, input, c):\n",
    "    in_perm = [False] * NMAX  # 내가 사용한 얘를 표시하는 것. 넉넉하게 만들어요\n",
    "    \n",
    "    for i in range(1, k):\n",
    "        in_perm[a[i]] = True  # 사용되었는지 체크\n",
    "        \n",
    "    ncandidates = 0 \n",
    "    for i in range(1, input+1):  # in_perm의 1, 2, 3 탐색\n",
    "        if in_perm[i] == False:  # 사용하지 않은 남은 숫자를 후보로 추천\n",
    "            c[ncandidates] = i\n",
    "            ncandidates += 1\n",
    "    return ncandidates\n",
    "\n",
    "NMAX = 11  # 크게 만들어놓고\n",
    "MAXCANDIDATES = 10\n",
    "a = [0] * NMAX  # a[i] = 사용되었는지 표시할 용도\n",
    "backtrack(a, 0, 3)  # 3개만 만들면 돼"
   ]
  },
  {
   "cell_type": "markdown",
   "id": "ef7877b4",
   "metadata": {},
   "source": [
    "\n",
    "### 부분집합"
   ]
  },
  {
   "cell_type": "code",
   "execution_count": 12,
   "id": "76ad0278",
   "metadata": {},
   "outputs": [
    {
     "name": "stdout",
     "output_type": "stream",
     "text": [
      "[1, 1, 1, 1]\n",
      "[1, 1, 1, 0]\n",
      "[1, 1, 0, 1]\n",
      "[1, 1, 0, 0]\n",
      "[1, 0, 1, 1]\n",
      "[1, 0, 1, 0]\n",
      "[1, 0, 0, 1]\n",
      "[1, 0, 0, 0]\n",
      "[0, 1, 1, 1]\n",
      "[0, 1, 1, 0]\n",
      "[0, 1, 0, 1]\n",
      "[0, 1, 0, 0]\n",
      "[0, 0, 1, 1]\n",
      "[0, 0, 1, 0]\n",
      "[0, 0, 0, 1]\n",
      "[0, 0, 0, 0]\n"
     ]
    }
   ],
   "source": [
    "def f(i, k):\n",
    "    if i == k:  # 구하고자 하는 부분집합의 개수를 초과하지 않고 끝\n",
    "        print(bit)\n",
    "    else:\n",
    "        bit[i] = 1  \n",
    "        f(i+1, k)  # 다음 칸으로 이동\n",
    "        bit[i] = 0\n",
    "        f(i+1, k)  # 다음 칸으로 이동\n",
    "\n",
    "A = {1, 2, 3, 4}\n",
    "N = len(A)\n",
    "bit = [0] * N\n",
    "f(0, N)"
   ]
  },
  {
   "cell_type": "code",
   "execution_count": 5,
   "id": "d2db8d88",
   "metadata": {},
   "outputs": [
    {
     "name": "stdout",
     "output_type": "stream",
     "text": [
      "1 2 3 [1, 1, 1]\n",
      "1 2 [1, 1, 0]\n",
      "1 3 [1, 0, 1]\n",
      "1 [1, 0, 0]\n",
      "2 3 [0, 1, 1]\n",
      "2 [0, 1, 0]\n",
      "3 [0, 0, 1]\n",
      "[0, 0, 0]\n"
     ]
    }
   ],
   "source": [
    "def f(i, k):\n",
    "    if i == k:  # 구하고자 하는 부분집합의 개수를 초과하지 않고 끝\n",
    "        for j in range(k):\n",
    "            if bit[j]:\n",
    "                print(A[j], end = ' ')\n",
    "        print(bit)\n",
    "    else:\n",
    "        bit[i] = 1  \n",
    "        f(i+1, k)  # 다음 칸으로 이동\n",
    "        bit[i] = 0\n",
    "        f(i+1, k)  # 다음 칸으로 이동\n",
    "\n",
    "A = [1, 2, 3]\n",
    "N = len(A)\n",
    "bit = [0] * N\n",
    "f(0, N)"
   ]
  },
  {
   "cell_type": "code",
   "execution_count": 4,
   "id": "017c8728",
   "metadata": {},
   "outputs": [
    {
     "name": "stdout",
     "output_type": "stream",
     "text": [
      "[1, 1, 1] 6\n",
      "[1, 1, 0] 3\n",
      "[1, 0, 1] 4\n",
      "[1, 0, 0] 1\n",
      "[0, 1, 1] 5\n",
      "[0, 1, 0] 2\n",
      "[0, 0, 1] 3\n",
      "[0, 0, 0] 0\n"
     ]
    }
   ],
   "source": [
    "def f(i, k):\n",
    "    if i == k:  # 하ㅏ의 부분집합 완성\n",
    "        s = 0\n",
    "        for j in range(k):\n",
    "            if bit[j]:\n",
    "                s += A[j]\n",
    "        print(bit, s)\n",
    "    else:\n",
    "        bit[i] = 1  \n",
    "        f(i+1, k)  # 다음 칸으로 이동\n",
    "        bit[i] = 0\n",
    "        f(i+1, k)  # 다음 칸으로 이동\n",
    "\n",
    "A = [1, 2, 3]\n",
    "N = len(A)\n",
    "bit = [0] * N\n",
    "f(0, N)"
   ]
  },
  {
   "cell_type": "code",
   "execution_count": 19,
   "id": "84814b7a",
   "metadata": {},
   "outputs": [
    {
     "name": "stdout",
     "output_type": "stream",
     "text": [
      "1 2 3 4 \n",
      "1 2 7 \n",
      "1 3 6 \n",
      "1 4 5 \n",
      "1 9 \n",
      "2 3 5 \n",
      "2 8 \n",
      "3 7 \n",
      "4 6 \n",
      "10 \n"
     ]
    }
   ],
   "source": [
    "def f(i, k, key):\n",
    "    if i == k:  # 하ㅏ의 부분집합 완성\n",
    "        s = 0\n",
    "        for j in range(k):\n",
    "            if bit[j]:\n",
    "                s += A[j]\n",
    "#                 if s > limit:\n",
    "#                     return\n",
    "        if s == key:  # 합이 key와 같은 부분집합을 출력\n",
    "            for j in range(k):\n",
    "                if bit[j]:\n",
    "                    print(A[j], end = ' ')\n",
    "            print()\n",
    "    else:\n",
    "        bit[i] = 1  \n",
    "        f(i+1, k, key)  # 다음 칸으로 이동\n",
    "        bit[i] = 0\n",
    "        f(i+1, k, key)  # 다음 칸으로 이동\n",
    "\n",
    "A = list(range(1, 11))\n",
    "limit = 10\n",
    "key = 10\n",
    "N = len(A)\n",
    "bit = [0] * N\n",
    "f(0, N, key)"
   ]
  },
  {
   "cell_type": "code",
   "execution_count": 22,
   "id": "961bdb4e",
   "metadata": {},
   "outputs": [
    {
     "name": "stdout",
     "output_type": "stream",
     "text": [
      "1\n"
     ]
    }
   ],
   "source": [
    "def f(i, k, key):\n",
    "    # global ans  => 이렇게 ... \n",
    "    if i == k:\n",
    "        s = 0\n",
    "        for j in range(k):\n",
    "            if bit[j]:\n",
    "                s += A[j]  # 부분집합의 합\n",
    "        if s == key:  # 합이 key와 같다면\n",
    "            # ans  => ... 하지 말고\n",
    "            return 1\n",
    "        else: \n",
    "            return 0\n",
    "    else:\n",
    "        bit[i] = 1  \n",
    "        if f(i+1, k, key):\n",
    "            return 1  # => ... 이렇게 하깅. return 1 이라는 뜻은 재귀로 윗부분에서 1을 받았기때문에 연속 종료\n",
    "        bit[i] = 0\n",
    "        if f(i+1, k, key):\n",
    "            return 1\n",
    "        return 0\n",
    "\n",
    "A = list(range(1, 11))\n",
    "key = 10\n",
    "N = len(A)\n",
    "bit = [0] * N\n",
    "print(f(0, N, key))"
   ]
  },
  {
   "cell_type": "markdown",
   "id": "f0ba387f",
   "metadata": {},
   "source": [
    "### 가지치기로 부분집합의 합 backtracking"
   ]
  },
  {
   "cell_type": "code",
   "execution_count": 28,
   "id": "952f4c44",
   "metadata": {},
   "outputs": [
    {
     "name": "stdout",
     "output_type": "stream",
     "text": [
      "1\n"
     ]
    }
   ],
   "source": [
    "def f(i, k, s, t):  # i = 원소, k = 집합의 크기, s = i-1까지 고려된 원소들의 합, t = 목표\n",
    "    global cnt\n",
    "    if i == k:  # 원소를 다 고름\n",
    "        if s == t:\n",
    "            cnt += 1\n",
    "        return\n",
    "    else:\n",
    "#         s += A[i]  # 이렇게\n",
    "        f(i+1, k, s + A[i], t)  # A[i] 포함\n",
    "        f(i+1, k, s, t)         # A[i] 미포함   => 이렇게 하자 !\n",
    "#         s -= A[i]  # ... 하지 말구\n",
    "\n",
    "A = list(range(1, 11))\n",
    "key = 1\n",
    "N = len(A)\n",
    "cnt = 0\n",
    "bit = [0] * N\n",
    "\n",
    "f(0, N, 0, key)  # 처음엔 합(s)이 0.\n",
    "print(cnt)"
   ]
  },
  {
   "cell_type": "code",
   "execution_count": 35,
   "id": "73ba9acd",
   "metadata": {},
   "outputs": [
    {
     "name": "stdout",
     "output_type": "stream",
     "text": [
      "1 2 3 4 6 7 8 9 10 \n",
      "bit = [1, 1, 1, 1, 0, 1, 1, 1, 1, 1]\n",
      "1 4 5 6 7 8 9 10 \n",
      "bit = [1, 0, 0, 1, 1, 1, 1, 1, 1, 1]\n",
      "2 3 5 6 7 8 9 10 \n",
      "bit = [0, 1, 1, 0, 1, 1, 1, 1, 1, 1]\n",
      "3\n"
     ]
    }
   ],
   "source": [
    "# 원소의 종류를 알고 싶다면\n",
    "\n",
    "def f(i, k, s, t):\n",
    "    global cnt\n",
    "    if i == k:\n",
    "        if s == t:\n",
    "            for j in range(k):\n",
    "                if bit[j]:\n",
    "                    print(A[j], end=' ')\n",
    "            print()\n",
    "            print('bit =', bit)\n",
    "            cnt += 1\n",
    "        return\n",
    "    else:\n",
    "        bit[i] = 1\n",
    "        f(i+1, k, s + A[i], t)  # A[i] 포함\n",
    "        bit[i] = 0\n",
    "        f(i+1, k, s, t)         # A[i] 미포함\n",
    "\n",
    "A = list(range(1, 11))\n",
    "key = 50\n",
    "N = len(A)\n",
    "cnt = 0\n",
    "bit = [0] * N\n",
    "\n",
    "f(0, N, 0, key)  # 처음엔 합(s)이 0.\n",
    "print(cnt)"
   ]
  },
  {
   "cell_type": "code",
   "execution_count": null,
   "id": "0bbece8d",
   "metadata": {},
   "outputs": [],
   "source": [
    "# 원소의 종류를 알고 싶다면\n",
    "\n",
    "def f(i, k, s, t):\n",
    "    global cnt\n",
    "    if i == k:\n",
    "        if s == t:\n",
    "            for j in range(k):\n",
    "                if bit[j]:\n",
    "                    print(A[j], end=' ')\n",
    "            print()\n",
    "            cnt += 1\n",
    "        return\n",
    "    else:\n",
    "        bit[i] = 1\n",
    "        f(i+1, k, s + A[i], t)  # A[i] 포함\n",
    "        bit[i] = 0\n",
    "        f(i+1, k, s, t)         # A[i] 미포함\n",
    "\n",
    "A = list(range(1, 11))\n",
    "key = 50\n",
    "N = len(A)\n",
    "cnt = 0\n",
    "bit = [0] * N\n",
    "\n",
    "f(0, N, 0, key)  # 처음엔 합(s)이 0.\n",
    "print(cnt)"
   ]
  },
  {
   "cell_type": "code",
   "execution_count": 39,
   "id": "299081fc",
   "metadata": {},
   "outputs": [
    {
     "name": "stdout",
     "output_type": "stream",
     "text": [
      "1 2 3 4 6 7 8 9 10 \n",
      "1 4 5 6 7 8 9 10 \n",
      "2 3 5 6 7 8 9 10 \n",
      "만족하는 경우: 3 몇 번이나 굴렀냐면.. 2047\n"
     ]
    }
   ],
   "source": [
    "def f(i, k, s, t):\n",
    "    global cnt\n",
    "    global fcnt  # 몇 번이나 굴러갔어?\n",
    "    fcnt += 1\n",
    "    if i == k:\n",
    "        if s == t:\n",
    "            for j in range(k):\n",
    "                if bit[j]:\n",
    "                    print(A[j], end=' ')\n",
    "            print()\n",
    "            cnt += 1\n",
    "        return\n",
    "    else:\n",
    "        bit[i] = 1\n",
    "        f(i+1, k, s + A[i], t)  # A[i] 포함\n",
    "        bit[i] = 0\n",
    "        f(i+1, k, s, t)         # A[i] 미포함\n",
    "\n",
    "A = list(range(1, 11))\n",
    "key = 50\n",
    "N = len(A)\n",
    "cnt = fcnt = 0\n",
    "bit = [0] * N\n",
    "\n",
    "f(0, N, 0, key)  # 처음엔 합(s)이 0.\n",
    "print('만족하는 경우:', cnt, '몇 번이나 굴렀냐면..', fcnt)"
   ]
  },
  {
   "cell_type": "code",
   "execution_count": 58,
   "id": "061fb0b5",
   "metadata": {},
   "outputs": [
    {
     "name": "stdout",
     "output_type": "stream",
     "text": [
      "1 2 3 4 \n",
      "1 2 7 \n",
      "1 3 6 \n",
      "1 4 5 \n",
      "1 9 \n",
      "2 3 5 \n",
      "2 8 \n",
      "3 7 \n",
      "4 6 \n",
      "10 \n",
      "만족하는 경우: 10 몇 번이나 굴렀냐면.. 349\n"
     ]
    }
   ],
   "source": [
    "def f(i, k, s, t):\n",
    "    global cnt\n",
    "    global fcnt  # 몇 번이나 굴러갔어?\n",
    "    fcnt += 1\n",
    "    if s > t:  # 고려한 원소의 합이 찾는 합보다 큰 경우\n",
    "        return\n",
    "    if s == t:  # 남은 원소를 고려할 필요가 없는 경우\n",
    "        for j in range(k):\n",
    "            if bit[j]:\n",
    "                print(A[j], end=' ')\n",
    "        print()\n",
    "        cnt += 1\n",
    "        return  # 이거 없어도 리턴 하긴 함\n",
    "    if i == k:  # 모든 원소 고려\n",
    "        return\n",
    "    else:\n",
    "        bit[i] = 1\n",
    "        f(i+1, k, s + A[i], t)  # A[i] 포함\n",
    "        bit[i] = 0\n",
    "        f(i+1, k, s, t)         # A[i] 미포함\n",
    "\n",
    "# A = list(range(1, 11))\n",
    "# N = len(A)\n",
    "\n",
    "N = 10\n",
    "A = [i for i in range(1, N+1)]  # 이렇게 하자 ! 그래야 덜 돌음\n",
    "key = 10\n",
    "cnt = fcnt = 0\n",
    "bit = [0] * N\n",
    "\n",
    "f(0, N, 0, key)  # 처음엔 합(s)이 0.\n",
    "print('만족하는 경우:', cnt, '몇 번이나 굴렀냐면..', fcnt)"
   ]
  },
  {
   "cell_type": "code",
   "execution_count": 76,
   "id": "6c96ca88",
   "metadata": {},
   "outputs": [
    {
     "name": "stdout",
     "output_type": "stream",
     "text": [
      "1 2 3 4 \n",
      "1 2 7 \n",
      "1 3 6 \n",
      "1 4 5 \n",
      "1 9 \n",
      "2 3 5 \n",
      "2 8 \n",
      "3 7 \n",
      "4 6 \n",
      "10 \n"
     ]
    }
   ],
   "source": [
    "def f(i, k, s, t):\n",
    "    global cnt\n",
    "    global amounts\n",
    "    if s > t:  # 고려한 원소의 합이 찾는 합보다 큰 경우\n",
    "        return\n",
    "    if s == t:  # 남은 원소를 고려할 필요가 없는 경우\n",
    "        amounts = 0\n",
    "        for j in range(k):\n",
    "            if bit[j]:\n",
    "                print(A[j], end=' ')\n",
    "                \n",
    "        print()\n",
    "        cnt += 1\n",
    "        return  # 이거 없어도 리턴 하긴 함\n",
    "    if i == k:  # 모든 원소 고려\n",
    "        return\n",
    "    else:\n",
    "        bit[i] = 1\n",
    "        f(i+1, k, s + A[i], t)  # A[i] 포함\n",
    "        bit[i] = 0\n",
    "        f(i+1, k, s, t)         # A[i] 미포함\n",
    "\n",
    "# A = list(range(1, 11))\n",
    "# N = len(A)\n",
    "\n",
    "N = 12\n",
    "A = [i for i in range(1, N+1)]  # 이렇게 하자 ! 그래야 덜 돌음\n",
    "set_num = 5 # 5개만 \n",
    "K = 10\n",
    "cnt = amounts = 0\n",
    "bit = [0] * N\n",
    "\n",
    "f(0, N, 0, K)  # 처음엔 합(s)이 0."
   ]
  },
  {
   "cell_type": "code",
   "execution_count": null,
   "id": "68f45f08",
   "metadata": {},
   "outputs": [],
   "source": [
    "def f(i, k, s, t):\n",
    "    global cnt\n",
    "    global amounts\n",
    "    if s > t:  # 고려한 원소의 합이 찾는 합보다 큰 경우\n",
    "        return\n",
    "    if i == k and s == t:  # 모든 원소 고려\n",
    "        for j in range(k):\n",
    "            if bit[j]:\n",
    "                print(A[j], end=' ')\n",
    "        print()\n",
    "        cnt += 1\n",
    "        return\n",
    "    else:\n",
    "        bit[i] = 1\n",
    "        f(i+1, k, s + A[i], t)  # A[i] 포함\n",
    "        bit[i] = 0\n",
    "        f(i+1, k, s, t)         # A[i] 미포함\n",
    "\n",
    "# A = list(range(1, 11))\n",
    "# N = len(A)\n",
    "\n",
    "N = 12\n",
    "A = [i for i in range(1, N+1)]  # 이렇게 하자 ! 그래야 덜 돌음\n",
    "set_num = 5 # 5개만 \n",
    "K = 10\n",
    "cnt = amounts = 0\n",
    "bit = [0] * N\n",
    "\n",
    "f(0, N, 0, K)  # 처음엔 합(s)이 0."
   ]
  },
  {
   "cell_type": "code",
   "execution_count": null,
   "id": "8e2fbe69",
   "metadata": {},
   "outputs": [],
   "source": [
    "T = int(input())\n",
    "A = [i for i in range(1, N+1)]\n",
    "\n",
    "def powerset(i, k, s, t): # i = 원소, k = 만들 집합의 크기, s = i-1까지 고려된 원소들의 합, t = 목표\n",
    "    global cnt\n",
    "    if i == k:\n",
    "        if s > t:  # 고려한 원소의 합이 찾는 합보다 큰 경우\n",
    "            return\n",
    "        if s == t:\n",
    "            cnt += 1\n",
    "    else:\n",
    "        bit[i] = 1\n",
    "        f(i+1, k, s + A[i], t)\n",
    "        bit[i] = 0\n",
    "        f(i+1, k, s, t)\n",
    "\n",
    "for tc in range(1, T+1):\n",
    "    N, K = map(int, input().split())\n",
    "    cnt = 0\n",
    "    bit = [0] * len(A)\n",
    "    \n",
    "    powerset(0, N, 0, K)\n",
    "    print(cnt)"
   ]
  },
  {
   "cell_type": "markdown",
   "id": "f5a19374",
   "metadata": {},
   "source": [
    "### 순열"
   ]
  },
  {
   "cell_type": "code",
   "execution_count": 74,
   "id": "c244a750",
   "metadata": {},
   "outputs": [
    {
     "name": "stdout",
     "output_type": "stream",
     "text": [
      "1 1 1\n",
      "1 1 2\n",
      "1 1 3\n",
      "1 2 1\n",
      "1 2 2\n",
      "1 2 3\n",
      "1 3 1\n",
      "1 3 2\n",
      "1 3 3\n",
      "2 1 1\n",
      "2 1 2\n",
      "2 1 3\n",
      "2 2 1\n",
      "2 2 2\n",
      "2 2 3\n",
      "2 3 1\n",
      "2 3 2\n",
      "2 3 3\n",
      "3 1 1\n",
      "3 1 2\n",
      "3 1 3\n",
      "3 2 1\n",
      "3 2 2\n",
      "3 2 3\n",
      "3 3 1\n",
      "3 3 2\n",
      "3 3 3\n"
     ]
    }
   ],
   "source": [
    "# 이건 중복순열\n",
    "\n",
    "U = [1, 2, 3]\n",
    "N = len(U)\n",
    "for i in range(N):\n",
    "    for j in range(N):\n",
    "        for k in range(N):\n",
    "            print(U[i], U[j], U[k])  # 인덱스에 모든 N의 원소가 들어가는 경우의 수"
   ]
  },
  {
   "cell_type": "code",
   "execution_count": 75,
   "id": "be49322d",
   "metadata": {},
   "outputs": [
    {
     "name": "stdout",
     "output_type": "stream",
     "text": [
      "1 2 3\n",
      "1 3 2\n",
      "2 1 3\n",
      "2 3 1\n",
      "3 1 2\n",
      "3 2 1\n"
     ]
    }
   ],
   "source": [
    "U = [1, 2, 3]\n",
    "N = len(U)\n",
    "for i in range(N):\n",
    "    for j in range(N):\n",
    "        if j == i: continue\n",
    "        for k in range(N):\n",
    "            if k == i or k == j: continue\n",
    "            print(U[i], U[j], U[k])"
   ]
  },
  {
   "cell_type": "code",
   "execution_count": 80,
   "id": "723486a5",
   "metadata": {},
   "outputs": [
    {
     "name": "stdout",
     "output_type": "stream",
     "text": [
      "1 2 3\n"
     ]
    }
   ],
   "source": [
    "U = [1, 2, 3]\n",
    "N = len(U)\n",
    "used = [0] * N  # 선택되었던 요소들의 정보를 전역변수를 통해 기록하기 \n",
    "order = [0] * N\n",
    "\n",
    "for i in range(N):\n",
    "    if used[i] == 1: continue\n",
    "    used[i] = 1\n",
    "    order[0] = U[i]  # 실제 원소를 저장\n",
    "    for j in range(N):\n",
    "        if used[j]: continue\n",
    "        used[j] = 1\n",
    "        order[1] = U[j]\n",
    "        for k in range(N):\n",
    "            if used[k]: continue\n",
    "            used[k] = 1\n",
    "            order[2] = U[k]\n",
    "            print(*order)\n",
    "\n",
    "# 여기까지만 하면 1 2 3만 뜸\n",
    "# order 리스트가 리셋되지 않았기 때문.\n",
    "# k for문이 다 돌면 다시 j for문에서 작동해야하는데 그때 order 1과 2는 비어있어야 함."
   ]
  },
  {
   "cell_type": "code",
   "execution_count": 82,
   "id": "e8d1f214",
   "metadata": {
    "scrolled": true
   },
   "outputs": [
    {
     "name": "stdout",
     "output_type": "stream",
     "text": [
      "1 2 2\n",
      "1 2 3\n",
      "1 3 2\n",
      "1 3 3\n",
      "2 3 3\n"
     ]
    }
   ],
   "source": [
    "# 재귀함수를 통해 만들기\n",
    "\n",
    "U = [1, 2, 3]\n",
    "N = len(U)\n",
    "used = [0] * N\n",
    "order = [0] * N\n",
    "\n",
    "for i in range(N):\n",
    "    if used[i]: continue\n",
    "    used[i] = 1\n",
    "    order[0] = U[i]\n",
    "    \n",
    "    for j in range(N):\n",
    "        if used[j]: continue\n",
    "        used[j] = 1\n",
    "        order[1] = U[j]\n",
    "        used[j] = 0            # <----- 되돌리기\n",
    "        \n",
    "        for k in range(N):\n",
    "            if used[k]: continue\n",
    "            used[k] = 1\n",
    "            order[2] = U[k]\n",
    "            print(*order)\n",
    "            used[k] = 0       # <----- 되돌리기"
   ]
  },
  {
   "cell_type": "code",
   "execution_count": 83,
   "id": "15050757",
   "metadata": {},
   "outputs": [
    {
     "name": "stdout",
     "output_type": "stream",
     "text": [
      "[1, 2, 3]\n",
      "[1, 3, 2]\n",
      "[2, 1, 3]\n",
      "[2, 3, 1]\n",
      "[3, 1, 2]\n",
      "[3, 2, 1]\n"
     ]
    }
   ],
   "source": [
    "U = [1, 2, 3]\n",
    "N = len(U)\n",
    "used = [0] * N\n",
    "order = [0] * N\n",
    "\n",
    "def perm(k, n):\n",
    "    if k == n:\n",
    "        print(order)\n",
    "    else:\n",
    "        for i in range(N):\n",
    "            if used[i]: \n",
    "                continue\n",
    "            used[i] = 1\n",
    "            order[k] = U[i]\n",
    "            perm(k+1, n)\n",
    "            used[i] = 0\n",
    "                \n",
    "perm(0, N)"
   ]
  },
  {
   "cell_type": "code",
   "execution_count": 85,
   "id": "064508dc",
   "metadata": {},
   "outputs": [
    {
     "name": "stdout",
     "output_type": "stream",
     "text": [
      "[1, 2, 3]\n",
      "[1, 3, 2]\n",
      "[2, 1, 3]\n",
      "[2, 3, 1]\n",
      "[3, 1, 2]\n",
      "[3, 2, 1]\n"
     ]
    }
   ],
   "source": [
    "# 비트 연산자와 메모리제이션을 활용\n",
    "\n",
    "U = [1, 2, 3]\n",
    "N = len(U)\n",
    "order = [0] * N\n",
    "\n",
    "def perm(k, n, used):\n",
    "    if k == n:\n",
    "        print(order)\n",
    "    else:\n",
    "        for i in range(N):\n",
    "            if used & (1 << i): \n",
    "                continue\n",
    "            order[k] = U[i]\n",
    "            perm(k+1, n, used | (1 << i))\n",
    "                \n",
    "perm(0, N, 0)"
   ]
  },
  {
   "cell_type": "markdown",
   "id": "490bd862",
   "metadata": {},
   "source": [
    "### 교환을 통한 순열 생성"
   ]
  },
  {
   "cell_type": "code",
   "execution_count": 86,
   "id": "40e9f0bd",
   "metadata": {
    "scrolled": true
   },
   "outputs": [
    {
     "name": "stdout",
     "output_type": "stream",
     "text": [
      "[1, 2, 3, 4]\n",
      "[2, 1, 3, 4]\n",
      "[3, 1, 2, 4]\n",
      "[4, 1, 2, 3]\n"
     ]
    }
   ],
   "source": [
    "U = [1, 2, 3, 4]\n",
    "N = len(U)\n",
    "\n",
    "for i in range(N):\n",
    "    U[0], U[i] = U[i], U[0]\n",
    "    print(U)\n",
    "\n",
    "# 리셋이 되지 않아서 마지막 원소가 잘못 교환되었다"
   ]
  },
  {
   "cell_type": "code",
   "execution_count": 88,
   "id": "51b710e8",
   "metadata": {},
   "outputs": [
    {
     "name": "stdout",
     "output_type": "stream",
     "text": [
      "[1, 2, 3, 4]\n",
      "[2, 1, 3, 4]\n",
      "[3, 2, 1, 4]\n",
      "[4, 2, 3, 1]\n"
     ]
    }
   ],
   "source": [
    "U = [1, 2, 3, 4]\n",
    "N = len(U)\n",
    "\n",
    "for i in range(N):\n",
    "    U[0], U[i] = U[i], U[0]\n",
    "    print(U)\n",
    "    U[0], U[i] = U[i], U[0]\n",
    "\n",
    "    # 이렇게 리셋해줘야함"
   ]
  },
  {
   "cell_type": "code",
   "execution_count": 89,
   "id": "30e1a30a",
   "metadata": {},
   "outputs": [
    {
     "name": "stdout",
     "output_type": "stream",
     "text": [
      "[2, 1, 3, 4]\n",
      "[3, 2, 1, 4]\n",
      "[4, 2, 3, 1]\n",
      "[1, 2, 3, 4]\n",
      "[3, 1, 2, 4]\n",
      "[4, 1, 3, 2]\n",
      "[2, 3, 1, 4]\n",
      "[1, 2, 3, 4]\n",
      "[4, 2, 1, 3]\n",
      "[2, 4, 3, 1]\n",
      "[3, 2, 4, 1]\n",
      "[1, 2, 3, 4]\n"
     ]
    }
   ],
   "source": [
    "U = [1, 2, 3, 4]\n",
    "N = len(U)\n",
    "\n",
    "for i in range(0, N):\n",
    "    U[0], U[i] = U[i], U[0]\n",
    "    #=============================\n",
    "    for j in range(1, N):\n",
    "        U[1], U[j] = U[j], U[1]\n",
    "        #=============================\n",
    "        print(U)\n",
    "        #=============================\n",
    "        U[1], U[j] = U[j], U[1]\n",
    "    #=============================    \n",
    "    U[0], U[i] = U[i], U[0]\n",
    "\n",
    "# 이런 구조를 4번째까지 반복"
   ]
  },
  {
   "cell_type": "code",
   "execution_count": 93,
   "id": "bbe0f6b9",
   "metadata": {},
   "outputs": [
    {
     "name": "stdout",
     "output_type": "stream",
     "text": [
      "[1, 2, 3]\n",
      "[1, 3, 2]\n",
      "[2, 1, 3]\n",
      "[2, 3, 1]\n",
      "[3, 2, 1]\n",
      "[3, 1, 2]\n"
     ]
    }
   ],
   "source": [
    "U = [1, 2, 3]\n",
    "N = len(U)\n",
    "\n",
    "def perm(k,n):\n",
    "    if k == n:\n",
    "        print(U)\n",
    "    else:\n",
    "        for i in range(k, N):\n",
    "            U[k], U[i] = U[i], U[k]\n",
    "            perm(k + 1, n)\n",
    "            U[k], U[i] = U[i], U[k]\n",
    "perm(0, N)"
   ]
  },
  {
   "cell_type": "code",
   "execution_count": null,
   "id": "84f0590f",
   "metadata": {},
   "outputs": [],
   "source": [
    "def f(i, N):\n",
    "    if i == N: # 순열 완성\n",
    "        pass\n",
    "    else:  # 가능한 모든 원소에 대해\n",
    "        P[i] 결정\n",
    "        f(i+1, N)\n",
    "        P[i] 복구  # 원본 기준으로"
   ]
  },
  {
   "cell_type": "code",
   "execution_count": 63,
   "id": "6b7d857b",
   "metadata": {
    "scrolled": true
   },
   "outputs": [
    {
     "name": "stdout",
     "output_type": "stream",
     "text": [
      "[1, 2, 3]\n",
      "[1, 3, 2]\n",
      "[2, 1, 3]\n",
      "[2, 3, 1]\n",
      "[3, 2, 1]\n",
      "[3, 1, 2]\n"
     ]
    }
   ],
   "source": [
    "def f(i, k):\n",
    "    if i == k:  # 끝\n",
    "        print(p)\n",
    "    else:\n",
    "        for j in range(i, k):\n",
    "            p[i], p[j] = p[j], p[i]\n",
    "            # p[i] 결정. p[i]와 관련된 작업 가능\n",
    "            f(i+1, k)\n",
    "            p[i], p[j] = p[j], p[i]  # 복구\n",
    "\n",
    "p = [1, 2, 3]\n",
    "N = len(p)\n",
    "f(0, N)"
   ]
  },
  {
   "cell_type": "markdown",
   "id": "7937a8c2",
   "metadata": {},
   "source": [
    "### 분할정복 "
   ]
  },
  {
   "cell_type": "code",
   "execution_count": null,
   "id": "336494e9",
   "metadata": {},
   "outputs": [],
   "source": [
    "# 거듭 제곱(Exponentiation)\n",
    "def Power(Base, Exponent):\n",
    "    if Base == 0:\n",
    "        return 1\n",
    "    result = 1 Base^0은 1이므로\n",
    "    for i in range(Exponent):\n",
    "        result *= Base\n",
    "    return result"
   ]
  },
  {
   "cell_type": "code",
   "execution_count": null,
   "id": "5c6b4d5d",
   "metadata": {},
   "outputs": [],
   "source": [
    "def Power(Base, Exponent):\n",
    "    if Exponent == 0 or Base == 0:\n",
    "        return 1\n",
    "    \n",
    "    if Exponent % 2 == 0:\n",
    "        NewBase = Power(Base, Exponent/2)\n",
    "        return NewBase * NewBase\n",
    "    else:\n",
    "        NewBase = Power(Base, (Exponent-1)/2)\n",
    "        return (NewBase * NewBase) * Base"
   ]
  },
  {
   "cell_type": "markdown",
   "id": "037ab1d1",
   "metadata": {},
   "source": [
    "### 퀵정렬\n",
    "* 주어진 배열을 두 개로 분할하고, 각각을 정렬한다.\n",
    "##### 다른 점 1\n",
    "* 합병정렬은 그냥 두 부분으로 나누는 반면에, 퀵정렬은 기준 아이템(pivot item) 중심으로, 이보다 작은 것은 왼편, 큰 것은 오른편에 위치시킨다.\n",
    "##### 다른 점2\n",
    "* 각 부분 정렬이 끝난 후, 합병 정렬은 '합병'이란 후처리 작업이 필요하나, 퀵정렬은 필요로 하지 않는다."
   ]
  },
  {
   "cell_type": "code",
   "execution_count": null,
   "id": "96a6dfa3",
   "metadata": {},
   "outputs": [],
   "source": [
    "def quickSort(a, begin, end):\n",
    "    if begin < end:  # 정렬할 구간이 서로 남아있다면 ( 이 두 요소는 역전되면 안 됨 )\n",
    "        p = partition(a, begin, end)  # pivot의 위치를 기준으로 왼쪽과 오른쪽 두 구간으로 나눔\n",
    "        \n",
    "        # 각각의 구간에 대해서 quicksort\n",
    "        quickSort(a, begin, p-1) \n",
    "        quicSort(a, p+1, end)\n",
    "\n",
    "def partition(a, begin, end):\n",
    "    pivot = (begin + end) // 2\n",
    "    L = begin\n",
    "    R = end\n",
    "    while L < R :\n",
    "        if L == pivot : pivot = R\n",
    "        a[L], a[R] = a[R], a[L]\n",
    "    a[pivot], a[R] = a[R], a[pivot]\n",
    "    return R"
   ]
  },
  {
   "cell_type": "markdown",
   "id": "ea7932fb",
   "metadata": {},
   "source": [
    "### 부분 수열의 합"
   ]
  },
  {
   "cell_type": "code",
   "execution_count": 66,
   "id": "eb83f3e4",
   "metadata": {
    "scrolled": true
   },
   "outputs": [
    {
     "name": "stdout",
     "output_type": "stream",
     "text": [
      "[0, 0, 0]\n",
      "[0, 0, 1]\n",
      "[0, 1, 0]\n",
      "[0, 1, 1]\n",
      "[1, 0, 0]\n",
      "[1, 0, 1]\n",
      "[1, 1, 0]\n",
      "[1, 1, 1]\n"
     ]
    }
   ],
   "source": [
    "#  반복문으로\n",
    "U = [1, 2, 3]  # 원소\n",
    "N = len(U)\n",
    "bit = [0] * N\n",
    "for i in range(2):\n",
    "    bit[0] = i\n",
    "    for j in range(2):\n",
    "        bit[1] = j\n",
    "        for k in range(2):\n",
    "            bit[2] = k\n",
    "            print(bit)"
   ]
  },
  {
   "cell_type": "code",
   "execution_count": 67,
   "id": "eb013d87",
   "metadata": {},
   "outputs": [
    {
     "name": "stdout",
     "output_type": "stream",
     "text": [
      "[0, 0, 0]\n",
      "[0, 0, 1]\n",
      "[0, 1, 0]\n",
      "[0, 1, 1]\n",
      "[1, 0, 0]\n",
      "[1, 0, 1]\n",
      "[1, 1, 0]\n",
      "[1, 1, 1]\n"
     ]
    }
   ],
   "source": [
    "U = [1, 2, 3]  # 원소\n",
    "N = len(U)\n",
    "bit = [0] * N\n",
    "def backtrack(k, n):  # k번 원소에 대한 결정, n: 전체 원소의 개수\n",
    "    if k == n:        # k: 현재 노드(함수호출)의 높이, n: 단말노드의 높이\n",
    "        print(bit)\n",
    "    else:\n",
    "        for i in range(2):\n",
    "            bit[k] = i\n",
    "            backtrack(k+1, n)\n",
    "            \n",
    "            # 아래와 거의 비슷... 하지만 아래는 1부터 넣음\n",
    "#         bit[k] = 1\n",
    "#         backtrack(k+1, n)\n",
    "#         bit[k] = 0\n",
    "#         backtrack(k+1, n)\n",
    "            \n",
    "backtrack(0, N)"
   ]
  },
  {
   "cell_type": "code",
   "execution_count": null,
   "id": "70d2fdbd",
   "metadata": {},
   "outputs": [],
   "source": [
    "U = [1, 2, 3]  # 원소\n",
    "N = len(U)\n",
    "bit = [0] * N\n",
    "def backtrack(k, n):  # k번 원소에 대한 결정, n: 전체 원소의 개수\n",
    "    if k == n: \n",
    "        print(bit)\n",
    "    else:\n",
    "        bit[k] = 1  # k번 원소를 포함\n",
    "        backtrack(k+1, n)  # 이 부분이 끝나야지만 다음 줄까지 가요\n",
    "        bit[k] = 0  # k번 원소를 포함하지 않겠다\n",
    "        backtrack(k+1, n)\n",
    "            \n",
    "backtrack(0, N)"
   ]
  },
  {
   "cell_type": "code",
   "execution_count": 72,
   "id": "51644f09",
   "metadata": {},
   "outputs": [
    {
     "name": "stdout",
     "output_type": "stream",
     "text": [
      "1 2 3 4 ---> 10  // cur_sum= 10\n",
      "1 2 3 ---> 6  // cur_sum= 6\n",
      "1 2 4 ---> 7  // cur_sum= 7\n",
      "1 2 ---> 3  // cur_sum= 3\n",
      "1 3 4 ---> 8  // cur_sum= 8\n",
      "1 3 ---> 4  // cur_sum= 4\n",
      "1 4 ---> 5  // cur_sum= 5\n",
      "1 ---> 1  // cur_sum= 1\n",
      "2 3 4 ---> 9  // cur_sum= 9\n",
      "2 3 ---> 5  // cur_sum= 5\n",
      "2 4 ---> 6  // cur_sum= 6\n",
      "2 ---> 2  // cur_sum= 2\n",
      "3 4 ---> 7  // cur_sum= 7\n",
      "3 ---> 3  // cur_sum= 3\n",
      "4 ---> 4  // cur_sum= 4\n",
      "---> 0  // cur_sum= 0\n"
     ]
    }
   ],
   "source": [
    "U = [1, 2, 3, 4]  # 원소\n",
    "N = len(U)\n",
    "bit = [0] * N\n",
    "def backtrack(k, n, cur_sum):  # k번 원소에 대한 결정, n: 전체 원소의 개수, cur_sum: 더하기로 정한 것만 더한 합\n",
    "    if k == n: # 마지막에 도달했을 떄\n",
    "        # bit = 경로가 저장\n",
    "        # 후보해\n",
    "        S = 0\n",
    "        for i in range(n):\n",
    "            if bit[i]: \n",
    "                print(U[i], end=' '); S += U[i] # 합 누적\n",
    "        print('--->', S, ' // cur_sum=', cur_sum)\n",
    "                \n",
    "    else:\n",
    "        # k값 = 높이(단계)를 의미함\n",
    "        # 여기는 0 ~ k-1번까지 결정한 상태\n",
    "        \n",
    "        bit[k] = 1  # k번 원소를 포함\n",
    "        backtrack(k+1, n, cur_sum + U[k])  # 포함될것이므로 cur_sum에 이번 원소 더하기\n",
    "        \n",
    "        # 이 부분이 끝나야지만 다음 줄까지 가요\n",
    "        \n",
    "        bit[k] = 0  # k번 원소를 포함하지 않겠다\n",
    "        backtrack(k+1, n, cur_sum)  # 얘는 원소가 포함 안될거니까 cur_sum은 그대로\n",
    "            \n",
    "backtrack(0, N, 0)  # 무엇을 더할지 아직 아무것도 결정하지 않았으니 cur_sum은 0\n",
    "\n",
    "# cur_sum은 지금까지 내가 한 선택의 결과."
   ]
  },
  {
   "cell_type": "code",
   "execution_count": 73,
   "id": "fd62e6ce",
   "metadata": {
    "scrolled": true
   },
   "outputs": [
    {
     "name": "stdout",
     "output_type": "stream",
     "text": [
      "1 2 3 ---> 6  // cur_sum= 6\n",
      "1 2 ---> 3  // cur_sum= 3\n",
      "1 3 ---> 4  // cur_sum= 4\n",
      "1 4 ---> 5  // cur_sum= 5\n",
      "1 ---> 1  // cur_sum= 1\n",
      "2 3 ---> 5  // cur_sum= 5\n",
      "2 4 ---> 6  // cur_sum= 6\n",
      "2 ---> 2  // cur_sum= 2\n",
      "3 ---> 3  // cur_sum= 3\n",
      "4 ---> 4  // cur_sum= 4\n",
      "---> 0  // cur_sum= 0\n"
     ]
    }
   ],
   "source": [
    "# 마지막까지 가기 전에 어떤 k 단계에서 이미 조건과 부합하지 않는다면 ? => 가지치기\n",
    "\n",
    "U = [1, 2, 3, 4]\n",
    "N = len(U)\n",
    "bit = [0] * N\n",
    "t = 6\n",
    "def backtrack(k, n, cur_sum):\n",
    "    # 가지치기 = 유망성 체크\n",
    "    # 만약 아직 k != n 인데 여기서 원하는 답이 미리 나왔다면? k == n까지 아무것도 선택하지 않는 길만 유일한 답\n",
    "    if cur_sum > t:\n",
    "        return\n",
    "    \n",
    "    if k == n:\n",
    "        S = 0\n",
    "        for i in range(n):\n",
    "            if bit[i]: \n",
    "                print(U[i], end=' '); S += U[i]\n",
    "        print('--->', S, ' // cur_sum=', cur_sum)\n",
    "                \n",
    "    else:\n",
    "        bit[k] = 1\n",
    "        backtrack(k+1, n, cur_sum + U[k])\n",
    "        bit[k] = 0\n",
    "        backtrack(k+1, n, cur_sum)\n",
    "            \n",
    "backtrack(0, N, 0)\n",
    "\n"
   ]
  },
  {
   "cell_type": "markdown",
   "id": "f9b17c4d",
   "metadata": {},
   "source": [
    "#### 재귀를 활용한 max 값 찾기"
   ]
  },
  {
   "cell_type": "code",
   "execution_count": 97,
   "id": "dd4c517a",
   "metadata": {},
   "outputs": [
    {
     "name": "stdout",
     "output_type": "stream",
     "text": [
      "0 7\n",
      "0 3\n",
      "0 1\n",
      "0 0\n",
      "1 1\n",
      "2 3\n",
      "2 2\n",
      "3 3\n",
      "4 7\n",
      "4 5\n",
      "4 4\n",
      "5 5\n",
      "6 7\n",
      "6 6\n",
      "7 7\n",
      "9\n"
     ]
    }
   ],
   "source": [
    "arr = [4, 8, 5, 2, 3, 7, 9, 6]\n",
    "\n",
    "def find_max(s, e):\n",
    "    print(s, e)\n",
    "    if s == e:\n",
    "        return arr[s]\n",
    "    else:\n",
    "        mid = (s + e)//2\n",
    "        a = find_max(s, mid)\n",
    "        b = find_max(mid+1, e)\n",
    "        return a if a > b else b\n",
    "        \n",
    "print(find_max(0, len(arr)-1))"
   ]
  },
  {
   "cell_type": "code",
   "execution_count": null,
   "id": "a5fa3a10",
   "metadata": {},
   "outputs": [],
   "source": [
    "6\n",
    "2 1 1 2 3 3 "
   ]
  },
  {
   "cell_type": "code",
   "execution_count": 110,
   "id": "e3868056",
   "metadata": {},
   "outputs": [
    {
     "name": "stdout",
     "output_type": "stream",
     "text": [
      "0 3\n",
      "0 1\n",
      "0 0\n",
      "1 1\n",
      "2 3\n",
      "2 2\n",
      "3 3\n",
      "(2, 3)\n"
     ]
    }
   ],
   "source": [
    "arr = [1, 3, 2, 1]\n",
    "player = [1, 2, 3, 4]\n",
    "\n",
    "def find_max(s, e):  # 인덱스 0부터 인덱스 3까지 찾겠다\n",
    "    global A\n",
    "    print(s, e)\n",
    "    \n",
    "    if s == e:  # 끝까지 갔을 때\n",
    "        return (arr[s], s+1)  # 카드값과 플레이어값\n",
    "    else:\n",
    "        mid = (s + e) // 2\n",
    "        a, player_a = find_max(s, mid)\n",
    "        b, player_b = find_max(mid+1, e)\n",
    "        \n",
    "        if a == 1:\n",
    "            if b == 2:\n",
    "                return b, player_b\n",
    "            else:\n",
    "                return a, player_a\n",
    "        elif a == 2:\n",
    "            if b == 3:\n",
    "                return b, player_b\n",
    "            else:\n",
    "                return a, player_a\n",
    "        else:\n",
    "            if b == 1:\n",
    "                return b, player_b\n",
    "            else:\n",
    "                return a, player_a\n",
    "        \n",
    "#         if a > b:\n",
    "#             return a \n",
    "#         else:\n",
    "#             return b\n",
    "\n",
    "print(find_max(0, len(arr)-1))"
   ]
  },
  {
   "cell_type": "code",
   "execution_count": 113,
   "id": "21a08c18",
   "metadata": {},
   "outputs": [
    {
     "name": "stdout",
     "output_type": "stream",
     "text": [
      "(2, 3)\n"
     ]
    }
   ],
   "source": [
    "arr = [1, 3, 2, 1]\n",
    "player = [1, 2, 3, 4]\n",
    "\n",
    "def find_max(s, e):  # 인덱스 0부터 인덱스 3까지 찾겠다\n",
    "    if s == e:  # 끝까지 갔을 때\n",
    "        return (arr[s], s+1)  # 카드값과 플레이어값\n",
    "    else:\n",
    "        mid = (s + e) // 2\n",
    "        a, A = find_max(s, mid)\n",
    "        b, B = find_max(mid+1, e)\n",
    "        \n",
    "        if a == 1:\n",
    "            if b == 2:\n",
    "                return b, B\n",
    "            else:\n",
    "                return a, A\n",
    "        elif a == 2:\n",
    "            if b == 3:\n",
    "                return b, B\n",
    "            else:\n",
    "                return a, A\n",
    "        else:\n",
    "            if b == 1:\n",
    "                return b, B\n",
    "            else:\n",
    "                return a, A\n",
    "\n",
    "print(find_max(0, len(arr)-1))"
   ]
  }
 ],
 "metadata": {
  "kernelspec": {
   "display_name": "Python 3 (ipykernel)",
   "language": "python",
   "name": "python3"
  },
  "language_info": {
   "codemirror_mode": {
    "name": "ipython",
    "version": 3
   },
   "file_extension": ".py",
   "mimetype": "text/x-python",
   "name": "python",
   "nbconvert_exporter": "python",
   "pygments_lexer": "ipython3",
   "version": "3.9.13"
  }
 },
 "nbformat": 4,
 "nbformat_minor": 5
}
