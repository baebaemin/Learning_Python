{
 "cells": [
  {
   "cell_type": "code",
   "execution_count": 2,
   "id": "5a8daa02",
   "metadata": {
    "scrolled": true
   },
   "outputs": [
    {
     "name": "stdout",
     "output_type": "stream",
     "text": [
      "49\n",
      "50\n",
      "51\n",
      "76\n"
     ]
    }
   ],
   "source": [
    "import sys\n",
    "\n",
    "a = ''\n",
    "b = 'P'\n",
    "c = 'PY'\n",
    "d = '대'\n",
    "print(sys.getsizeof(a))  # 49\n",
    "print(sys.getsizeof(b))  # 50\n",
    "print(sys.getsizeof(c))  # 51\n",
    "print(sys.getsizeof(d))"
   ]
  },
  {
   "cell_type": "markdown",
   "id": "40a219c4",
   "metadata": {},
   "source": [
    "### 문자열 뒤집기"
   ]
  },
  {
   "cell_type": "code",
   "execution_count": 3,
   "id": "87d31c2d",
   "metadata": {},
   "outputs": [
    {
     "data": {
      "text/plain": [
       "'sgnirts siht esreveR'"
      ]
     },
     "execution_count": 3,
     "metadata": {},
     "output_type": "execute_result"
    }
   ],
   "source": [
    "s = 'Reverse this strings'\n",
    "s = s[::-1]\n",
    "s"
   ]
  },
  {
   "cell_type": "code",
   "execution_count": 4,
   "id": "0d7fd88d",
   "metadata": {
    "scrolled": true
   },
   "outputs": [
    {
     "data": {
      "text/plain": [
       "'dcba'"
      ]
     },
     "execution_count": 4,
     "metadata": {},
     "output_type": "execute_result"
    }
   ],
   "source": [
    "s = 'abcd'\n",
    "s = list(s)\n",
    "s.reverse()\n",
    "s = ''.join(s)\n",
    "s"
   ]
  },
  {
   "cell_type": "markdown",
   "id": "a4212da7",
   "metadata": {},
   "source": [
    "### 문자열 비교\n",
    "* == 연산자와 is를 사용해 비교해보자\n",
    "* == 연산자는 내부적으로 특수 메서드 __eq__()를 호출"
   ]
  },
  {
   "cell_type": "code",
   "execution_count": 6,
   "id": "fe3402f6",
   "metadata": {},
   "outputs": [],
   "source": [
    "s1 = 'abc'  # s1이 'abc'라는 애를 카리키고 있을 때, 'abc'는 수정할 수 없는 영역에.\n",
    "s2 = 'abc'  # 'abc'는 수정할 수 없으므로 s1이 가리키는 애를 같이 가리킴\n",
    "s3 = 'def'\n",
    "s4 = s1\n",
    "s5 = s1[:2] + 'c'  \n",
    "# 'abc'이긴 하나, 슬라이싱으로 'ab'를 붙이기 시작하면 다른 주소에 만들어짐."
   ]
  },
  {
   "cell_type": "code",
   "execution_count": 7,
   "id": "1cb87777",
   "metadata": {},
   "outputs": [
    {
     "data": {
      "text/plain": [
       "True"
      ]
     },
     "execution_count": 7,
     "metadata": {},
     "output_type": "execute_result"
    }
   ],
   "source": [
    "s1 == s2"
   ]
  },
  {
   "cell_type": "code",
   "execution_count": 8,
   "id": "d8790531",
   "metadata": {},
   "outputs": [
    {
     "data": {
      "text/plain": [
       "True"
      ]
     },
     "execution_count": 8,
     "metadata": {},
     "output_type": "execute_result"
    }
   ],
   "source": [
    "s1 is s2"
   ]
  },
  {
   "cell_type": "code",
   "execution_count": 9,
   "id": "ea415959",
   "metadata": {},
   "outputs": [
    {
     "data": {
      "text/plain": [
       "True"
      ]
     },
     "execution_count": 9,
     "metadata": {},
     "output_type": "execute_result"
    }
   ],
   "source": [
    "s1 == s5"
   ]
  },
  {
   "cell_type": "code",
   "execution_count": 10,
   "id": "d7827eb2",
   "metadata": {
    "scrolled": true
   },
   "outputs": [
    {
     "data": {
      "text/plain": [
       "False"
      ]
     },
     "execution_count": 10,
     "metadata": {},
     "output_type": "execute_result"
    }
   ],
   "source": [
    "s1 is s5"
   ]
  },
  {
   "cell_type": "markdown",
   "id": "6f805a54",
   "metadata": {},
   "source": [
    "* ==는 내용물을 비교하고, is는 주소를 비교한다."
   ]
  },
  {
   "cell_type": "code",
   "execution_count": 11,
   "id": "0acb10da",
   "metadata": {
    "scrolled": false
   },
   "outputs": [
    {
     "name": "stdout",
     "output_type": "stream",
     "text": [
      "eye\n",
      "True\n"
     ]
    }
   ],
   "source": [
    "val = input()\n",
    "check = list(val)\n",
    "N = len(val)\n",
    "for i in range(N//2):\n",
    "    check[i], check[N-1-i] = check[N-1-i], check[i]\n",
    "if ''.join(check) == val:\n",
    "    print(True)\n",
    "else:\n",
    "    print(False)"
   ]
  },
  {
   "cell_type": "markdown",
   "id": "08cbe328",
   "metadata": {},
   "source": [
    "### 문자열 숫자를 정수로 변환하기\n",
    "int()와 같은 atoi()함수 만들기 -> alphabet to integer"
   ]
  },
  {
   "cell_type": "code",
   "execution_count": 20,
   "id": "193a489d",
   "metadata": {},
   "outputs": [
    {
     "name": "stdout",
     "output_type": "stream",
     "text": [
      "6 <class 'str'>\n"
     ]
    }
   ],
   "source": [
    "num = 6  # ==> '6'으로 바꾸려면\n",
    "#  '0', '1', ... '6'\n",
    "st = chr(ord('0') + num)\n",
    "print(st, type(st))"
   ]
  },
  {
   "cell_type": "code",
   "execution_count": 25,
   "id": "4be2794d",
   "metadata": {},
   "outputs": [
    {
     "name": "stdout",
     "output_type": "stream",
     "text": [
      "4567 <class 'str'>\n"
     ]
    }
   ],
   "source": [
    "num = 4567\n",
    "num_str = ''\n",
    "while num:\n",
    "    digit = num % 10  # 한 자리수부터 뽑기\n",
    "    num = num // 10  # 뽑고 나서 해당 자리 제거하기\n",
    "    num_str = chr(ord('0') + digit) + num_str # 역순으로 붙이기\n",
    "\n",
    "print(num_str, type(num_str))"
   ]
  },
  {
   "cell_type": "code",
   "execution_count": 12,
   "id": "8278814e",
   "metadata": {},
   "outputs": [
    {
     "name": "stdout",
     "output_type": "stream",
     "text": [
      "124\n"
     ]
    }
   ],
   "source": [
    "def atoi(s):\n",
    "    i = 0\n",
    "    for x in s:\n",
    "        i = i*10 + ord(x) - ord('0')\n",
    "    return i\n",
    "\n",
    "s = '123'\n",
    "a = atoi(s)\n",
    "print(a + 1)"
   ]
  },
  {
   "cell_type": "markdown",
   "id": "3e8f0e93",
   "metadata": {},
   "source": [
    "### 정수를 문자열 숫자로 변환하기\n",
    "str()와 같은 itoa()함수 만들기 -> integer to alphabet"
   ]
  },
  {
   "cell_type": "code",
   "execution_count": 16,
   "id": "d67f7a6c",
   "metadata": {},
   "outputs": [
    {
     "name": "stdout",
     "output_type": "stream",
     "text": [
      "4567\n"
     ]
    }
   ],
   "source": [
    "def itoa(lst):\n",
    "    num = 0\n",
    "    for val in lst:\n",
    "        num = num * 10 + val  # 4 -> 40 + 5 -> 450 + 6 -> 4560 + 7\n",
    "    return num\n",
    "\n",
    "b = itoa([4, 5, 6, 7])\n",
    "print(b)"
   ]
  },
  {
   "cell_type": "code",
   "execution_count": null,
   "id": "a1db017b",
   "metadata": {},
   "outputs": [],
   "source": []
  }
 ],
 "metadata": {
  "kernelspec": {
   "display_name": "Python 3 (ipykernel)",
   "language": "python",
   "name": "python3"
  },
  "language_info": {
   "codemirror_mode": {
    "name": "ipython",
    "version": 3
   },
   "file_extension": ".py",
   "mimetype": "text/x-python",
   "name": "python",
   "nbconvert_exporter": "python",
   "pygments_lexer": "ipython3",
   "version": "3.9.13"
  }
 },
 "nbformat": 4,
 "nbformat_minor": 5
}
