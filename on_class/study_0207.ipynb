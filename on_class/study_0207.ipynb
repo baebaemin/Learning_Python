{
 "cells": [
  {
   "cell_type": "markdown",
   "id": "3404da2d",
   "metadata": {},
   "source": [
    "### 정렬되어 있지 않은 경우 원소 찾기\n",
    "* 찾고자 하는 원소의 순서에 따라 비교회수가 결정됨\n",
    "* 첫 번째 원소를 찾을 때는 1번 비교, 두 번째 원소를 찾을 때는 2번 비교\n",
    "* 시간복잡도: O(n)"
   ]
  },
  {
   "cell_type": "code",
   "execution_count": 2,
   "id": "5be23780",
   "metadata": {},
   "outputs": [],
   "source": [
    "def sequentialSearch(a, n, key):\n",
    "    i <- 0  # i는 0\n",
    "    while i<n and a[i] != key:  # 범위 설정 안에 있으면서 찾는 원소가 없을 때\n",
    "        i <- i+1  # i의 값 하나씩 증가\n",
    "    if i<n : return i  # 범위 설정 안에 있으면서 a[i]에 key가 있다면 해당 인덱스를 반환\n",
    "    else : return -1  # 아무것도 없으면 -1을 반환"
   ]
  },
  {
   "cell_type": "markdown",
   "id": "d2274f32",
   "metadata": {},
   "source": [
    "### 정렬되어 있는 경우 원소 찾기\n",
    "* 오름차순으로 정렬되어있는 경우, 첫 번째로 값이 나온 순간 return, 검색 종료\n",
    "* 정렬이 되어있으므로, 검색 실패를 반환하는 경우 평균 비교 회수가 반으로 줄어든다\n",
    "* 시간복잡도: O(n)"
   ]
  },
  {
   "cell_type": "code",
   "execution_count": null,
   "id": "261e8128",
   "metadata": {},
   "outputs": [],
   "source": [
    "def sequentialSearch2(a, n, key):\n",
    "    i <- 0\n",
    "    while i<n and a[i] < key:  # key와 같은지가 아니라 key보다 작은지를 조건에 검\n",
    "        i <- i+1  # key 와 같아지면 여기까지 순환하고 다음부턴 while을 벗어남\n",
    "        \n",
    "    if i<n and i[i] == key:  # key와 같아지면 여기 걸림\n",
    "        return \n",
    "    \n",
    "    else:  # key와 같은데도 다르면 -1을 반환\n",
    "        return -1"
   ]
  },
  {
   "cell_type": "markdown",
   "id": "714a8069",
   "metadata": {},
   "source": [
    "### 이진 검색(Binary Search)\n",
    "* 자료의 가운데에 있는 항목의 키 값과 비교하여 다음 검색의 위치를 결정하고 검색을 계속 진행하는 방법\n",
    "> 목적 키를 찾을 때까지 이진 검색을 순환적으로 반복 수행함으로써 검색 범위를 반으로 줄여가면서 보다 빠르게 검색을 수행함\n",
    "* 이진 검색을 하기 위해서는 자료가 정렬된 상태여야 한다."
   ]
  },
  {
   "cell_type": "markdown",
   "id": "5539f498",
   "metadata": {},
   "source": [
    "#### 검색 과정\n",
    "1. 자료의 중앙에 있는 원소를 고른다.\n",
    "2. 중앙 원소의 값과 찾고자 하는 목표 값을 비교한다.\n",
    "3. 목표 값이 중앙 원소의 값보다 작으면 자료의 왼쪽 반에 대해서 새로 검색을 수행하고, 크다면 자료의 오른쪽 반에 대해서 새로 검색을 수행한다.\n",
    "4. 찾고자 하는 값을 찾을때까지 1~3의 과정을 반복한다"
   ]
  },
  {
   "cell_type": "markdown",
   "id": "3dae8164",
   "metadata": {},
   "source": [
    "##### ex. 이진 검색으로 7을 찾는 경우 "
   ]
  },
  {
   "cell_type": "markdown",
   "id": "04044ab2",
   "metadata": {},
   "source": [
    "[2, 4, 7, 9, 11, 19, 23]   # 9가 중앙값"
   ]
  },
  {
   "cell_type": "markdown",
   "id": "05dc46bd",
   "metadata": {},
   "source": [
    "1. 7 < 9 이므로 왼쪽 [2, 4, 7] 검색  # 4가 중앙값\n",
    "2. 7 > 4 이므로 오른쪽 [7] 검색\n",
    "3. 7 = 7  # 검색 성공"
   ]
  },
  {
   "cell_type": "markdown",
   "id": "25dde7bb",
   "metadata": {},
   "source": [
    "### 이진 검색 알고리즘\n",
    "#### 구현\n",
    "* 검색 범위의 시작점과 종료점을 이용하여 검색을 반복 수행한다.\n",
    "* 이진 검색의 경우, 자료에 삽입이나 삭제가 발생했을 때 배열의 상태를 항상 정렬 상태로 유지하는 추가 작업이 필요하다."
   ]
  },
  {
   "cell_type": "code",
   "execution_count": null,
   "id": "df15f663",
   "metadata": {},
   "outputs": [],
   "source": [
    "def binarySearch(a, N, key):\n",
    "    start = 0\n",
    "    end = N-1\n",
    "    while start <= end:  # 검색 구간이 남아있으면\n",
    "        middle = (start + end) // 2\n",
    "        if a[middle] == key :  # 검색 성공\n",
    "            return True\n",
    "        elif a[middle] > key:\n",
    "            end = middle - 1\n",
    "        else:\n",
    "            start = middle + 1\n",
    "    return False  # 검색 실패"
   ]
  },
  {
   "cell_type": "code",
   "execution_count": 13,
   "id": "e81fc29d",
   "metadata": {},
   "outputs": [
    {
     "data": {
      "text/plain": [
       "2"
      ]
     },
     "execution_count": 13,
     "metadata": {},
     "output_type": "execute_result"
    }
   ],
   "source": [
    "def binary_search(arr, key):\n",
    "    s, e = 0, len(arr) -1 \n",
    "    \n",
    "    # 반복 시작시에는 s < e\n",
    "    \n",
    "    while s <= e:  # 범위가 크로스될 때 중단\n",
    "        # 중간위치 선택\n",
    "        mid = (s + e) // 2  # mid = (s + e) >> 1 로도 쓸 수 있음\n",
    "        if arr[mid] == key:\n",
    "            return mid\n",
    "        elif arr[mid] > key: # 왼쪽에 있는지 확인\n",
    "            e = mid - 1\n",
    "        else:  # 오른쪽에 있단 뜻\n",
    "            s = mid + 1\n",
    "    return False\n",
    "\n",
    "arr = [8, 11, 13, 16, 28, 39, 49, 60, 67, 85, 89]\n",
    "\n",
    "binary_search(arr, 13)"
   ]
  },
  {
   "cell_type": "markdown",
   "id": "157a0cbc",
   "metadata": {},
   "source": [
    "### 델타 검색"
   ]
  },
  {
   "cell_type": "code",
   "execution_count": 39,
   "id": "d07d6ed3",
   "metadata": {},
   "outputs": [
    {
     "data": {
      "text/plain": [
       "[[0, 0, 0, 0, 3, 0, 0],\n",
       " [0, 0, 0, 0, 2, 0, 0],\n",
       " [0, 0, 0, 0, 1, 0, 0],\n",
       " [7, 6, 5, 4, '*', 2, 3],\n",
       " [0, 0, 0, 0, 3, 0, 0],\n",
       " [0, 0, 0, 0, 4, 0, 0],\n",
       " [0, 0, 0, 0, 5, 0, 0]]"
      ]
     },
     "execution_count": 39,
     "metadata": {},
     "output_type": "execute_result"
    }
   ],
   "source": [
    "dr = [-1, 0, 1, 0]\n",
    "dc = [0, 1, 0, -1]\n",
    "\n",
    "N = 7\n",
    "arr = [[0] * N for _ in range(N)]\n",
    "\n",
    "# 기준점\n",
    "r, c = 3, 4\n",
    "arr[r][c] = '*'\n",
    "\n",
    "for dir in range(4):\n",
    "    for i in range(1, N):\n",
    "        nr = r + dr[dir]*i\n",
    "        nc = c + dc[dir]*i\n",
    "        if nr < 0 or nr >= N or nc < 0 or nc >= N:\n",
    "            break\n",
    "        arr[nr][nc] = dir + i"
   ]
  },
  {
   "cell_type": "code",
   "execution_count": 43,
   "id": "9cb8383a",
   "metadata": {},
   "outputs": [
    {
     "name": "stdout",
     "output_type": "stream",
     "text": [
      "[0, 0, 0, 0, 0, 0, 0]\n",
      "[0, 0, 0, 0, 2, 0, 0]\n",
      "[0, 0, 0, 0, 1, 0, 0]\n",
      "[0, 0, 5, 4, '*', 2, 3]\n",
      "[0, 0, 0, 0, 3, 0, 0]\n",
      "[0, 0, 0, 0, 4, 0, 0]\n",
      "[0, 0, 0, 0, 0, 0, 0]\n"
     ]
    }
   ],
   "source": [
    "dr = [-1, 0, 1, 0]\n",
    "dc = [0, 1, 0, -1]\n",
    "\n",
    "N = 7\n",
    "K = 2  # 원하는 거리\n",
    "arr = [[0] * N for _ in range(N)]\n",
    "\n",
    "# 기준점\n",
    "r, c = 3, 4\n",
    "arr[r][c] = '*'\n",
    "\n",
    "for dir in range(4):\n",
    "    for i in range(1, K + 1):\n",
    "        nr = r + dr[dir]*i\n",
    "        nc = c + dc[dir]*i\n",
    "        if nr < 0 or nr >= N or nc < 0 or nc >= N:\n",
    "            break\n",
    "        arr[nr][nc] = dir + i\n",
    "        \n",
    "\n",
    "for i in range(N):\n",
    "    print(arr[i])"
   ]
  },
  {
   "cell_type": "markdown",
   "id": "813e20b4",
   "metadata": {},
   "source": [
    "### 인덱스\n",
    "* 인덱스라는 용어는 Database에서 유래했으며, 테이블에 대한 동작 속도를 높여주는 자료 구조를 의미.\n",
    "#### 포켓볼 순서대로 정렬하기\n",
    "* 거품정렬, 카운팅정렬, 선택정렬으로 해보기"
   ]
  },
  {
   "cell_type": "markdown",
   "id": "a47e13e7",
   "metadata": {},
   "source": [
    "### 선택 정렬\n",
    "* 주어진 자료들 중 가장 작은 값의 원소부터 차례대로 선택하여 위치를 교환하는 방식\n",
    "    * 앞서 살펴본 셀렉션 알고리즘을 전체 자료에 적용한 것\n",
    "* 정렬 과정 (오름차순)\n",
    "    * 주어진 리스트 중에서 최소값을 찾는다\n",
    "    * 그 값을 리스트의 맨 앞에 위치한 값과 교환한다\n",
    "    * 맨 처음 위치를 제외한 나머지 리스트를 대상으로 위의 과정을 반복한다.\n",
    "* 시간 복잡도\n",
    "    * O(n2)"
   ]
  },
  {
   "cell_type": "code",
   "execution_count": 6,
   "id": "56853edb",
   "metadata": {},
   "outputs": [],
   "source": [
    "def selectionSort(a, N):\n",
    "    for i in range(N-1):  # N까지 하면 마지막에 자기 자신과 자리를 바꾸기 때문\n",
    "        minIdx = 1\n",
    "        for j in range(i+1, N):\n",
    "            if a[minIdx] > a[j]:\n",
    "                minIdx = j\n",
    "        # 이 자리에 a[i] == a[minIdx] 라면 바꾸지 마! 라는 if문을 넣을수도 있겠지만\n",
    "        # for문이 돌아가는동안 계속 검증해야하므로 + 바뀌어도 상관없으므로 넣지말기\n",
    "        a[i], a[minIdx] = a[minIdx], a[i]"
   ]
  },
  {
   "cell_type": "markdown",
   "id": "a936e77f",
   "metadata": {},
   "source": [
    "### 셀렉션 알고리즘(Selection Algorithm)\n",
    "* 저장되어 있는 자료로부터 k번째로 큰 혹은 작은 원소를 찾는 방법\n",
    "    * 최소값, 최대값, 혹은 중간값을 찾는 알고리즘을 의미하기도 한다.\n",
    "* 선택 과정\n",
    "    * 셀렉션은 아래와 같은 과정을 통해 이루어진다.\n",
    "        * 정렬 알고리즘을 이용하여 자료 정렬하기\n",
    "        * 원하는 순서에 있는 원소 가져오기"
   ]
  },
  {
   "cell_type": "code",
   "execution_count": 10,
   "id": "e8099a02",
   "metadata": {},
   "outputs": [
    {
     "data": {
      "text/plain": [
       "[1, 2, 3, 3, 4, 7, 65]"
      ]
     },
     "execution_count": 10,
     "metadata": {},
     "output_type": "execute_result"
    }
   ],
   "source": [
    "N = 7\n",
    "arr = [3, 65, 1, 3, 7, 2, 4]\n",
    "\n",
    "for i in range(N-1):  # 작업 구간의 시작 인덱스\n",
    "    minIdx = i   # 맨 앞이 최소라 가정\n",
    "    for j in range(i+1, N):\n",
    "        if arr[minIdx] > arr[j]:\n",
    "            minIdx = j\n",
    "    arr[minIdx], arr[i] = arr[i], arr[minIdx]\n",
    "arr"
   ]
  },
  {
   "cell_type": "markdown",
   "id": "e54f3a73",
   "metadata": {},
   "source": [
    "### 부분집합"
   ]
  },
  {
   "cell_type": "code",
   "execution_count": 44,
   "id": "5b4a7ea8",
   "metadata": {},
   "outputs": [
    {
     "data": {
      "text/plain": [
       "16"
      ]
     },
     "execution_count": 44,
     "metadata": {},
     "output_type": "execute_result"
    }
   ],
   "source": [
    "N = 4\n",
    "1 << N"
   ]
  },
  {
   "cell_type": "code",
   "execution_count": 47,
   "id": "0f2970b1",
   "metadata": {},
   "outputs": [
    {
     "name": "stdout",
     "output_type": "stream",
     "text": [
      "0 ==>\n",
      "1 ==>1\n",
      "2 ==>2\n",
      "3 ==>12\n",
      "4 ==>3\n",
      "5 ==>13\n",
      "6 ==>23\n",
      "7 ==>123\n",
      "8 ==>4\n",
      "9 ==>14\n",
      "10 ==>24\n",
      "11 ==>124\n",
      "12 ==>34\n",
      "13 ==>134\n",
      "14 ==>234\n",
      "15 ==>1234\n"
     ]
    }
   ],
   "source": [
    "arr = [1, 2, 3, 4]\n",
    "N = len(arr)\n",
    "\n",
    "# 0 ~ 2^N-1\n",
    "for subset in range(1 << N):  # 0 ~ 15 까지 레인지 0000, 0001, 0010... 부터 1111 까지\n",
    "    \n",
    "    print(subset, '==>', end='')\n",
    "    for i in range(N): # 하위 N개의 비트 확인. \n",
    "                        # subset에 저장되어있는 메모리 2^0부터 2^N-1 까지\n",
    "        if subset & (1 << i):  # 정수 subset이 나타내는 부분집합에 0 ~ 3개의 원소집합 개수별로 검색\n",
    "            print(arr[i], end='')\n",
    "    print()"
   ]
  },
  {
   "cell_type": "markdown",
   "id": "f32b7cba",
   "metadata": {},
   "source": [
    "### Bits 연산으로 부분집합 만들기"
   ]
  },
  {
   "cell_type": "code",
   "execution_count": 14,
   "id": "e5585287",
   "metadata": {
    "scrolled": true
   },
   "outputs": [
    {
     "name": "stdout",
     "output_type": "stream",
     "text": [
      "[0, 0, 0]\n",
      "[0, 0, 1]\n",
      "[0, 1, 0]\n",
      "[0, 1, 1]\n",
      "[1, 0, 0]\n",
      "[1, 0, 1]\n",
      "[1, 1, 0]\n",
      "[1, 1, 1]\n"
     ]
    }
   ],
   "source": [
    "N = 3\n",
    "bits = [0] * N\n",
    "\n",
    "for i in range(2):\n",
    "    bits[0] = i\n",
    "    for j in range(2):\n",
    "        bits[1] = j\n",
    "        for k in range(2):\n",
    "            bits[2] = k\n",
    "            print(bits)\n",
    "\n",
    "# 재귀로 구현할 수 있다"
   ]
  },
  {
   "cell_type": "code",
   "execution_count": 22,
   "id": "1720e977",
   "metadata": {},
   "outputs": [
    {
     "name": "stdout",
     "output_type": "stream",
     "text": [
      "[0, 0, 0]\n",
      "[0, 0, 1]\n",
      "[0, 1, 0]\n",
      "[0, 1, 1]\n",
      "[1, 0, 0]\n",
      "[1, 0, 1]\n",
      "[1, 1, 0]\n",
      "[1, 1, 1]\n"
     ]
    }
   ],
   "source": [
    "N = 3\n",
    "bits = [0] * N\n",
    "\n",
    "def recur(k):\n",
    "    if k == N:\n",
    "        print(bits)\n",
    "        return\n",
    "    for i in range(2):\n",
    "        bits[k] = i\n",
    "        recur(k+1)\n",
    "        \n",
    "recur(0)"
   ]
  },
  {
   "cell_type": "markdown",
   "id": "4d617dc1",
   "metadata": {},
   "source": [
    "#### 재귀도 반복이다"
   ]
  },
  {
   "cell_type": "code",
   "execution_count": 27,
   "id": "225399b3",
   "metadata": {},
   "outputs": [
    {
     "name": "stdout",
     "output_type": "stream",
     "text": [
      "Hello!!\n",
      "Hello!!\n",
      "Hello!!\n"
     ]
    }
   ],
   "source": [
    "for i in range(3):\n",
    "    print(\"Hello!!\")"
   ]
  },
  {
   "cell_type": "code",
   "execution_count": 29,
   "id": "8ee05f7a",
   "metadata": {},
   "outputs": [
    {
     "name": "stdout",
     "output_type": "stream",
     "text": [
      "Hello!!\n",
      "Hello!!\n",
      "Hello!!\n"
     ]
    }
   ],
   "source": [
    "i = 0\n",
    "while i < 3:\n",
    "    print(\"Hello!!\")\n",
    "    i += 1"
   ]
  },
  {
   "cell_type": "markdown",
   "id": "aae3dea6",
   "metadata": {},
   "source": [
    "재귀호출의 종료는 매개변수로 판단해야한다."
   ]
  },
  {
   "cell_type": "code",
   "execution_count": 33,
   "id": "b57fd649",
   "metadata": {},
   "outputs": [
    {
     "name": "stdout",
     "output_type": "stream",
     "text": [
      "Hello!! 0\n",
      "Hello!! 1\n",
      "Hello!! 2\n"
     ]
    }
   ],
   "source": [
    "def printHello(i):\n",
    "    if i == 3:\n",
    "        return\n",
    "    print(\"Hello!!\", i)\n",
    "    printHello(i+1)\n",
    "\n",
    "printHello(0)"
   ]
  },
  {
   "cell_type": "markdown",
   "id": "a27ce669",
   "metadata": {},
   "source": [
    "왜 이렇게 호출될까? 고민해보기"
   ]
  },
  {
   "cell_type": "code",
   "execution_count": 34,
   "id": "5eb32634",
   "metadata": {},
   "outputs": [
    {
     "name": "stdout",
     "output_type": "stream",
     "text": [
      "Hello!! 0\n",
      "Hello!! 1\n",
      "Hello!! 2\n",
      "Hello!! 2\n",
      "Hello!! 1\n",
      "Hello!! 0\n"
     ]
    }
   ],
   "source": [
    "def printHello(i):\n",
    "    if i == 3:\n",
    "        return\n",
    "    print(\"Hello!!\", i)\n",
    "    printHello(i+1)\n",
    "    print(\"Hello!!\", i)\n",
    "\n",
    "printHello(0)"
   ]
  }
 ],
 "metadata": {
  "kernelspec": {
   "display_name": "Python 3 (ipykernel)",
   "language": "python",
   "name": "python3"
  },
  "language_info": {
   "codemirror_mode": {
    "name": "ipython",
    "version": 3
   },
   "file_extension": ".py",
   "mimetype": "text/x-python",
   "name": "python",
   "nbconvert_exporter": "python",
   "pygments_lexer": "ipython3",
   "version": "3.9.13"
  }
 },
 "nbformat": 4,
 "nbformat_minor": 5
}
