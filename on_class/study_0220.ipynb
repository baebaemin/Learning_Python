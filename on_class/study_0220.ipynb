{
 "cells": [
  {
   "cell_type": "markdown",
   "id": "d30bc8a7",
   "metadata": {},
   "source": [
    "## 큐 Queue"
   ]
  },
  {
   "cell_type": "markdown",
   "id": "2fa63365",
   "metadata": {},
   "source": [
    "#### 선형큐\n",
    "* 1차원 배열을 이용한 큐\n",
    "* 큐의 크기 = 배열의 크기\n",
    "- front: 저장된 첫 번째 원소의 인덱스\n",
    "- rear: 저장된 마지막 원소의 인덱스"
   ]
  },
  {
   "cell_type": "markdown",
   "id": "e193f946",
   "metadata": {},
   "source": [
    "* 초기 상태: front = rear = -1\n",
    "* 공백 상태: front == rear\n",
    "* 포화 상태: rear == n-1(n: 배열의 크기, n-1: 배열의 마지막 인덱스)"
   ]
  },
  {
   "cell_type": "markdown",
   "id": "022bcd39",
   "metadata": {},
   "source": [
    "#### 초기 공백 큐 생성\n",
    "* 크기 n인 1차원 배열 생성\n",
    "* front와 rear를 -1로 설정"
   ]
  },
  {
   "cell_type": "code",
   "execution_count": 28,
   "id": "42c34f55",
   "metadata": {},
   "outputs": [
    {
     "name": "stdout",
     "output_type": "stream",
     "text": [
      "1\n",
      "2\n",
      "3\n",
      "empty\n",
      "0\n"
     ]
    }
   ],
   "source": [
    "QSIZE = 5\n",
    "Q = [0] * QSIZE\n",
    "front = rear = -1\n",
    "\n",
    "def empty():\n",
    "    return front == rear\n",
    "\n",
    "def enQueue(item):\n",
    "    global rear\n",
    "    # Full 상태 체크 (rear == QSIZE - 1)\n",
    "    rear += 1\n",
    "    Q[rear] = item\n",
    "    \n",
    "def deQueue():\n",
    "    global front\n",
    "    if empty(): # Empty 상태 체크 (front == rear)\n",
    "        print('empty')\n",
    "    front += 1\n",
    "    return Q[front]\n",
    "\n",
    "enQueue(1); enQueue(2); enQueue(3)\n",
    " \n",
    "while front != rear:  # or while not empty():\n",
    "    print(deQueue())\n",
    "    \n",
    "print(deQueue())"
   ]
  },
  {
   "cell_type": "markdown",
   "id": "1aeac88b",
   "metadata": {},
   "source": [
    "#### 직접 Queue 했을 때 시간"
   ]
  },
  {
   "cell_type": "code",
   "execution_count": 39,
   "id": "a2658138",
   "metadata": {},
   "outputs": [
    {
     "name": "stdout",
     "output_type": "stream",
     "text": [
      "0.0471954345703125\n"
     ]
    }
   ],
   "source": [
    "import time\n",
    "start_time = time.time()\n",
    "\n",
    "QSIZE = 100000\n",
    "Q = [0] * QSIZE\n",
    "front = rear = -1\n",
    "\n",
    "def empty():\n",
    "    return front == rear\n",
    "\n",
    "def enQueue(item):\n",
    "    global rear\n",
    "    # Full 상태 체크 (rear == QSIZE - 1)\n",
    "    rear += 1\n",
    "    Q[rear] = item\n",
    "    \n",
    "def deQueue():\n",
    "    global front\n",
    "    if empty(): # Empty 상태 체크 (front == rear)\n",
    "        print('empty')\n",
    "    front += 1\n",
    "    return Q[front]\n",
    "\n",
    "for i in range(QSIZE):\n",
    "    enQueue(i)\n",
    "    \n",
    "while not empty():\n",
    "    deQueue()\n",
    "\n",
    "print(time.time() - start_time)  # 10만개 기준 약 0.047초"
   ]
  },
  {
   "cell_type": "markdown",
   "id": "23e9c983",
   "metadata": {},
   "source": [
    "#### List Queue했을 때 시간"
   ]
  },
  {
   "cell_type": "code",
   "execution_count": 34,
   "id": "8c1b40a0",
   "metadata": {},
   "outputs": [
    {
     "name": "stdout",
     "output_type": "stream",
     "text": [
      "0.816072940826416\n"
     ]
    }
   ],
   "source": [
    "import time\n",
    "start_time = time.time()\n",
    "\n",
    "QSIZE = 100000\n",
    "Q = []\n",
    "\n",
    "for i in range(QSIZE):\n",
    "    Q.append(i)\n",
    "    \n",
    "while Q:\n",
    "    Q.pop(0)\n",
    "\n",
    "print(time.time() - start_time)  # 10만개 기준 약 0.816초"
   ]
  },
  {
   "cell_type": "markdown",
   "id": "896cb4a5",
   "metadata": {},
   "source": [
    "### deque\n",
    "double ended queue 라고 부르는 deque이라는 자료 구조가 있다"
   ]
  },
  {
   "cell_type": "code",
   "execution_count": 40,
   "id": "a67d17f6",
   "metadata": {},
   "outputs": [
    {
     "name": "stdout",
     "output_type": "stream",
     "text": [
      "0.012091636657714844\n"
     ]
    }
   ],
   "source": [
    "import time\n",
    "from collections import deque  # 소문자이지만 class입니다\n",
    "start_time = time.time()\n",
    "\n",
    "Q = deque()\n",
    "for i in range(100000):\n",
    "    Q.append(i)\n",
    "\n",
    "while Q:\n",
    "    Q.popleft()\n",
    "    \n",
    "print(time.time() - start_time)  # 100만개 기준 약 0.012초"
   ]
  },
  {
   "cell_type": "markdown",
   "id": "179a6194",
   "metadata": {},
   "source": [
    "### 삽입 enQueue(item)\n",
    "* 마지막 원소 뒤에 새로운 원소를 삽입하기 위해\n",
    "    1) rear 값을 하나 증가시켜 새로운 원소를 삽입할 자리를 마련\n",
    "    2) 그 인덱스에 해당하는 배열원소 Q[rear]에 item 저장"
   ]
  },
  {
   "cell_type": "code",
   "execution_count": null,
   "id": "a38de721",
   "metadata": {},
   "outputs": [],
   "source": [
    "def enQueue(item):\n",
    "    global rear\n",
    "    if isFull(): print(\"Queue Full\")\n",
    "    else:\n",
    "        rear <- rear + 1;\n",
    "        Q[rear] <- item;"
   ]
  },
  {
   "cell_type": "markdown",
   "id": "17af9297",
   "metadata": {},
   "source": [
    "### 삭제 deQueue()\n",
    "* 가장 앞에 있는 원소를 삭제하기 위해\n",
    "    1) front 값을 하나 증가시켜 큐에 남아있게 될 첫 번째 원소 이동\n",
    "    2) 새로운 첫 번째 원소를 리턴 함으로써 삭제와 동일한 기능함`"
   ]
  },
  {
   "cell_type": "code",
   "execution_count": null,
   "id": "efee0201",
   "metadata": {},
   "outputs": [],
   "source": [
    "deQueue()\n",
    "    if(isEmpty()) then Queue_Empty();\n",
    "    else{\n",
    "        fron <- front +1;\n",
    "        return Q[front];\n",
    "    }"
   ]
  },
  {
   "cell_type": "markdown",
   "id": "1f0b23e7",
   "metadata": {},
   "source": [
    "### 공백상태 및 포화상태 검사\n",
    "* 공백상태: front == rear\n",
    "* 포화상태: rear == n-1"
   ]
  },
  {
   "cell_type": "markdown",
   "id": "b3b48679",
   "metadata": {},
   "source": [
    "def isEmpty():\n",
    "    return front == rear\n",
    "\n",
    "def isFull():\n",
    "    return rear == len(Q) -1"
   ]
  },
  {
   "cell_type": "markdown",
   "id": "692aa9e6",
   "metadata": {},
   "source": [
    "### 검색 Qpeek()\n",
    "* 가장 앞에 있는 원소를 검색하여 반환\n",
    "* 현재 front의 한자리 뒤(front + 1)에 있는 원소, 즉 큐의 첫 번째에 있는 원소"
   ]
  },
  {
   "cell_type": "code",
   "execution_count": null,
   "id": "201a9e33",
   "metadata": {},
   "outputs": [],
   "source": [
    "def Qpeek()\n",
    "    if isEmpty(): print (\"Queue_mpty\")\n",
    "    else: return Q[front+1]"
   ]
  },
  {
   "cell_type": "markdown",
   "id": "0650b799",
   "metadata": {},
   "source": [
    "---"
   ]
  },
  {
   "cell_type": "code",
   "execution_count": 6,
   "id": "a07adbe1",
   "metadata": {},
   "outputs": [
    {
     "name": "stdout",
     "output_type": "stream",
     "text": [
      "1\n",
      "2\n",
      "3\n"
     ]
    }
   ],
   "source": [
    "def enqueue(data):\n",
    "    global rear\n",
    "    rear += 1  # 먼저, 저장되는 위치를 하나 증가시킨다.\n",
    "    queue[rear] = data  # 그 후에, 그 자리에 아이템을 넣는다\n",
    "\n",
    "def dequeue():\n",
    "    global front\n",
    "    front += 1\n",
    "    return queue[front]\n",
    "    \n",
    "queue = [0] * 10\n",
    "front = rear = -1\n",
    "\n",
    "rear += 1\n",
    "queue[rear] = 1\n",
    "\n",
    "enqueue(2)\n",
    "enqueue(3)\n",
    "\n",
    "print(dequeue())\n",
    "print(dequeue())\n",
    "print(dequeue())"
   ]
  },
  {
   "cell_type": "code",
   "execution_count": 13,
   "id": "377b7a02",
   "metadata": {},
   "outputs": [
    {
     "name": "stdout",
     "output_type": "stream",
     "text": [
      "1\n",
      "2\n",
      "0\n",
      "0\n"
     ]
    }
   ],
   "source": [
    "def enqueue(data):\n",
    "    global rear\n",
    "    rear += 1\n",
    "    queue[rear] = data\n",
    "\n",
    "def dequeue():\n",
    "    global front\n",
    "    front += 1\n",
    "    return queue[front]\n",
    "    \n",
    "queue = [0] * 10\n",
    "front = -1\n",
    "rear = -1\n",
    "\n",
    "enqueue(1)\n",
    "enqueue(2)\n",
    "\n",
    "print(dequeue())\n",
    "print(dequeue())\n",
    "print(dequeue())\n",
    "\n",
    "if front != rear:  # front랑 rear가 같으면 아직 원소가 남아있는 것\n",
    "    print(dequeue())"
   ]
  },
  {
   "cell_type": "code",
   "execution_count": 12,
   "id": "9fe775af",
   "metadata": {},
   "outputs": [
    {
     "name": "stdout",
     "output_type": "stream",
     "text": [
      "10\n"
     ]
    }
   ],
   "source": [
    "q = []\n",
    "q.append(10)\n",
    "print(q.pop(0))  # 인덱스 0번 = 맨 앞에 있는 애를 꺼냄\n",
    "# 으로 해도 괜찮지만,\n",
    "# 나중에 dfs 등에 사용했을 땐 매우 느려짐"
   ]
  },
  {
   "cell_type": "code",
   "execution_count": 17,
   "id": "bc1c33cd",
   "metadata": {},
   "outputs": [
    {
     "name": "stdout",
     "output_type": "stream",
     "text": [
      "100\n",
      "200\n",
      "300\n"
     ]
    }
   ],
   "source": [
    "from collections import deque  # 덱\n",
    "\n",
    "q1 = []\n",
    "q1 = deque()\n",
    "q1.append(100)\n",
    "q1.append(200)\n",
    "q1.append(300)\n",
    "print(q1.popleft())\n",
    "print(q1.popleft())\n",
    "print(q1.popleft())"
   ]
  },
  {
   "cell_type": "markdown",
   "id": "63a3af85",
   "metadata": {},
   "source": [
    "### 선형 큐 이용시의 문제점\n",
    "* 원소의 삽입과 삭제를 계속할 경우, 배열의 앞부분에 빈 공간이 있음에도 불구하고 rear = n-1인 상태, 즉 포화상태로 인식하여 더 이상의 삽입을 수행하지 않게 됨"
   ]
  },
  {
   "cell_type": "markdown",
   "id": "a14588cb",
   "metadata": {},
   "source": [
    "#### 해결방법 1\n",
    "* 매 연산이 이루어질때마다 저장된 원소들을 배열의 아푸분으로 모두 이동\n",
    "* 원소 이동에 많은 시간이 소요되어 큐의 효율성이 급격히 떨어짐\n",
    "\n",
    "#### 해결방법 2\n",
    "* 1차원 배열을 사용하되, 논리적으로는 배열의 처음과 끝이 연결되어있는 형태의 큐를 이룬다고 가정하고 사용"
   ]
  },
  {
   "cell_type": "markdown",
   "id": "7560fd8a",
   "metadata": {},
   "source": [
    "### 원형 큐의 구조"
   ]
  },
  {
   "cell_type": "code",
   "execution_count": null,
   "id": "482a56bd",
   "metadata": {},
   "outputs": [],
   "source": [
    "front = rear = 0\n",
    "front가 있는 자리는 항상 빈 자리로 둠\n",
    "\n",
    "원형큐의 삽입 위치:\n",
    "    rear = (rear + 1) mod n\n",
    "원형큐의 삭제 위치:\n",
    "    front = (front + 1) mod n"
   ]
  },
  {
   "cell_type": "code",
   "execution_count": null,
   "id": "d9e67403",
   "metadata": {},
   "outputs": [],
   "source": [
    "포화상태 검증 판단\n",
    "    if (rear + 1) mod n == front:\n",
    "        print('Full Queue')"
   ]
  },
  {
   "cell_type": "markdown",
   "id": "d2365ba3",
   "metadata": {},
   "source": [
    "---"
   ]
  },
  {
   "cell_type": "code",
   "execution_count": 45,
   "id": "220ea675",
   "metadata": {},
   "outputs": [
    {
     "name": "stdout",
     "output_type": "stream",
     "text": [
      "full\n",
      "full\n",
      "front: 0 rear: 3\n",
      "1\n",
      "2\n",
      "3\n"
     ]
    }
   ],
   "source": [
    "SIZE = 4\n",
    "Q = [0] * SIZE\n",
    "front = rear = 0\n",
    "\n",
    "def enQueue(item):\n",
    "    global rear\n",
    "    if front == (rear + 1) % SIZE:  # 꽉찼을 때\n",
    "        print('full')\n",
    "        return\n",
    "    rear = (rear + 1) % SIZE\n",
    "    Q[rear] = item\n",
    "    \n",
    "def deQueue():\n",
    "    global front\n",
    "    if front == rear:  # 비어있을 때\n",
    "        print('empty')\n",
    "        return\n",
    "    front = (front + 1) % SIZE\n",
    "    return Q[front]\n",
    "\n",
    "enQueue(1); enQueue(2); enQueue(3); enQueue(4); enQueue(5); # 꽉 채워지면 4, 5는 안 들어감\n",
    "\n",
    "print('front:', front, 'rear:', rear)\n",
    "while not front == rear:\n",
    "    print(deQueue())"
   ]
  },
  {
   "cell_type": "markdown",
   "id": "e542f747",
   "metadata": {},
   "source": [
    "#### 공백상태 및 포화상태 검사: isEmpty(), isFull()"
   ]
  },
  {
   "cell_type": "code",
   "execution_count": null,
   "id": "ee28f576",
   "metadata": {},
   "outputs": [],
   "source": [
    "def isEmpty():\n",
    "    return front == rear\n",
    "\n",
    "def isFull():\n",
    "    return (rear+1) % len(cQ) == front"
   ]
  },
  {
   "cell_type": "markdown",
   "id": "d011776d",
   "metadata": {},
   "source": [
    "### 원형 큐의 삽입과 삭제"
   ]
  },
  {
   "cell_type": "code",
   "execution_count": null,
   "id": "ede72f8e",
   "metadata": {},
   "outputs": [],
   "source": [
    "def enQueue(item):\n",
    "    global rear\n",
    "    if isFull():\n",
    "        print(\"Queue Full\")\n",
    "    else:\n",
    "        rear = (rear + 1) % len(cQ)\n",
    "        cQ[rear] = item"
   ]
  },
  {
   "cell_type": "code",
   "execution_count": null,
   "id": "1b5943dc",
   "metadata": {},
   "outputs": [],
   "source": [
    "def deQueue():\n",
    "    global rear\n",
    "    if isEmpty():\n",
    "        print(\"Queue Empty\")\n",
    "    else:\n",
    "        front = (front+1) % len(cQ)\n",
    "        return cQ[front]"
   ]
  },
  {
   "cell_type": "markdown",
   "id": "142a6ce4",
   "metadata": {},
   "source": [
    "### 우선순위 큐 Priority Queue"
   ]
  },
  {
   "cell_type": "code",
   "execution_count": null,
   "id": "ed7542ec",
   "metadata": {},
   "outputs": [],
   "source": []
  }
 ],
 "metadata": {
  "kernelspec": {
   "display_name": "Python 3 (ipykernel)",
   "language": "python",
   "name": "python3"
  },
  "language_info": {
   "codemirror_mode": {
    "name": "ipython",
    "version": 3
   },
   "file_extension": ".py",
   "mimetype": "text/x-python",
   "name": "python",
   "nbconvert_exporter": "python",
   "pygments_lexer": "ipython3",
   "version": "3.9.13"
  }
 },
 "nbformat": 4,
 "nbformat_minor": 5
}
