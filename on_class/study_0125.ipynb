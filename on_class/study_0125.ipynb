{
 "cells": [
  {
   "cell_type": "code",
   "execution_count": 2,
   "id": "9fc5dc96",
   "metadata": {
    "scrolled": false
   },
   "outputs": [
    {
     "name": "stdout",
     "output_type": "stream",
     "text": [
      "[7, 6, 5, 4, 3, 2, 1]\n"
     ]
    }
   ],
   "source": [
    "lst = [7, 2, 3, 1, 4, 6, 5]\n",
    "lst.sort(reverse = True)\n",
    "print(lst)"
   ]
  },
  {
   "cell_type": "markdown",
   "id": "e19d44c2",
   "metadata": {},
   "source": [
    "### 튜플의 두 번째 값을 기준으로 정렬하기"
   ]
  },
  {
   "cell_type": "code",
   "execution_count": 4,
   "id": "c087e0db",
   "metadata": {},
   "outputs": [
    {
     "name": "stdout",
     "output_type": "stream",
     "text": [
      "[(3, 1), (7, 2), (5, 3), (4, 6)]\n"
     ]
    }
   ],
   "source": [
    "def func(x):\n",
    "    return x[1]\n",
    "    \n",
    "lst = [(7, 2), (3, 1), (4, 6), (5, 3)]\n",
    "lst.sort(key = func)\n",
    "print(lst)"
   ]
  },
  {
   "cell_type": "code",
   "execution_count": 7,
   "id": "06f9213a",
   "metadata": {},
   "outputs": [
    {
     "name": "stdout",
     "output_type": "stream",
     "text": [
      "[(1, 3), (3, 1), (7, 2), (5, 3), (4, 6)]\n"
     ]
    }
   ],
   "source": [
    "def func(x):\n",
    "    return x[0] * x[1], x[0] #x[0]을 뒤에 추가하면 (1, 3)을 (3, 1)보다 앞에 세움\n",
    "    \n",
    "lst = [(7, 2), (3, 1), (4, 6), (5, 3), (1, 3)]\n",
    "lst.sort(key = func) # key라는 함수는 func이다\n",
    "print(lst)"
   ]
  },
  {
   "cell_type": "code",
   "execution_count": 11,
   "id": "e18a33cc",
   "metadata": {},
   "outputs": [
    {
     "name": "stdout",
     "output_type": "stream",
     "text": [
      "[(3, 1), (7, 2), (5, 3), (1, 3), (4, 6)]\n"
     ]
    }
   ],
   "source": [
    "# def func(x):\n",
    "#     return x[1]\n",
    "    \n",
    "lst = [(7, 2), (3, 1), (4, 6), (5, 3), (1, 3)]\n",
    "#lst.sort(key = func)\n",
    "lst.sort(key = lambda x: x[1]) # key라는 함수는 익명함수이다\n",
    "print(lst)"
   ]
  },
  {
   "cell_type": "code",
   "execution_count": 12,
   "id": "2d616b9c",
   "metadata": {},
   "outputs": [],
   "source": [
    "# dictionary.items()로 딕셔너리의 값을 tuple로 받아서 활용하면 좋다"
   ]
  },
  {
   "cell_type": "markdown",
   "id": "58714a74",
   "metadata": {},
   "source": [
    "### 함수를 다른 변수로 호출하기"
   ]
  },
  {
   "cell_type": "code",
   "execution_count": 13,
   "id": "e7790c18",
   "metadata": {
    "scrolled": true
   },
   "outputs": [
    {
     "name": "stdout",
     "output_type": "stream",
     "text": [
      "hello\n"
     ]
    }
   ],
   "source": [
    "def printHello():\n",
    "    print('hello')\n",
    "my_func = printHello\n",
    "my_func()"
   ]
  },
  {
   "cell_type": "markdown",
   "id": "3aaad947",
   "metadata": {},
   "source": [
    "#### 함수의 매개변수에 다른 함수를 넣을 수도 있다"
   ]
  },
  {
   "cell_type": "code",
   "execution_count": 15,
   "id": "29630b51",
   "metadata": {},
   "outputs": [
    {
     "name": "stdout",
     "output_type": "stream",
     "text": [
      "hello\n"
     ]
    }
   ],
   "source": [
    "def printHello():\n",
    "    print('hello')\n",
    "    \n",
    "def func(f):\n",
    "    f()\n",
    "\n",
    "func(printHello)"
   ]
  },
  {
   "cell_type": "code",
   "execution_count": 16,
   "id": "df535447",
   "metadata": {},
   "outputs": [
    {
     "data": {
      "text/plain": [
       "[1, 2, 3, 4]"
      ]
     },
     "execution_count": 16,
     "metadata": {},
     "output_type": "execute_result"
    }
   ],
   "source": [
    "list(map(int, '1234')) #map이라는 함수에 int라는 함수와 iterable한 객체를 넣었다"
   ]
  },
  {
   "cell_type": "code",
   "execution_count": 17,
   "id": "dfe28a44",
   "metadata": {},
   "outputs": [
    {
     "data": {
      "text/plain": [
       "[1, 2, 3, 4]"
      ]
     },
     "execution_count": 17,
     "metadata": {},
     "output_type": "execute_result"
    }
   ],
   "source": [
    "# 이런 구조라고 이해하면 됨\n",
    "def func(x):\n",
    "    return int(x)\n",
    "list(map(func, '1234'))"
   ]
  },
  {
   "cell_type": "code",
   "execution_count": 19,
   "id": "4e1b6aa8",
   "metadata": {},
   "outputs": [
    {
     "data": {
      "text/plain": [
       "[11, 12, 13, 14]"
      ]
     },
     "execution_count": 19,
     "metadata": {},
     "output_type": "execute_result"
    }
   ],
   "source": [
    "def func(x):\n",
    "    return int(x) + 10\n",
    "list(map(func, '1234'))"
   ]
  },
  {
   "cell_type": "code",
   "execution_count": 21,
   "id": "3f979cb7",
   "metadata": {
    "scrolled": true
   },
   "outputs": [
    {
     "data": {
      "text/plain": [
       "[11, 12, 13, 14]"
      ]
     },
     "execution_count": 21,
     "metadata": {},
     "output_type": "execute_result"
    }
   ],
   "source": [
    "# 이렇게도 쓸 수 있음\n",
    "list(map(lambda x: int(x) + 10, '1234'))"
   ]
  },
  {
   "cell_type": "markdown",
   "id": "14c8ad19",
   "metadata": {},
   "source": [
    "### collections 모듈의 Counter 함수\n",
    "* 해시 가능한 객체를 세기 위한 dict 서브 클래스\n",
    "* 요소가 딕셔너리 키로 저장되고 개수가 딕셔너리값으로 저장되는 컬렉션\n",
    "* 개수는 0이나 음수를 포함하는 임의의 정숫값"
   ]
  },
  {
   "cell_type": "code",
   "execution_count": 23,
   "id": "1fcf84cd",
   "metadata": {},
   "outputs": [
    {
     "data": {
      "text/plain": [
       "Counter({'g': 1, 'a': 3, 'l': 2, 'h': 1, 'd': 1})"
      ]
     },
     "execution_count": 23,
     "metadata": {},
     "output_type": "execute_result"
    }
   ],
   "source": [
    "from collections import Counter\n",
    "c = Counter('gallahad')\n",
    "c"
   ]
  },
  {
   "cell_type": "code",
   "execution_count": 24,
   "id": "734ebc17",
   "metadata": {},
   "outputs": [
    {
     "data": {
      "text/plain": [
       "Counter({'red': 4, 'blue': 2})"
      ]
     },
     "execution_count": 24,
     "metadata": {},
     "output_type": "execute_result"
    }
   ],
   "source": [
    "c = Counter({'red': 4, 'blue': 2})\n",
    "c"
   ]
  },
  {
   "cell_type": "code",
   "execution_count": 25,
   "id": "a57cb37b",
   "metadata": {},
   "outputs": [
    {
     "data": {
      "text/plain": [
       "Counter({'cats': 4, 'dogs': 8})"
      ]
     },
     "execution_count": 25,
     "metadata": {},
     "output_type": "execute_result"
    }
   ],
   "source": [
    "c = Counter(cats=4, dogs=8)\n",
    "c"
   ]
  },
  {
   "cell_type": "code",
   "execution_count": 32,
   "id": "5fdbddf1",
   "metadata": {},
   "outputs": [
    {
     "data": {
      "text/plain": [
       "Counter({'이싸피': 8,\n",
       "         '박장고': 7,\n",
       "         '조실습': 7,\n",
       "         '오디비': 7,\n",
       "         '임온실': 9,\n",
       "         '안도둑': 10,\n",
       "         '최이썬': 6,\n",
       "         '염자바': 5})"
      ]
     },
     "execution_count": 32,
     "metadata": {},
     "output_type": "execute_result"
    }
   ],
   "source": [
    "entry_record = ['이싸피', '박장고', '조실습', '이싸피', '조실습', '오디비', '임온실', '조실습', '조실습', '이싸피', '안도둑', '임온실', '최이썬', '오디비', '안도둑', '염자바', '박장고', '조실습',\n",
    "                '최이썬', '조실습', '염자바', '박장고', '임온실', '임온실', '이싸피', '임온실', '오디비', '조실습', '염자바', '임온실', '박장고', '최이썬', '안도둑', '염자바', '임온실', '박장고', '이싸피', '안도둑',\n",
    "                '임온실', '오디비', '최이썬', '안도둑', '이싸피', '오디비', '안도둑', '이싸피', '박장고', '박장고', '안도둑', '안도둑', '안도둑', '염자바', '최이썬', '오디비', '오디비', '최이썬', '이싸피', '임온실', '안도둑']\n",
    "Counter(entry_record)"
   ]
  },
  {
   "cell_type": "code",
   "execution_count": 33,
   "id": "d3b3a1a7",
   "metadata": {},
   "outputs": [
    {
     "data": {
      "text/plain": [
       "{'이싸피': 8,\n",
       " '박장고': 7,\n",
       " '조실습': 7,\n",
       " '오디비': 7,\n",
       " '임온실': 9,\n",
       " '안도둑': 10,\n",
       " '최이썬': 6,\n",
       " '염자바': 5}"
      ]
     },
     "execution_count": 33,
     "metadata": {},
     "output_type": "execute_result"
    }
   ],
   "source": [
    "dict(Counter(entry_record))"
   ]
  },
  {
   "cell_type": "code",
   "execution_count": 36,
   "id": "5d73c523",
   "metadata": {},
   "outputs": [
    {
     "data": {
      "text/plain": [
       "[Counter({'이싸피': 8,\n",
       "          '박장고': 7,\n",
       "          '조실습': 7,\n",
       "          '오디비': 7,\n",
       "          '임온실': 9,\n",
       "          '안도둑': 10,\n",
       "          '최이썬': 6,\n",
       "          '염자바': 5})]"
      ]
     },
     "execution_count": 36,
     "metadata": {},
     "output_type": "execute_result"
    }
   ],
   "source": [
    "c_dict = [Counter(entry_record)]\n",
    "c_dict"
   ]
  }
 ],
 "metadata": {
  "kernelspec": {
   "display_name": "Python 3 (ipykernel)",
   "language": "python",
   "name": "python3"
  },
  "language_info": {
   "codemirror_mode": {
    "name": "ipython",
    "version": 3
   },
   "file_extension": ".py",
   "mimetype": "text/x-python",
   "name": "python",
   "nbconvert_exporter": "python",
   "pygments_lexer": "ipython3",
   "version": "3.9.13"
  }
 },
 "nbformat": 4,
 "nbformat_minor": 5
}
