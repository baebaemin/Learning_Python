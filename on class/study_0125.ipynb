{
 "cells": [
  {
   "cell_type": "markdown",
   "id": "63b3f615",
   "metadata": {},
   "source": [
    "### filter(조건함수, iterable) -> 간단하면 lambda로"
   ]
  },
  {
   "cell_type": "code",
   "execution_count": 20,
   "id": "4d144d19",
   "metadata": {},
   "outputs": [
    {
     "name": "stdout",
     "output_type": "stream",
     "text": [
      "[1, 3]\n",
      "1 3\n"
     ]
    }
   ],
   "source": [
    "number = [1, 2, 3]\n",
    "\n",
    "def odd(n):\n",
    "    return n % 2\n",
    "rlt = [n for n in filter(odd, number)]\n",
    "\n",
    "print(rlt)\n",
    "print(*filter(odd, number))"
   ]
  },
  {
   "cell_type": "code",
   "execution_count": 5,
   "id": "c292f8b5",
   "metadata": {},
   "outputs": [
    {
     "data": {
      "text/plain": [
       "[1, 3]"
      ]
     },
     "execution_count": 5,
     "metadata": {},
     "output_type": "execute_result"
    }
   ],
   "source": [
    "lst = [a for a in filter(lambda n: n % 2, number)]\n",
    "lst"
   ]
  },
  {
   "cell_type": "markdown",
   "id": "e1c01505",
   "metadata": {},
   "source": [
    "### 내장함수 upper(), lower()를 쓰지 않고 대소문자 바꾸기\n",
    "소문자 a와 f의 차이가 A 와 F의 차이와 같다는 점을 이용"
   ]
  },
  {
   "cell_type": "code",
   "execution_count": 8,
   "id": "2bc7de87",
   "metadata": {},
   "outputs": [
    {
     "data": {
      "text/plain": [
       "'SSAFYY'"
      ]
     },
     "execution_count": 8,
     "metadata": {},
     "output_type": "execute_result"
    }
   ],
   "source": [
    "word = 'SsaFyY'\n",
    "new = ''\n",
    "for ch in word:\n",
    "    if 97 <= ord(ch) <= 122:\n",
    "        new += chr(ord(ch) - 32)\n",
    "    else: new += ch\n",
    "new"
   ]
  },
  {
   "cell_type": "code",
   "execution_count": 12,
   "id": "597f11bb",
   "metadata": {},
   "outputs": [
    {
     "data": {
      "text/plain": [
       "'ssafyy'"
      ]
     },
     "execution_count": 12,
     "metadata": {},
     "output_type": "execute_result"
    }
   ],
   "source": [
    "new2 = ''\n",
    "for ch in word:\n",
    "    if 65 <= ord(ch) <= 90:\n",
    "        new2 += chr(ord(ch) + ord('a') - ord('A'))\n",
    "    else: new2 += ch\n",
    "new2"
   ]
  },
  {
   "cell_type": "markdown",
   "id": "51908b67",
   "metadata": {},
   "source": [
    "### Argument 인자\n",
    "#### Keyword Argument 다음에 Positional Argument를 활용할 수 없다"
   ]
  },
  {
   "cell_type": "code",
   "execution_count": null,
   "id": "4628cc25",
   "metadata": {},
   "outputs": [],
   "source": [
    "def add(x, y):\n",
    "    return x + y\n",
    "\n",
    "add(x = 2, y = 5) # 7\n",
    "add(2, y = 5) # 7\n",
    "add(x = 2, 5) # Error"
   ]
  },
  {
   "cell_type": "markdown",
   "id": "c7693ee8",
   "metadata": {},
   "source": [
    "#### Default Arguments Values : 기본값을 지정하여 함수 호출시 Argument값을 설정하지 않음"
   ]
  },
  {
   "cell_type": "code",
   "execution_count": 14,
   "id": "bb6dc478",
   "metadata": {
    "scrolled": true
   },
   "outputs": [
    {
     "name": "stdout",
     "output_type": "stream",
     "text": [
      "2\n",
      "5\n"
     ]
    }
   ],
   "source": [
    "def add(x, y = 0):\n",
    "    return x + y\n",
    "\n",
    "print(add(2))\n",
    "print(add(2, 3))"
   ]
  },
  {
   "cell_type": "markdown",
   "id": "c2e45a0e",
   "metadata": {},
   "source": [
    "### namespace"
   ]
  },
  {
   "cell_type": "code",
   "execution_count": 15,
   "id": "8aa2cd22",
   "metadata": {},
   "outputs": [
    {
     "name": "stdout",
     "output_type": "stream",
     "text": [
      "3\n",
      "3\n",
      "1\n"
     ]
    }
   ],
   "source": [
    "x = 1\n",
    "\n",
    "def func1():\n",
    "    x = 2\n",
    "\n",
    "    def func2():\n",
    "        nonlocal x # \"여기서 쓰이는 x는 enclosing 함수의 x\"\n",
    "        x = 3\n",
    "        print(x)\n",
    "\n",
    "    func2()\n",
    "    print(x)\n",
    "\n",
    "func1()\n",
    "print(x)"
   ]
  },
  {
   "cell_type": "code",
   "execution_count": 16,
   "id": "cb59ff1b",
   "metadata": {
    "scrolled": true
   },
   "outputs": [
    {
     "name": "stdout",
     "output_type": "stream",
     "text": [
      "3\n",
      "2\n",
      "3\n"
     ]
    }
   ],
   "source": [
    "x = 1\n",
    "\n",
    "def func1():\n",
    "    x = 2\n",
    "\n",
    "    def func2():\n",
    "        global x\n",
    "        x = 3 # global x의 값도 3으로 바뀜\n",
    "        print(x)\n",
    "\n",
    "    func2()\n",
    "    print(x) # \n",
    "\n",
    "func1()\n",
    "print(x)"
   ]
  },
  {
   "cell_type": "markdown",
   "id": "71e1ac16",
   "metadata": {},
   "source": [
    "### Escape Sequence"
   ]
  },
  {
   "cell_type": "code",
   "execution_count": 17,
   "id": "1da50e06",
   "metadata": {},
   "outputs": [
    {
     "name": "stdout",
     "output_type": "stream",
     "text": [
      "123\n",
      "00000\thi'nice\"to\\meet\r",
      "you\n"
     ]
    }
   ],
   "source": [
    "#\\r 'carriage return'은 해당 라인의 첫 번째로 가서 \\r 뒤의 글자수만큼 자리를 차지한다\n",
    "print('123\\n00000\\thi\\'nice\\\"to\\\\meet\\ryou')"
   ]
  },
  {
   "cell_type": "code",
   "execution_count": null,
   "id": "0c294c4f",
   "metadata": {},
   "outputs": [],
   "source": []
  }
 ],
 "metadata": {
  "kernelspec": {
   "display_name": "Python 3 (ipykernel)",
   "language": "python",
   "name": "python3"
  },
  "language_info": {
   "codemirror_mode": {
    "name": "ipython",
    "version": 3
   },
   "file_extension": ".py",
   "mimetype": "text/x-python",
   "name": "python",
   "nbconvert_exporter": "python",
   "pygments_lexer": "ipython3",
   "version": "3.9.13"
  }
 },
 "nbformat": 4,
 "nbformat_minor": 5
}
