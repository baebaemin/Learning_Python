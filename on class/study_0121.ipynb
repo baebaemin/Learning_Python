{
 "cells": [
  {
   "cell_type": "code",
   "execution_count": 1,
   "id": "acfc0f13",
   "metadata": {},
   "outputs": [
    {
     "name": "stdout",
     "output_type": "stream",
     "text": [
      "5\n",
      "4\n",
      "3\n",
      "2\n",
      "1\n"
     ]
    }
   ],
   "source": [
    "cnt = 5 # 조건식에 사용할 변수 생성\n",
    "while cnt > 0: \n",
    "    # 반복할 내용\n",
    "    print(cnt)\n",
    "    cnt = cnt - 1"
   ]
  },
  {
   "cell_type": "code",
   "execution_count": 3,
   "id": "14aa1ed3",
   "metadata": {},
   "outputs": [
    {
     "name": "stdout",
     "output_type": "stream",
     "text": [
      "1\n",
      "2\n",
      "5\n",
      "10\n"
     ]
    }
   ],
   "source": [
    "number = 10\n",
    "\n",
    "for i in range(1, number + 1):  # 1 ~ 입력값 동안\n",
    "        if number % i == 0:    # 만약 입력값을 i로 나눴을 때, 나누어 떨어진다면\n",
    "            print(i)"
   ]
  },
  {
   "cell_type": "markdown",
   "id": "395a9a76",
   "metadata": {},
   "source": [
    "### dictionary 범위에서 원소를 가져오면 key값이 나온다"
   ]
  },
  {
   "cell_type": "code",
   "execution_count": 5,
   "id": "fec8f9f8",
   "metadata": {},
   "outputs": [
    {
     "name": "stdout",
     "output_type": "stream",
     "text": [
      "key1 key2 key3 "
     ]
    }
   ],
   "source": [
    "for i in {'key1': 'val1', 'key2': 'val2', 'key3': 'val3'}:\n",
    "    print(i, end = ' ')"
   ]
  },
  {
   "cell_type": "code",
   "execution_count": 2,
   "id": "d544faca",
   "metadata": {},
   "outputs": [
    {
     "name": "stdout",
     "output_type": "stream",
     "text": [
      "dict_keys(['key1', 'key2', 'key3']) <class 'dict_keys'>\n",
      "dict_values(['val1', 'val2', 'val3'])\n",
      "dict_items([('key1', 'val1'), ('key2', 'val2'), ('key3', 'val3')])\n"
     ]
    }
   ],
   "source": [
    "my_dict = {'key1': 'val1', 'key2': 'val2', 'key3': 'val3'}\n",
    "print(my_dict.keys(), type(my_dict.keys()))\n",
    "print(my_dict.values())\n",
    "print(my_dict.items())"
   ]
  },
  {
   "cell_type": "code",
   "execution_count": null,
   "id": "7a501b46",
   "metadata": {},
   "outputs": [],
   "source": [
    "new_dict = {key + '0': val for key, val in my_dict.items()}\n",
    "print(new_dict)"
   ]
  },
  {
   "cell_type": "code",
   "execution_count": null,
   "id": "cdabff62",
   "metadata": {},
   "outputs": [],
   "source": [
    "### dictionary에서 .items()로 가져온 원소는 tuple, 그냥 가져온 원소는 key값"
   ]
  },
  {
   "cell_type": "code",
   "execution_count": 8,
   "id": "0206dae5",
   "metadata": {},
   "outputs": [
    {
     "name": "stdout",
     "output_type": "stream",
     "text": [
      "[('key1', 'val1'), ('key2', 'val2'), ('key3', 'val3')]\n",
      "['key1', 'key2', 'key3']\n"
     ]
    }
   ],
   "source": [
    "list = [(i[0], i[1]) for i in my_dict.items()]\n",
    "print(list)\n",
    "list2 = [(i) for i in my_dict]\n",
    "print(list2)"
   ]
  },
  {
   "cell_type": "code",
   "execution_count": null,
   "id": "a890295b",
   "metadata": {},
   "outputs": [],
   "source": [
    "for key, val in my_dict.items():\n",
    "    print(key, val)"
   ]
  },
  {
   "cell_type": "code",
   "execution_count": null,
   "id": "96918b4f",
   "metadata": {},
   "outputs": [],
   "source": [
    "for idx, val in enumerate([1, 2, 3]):\n",
    "    print(idx, val)"
   ]
  },
  {
   "cell_type": "code",
   "execution_count": null,
   "id": "4c12afe9",
   "metadata": {},
   "outputs": [],
   "source": [
    "lst = [1, 2, 3]\n",
    "for i in range(len(lst)): # 인덱스로 개별 요소에 접근, 문자열은 변경 불가\n",
    "    print(lst[i], end = ' ')"
   ]
  },
  {
   "cell_type": "code",
   "execution_count": null,
   "id": "7f405ea3",
   "metadata": {},
   "outputs": [],
   "source": [
    "for i in range(3):\n",
    "    print('>', end = '')\n",
    "    for j in range(5):\n",
    "        print('*', end = '')\n",
    "    print()"
   ]
  },
  {
   "cell_type": "code",
   "execution_count": null,
   "id": "16c48433",
   "metadata": {},
   "outputs": [],
   "source": [
    "for i in range(3):\n",
    "    print(i)\n",
    "    for j in range(5):\n",
    "        if j % 2 == 1: \n",
    "            continue #홀수일 때 밑의 프린트를 하지 않겠다\n",
    "        print('===', j)\n",
    "    print()"
   ]
  },
  {
   "cell_type": "markdown",
   "id": "928278e9",
   "metadata": {},
   "source": [
    "### dictionary"
   ]
  },
  {
   "cell_type": "code",
   "execution_count": null,
   "id": "64fa9702",
   "metadata": {},
   "outputs": [],
   "source": [
    "dictionary = {}\n",
    "dictionary['coffee'] = 1 #딕셔너리에 coffee를 키값으로 줬을 때 1을 반환한다\n",
    "print(dictionary['coffee'] + 1) = #value값인 1에 1을 더해 2가 된다"
   ]
  },
  {
   "cell_type": "code",
   "execution_count": 42,
   "id": "daa25a81",
   "metadata": {
    "scrolled": true
   },
   "outputs": [
    {
     "data": {
      "text/plain": [
       "{'안녕': 'hi', 'key': 22}"
      ]
     },
     "execution_count": 42,
     "metadata": {},
     "output_type": "execute_result"
    }
   ],
   "source": [
    "dict2 = dict(안녕 = 'hi', key = 22)\n",
    "dict2\n",
    "#dict()안에 key와 value를 '='로 묶어 넣어줄 수 있다"
   ]
  },
  {
   "cell_type": "code",
   "execution_count": null,
   "id": "8743c3a9",
   "metadata": {},
   "outputs": [],
   "source": [
    "# 식별자는 숫자만으로는 이루어질 수가 없다는 것에 주의합니다.\n",
    "# 키워드인자로 넘기면 함수 안에서 식별자(변수이름)로 쓰이기 때문입니다.\n",
    "\n",
    "dict(1=1, 2=2)  # SyntaxError"
   ]
  },
  {
   "cell_type": "code",
   "execution_count": 66,
   "id": "64ebcc4d",
   "metadata": {},
   "outputs": [
    {
     "name": "stdout",
     "output_type": "stream",
     "text": [
      "{1: 10, 2: 20}\n"
     ]
    },
    {
     "data": {
      "text/plain": [
       "{10: '1a', 20: '2a'}"
      ]
     },
     "execution_count": 66,
     "metadata": {},
     "output_type": "execute_result"
    }
   ],
   "source": [
    "# 숫자로 된 딕셔너리를 만들고 싶다면\n",
    "print(dict(((1, 10), (2, 20)))) # dict()안에 tuple 2쌍을 가진 tuple을 넣기\n",
    "dict2 = dict([(10, '1a'), (20, '2a')]) # dict()안에 tuple 2쌍을 가진 list를 넣기\n",
    "dict2"
   ]
  },
  {
   "cell_type": "code",
   "execution_count": 67,
   "id": "b4a27d47",
   "metadata": {},
   "outputs": [
    {
     "name": "stdout",
     "output_type": "stream",
     "text": [
      "{'한국어': 1, '영어': 'hi', '독일어': 'Guten Tag'}\n"
     ]
    }
   ],
   "source": [
    "def my_dict(**kwargs):\n",
    "    return kwargs\n",
    "\n",
    "print(my_dict(한국어= 1 , 영어='hi', 독일어='Guten Tag'))"
   ]
  },
  {
   "cell_type": "markdown",
   "id": "317c870b",
   "metadata": {},
   "source": [
    "### list comprehension"
   ]
  },
  {
   "cell_type": "code",
   "execution_count": null,
   "id": "92a011ce",
   "metadata": {},
   "outputs": [],
   "source": [
    "oldlist = [1, 2, 'A', False, 3]\n",
    "list = [i ** i for i in oldlist if type(i) == int]\n",
    "list"
   ]
  },
  {
   "cell_type": "markdown",
   "id": "da93be41",
   "metadata": {},
   "source": [
    "### set comprehension \n",
    "결과값을 리스트에 저장하고 중복된 원소를 제거하고 싶을 때"
   ]
  },
  {
   "cell_type": "code",
   "execution_count": null,
   "id": "c30dd850",
   "metadata": {},
   "outputs": [],
   "source": [
    "oldlist = [1, 2, 3, 4, 1, 2, 2, 4, 5, 5]\n",
    "list = {i for i in oldlist}\n",
    "list"
   ]
  },
  {
   "cell_type": "markdown",
   "id": "50162c05",
   "metadata": {},
   "source": [
    "### dictionary comprehension"
   ]
  },
  {
   "cell_type": "code",
   "execution_count": null,
   "id": "372ef6ae",
   "metadata": {},
   "outputs": [],
   "source": [
    "my_dict = {'A': '1', 'B': '2', 'C': '3'}\n",
    "new_dict = {vals for key, vals in my_dict.items()}\n",
    "new_dict\n",
    "my_dict.items()"
   ]
  },
  {
   "cell_type": "code",
   "execution_count": null,
   "id": "cf679319",
   "metadata": {},
   "outputs": [],
   "source": [
    "my_dict = {'A': 1, 'B': 2, 'C': 3}\n",
    "cubic_dict = {val ** 3: name for name, val in my_dict.items()}\n",
    "cubic_dict"
   ]
  },
  {
   "cell_type": "markdown",
   "id": "ecb3c022",
   "metadata": {},
   "source": [
    "### for문에서 try, except 사용해서 list 안에 중복된 원소 dictionary로 카운트하기"
   ]
  },
  {
   "cell_type": "code",
   "execution_count": null,
   "id": "f43cfd44",
   "metadata": {},
   "outputs": [],
   "source": [
    "orders = '아이스아메리카노,카라멜마키야또,에스프레소,아메리카노,아메리카노,아이스라떼,핫초코,아이스아메리카노,아메리카노,아이스카라멜마키야또,아이스라떼,라떼마키야또,카푸치노,라떼마키야또'\n",
    "drinks = orders.split(',')\n",
    "cnt_dict = {}\n",
    "\n",
    "for cup in drinks: #음료에서 한 잔씩 빼오기\n",
    "    try: cnt_dict[cup] += 1 #key에 없는 처음보는 음료라면 except, 있는 음료라면 value에 카운트 +1\n",
    "    except: cnt_dict[cup] = 1 #처음 데려온 음료라면 새 key 생성, 카운트 1\n",
    "\n",
    "cnt_dict"
   ]
  },
  {
   "cell_type": "markdown",
   "id": "6d84e773",
   "metadata": {},
   "source": [
    "### %-formatting 표현식"
   ]
  },
  {
   "cell_type": "code",
   "execution_count": null,
   "id": "0ccbe804",
   "metadata": {},
   "outputs": [],
   "source": [
    "# %-formatting 은 다음과 같이 사용합니다.\n",
    "print('Hello, %s' % name)\n",
    "print('내 성적은 %d' % score)\n",
    "print('내 성적은 %f' % score)"
   ]
  },
  {
   "cell_type": "markdown",
   "id": "3fda5bbc",
   "metadata": {},
   "source": [
    "#### %y, %m, %A"
   ]
  },
  {
   "cell_type": "code",
   "execution_count": 20,
   "id": "d4afc921",
   "metadata": {},
   "outputs": [
    {
     "name": "stdout",
     "output_type": "stream",
     "text": [
      "오늘은 23년 01월 18일 Wednesday\n"
     ]
    }
   ],
   "source": [
    "import datetime\n",
    "today = datetime.datetime.now()\n",
    "print(f'오늘은 {today:%y}년 {today:%m}월 {today:%d}일 {today:%A}')"
   ]
  },
  {
   "cell_type": "markdown",
   "id": "84992e4f",
   "metadata": {},
   "source": [
    "### n자리 숫자 표현식"
   ]
  },
  {
   "cell_type": "code",
   "execution_count": 8,
   "id": "a2656aaa",
   "metadata": {},
   "outputs": [
    {
     "name": "stdout",
     "output_type": "stream",
     "text": [
      "0000000005\n"
     ]
    }
   ],
   "source": [
    "x = 5\n",
    "print('%010d' % (x))"
   ]
  },
  {
   "cell_type": "markdown",
   "id": "925d208d",
   "metadata": {},
   "source": [
    "### 금액 표현식"
   ]
  },
  {
   "cell_type": "code",
   "execution_count": 3,
   "id": "9ab44132",
   "metadata": {},
   "outputs": [
    {
     "name": "stdout",
     "output_type": "stream",
     "text": [
      "484,747,336\n"
     ]
    }
   ],
   "source": [
    "y = 484747336\n",
    "print('{:,}'.format(y))"
   ]
  },
  {
   "cell_type": "markdown",
   "id": "d354755e",
   "metadata": {},
   "source": [
    "### 컴퓨터식 지수 표현식"
   ]
  },
  {
   "cell_type": "code",
   "execution_count": 10,
   "id": "9ce7eee3",
   "metadata": {},
   "outputs": [
    {
     "name": "stdout",
     "output_type": "stream",
     "text": [
      "3140.0 314.0 31.4 3.14\n"
     ]
    }
   ],
   "source": [
    "a = 314e+1\n",
    "b = 314e-0\n",
    "c = 314e-1\n",
    "d = 314e-2\n",
    "print(a, b, c, d)"
   ]
  },
  {
   "cell_type": "markdown",
   "id": "8133d6b8",
   "metadata": {},
   "source": [
    "### 실수의 연산"
   ]
  },
  {
   "cell_type": "code",
   "execution_count": 13,
   "id": "c7bb35e0",
   "metadata": {},
   "outputs": [
    {
     "data": {
      "text/plain": [
       "False"
      ]
     },
     "execution_count": 13,
     "metadata": {},
     "output_type": "execute_result"
    }
   ],
   "source": [
    "3.5 - 3.12 == 0.38"
   ]
  },
  {
   "cell_type": "code",
   "execution_count": 14,
   "id": "aeb5bd1f",
   "metadata": {},
   "outputs": [
    {
     "name": "stdout",
     "output_type": "stream",
     "text": [
      "0.3799999999999999\n"
     ]
    }
   ],
   "source": [
    "print(3.5 - 3.12)"
   ]
  },
  {
   "cell_type": "code",
   "execution_count": null,
   "id": "21612f46",
   "metadata": {},
   "outputs": [],
   "source": [
    "# 1. 기본적인 처리방법을 알아봅시다.\n",
    "# 변수 a, b에 각각의 실수 값을 저장합니다.\n",
    "# 그리고 abs()를 이용하여 a와 b의 차이를 구합니다.\n",
    "# a와 b의 차이가 1e-10 값 이하이면 a 와 b 는 같다고 볼 수 있습니다."
   ]
  },
  {
   "cell_type": "code",
   "execution_count": 15,
   "id": "3e7c91a1",
   "metadata": {},
   "outputs": [
    {
     "data": {
      "text/plain": [
       "True"
      ]
     },
     "execution_count": 15,
     "metadata": {},
     "output_type": "execute_result"
    }
   ],
   "source": [
    "a = 3.5 - 3.12\n",
    "b = 0.38\n",
    "\n",
    "abs(a - b) <= 1e-10 # 1e-10 = 1 * 10의 -10승"
   ]
  },
  {
   "cell_type": "code",
   "execution_count": null,
   "id": "85ecc71c",
   "metadata": {},
   "outputs": [],
   "source": [
    "# 2. sys 모듈을 통해 처리하는 방법을 알아봅시다.\n",
    "# `epsilon` 은 부동소수점 연산에서 반올림을 함으로써 발생하는 오차 상환\n",
    "# abs() 를 이용하여 a, b의 차이를 구합니다.\n",
    "# a와 b의 차이가 sys.float_info.epsilon의 값 이하이면 a, b 는 같다고 볼 수 있습니다."
   ]
  },
  {
   "cell_type": "code",
   "execution_count": 17,
   "id": "bd2a5712",
   "metadata": {},
   "outputs": [
    {
     "data": {
      "text/plain": [
       "True"
      ]
     },
     "execution_count": 17,
     "metadata": {},
     "output_type": "execute_result"
    }
   ],
   "source": [
    "import sys\n",
    "abs(a - b) <= sys.float_info.epsilon"
   ]
  },
  {
   "cell_type": "code",
   "execution_count": 18,
   "id": "67aa9840",
   "metadata": {
    "scrolled": true
   },
   "outputs": [
    {
     "data": {
      "text/plain": [
       "True"
      ]
     },
     "execution_count": 18,
     "metadata": {},
     "output_type": "execute_result"
    }
   ],
   "source": [
    "# math.isclose() 를 이용해서 a와 b의 값이 같은지 확인할수 있습니다.\n",
    "import math\n",
    "math.isclose(a, b)"
   ]
  },
  {
   "cell_type": "markdown",
   "id": "2554a783",
   "metadata": {},
   "source": [
    "### None타입과 Boolean타입"
   ]
  },
  {
   "cell_type": "code",
   "execution_count": 21,
   "id": "2d9e908a",
   "metadata": {
    "scrolled": false
   },
   "outputs": [
    {
     "name": "stdout",
     "output_type": "stream",
     "text": [
      "<class 'bool'> <class 'bool'> <class 'NoneType'>\n"
     ]
    }
   ],
   "source": [
    "print(type(None), type(True), type(False))"
   ]
  },
  {
   "cell_type": "code",
   "execution_count": 22,
   "id": "7733d2bd",
   "metadata": {},
   "outputs": [
    {
     "data": {
      "text/plain": [
       "False"
      ]
     },
     "execution_count": 22,
     "metadata": {},
     "output_type": "execute_result"
    }
   ],
   "source": [
    "bool(0)"
   ]
  },
  {
   "cell_type": "code",
   "execution_count": 23,
   "id": "f32c7735",
   "metadata": {},
   "outputs": [
    {
     "data": {
      "text/plain": [
       "False"
      ]
     },
     "execution_count": 23,
     "metadata": {},
     "output_type": "execute_result"
    }
   ],
   "source": [
    "x = 3\n",
    "x is None"
   ]
  },
  {
   "cell_type": "markdown",
   "id": "40f64290",
   "metadata": {},
   "source": [
    "### 논리 연산자\n",
    "\n",
    "|연산자|내용|\n",
    "|---|---|\n",
    "|a and b|a와 b 모두 True시만 True|\n",
    "|a or b|a 와 b 모두 False시만 False|\n",
    "|not a|True -> False, False -> True|\n",
    "\n",
    "다른 언어에서 논리연산자로 주로 사용하는 `&` 과 `|`은 파이썬에서 비트 연산자입니다."
   ]
  },
  {
   "cell_type": "markdown",
   "id": "0de970cf",
   "metadata": {},
   "source": [
    "### 단축평가\n",
    "* 첫 번째 값이 확실할 때, 두 번째 값은 확인 하지 않습니다."
   ]
  },
  {
   "cell_type": "code",
   "execution_count": 25,
   "id": "75ad90ba",
   "metadata": {},
   "outputs": [
    {
     "data": {
      "text/plain": [
       "'b'"
      ]
     },
     "execution_count": 25,
     "metadata": {},
     "output_type": "execute_result"
    }
   ],
   "source": [
    "'a' and 'b' #두 번째 값까지 확인한 것"
   ]
  },
  {
   "cell_type": "code",
   "execution_count": 30,
   "id": "32e59e98",
   "metadata": {},
   "outputs": [
    {
     "name": "stdout",
     "output_type": "stream",
     "text": [
      "0\n",
      "a\n"
     ]
    }
   ],
   "source": [
    "print(0 and 'a') #첫 번째 값만 확인\n",
    "print('a' or 'b') #첫 번째 값만 확인"
   ]
  },
  {
   "cell_type": "code",
   "execution_count": 31,
   "id": "66436158",
   "metadata": {},
   "outputs": [
    {
     "name": "stdout",
     "output_type": "stream",
     "text": [
      "5\n",
      "0\n",
      "0\n",
      "0\n",
      "0\n",
      "False\n"
     ]
    }
   ],
   "source": [
    "print(3 and 5) #5 true랑 true라 5까지 확인\n",
    "print(3 and 0) #0 true랑 false라 0까지 확인\n",
    "print(0 and 3) #0 false라 0만 확인\n",
    "print(0 and 0) #0 false라 0만 확인\n",
    "print(0)\n",
    "print(bool(0))"
   ]
  },
  {
   "cell_type": "code",
   "execution_count": 32,
   "id": "090416d0",
   "metadata": {},
   "outputs": [
    {
     "name": "stdout",
     "output_type": "stream",
     "text": [
      "0\n"
     ]
    }
   ],
   "source": [
    "print((3 and 5) and (0 and 3))"
   ]
  },
  {
   "cell_type": "code",
   "execution_count": 33,
   "id": "4930ce6f",
   "metadata": {},
   "outputs": [
    {
     "name": "stdout",
     "output_type": "stream",
     "text": [
      "5\n",
      "3\n",
      "3\n",
      "0\n"
     ]
    }
   ],
   "source": [
    "print(5 or 3) #5\n",
    "print(3 or 0) #3\n",
    "print(0 or 3) #3\n",
    "print(0 or 0) #0"
   ]
  },
  {
   "cell_type": "markdown",
   "id": "ac8ef963",
   "metadata": {},
   "source": [
    "### tuple"
   ]
  },
  {
   "cell_type": "code",
   "execution_count": 35,
   "id": "45f4e838",
   "metadata": {},
   "outputs": [
    {
     "name": "stdout",
     "output_type": "stream",
     "text": [
      "(1,)\n",
      "<class 'tuple'>\n"
     ]
    }
   ],
   "source": [
    "# 하나의 항목으로 구성된 튜플은 생성 시 값 뒤에 쉼표를 붙여야 합니다.\n",
    "a = 1,\n",
    "print(a)\n",
    "print(type(a))"
   ]
  },
  {
   "cell_type": "code",
   "execution_count": 36,
   "id": "a014c049",
   "metadata": {},
   "outputs": [
    {
     "name": "stdout",
     "output_type": "stream",
     "text": [
      "(1, 2, 3)\n",
      "<class 'tuple'>\n"
     ]
    }
   ],
   "source": [
    "# 마지막 항목에 붙은 쉼표는 생략 할 수 있습니다.\n",
    "b = 1, 2, 3\n",
    "print(b)\n",
    "print(type(b))"
   ]
  },
  {
   "cell_type": "markdown",
   "id": "bf70161b",
   "metadata": {},
   "source": [
    "### range\n",
    "음의 방향으로 원소 범위 설정시 음수를 step으로 추가"
   ]
  },
  {
   "cell_type": "code",
   "execution_count": 38,
   "id": "d54c05e3",
   "metadata": {
    "scrolled": false
   },
   "outputs": [
    {
     "name": "stdout",
     "output_type": "stream",
     "text": [
      "[]\n",
      "[0, -1, -2, -3, -4, -5, -6, -7, -8, -9]\n"
     ]
    }
   ],
   "source": [
    "print(list(range(0, -10)))\n",
    "print(list(range(0, -10, -1)))"
   ]
  },
  {
   "cell_type": "markdown",
   "id": "8ba0e3ce",
   "metadata": {},
   "source": [
    "### 슬라이싱 **\n",
    "Sequence[start:end[:step]]"
   ]
  },
  {
   "cell_type": "code",
   "execution_count": 40,
   "id": "f58fa503",
   "metadata": {
    "scrolled": true
   },
   "outputs": [
    {
     "name": "stdout",
     "output_type": "stream",
     "text": [
      "[2, 3, 4]\n",
      "(1, 2)\n",
      "range(5, 8)\n",
      "cd\n"
     ]
    }
   ],
   "source": [
    "# 아래 코드들을 실행한 결과를 확인하여 슬라이싱의 작동 원리를 파악해봅시다.\n",
    "print([1, 2, 3, 4][1:4])\n",
    "print((1, 2, 3)[:2])\n",
    "print(range(10)[5:8])\n",
    "print('abcd'[2:4])"
   ]
  },
  {
   "cell_type": "code",
   "execution_count": 8,
   "id": "2eb062f7",
   "metadata": {
    "scrolled": false
   },
   "outputs": [
    {
     "name": "stdout",
     "output_type": "stream",
     "text": [
      "[1, 3]\n",
      "(1, 4)\n"
     ]
    }
   ],
   "source": [
    "print([1, 2, 3, 4][0:4:2])\n",
    "print((1, 2, 3, 4)[0:4:3])"
   ]
  },
  {
   "cell_type": "markdown",
   "id": "ee920f86",
   "metadata": {},
   "source": [
    "### filter(function, iterable)"
   ]
  },
  {
   "cell_type": "code",
   "execution_count": 7,
   "id": "04b17e19",
   "metadata": {},
   "outputs": [
    {
     "data": {
      "text/plain": [
       "[1, 3]"
      ]
     },
     "execution_count": 7,
     "metadata": {},
     "output_type": "execute_result"
    }
   ],
   "source": [
    "number = [1, 2, 3]\n",
    "def odd(n):\n",
    "    return n % 2\n",
    "rlt = list(filter(odd, number))\n",
    "rlt"
   ]
  },
  {
   "cell_type": "markdown",
   "id": "c5223c35",
   "metadata": {},
   "source": [
    "## `zip(*iterables)` \n",
    "\n",
    "* 복수의 iterable 객체를 모아 튜플의 모음으로 구성된 `zip object` 를 반환."
   ]
  },
  {
   "cell_type": "code",
   "execution_count": 11,
   "id": "ddd7a14f",
   "metadata": {},
   "outputs": [],
   "source": [
    "girls = ['jane', 'ashley', 'mary']\n",
    "boys = ['justin', 'eric', 'david']"
   ]
  },
  {
   "cell_type": "code",
   "execution_count": 14,
   "id": "20049bce",
   "metadata": {},
   "outputs": [
    {
     "data": {
      "text/plain": [
       "[('jane', 'justin'), ('ashley', 'eric'), ('mary', 'david')]"
      ]
     },
     "execution_count": 14,
     "metadata": {},
     "output_type": "execute_result"
    }
   ],
   "source": [
    "pair = list(zip(girls, boys))\n",
    "pair"
   ]
  },
  {
   "cell_type": "markdown",
   "id": "019209fb",
   "metadata": {},
   "source": [
    "## lambda 함수\n",
    "\n",
    "* 표현식을 계산한 결과 값을 반환하는 함수로, 이름이 없는 함수여서 익명함수라고도 불립니다.\n",
    "\n",
    "* return 문을 가질 수 없고, 간단한 조건문 외의 구성이 어렵습니다."
   ]
  },
  {
   "cell_type": "code",
   "execution_count": 16,
   "id": "d8719ee6",
   "metadata": {},
   "outputs": [],
   "source": [
    "def triangle_area(b, h):\n",
    "    return 0.5 * b * h"
   ]
  },
  {
   "cell_type": "code",
   "execution_count": null,
   "id": "082e20f7",
   "metadata": {},
   "outputs": [],
   "source": [
    "lambda b, h: 0.5 * b * h"
   ]
  },
  {
   "cell_type": "code",
   "execution_count": 19,
   "id": "a046f471",
   "metadata": {},
   "outputs": [
    {
     "data": {
      "text/plain": [
       "[1, 0, 1]"
      ]
     },
     "execution_count": 19,
     "metadata": {},
     "output_type": "execute_result"
    }
   ],
   "source": [
    "list(map(lambda n: n%2, [1, 2, 3]))\n",
    "#map(function, <iterable>)"
   ]
  },
  {
   "cell_type": "markdown",
   "id": "6df57783",
   "metadata": {},
   "source": [
    "## 재귀 함수(recursive function)"
   ]
  },
  {
   "cell_type": "markdown",
   "id": "1e41fdc7",
   "metadata": {},
   "source": [
    "### 재귀를 이용한 팩토리얼 계산\n",
    "\n",
    "```\n",
    "1! = 1\n",
    "2! = 1 * 2 = 1! * 2 \n",
    "3! = 1 * 2 * 3 = 2! * 3\n",
    "```"
   ]
  },
  {
   "cell_type": "markdown",
   "id": "8b928d87",
   "metadata": {},
   "source": [
    "재귀 함수를 이용하여 다음 셀에 팩토리얼 함수를 직접 구현해봅시다.\n",
    "\n",
    "(점화식에 대한 고민을 통해 코드 구현을 연습합니다.)\n",
    "\n",
    "Case(1) = `1! = 1`\n",
    "\n",
    "Case(2) = `2! = 1 * 2` = Case(1) * 2\n",
    "\n",
    "Case(3) = `3! = 1 * 2 * 3` = Case(2) * 3\n",
    "\n",
    "...\n",
    "\n",
    "Case(N) = N! = 1 * 2 * 3 * ... * N = Case(N-1) * N => N-1 단계까지의 결과 * N\n",
    "\n",
    "이렇게 반복적인 구조 (이전 단계까지의 결과 * 현재 단계의 숫자)를 찾아내고, 이를 코드로 표현합니다.\n",
    "\n",
    "```python\n",
    "def 팩토리얼재귀(현재 단계의 숫자):\n",
    "    만약, 현재 단계가 1 단계라면?\n",
    "        더이상 재귀호출을 진행하지않고, 1을 반환합니다.\n",
    "    그렇지 않은 경우에는 (현재 단계의 숫자 * 이전 단계의 재귀 함수의 실행 결과)를 반환합니다.\n",
    "``` "
   ]
  },
  {
   "cell_type": "markdown",
   "id": "756dddcd",
   "metadata": {},
   "source": [
    "1 ~연산~ (case1(case2..(case3...(반복))))"
   ]
  },
  {
   "cell_type": "code",
   "execution_count": 25,
   "id": "df87fad1",
   "metadata": {},
   "outputs": [
    {
     "data": {
      "text/plain": [
       "120"
      ]
     },
     "execution_count": 25,
     "metadata": {},
     "output_type": "execute_result"
    }
   ],
   "source": [
    "def factorial(n):\n",
    "    if n == 0: #반복되는 단계의 맨 첫 번째일때 반환 (ex. 1)\n",
    "        return 1\n",
    "    return n * factorial(n-1)\n",
    "\n",
    "factorial(5)"
   ]
  },
  {
   "cell_type": "code",
   "execution_count": 26,
   "id": "660e40f2",
   "metadata": {},
   "outputs": [
    {
     "data": {
      "text/plain": [
       "120"
      ]
     },
     "execution_count": 26,
     "metadata": {},
     "output_type": "execute_result"
    }
   ],
   "source": [
    "def fact(n):\n",
    "    num = n\n",
    "    while n > 1:\n",
    "        num = num * fact(n - 1) \n",
    "        return num\n",
    "    return 1\n",
    "\n",
    "fact(5)"
   ]
  },
  {
   "cell_type": "markdown",
   "id": "d3b522ab",
   "metadata": {},
   "source": [
    "def function(n):\n",
    "    if # 점화식의 가장 작은 불씨일때를 판별하는 조건\n",
    "        return # 가장 작은 불씨 반환\n",
    "    return(function(n에서 순차적으로 변형될 n2 수식)을 활용한 점화식 규칙)"
   ]
  },
  {
   "cell_type": "markdown",
   "id": "d0be622c",
   "metadata": {},
   "source": [
    "## [실습] 피보나치 수열\n",
    "\n",
    "첫째 및 둘째 항이 1이며 그 뒤의 모든 항은 바로 앞 두 항의 합인 수열입니다. \n",
    "\n",
    "(0), 1, 1, 2, 3, 5, 8\n",
    "\n",
    "> 피보나치 수열은 다음과 같은 점화식이 있습니다. \n",
    ">\n",
    "> 피보나치 값을 리턴하는 두가지 방식의 코드를 모두 작성해주세요.\n",
    ">\n",
    "\n",
    "$$\n",
    "\\displaystyle F_0 = 0\n",
    "$$\n",
    "\n",
    "\n",
    "$$\n",
    "\\displaystyle F_1 = 1\n",
    "$$\n",
    "\n",
    "$$\n",
    "F_n=F_{n-1}+F_{n-2}\\qquad(n\\in\\{2,3,4,\\dots\\})\n",
    "$$\n",
    "\n",
    "1) `fib(n)` : 재귀함수\n",
    "\n",
    "2) `fib_loop(n)` : 반복문 활용한 함수\n",
    "\n",
    "---\n",
    "```\n",
    "예시 입력)\n",
    "fib(10)\n",
    "\n",
    "예시 호출)\n",
    "55\n",
    "```"
   ]
  },
  {
   "cell_type": "code",
   "execution_count": null,
   "id": "842a4b1b",
   "metadata": {},
   "outputs": [],
   "source": [
    "def fib(n):\n",
    "    if n == 0: #발화점인 case(0)의 값이 0이므로\n",
    "        return 0\n",
    "    if n == 1 or n == 2: #한 번에 n-1과 n-2가 동시에 들어오면서 case(1)과 case(2)의 값이 1이므로\n",
    "        return 1\n",
    "    return fib(n - 1) + fib(n - 2) #10번째 피보나치 수열을 찾기 위해선 case(8)+case(9)이므로"
   ]
  },
  {
   "cell_type": "markdown",
   "id": "750e1315",
   "metadata": {},
   "source": [
    "## 패킹 (packing)\n",
    "\n",
    "`x, *y = i, j, k`\n",
    "\n",
    "* 대입문의 좌변 변수에 위치합니다.\n",
    "* 우변의 객체 수가 좌변의 변수보다 많을 경우 객체를 순서대로 대입합니다.\n",
    "* 나머지 항목들은 모두 별 기호(*) 표시된 변수에 리스트로 대입합니다."
   ]
  },
  {
   "cell_type": "code",
   "execution_count": 27,
   "id": "64c75d6d",
   "metadata": {},
   "outputs": [
    {
     "name": "stdout",
     "output_type": "stream",
     "text": [
      "[2, 3, 4]\n",
      "<class 'list'>\n"
     ]
    }
   ],
   "source": [
    "x, *y = 1, 2, 3, 4\n",
    "print(y)\n",
    "print(type(y))"
   ]
  },
  {
   "cell_type": "code",
   "execution_count": 28,
   "id": "f75db5f0",
   "metadata": {},
   "outputs": [
    {
     "name": "stdout",
     "output_type": "stream",
     "text": [
      "<class 'tuple'>\n"
     ]
    }
   ],
   "source": [
    "y = 1, 2, 3\n",
    "print(type(y))"
   ]
  },
  {
   "cell_type": "markdown",
   "id": "f7dadb13",
   "metadata": {},
   "source": [
    "### print()의 sep, end"
   ]
  },
  {
   "cell_type": "code",
   "execution_count": 29,
   "id": "0e8ea5f4",
   "metadata": {
    "scrolled": true
   },
   "outputs": [
    {
     "name": "stdout",
     "output_type": "stream",
     "text": [
      "첫 번째 문장/두 번째 문장끝!"
     ]
    }
   ],
   "source": [
    "print('첫 번째 문장', '두 번째 문장', sep='/', end='끝!')"
   ]
  },
  {
   "cell_type": "markdown",
   "id": "a64168c1",
   "metadata": {},
   "source": [
    "### 가변(임의) 인자 리스트(Arbitrary Argument Lists)\n",
    "\n",
    "개수가 정해지지 않은 임의의 인자를 받기 위해서는 **함수를 정의할 때** 가변 인자 리스트`*args`를 활용합니다. \n",
    "\n",
    "가변 인자 리스트는 `tuple` 형태로 처리가 되며, 매개변수에 `*`로 표현합니다. \n",
    "\n",
    "---\n",
    "\n",
    "**활용법**\n",
    "\n",
    "```python\n",
    "def func(a, b, *args):\n",
    "```\n",
    "> `*args` : 임의의 개수의 위치인자를 받음을 의미\n",
    "> \n",
    "> 보통, 이 가변 인자 리스트는 매개변수 목록의 마지막에 옵니다."
   ]
  },
  {
   "cell_type": "code",
   "execution_count": 32,
   "id": "a1ac89d2",
   "metadata": {},
   "outputs": [
    {
     "name": "stdout",
     "output_type": "stream",
     "text": [
      "(1, 2, 3) <class 'tuple'>\n"
     ]
    }
   ],
   "source": [
    "def func(*args):\n",
    "    return args\n",
    "rlt = func(1, 2, 3)\n",
    "print(rlt, type(rlt))"
   ]
  },
  {
   "cell_type": "markdown",
   "id": "84786a67",
   "metadata": {},
   "source": [
    "### 가변(임의) 키워드 인자(Arbitrary Keyword Arguments)\n",
    "\n",
    "정해지지 않은 키워드 인자들은 **함수를 정의할 때** 가변 키워드 인자 `**kwargs`를 활용합니다. \n",
    "\n",
    "가변 키워드 인자는 **`dict`** 형태로 처리가 되며, 매개변수에 `**`로 표현합니다. \n",
    "\n",
    "---\n",
    "\n",
    "**활용법**\n",
    "\n",
    "```python\n",
    "def func(**kwargs):\n",
    "```\n",
    "> `**kwargs` : 임의의 개수의 키워드 인자를 받음을 의미합니다"
   ]
  }
 ],
 "metadata": {
  "kernelspec": {
   "display_name": "Python 3 (ipykernel)",
   "language": "python",
   "name": "python3"
  },
  "language_info": {
   "codemirror_mode": {
    "name": "ipython",
    "version": 3
   },
   "file_extension": ".py",
   "mimetype": "text/x-python",
   "name": "python",
   "nbconvert_exporter": "python",
   "pygments_lexer": "ipython3",
   "version": "3.9.13"
  }
 },
 "nbformat": 4,
 "nbformat_minor": 5
}
