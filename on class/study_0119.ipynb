{
 "cells": [
  {
   "cell_type": "markdown",
   "id": "e6d4e958",
   "metadata": {},
   "source": [
    "### map"
   ]
  },
  {
   "cell_type": "code",
   "execution_count": 6,
   "id": "224dbd23",
   "metadata": {},
   "outputs": [
    {
     "data": {
      "text/plain": [
       "[10, 20, 30]"
      ]
     },
     "execution_count": 6,
     "metadata": {},
     "output_type": "execute_result"
    }
   ],
   "source": [
    "def func(n):\n",
    "    return n * 10\n",
    "map_obj = map(func, [1, 2, 3]) #직접 만든 함수를 안에 넣을 수도 있음\n",
    "rlt = list(map_obj)\n",
    "rlt"
   ]
  },
  {
   "cell_type": "markdown",
   "id": "1d60f7ba",
   "metadata": {},
   "source": [
    "### filter\n",
    "filter(function, iterable)"
   ]
  },
  {
   "cell_type": "code",
   "execution_count": 2,
   "id": "8a25d198",
   "metadata": {},
   "outputs": [
    {
     "name": "stdout",
     "output_type": "stream",
     "text": [
      "[1, 3] <class 'filter'>\n"
     ]
    }
   ],
   "source": [
    "def odd(n):\n",
    "    return n % 2\n",
    "numbers = [1, 2, 3]\n",
    "result = filter(odd, numbers) \n",
    "# 2가 odd에 들어가면 return으로 0 (False) 반환되어 걸러짐\n",
    "print(list(result), type(result))"
   ]
  },
  {
   "cell_type": "markdown",
   "id": "4c55bb24",
   "metadata": {},
   "source": [
    "### zip\n",
    "zip(*iterables)"
   ]
  },
  {
   "cell_type": "code",
   "execution_count": 4,
   "id": "8b44fc3c",
   "metadata": {},
   "outputs": [
    {
     "name": "stdout",
     "output_type": "stream",
     "text": [
      "('A', 17)\n",
      "('B', 18)\n",
      "('C', 22)\n",
      "('D', 24)\n",
      "('E', 25)\n"
     ]
    }
   ],
   "source": [
    "name_list = ['A', 'B', 'C', 'D', 'E']\n",
    "age_list = [17, 18, 22, 24, 25, 19]\n",
    "\n",
    "for each in zip(name_list, age_list):\n",
    "    print(each)"
   ]
  },
  {
   "cell_type": "markdown",
   "id": "0eb8e01b",
   "metadata": {},
   "source": [
    "### lambda 함수\n",
    "lambda[parameter]: 표현식"
   ]
  },
  {
   "cell_type": "code",
   "execution_count": 13,
   "id": "4aa62264",
   "metadata": {},
   "outputs": [
    {
     "data": {
      "text/plain": [
       "16"
      ]
     },
     "execution_count": 13,
     "metadata": {},
     "output_type": "execute_result"
    }
   ],
   "source": [
    "def pow(x):\n",
    "    return x * x\n",
    "#위와 아래의 함수는 같음\n",
    "rlt = (lambda x: x * x)(4)\n",
    "rlt"
   ]
  },
  {
   "cell_type": "code",
   "execution_count": 16,
   "id": "c6601806",
   "metadata": {},
   "outputs": [
    {
     "data": {
      "text/plain": [
       "[1, 2, 3, 1, 2, 3]"
      ]
     },
     "execution_count": 16,
     "metadata": {},
     "output_type": "execute_result"
    }
   ],
   "source": [
    "my_func = lambda n: n * 2 #n이라는 매개변수를 하나 받는 익명함수. 내용은 n*2\n",
    "lst = [1, 2, 3]\n",
    "my_func(lst)"
   ]
  },
  {
   "cell_type": "code",
   "execution_count": 21,
   "id": "698d9e3f",
   "metadata": {},
   "outputs": [
    {
     "data": {
      "text/plain": [
       "[10, 20, 30]"
      ]
     },
     "execution_count": 21,
     "metadata": {},
     "output_type": "execute_result"
    }
   ],
   "source": [
    "def my_magic_func(n):\n",
    "    return n * 10\n",
    "\n",
    "# 이 함수를 밑의 map(function, *iterables) 안의 function에 lambda 함수로 바꾸기\n",
    "\n",
    "map_obj = map(lambda n: n * 10, [1, 2, 3])\n",
    "list(map_obj)"
   ]
  },
  {
   "cell_type": "markdown",
   "id": "29cf6bbe",
   "metadata": {},
   "source": [
    "### 재귀 함수(recursive function)\n",
    "자기 자신을 호출하는 함수\n",
    "반드시 언제 끝날지 명시하는게 중요\n",
    "가장 마지막 호출한 함수에서 return한 값으로부터 다시 돌아오면서 값 계산"
   ]
  },
  {
   "cell_type": "code",
   "execution_count": 1,
   "id": "28865973",
   "metadata": {},
   "outputs": [],
   "source": [
    "def recur():\n",
    "    print('뿅')\n",
    "    recur() #내 자신을 call\n",
    "\n",
    "recur()    \n",
    "#실행하면 RecursionError - 실행 가능한 최대한의 범위를 벗어남. '뿅' * 무한"
   ]
  },
  {
   "cell_type": "code",
   "execution_count": 9,
   "id": "3b0c411a",
   "metadata": {},
   "outputs": [
    {
     "name": "stdout",
     "output_type": "stream",
     "text": [
      "5\n",
      "4\n",
      "3\n",
      "2\n",
      "1\n"
     ]
    },
    {
     "data": {
      "text/plain": [
       "120"
      ]
     },
     "execution_count": 9,
     "metadata": {},
     "output_type": "execute_result"
    }
   ],
   "source": [
    "def fac(n):\n",
    "    print(n)\n",
    "    if n - 1 == 0: #break 대신\n",
    "        return 1 #return으로 함수의 실행 막기\n",
    "    return n * fac(n - 1)\n",
    "fac(5)"
   ]
  },
  {
   "cell_type": "code",
   "execution_count": 11,
   "id": "b0f9e6f1",
   "metadata": {},
   "outputs": [
    {
     "name": "stdout",
     "output_type": "stream",
     "text": [
      "5\n",
      "4\n",
      "3\n",
      "2\n",
      "1\n"
     ]
    },
    {
     "data": {
      "text/plain": [
       "3"
      ]
     },
     "execution_count": 11,
     "metadata": {},
     "output_type": "execute_result"
    }
   ],
   "source": [
    "def mm(n):\n",
    "    print(n)\n",
    "    if n == 1:\n",
    "        return 1\n",
    "    return n - mm(n-1)\n",
    "mm(5)"
   ]
  },
  {
   "cell_type": "markdown",
   "id": "2556ba8e",
   "metadata": {},
   "source": [
    "### 패킹/언패킹 연산자(Packing/Unpacking Operator) *\n",
    "모든 시퀀스형(리스트, 튜플)은 패킹과 언패킹이 가능\n",
    "패킹의 경우, 리스트로 대입\n",
    "언패킹의 경우, 튜플 형태로 대입"
   ]
  },
  {
   "cell_type": "code",
   "execution_count": 14,
   "id": "9998d8d2",
   "metadata": {},
   "outputs": [
    {
     "name": "stdout",
     "output_type": "stream",
     "text": [
      "(1, 2, 3) <class 'tuple'>\n"
     ]
    }
   ],
   "source": [
    "x, y = 1, 2\n",
    "z = 1, 2, 3\n",
    "print(z, type(z))"
   ]
  },
  {
   "cell_type": "code",
   "execution_count": 17,
   "id": "0038ab9f",
   "metadata": {},
   "outputs": [
    {
     "ename": "ValueError",
     "evalue": "too many values to unpack (expected 2)",
     "output_type": "error",
     "traceback": [
      "\u001b[1;31m---------------------------------------------------------------------------\u001b[0m",
      "\u001b[1;31mValueError\u001b[0m                                Traceback (most recent call last)",
      "Cell \u001b[1;32mIn[17], line 1\u001b[0m\n\u001b[1;32m----> 1\u001b[0m a, b \u001b[38;5;241m=\u001b[39m \u001b[38;5;241m1\u001b[39m, \u001b[38;5;241m2\u001b[39m, \u001b[38;5;241m3\u001b[39m, \u001b[38;5;241m4\u001b[39m\n",
      "\u001b[1;31mValueError\u001b[0m: too many values to unpack (expected 2)"
     ]
    }
   ],
   "source": [
    "a, b = 1, 2, 3, 4"
   ]
  },
  {
   "cell_type": "code",
   "execution_count": 18,
   "id": "f70625bb",
   "metadata": {},
   "outputs": [
    {
     "name": "stdout",
     "output_type": "stream",
     "text": [
      "1 [2, 3, 4]\n"
     ]
    }
   ],
   "source": [
    "a, *b = 1, 2, 3, 4\n",
    "print(a, b) \n",
    "#b에 나머지 전부 packing"
   ]
  },
  {
   "cell_type": "code",
   "execution_count": 24,
   "id": "25be3c12",
   "metadata": {},
   "outputs": [
    {
     "data": {
      "text/plain": [
       "60"
      ]
     },
     "execution_count": 24,
     "metadata": {},
     "output_type": "execute_result"
    }
   ],
   "source": [
    "def my_sum(a, b, c):\n",
    "    return a + b + c\n",
    "\n",
    "num_list = [10, 20, 30]\n",
    "#rlt = my_sum(num_list[0], num_list[1], num_list[2])\n",
    "rlt = my_sum(*num_list) # unpacking\n",
    "rlt"
   ]
  },
  {
   "cell_type": "code",
   "execution_count": 38,
   "id": "060c4b6e",
   "metadata": {},
   "outputs": [
    {
     "name": "stdout",
     "output_type": "stream",
     "text": [
      "1\n",
      "2\n",
      "---\n",
      "3\n",
      "4\n"
     ]
    }
   ],
   "source": [
    "def test(*values): # argument 앞에 *를 붙이면 원소 여러개가 들어가도 됨\n",
    "    for value in values:\n",
    "        print(value)\n",
    "test(1, 2)\n",
    "print('---')\n",
    "test(*range(3,5))"
   ]
  },
  {
   "cell_type": "code",
   "execution_count": 3,
   "id": "9434238b",
   "metadata": {},
   "outputs": [
    {
     "name": "stdout",
     "output_type": "stream",
     "text": [
      "range(3, 5)\n",
      "3\n",
      "4\n"
     ]
    }
   ],
   "source": [
    "def test(*values):\n",
    "    for value in values:\n",
    "        print(value)\n",
    "test(range(3,5))\n",
    "test(*range(3,5))"
   ]
  },
  {
   "cell_type": "code",
   "execution_count": 37,
   "id": "6c76192c",
   "metadata": {
    "scrolled": true
   },
   "outputs": [
    {
     "name": "stdout",
     "output_type": "stream",
     "text": [
      "2\n",
      "3\n"
     ]
    },
    {
     "data": {
      "text/plain": [
       "5"
      ]
     },
     "execution_count": 37,
     "metadata": {},
     "output_type": "execute_result"
    }
   ],
   "source": [
    "def my_sum(a, *agrs): #...가변적으로 처리할 수 있다\n",
    "    rlt = 0\n",
    "    for value in agrs:\n",
    "        rlt += value\n",
    "    return rlt\n",
    "\n",
    "my_sum(1, 2, 3) #포지셔널을 ..."
   ]
  },
  {
   "cell_type": "markdown",
   "id": "31a3dd68",
   "metadata": {},
   "source": [
    "### keywords 가변인자"
   ]
  },
  {
   "cell_type": "code",
   "execution_count": 43,
   "id": "52e53c36",
   "metadata": {},
   "outputs": [
    {
     "name": "stdout",
     "output_type": "stream",
     "text": [
      "aiden <class 'dict'>\n"
     ]
    },
    {
     "data": {
      "text/plain": [
       "{'name': 'aiden', 'age': 21}"
      ]
     },
     "execution_count": 43,
     "metadata": {},
     "output_type": "execute_result"
    }
   ],
   "source": [
    "#** = kewords arguments\n",
    "def test(**kwargs): # **를 넣으면 키워드 가변인자로 언패킹하여 받음\n",
    "    print(kwargs['name'], type(kwargs))\n",
    "    return kwargs\n",
    "\n",
    "#keywords와 values를 함수에 썼을 때 ...\n",
    "test(name = 'aiden', age = 21)"
   ]
  },
  {
   "cell_type": "code",
   "execution_count": 44,
   "id": "e437e3b3",
   "metadata": {},
   "outputs": [
    {
     "data": {
      "text/plain": [
       "((1, 2, 3, 4), {'name': 'bae', 'etc': 'hi'})"
      ]
     },
     "execution_count": 44,
     "metadata": {},
     "output_type": "execute_result"
    }
   ],
   "source": [
    "def test(*args, **kwargs):\n",
    "    return args, kwargs\n",
    "test(1, 2, 3, 4, name = 'bae', etc = 'hi') "
   ]
  },
  {
   "cell_type": "markdown",
   "id": "8dbdbbf4",
   "metadata": {},
   "source": [
    "### 모듈 \n",
    "* 자주 쓰는 기능을 함수로도 묶어두지만, 여러 함수가 많이 있는 파일 자체를 '모듈'로 만듦\n",
    "* Python file(.py) = module\n",
    "* 다양한 파일을 하나의 폴더로(.py들의 모음) = 패키지 package\n",
    "* 패키지를 여러 개 묶어놓은 것 = 라이브러리 Library\n",
    "* 파이썬 유저들은 패키지랑 라이브러리를 모호하게 혼용함\n",
    "* 이것을 관리하는 관리자 = pip"
   ]
  },
  {
   "cell_type": "markdown",
   "id": "5bc54cc1",
   "metadata": {},
   "source": [
    "#### 모듈과 패키지 불러오기\n",
    "* import module : 파이썬 파일 안에 있는 함수를 가져오고 싶을 때\n",
    "(가져왔으면 module.<함수이름> 으로 사용\n",
    "* from module import var, function, Class : 모듈 안의 변수, 함수, 클래스만 가져옴\n",
    "* from module import * : 모듈 안에 있는 모든 걸 가져올 때"
   ]
  },
  {
   "cell_type": "code",
   "execution_count": 48,
   "id": "dc66b04d",
   "metadata": {},
   "outputs": [
    {
     "name": "stdout",
     "output_type": "stream",
     "text": [
      "[1, 3, 4, 2]\n",
      "[2, 3, 1, 4]\n"
     ]
    }
   ],
   "source": [
    "import random\n",
    "\n",
    "num_list = [1, 2, 3, 4]\n",
    "random.shuffle(num_list)\n",
    "print(num_list)\n",
    "random.shuffle(num_list)\n",
    "print(num_list)"
   ]
  },
  {
   "cell_type": "code",
   "execution_count": 50,
   "id": "1cbae31b",
   "metadata": {},
   "outputs": [
    {
     "name": "stdout",
     "output_type": "stream",
     "text": [
      "[3, 4, 1, 2]\n",
      "[4, 2, 1, 3]\n"
     ]
    }
   ],
   "source": [
    "from random import shuffle\n",
    "\n",
    "num_list = [1, 2, 3, 4]\n",
    "shuffle(num_list)\n",
    "print(num_list)\n",
    "shuffle(num_list)\n",
    "print(num_list)"
   ]
  },
  {
   "cell_type": "markdown",
   "id": "72b2fadf",
   "metadata": {},
   "source": [
    "#### 파이썬 패키지 관리자(pip)\n",
    "PyPI(Python Package Index site)에 저장된 외부 패키지들을 설치하도록 도와줌"
   ]
  },
  {
   "cell_type": "markdown",
   "id": "7af57399",
   "metadata": {},
   "source": [
    "$ pip install SomePackage\n",
    "$ pip install SomePackage == 1.0.5 (이 버전 까지만)\n",
    "$ pip install SomePackage >= 1.0.4 (이 버전 이상만)"
   ]
  },
  {
   "cell_type": "markdown",
   "id": "a58bf412",
   "metadata": {},
   "source": [
    "다른 폴더에 사용하고픈 모듈이 있을 때 그 폴더안에 '__init__.py' 생성"
   ]
  },
  {
   "cell_type": "code",
   "execution_count": null,
   "id": "77e07881",
   "metadata": {},
   "outputs": [],
   "source": [
    "# from calc import tools\n",
    "\n",
    "# print(tools.add(1, 2))\n",
    "# print(tools.sub(3, 2))\n",
    "# 코드가 복잡해지면 이 방법이 좀 더 좋을수도 ! \n",
    "# 어떤 모듈에서의 함수인지 명시하고 있기 때문\n",
    "\n",
    "from calc.tools import add, sub\n",
    "# calc 폴더 안의 tools.py 에서 add와 sub 함수를 가져와\n",
    "# calc 안에는 '__init__.py', 'tools.py' 있어야 함\n",
    "\n",
    "print(add(1, 3), sub(39, 2))"
   ]
  },
  {
   "cell_type": "markdown",
   "id": "3efc1f4d",
   "metadata": {},
   "source": [
    "### 가상환경"
   ]
  },
  {
   "cell_type": "code",
   "execution_count": null,
   "id": "70b5aa69",
   "metadata": {},
   "outputs": [],
   "source": [
    "$ python -m venv <폴더명> (ex. python -m venv venv) (가상환경 폴더 생성)"
   ]
  },
  {
   "cell_type": "markdown",
   "id": "607f6cbf",
   "metadata": {},
   "source": [
    "$ source venv/Scripts/activate (가상환경 활성화) \n",
    "= venv 안에 있는 파이썬 인터프리터를 쓰겠다 \n",
    "$ pip list 치면 거의 패키지가 설치가 안 된 리스트가 나옴\n",
    "$ pip freeze > requirements.txt 로 설치된 패키지 정보를 저장\n",
    "$ 깃헙에 올릴 때 소스코드랑 requirements.txt를 같이 올림 (venv는 올리지 않음)\n",
    "$ deactivate (비활성화)"
   ]
  },
  {
   "cell_type": "code",
   "execution_count": 4,
   "id": "57d32e47",
   "metadata": {},
   "outputs": [
    {
     "name": "stdout",
     "output_type": "stream",
     "text": [
      "10\n",
      "1 2 5 10 "
     ]
    }
   ],
   "source": [
    "N = int(input())\n",
    "\n",
    "lst = []\n",
    "num = 1\n",
    "while num <= N :\n",
    "    if N % num != 0 :\n",
    "        num += 1\n",
    "    else :\n",
    "        print(num, end = ' ')\n",
    "        num += 1"
   ]
  }
 ],
 "metadata": {
  "kernelspec": {
   "display_name": "Python 3 (ipykernel)",
   "language": "python",
   "name": "python3"
  },
  "language_info": {
   "codemirror_mode": {
    "name": "ipython",
    "version": 3
   },
   "file_extension": ".py",
   "mimetype": "text/x-python",
   "name": "python",
   "nbconvert_exporter": "python",
   "pygments_lexer": "ipython3",
   "version": "3.9.13"
  }
 },
 "nbformat": 4,
 "nbformat_minor": 5
}
